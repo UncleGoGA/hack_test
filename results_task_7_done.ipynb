{
 "cells": [
  {
   "cell_type": "markdown",
   "metadata": {
    "task": 7
   },
   "source": [
    "-----\n",
    "#### Задание 7"
   ]
  },
  {
   "cell_type": "markdown",
   "metadata": {
    "hash": "8699e3d854"
   },
   "source": [
    "### Федоров Сергей СКБ172\n",
    "\n",
    "Оценка: 1\n",
    "\n",
    "Комментарий: -"
   ]
  },
  {
   "cell_type": "code",
   "execution_count": 2,
   "metadata": {
    "colab": {},
    "colab_type": "code",
    "id": "3J6yMmCu-7Hm"
   },
   "outputs": [],
   "source": [
    "# сгенерировать список любой заданной длины по следующему правилу [1, 2, 3, 3, 2, 1, 1, 2, 3, 3, 2, 1, ...]\n"
   ]
  },
  {
   "cell_type": "code",
   "execution_count": 1,
   "metadata": {
    "colab": {
     "base_uri": "https://localhost:8080/",
     "height": 51
    },
    "colab_type": "code",
    "id": "5T5zTgeC-7Ho",
    "outputId": "049e3653-203c-46a5-bece-42a7374cbef7"
   },
   "outputs": [
    {
     "name": "stdout",
     "output_type": "stream",
     "text": [
      "N=21\n",
      "[1, 2, 3, 3, 2, 1, 1, 2, 3, 3, 2, 1, 1, 2, 3, 3, 2, 1, 1, 2, 3]\n"
     ]
    }
   ],
   "source": [
    "N = int(input(\"N=\"))\n",
    "ls = []\n",
    "t = [1,2,3,3,2,1]\n",
    "for i in range(0,N):\n",
    "  ls.append(t[i % 6])\n",
    "print(ls)  \n"
   ]
  },
  {
   "cell_type": "markdown",
   "metadata": {
    "hash": "61933bd99d"
   },
   "source": [
    "### Алексеев Кирилл СКБ172\n",
    "\n",
    "Оценка: 1\n",
    "\n",
    "Комментарий: -"
   ]
  },
  {
   "cell_type": "code",
   "execution_count": null,
   "metadata": {},
   "outputs": [],
   "source": [
    "# сгенерировать список любой заданной длины по следующему правилу [1, 2, 3, 3, 2, 1, 1, 2, 3, 3, 2, 1, ...]\n"
   ]
  },
  {
   "cell_type": "code",
   "execution_count": 3,
   "metadata": {},
   "outputs": [
    {
     "name": "stdout",
     "output_type": "stream",
     "text": [
      "21\n",
      "[1, 2, 3, 3, 2, 1, 1, 2, 3, 3, 2, 1, 1, 2, 3, 3, 2, 1, 1, 2, 3]\n"
     ]
    }
   ],
   "source": [
    "a = int(input())\n",
    "i = 0\n",
    "k = 1\n",
    "list = []\n",
    "while i < a:\n",
    "    if (k == 1) or (k == 6):\n",
    "        list.append(1)\n",
    "    elif (k == 2) or (k == 5):\n",
    "        list.append(2)\n",
    "    else:\n",
    "        list.append(3)\n",
    "    k = k + 1\n",
    "    if k == 7:\n",
    "        k = 1\n",
    "    i = i + 1\n",
    "print(list)"
   ]
  },
  {
   "cell_type": "markdown",
   "metadata": {
    "hash": "45b9ceed78"
   },
   "source": [
    "### Анчугов Роман СКБ171\n",
    "\n",
    "Оценка: 1\n",
    "\n",
    "Комментарий: -"
   ]
  },
  {
   "cell_type": "code",
   "execution_count": 15,
   "metadata": {},
   "outputs": [],
   "source": [
    "# сгенерировать список любой заданной длины по следующему правилу [1, 2, 3, 3, 2, 1, 1, 2, 3, 3, 2, 1, ...]\n"
   ]
  },
  {
   "cell_type": "code",
   "execution_count": 4,
   "metadata": {},
   "outputs": [
    {
     "name": "stdout",
     "output_type": "stream",
     "text": [
      "[1, 2, 3, 3, 2, 1, 1, 2, 3, 3, 2, 1, 1, 2, 3, 3, 2, 1, 1, 2, 3]\n"
     ]
    }
   ],
   "source": [
    "def rule(x):\n",
    "    if x % 6 == 2 or x % 6 == 3:\n",
    "        return 3\n",
    "    elif x % 6 == 1 or x % 6 == 4:\n",
    "        return 2\n",
    "    elif x % 6 == 0 or x % 6 == 5:\n",
    "        return 1\n",
    "    \n",
    "print([rule(x) for x in range(0, 21)])"
   ]
  },
  {
   "cell_type": "markdown",
   "metadata": {
    "hash": "8be119c53a"
   },
   "source": [
    "### Акинина Алёна СКБ172\n",
    "\n",
    "Оценка: 0.5\n",
    "\n",
    "Комментарий: List is longer than expected."
   ]
  },
  {
   "cell_type": "code",
   "execution_count": null,
   "metadata": {},
   "outputs": [],
   "source": [
    "# сгенерировать список любой заданной длины по следующему правилу [1, 2, 3, 3, 2, 1, 1, 2, 3, 3, 2, 1, ...]\n"
   ]
  },
  {
   "cell_type": "code",
   "execution_count": 6,
   "metadata": {},
   "outputs": [
    {
     "name": "stdout",
     "output_type": "stream",
     "text": [
      "21\n",
      "[1, 2, 3, 3, 2, 1, 1, 2, 3, 3, 2, 1, 1, 2, 3, 3, 2, 1, 1, 2, 3, 3]\n"
     ]
    },
    {
     "data": {
      "text/plain": [
       "(None, 22)"
      ]
     },
     "execution_count": 6,
     "metadata": {},
     "output_type": "execute_result"
    }
   ],
   "source": [
    "n = int(input())\n",
    "i = 1\n",
    "a = []\n",
    "while i < 3 and len(a) < n:\n",
    "    a.append(i)\n",
    "    i += 1\n",
    "    if i == 3 and len(a) < n:\n",
    "        a.append(i)\n",
    "        while i > 1 and len(a) < n:\n",
    "            a.append(i)\n",
    "            i -= 1 \n",
    "        a.append(i)    \n",
    "print(a)    , len(a)                    "
   ]
  },
  {
   "cell_type": "markdown",
   "metadata": {
    "hash": "f5676d34de"
   },
   "source": [
    "### Лисьев Александр СКБ171\n",
    "\n",
    "Оценка: 1\n",
    "\n",
    "Комментарий: -"
   ]
  },
  {
   "cell_type": "code",
   "execution_count": 7,
   "metadata": {},
   "outputs": [],
   "source": [
    "# сгенерировать список любой заданной длины по следующему правилу [1, 2, 3, 3, 2, 1, 1, 2, 3, 3, 2, 1, ...]\n"
   ]
  },
  {
   "cell_type": "code",
   "execution_count": 9,
   "metadata": {},
   "outputs": [
    {
     "name": "stdout",
     "output_type": "stream",
     "text": [
      "[1, 2, 3, 3, 2, 1, 1, 2, 3, 3, 2, 1, 1, 2, 3, 3, 2, 1, 1, 2, 3]\n",
      "[1, 2]\n",
      "[1, 2, 3, 3, 2, 1, 1]\n"
     ]
    }
   ],
   "source": [
    "def make_list7(n):\n",
    "    if n <= 0:\n",
    "        return\n",
    "    patch = [1, 2, 3, 3, 2, 1]\n",
    "    return patch * (n // 6) + patch[:n%6]\n",
    "\n",
    "print(make_list7(21), make_list7(2), make_list7(7), sep=\"\\n\")"
   ]
  },
  {
   "cell_type": "markdown",
   "metadata": {
    "hash": "987c011ca1"
   },
   "source": [
    "### Чердак Александр СКБ171\n",
    "\n",
    "Оценка: 1\n",
    "\n",
    "Комментарий: -"
   ]
  },
  {
   "cell_type": "code",
   "execution_count": null,
   "metadata": {},
   "outputs": [],
   "source": [
    "# сгенерировать список любой заданной длины по следующему правилу [1, 2, 3, 3, 2, 1, 1, 2, 3, 3, 2, 1, ...]\n"
   ]
  },
  {
   "cell_type": "code",
   "execution_count": 2,
   "metadata": {},
   "outputs": [
    {
     "name": "stdout",
     "output_type": "stream",
     "text": [
      "21\n",
      "[1, 2, 3, 3, 2, 1, 1, 2, 3, 3, 2, 1, 1, 2, 3, 3, 2, 1, 1, 2, 3]\n"
     ]
    },
    {
     "data": {
      "text/plain": [
       "(None, 21)"
      ]
     },
     "execution_count": 2,
     "metadata": {},
     "output_type": "execute_result"
    }
   ],
   "source": [
    "def fill_arr(size):\n",
    "    templist = list()\n",
    "    currnum = 1\n",
    "    is_Increase = True\n",
    "    for i in range(size):\n",
    "        if(is_Increase):\n",
    "            if currnum == 3:\n",
    "                templist.append(int(currnum))\n",
    "                is_Increase = False\n",
    "            else:\n",
    "                templist.append(int(currnum))\n",
    "                currnum += 1\n",
    "\n",
    "        else:\n",
    "            if currnum == 1:\n",
    "                templist.append(int(currnum))\n",
    "                is_Increase = True\n",
    "            else:\n",
    "                templist.append(int(currnum))\n",
    "                currnum -= 1\n",
    "    return templist\n",
    "\n",
    "# -- main()\n",
    "size = int(input())\n",
    "print(fill_arr(size)), len(fill_arr(size))"
   ]
  },
  {
   "cell_type": "markdown",
   "metadata": {
    "hash": "edfab041c6"
   },
   "source": [
    "### Шелепова Алена СКБ172\n",
    "\n",
    "Оценка: 0.5\n",
    "\n",
    "Комментарий: List is shorter than expected."
   ]
  },
  {
   "cell_type": "code",
   "execution_count": null,
   "metadata": {},
   "outputs": [],
   "source": [
    "# сгенерировать список любой заданной длины по следующему правилу [1, 2, 3, 3, 2, 1, 1, 2, 3, 3, 2, 1, ...]\n"
   ]
  },
  {
   "cell_type": "code",
   "execution_count": 3,
   "metadata": {},
   "outputs": [],
   "source": [
    "def generate_list_r(n):\n",
    "    l = [x%6 if (x%6)//4 == 0 and x%6 != 0  else (2*x)%3+1 for x in range(1,n)]\n",
    "    return l"
   ]
  },
  {
   "cell_type": "code",
   "execution_count": 5,
   "metadata": {},
   "outputs": [
    {
     "data": {
      "text/plain": [
       "([1, 2, 3, 3, 2, 1, 1, 2, 3, 3, 2, 1, 1, 2, 3, 3, 2, 1, 1, 2], 20)"
      ]
     },
     "execution_count": 5,
     "metadata": {},
     "output_type": "execute_result"
    }
   ],
   "source": [
    "generate_list_r(21), len(generate_list_r(21))"
   ]
  },
  {
   "cell_type": "markdown",
   "metadata": {
    "hash": "e7846edd2c"
   },
   "source": [
    "### Шнейдер Алиса СКБ172\n",
    "\n",
    "Оценка: 1\n",
    "\n",
    "Комментарий: Shortest solution!"
   ]
  },
  {
   "cell_type": "code",
   "execution_count": 119,
   "metadata": {},
   "outputs": [],
   "source": [
    "# сгенерировать список любой заданной длины по следующему правилу [1, 2, 3, 3, 2, 1, 1, 2, 3, 3, 2, 1, ...]\n"
   ]
  },
  {
   "cell_type": "code",
   "execution_count": 6,
   "metadata": {},
   "outputs": [
    {
     "data": {
      "text/plain": [
       "[1, 2, 3, 3, 2, 1, 1, 2, 3, 3, 2, 1, 1, 2, 3, 3, 2, 1, 1, 2, 3]"
      ]
     },
     "execution_count": 6,
     "metadata": {},
     "output_type": "execute_result"
    }
   ],
   "source": [
    "[[1, 2, 3, 3, 2, 1][i % 6] for i in range(21)]"
   ]
  },
  {
   "cell_type": "markdown",
   "metadata": {
    "hash": "680f312dec"
   },
   "source": [
    "### Зайцева Анастасия СКБ171\n",
    "\n",
    "Оценка: 1\n",
    "\n",
    "Комментарий: -"
   ]
  },
  {
   "cell_type": "code",
   "execution_count": 7,
   "metadata": {},
   "outputs": [],
   "source": [
    "# сгенерировать список любой заданной длины по следующему правилу [1, 2, 3, 3, 2, 1, 1, 2, 3, 3, 2, 1, ...]\n"
   ]
  },
  {
   "cell_type": "code",
   "execution_count": 8,
   "metadata": {},
   "outputs": [
    {
     "name": "stdout",
     "output_type": "stream",
     "text": [
      "21\n",
      "1 2 3 3 2 1 1 2 3 3 2 1 1 2 3 3 2 1 1 2 3\n"
     ]
    }
   ],
   "source": [
    "n = int(input())\n",
    "a = []\n",
    "m= n//6\n",
    "n-= m*6\n",
    "for i in range(m):\n",
    "    a+= [1,2,3,3,2,1]\n",
    "for i in range(n):\n",
    "    if i < 3: a+= [i+1]\n",
    "    else: a+= [6-i]\n",
    "print(*a)"
   ]
  },
  {
   "cell_type": "markdown",
   "metadata": {
    "hash": "fd1904cd9b"
   },
   "source": [
    "### Полуяктов Анатолий СКБ171\n",
    "\n",
    "Оценка: 0.5\n",
    "\n",
    "Комментарий: Numpy was not expected here."
   ]
  },
  {
   "cell_type": "code",
   "execution_count": 9,
   "metadata": {},
   "outputs": [],
   "source": [
    "# сгенерировать список любой заданной длины по следующему правилу [1, 2, 3, 3, 2, 1, 1, 2, 3, 3, 2, 1, ...]\n"
   ]
  },
  {
   "cell_type": "code",
   "execution_count": 10,
   "metadata": {},
   "outputs": [
    {
     "name": "stdout",
     "output_type": "stream",
     "text": [
      "21\n",
      "[1, 2, 3, 3, 2, 1, 1, 2, 3, 3, 2, 1, 1, 2, 3, 3, 2, 1, 1, 2, 3]\n"
     ]
    }
   ],
   "source": [
    "import numpy as np\n",
    "n = int (input())\n",
    "base_len=3\n",
    "a = np.arange(1,base_len+1)\n",
    "b=a[::-1]\n",
    "c=np.concatenate([a,b])\n",
    "if n<=6:\n",
    "    print(c[:n])\n",
    "else:\n",
    "    c = list(c)*((n//6)+1)\n",
    "    print(c[:n])"
   ]
  },
  {
   "cell_type": "markdown",
   "metadata": {
    "hash": "da15d1aae0"
   },
   "source": [
    "### Фомин Андрей СКБ172\n",
    "\n",
    "Оценка: 1\n",
    "\n",
    "Комментарий: -"
   ]
  },
  {
   "cell_type": "code",
   "execution_count": null,
   "metadata": {},
   "outputs": [],
   "source": [
    "# сгенерировать список любой заданной длины по следующему правилу [1, 2, 3, 3, 2, 1, 1, 2, 3, 3, 2, 1, ...]\n"
   ]
  },
  {
   "cell_type": "code",
   "execution_count": 11,
   "metadata": {},
   "outputs": [
    {
     "name": "stdout",
     "output_type": "stream",
     "text": [
      "[1, 2, 3, 3, 2, 1, 1, 2, 3, 3, 2, 1, 1, 2, 3, 3, 2, 1, 1, 2, 3]\n"
     ]
    }
   ],
   "source": [
    "lst = [1, 2, 3, 3, 2, 1]\n",
    "def our_funct(n):\n",
    "    mas = []\n",
    "    for i in range (n // 6):\n",
    "        mas += lst\n",
    "    mas += lst[0: n % 6]\n",
    "    return mas\n",
    "\n",
    "\n",
    "print(our_funct(21))"
   ]
  },
  {
   "cell_type": "markdown",
   "metadata": {
    "hash": "8670705a3a"
   },
   "source": [
    "### Марипова Жасмин СКБ171\n",
    "\n",
    "Оценка: 0\n",
    "\n",
    "Комментарий: Wrong result."
   ]
  },
  {
   "cell_type": "code",
   "execution_count": 0,
   "metadata": {
    "colab": {},
    "colab_type": "code",
    "id": "WOUKsnnqDcUV"
   },
   "outputs": [],
   "source": [
    "# сгенерировать список любой заданной длины по следующему правилу [1, 2, 3, 3, 2, 1, 1, 2, 3, 3, 2, 1, ...]\n"
   ]
  },
  {
   "cell_type": "code",
   "execution_count": 12,
   "metadata": {
    "colab": {
     "base_uri": "https://localhost:8080/",
     "height": 50
    },
    "colab_type": "code",
    "id": "sUPmY_5KDcUa",
    "outputId": "ed89ee0d-a131-4233-f24a-69855d901603"
   },
   "outputs": [
    {
     "name": "stdout",
     "output_type": "stream",
     "text": [
      "21\n",
      "[1, 2, 3, 1, 2, 3, 1, 2, 3, 1, 2, 3, 1, 2, 3, 1, 2, 3, 1, 2, 3]\n"
     ]
    }
   ],
   "source": [
    "a = int(input())\n",
    "\n",
    "lst = []\n",
    "for i in range(1, a + 1):\n",
    "    lst.append(i)\n",
    "for i in range(len(lst)):\n",
    "    if lst[i] % 3 != 0:\n",
    "        lst[i] %= 3\n",
    "    else:\n",
    "        lst[i] = 3\n",
    "print(lst)"
   ]
  },
  {
   "cell_type": "markdown",
   "metadata": {
    "hash": "49bf872905"
   },
   "source": [
    "### Зоричев Борис СКБ172\n",
    "\n",
    "Оценка: 0.5\n",
    "\n",
    "Комментарий: List length definition is not trivial."
   ]
  },
  {
   "cell_type": "code",
   "execution_count": null,
   "metadata": {},
   "outputs": [],
   "source": [
    "# сгенерировать список любой заданной длины по следующему правилу [1, 2, 3, 3, 2, 1, 1, 2, 3, 3, 2, 1, ...]\n"
   ]
  },
  {
   "cell_type": "code",
   "execution_count": 14,
   "metadata": {},
   "outputs": [
    {
     "data": {
      "text/plain": [
       "[1, 2, 3, 3, 2, 1, 1, 2, 3, 3, 2, 1, 1, 2, 3, 3, 2, 1, 1, 2]"
      ]
     },
     "execution_count": 14,
     "metadata": {},
     "output_type": "execute_result"
    }
   ],
   "source": [
    "lst, a, n = [], 0, 1\n",
    "for i in range(1,21):\n",
    "    if n != 4 and a == 0:\n",
    "        lst.append(n)\n",
    "        n = n + 1\n",
    "        if n == 4:\n",
    "            a = 1\n",
    "    elif n!=0 and a == 1:\n",
    "        n = n - 1\n",
    "        lst.append(n)\n",
    "        if n == 1:\n",
    "            a = 0\n",
    "lst"
   ]
  },
  {
   "cell_type": "markdown",
   "metadata": {
    "hash": "3c7692137a"
   },
   "source": [
    "### Сербаев Вадим СКБ172\n",
    "\n",
    "Оценка: 1\n",
    "\n",
    "Комментарий: -"
   ]
  },
  {
   "cell_type": "code",
   "execution_count": 15,
   "metadata": {},
   "outputs": [],
   "source": [
    "# сгенерировать список любой заданной длины по следующему правилу [1, 2, 3, 3, 2, 1, 1, 2, 3, 3, 2, 1, ...]\n"
   ]
  },
  {
   "cell_type": "code",
   "execution_count": 16,
   "metadata": {},
   "outputs": [
    {
     "name": "stdout",
     "output_type": "stream",
     "text": [
      "21\n",
      "[1, 2, 3, 3, 2, 1, 1, 2, 3, 3, 2, 1, 1, 2, 3, 3, 2, 1, 1, 2, 3]\n"
     ]
    }
   ],
   "source": [
    "def ListGenerator(i):\n",
    "    if (i%12==0)|(i%12==5)|(i%12==6)|(i%12==11): return 1\n",
    "    if (i%12==1)|(i%12==4)|(i%12==7)|(i%12==10): return 2\n",
    "    if (i%12==2)|(i%12==3)|(i%12==8)|(i%12==9): return 3\n",
    "    \n",
    "        \n",
    "MaxNum = int(input())\n",
    "L = [ListGenerator(i) for i in range(0,MaxNum)]\n",
    "print(L)"
   ]
  },
  {
   "cell_type": "markdown",
   "metadata": {
    "hash": "f59c3afdc4"
   },
   "source": [
    "### Булгаков Виталий СКБ172\n",
    "\n",
    "Оценка: 1\n",
    "\n",
    "Комментарий: Shortest solution!"
   ]
  },
  {
   "cell_type": "code",
   "execution_count": null,
   "metadata": {},
   "outputs": [],
   "source": [
    "# сгенерировать список любой заданной длины по следующему правилу [1, 2, 3, 3, 2, 1, 1, 2, 3, 3, 2, 1, ...]\n"
   ]
  },
  {
   "cell_type": "code",
   "execution_count": 17,
   "metadata": {},
   "outputs": [
    {
     "name": "stdout",
     "output_type": "stream",
     "text": [
      "21\n",
      "[1, 2, 3, 3, 2, 1, 1, 2, 3, 3, 2, 1, 1, 2, 3, 3, 2, 1, 1, 2, 3]\n"
     ]
    }
   ],
   "source": [
    "a = int(input())\n",
    "s = [1, 2, 3, 3, 2, 1]\n",
    "print((s * a)[:a])"
   ]
  },
  {
   "cell_type": "markdown",
   "metadata": {
    "hash": "c942913613"
   },
   "source": [
    "### Андреева Влада СКБ171\n",
    "\n",
    "Оценка: 1\n",
    "\n",
    "Комментарий: -"
   ]
  },
  {
   "cell_type": "code",
   "execution_count": 18,
   "metadata": {},
   "outputs": [],
   "source": [
    "# сгенерировать список любой заданной длины по следующему правилу [1, 2, 3, 3, 2, 1, 1, 2, 3, 3, 2, 1, ...]\n"
   ]
  },
  {
   "cell_type": "code",
   "execution_count": 19,
   "metadata": {},
   "outputs": [
    {
     "name": "stdout",
     "output_type": "stream",
     "text": [
      "21\n",
      "[1, 2, 3, 3, 2, 1, 1, 2, 3, 3, 2, 1, 1, 2, 3, 3, 2, 1, 1, 2, 3]\n"
     ]
    }
   ],
   "source": [
    "n = int(input())\n",
    "final = []\n",
    "k = 0\n",
    "i = 0\n",
    "comparing = [1, 2, 3, 3, 2, 1]\n",
    "while k < n:\n",
    "    final.append(comparing[i])\n",
    "    i += 1\n",
    "    k += 1\n",
    "    if i == len(comparing):\n",
    "        i = 0\n",
    "print(final)"
   ]
  },
  {
   "cell_type": "markdown",
   "metadata": {
    "hash": "913f2d1dd9"
   },
   "source": [
    "### Клопов Владислав СКБ172\n",
    "\n",
    "Оценка: 1\n",
    "\n",
    "Комментарий: -"
   ]
  },
  {
   "cell_type": "code",
   "execution_count": null,
   "metadata": {},
   "outputs": [],
   "source": [
    "# сгенерировать список любой заданной длины по следующему правилу [1, 2, 3, 3, 2, 1, 1, 2, 3, 3, 2, 1, ...]\n"
   ]
  },
  {
   "cell_type": "code",
   "execution_count": 20,
   "metadata": {},
   "outputs": [
    {
     "name": "stdout",
     "output_type": "stream",
     "text": [
      "21\n"
     ]
    },
    {
     "data": {
      "text/plain": [
       "[1, 2, 3, 3, 2, 1, 1, 2, 3, 3, 2, 1, 1, 2, 3, 3, 2, 1, 1, 2, 3]"
      ]
     },
     "execution_count": 20,
     "metadata": {},
     "output_type": "execute_result"
    }
   ],
   "source": [
    "n=int(input())\n",
    "answer=[]\n",
    "number=1\n",
    "flag=True\n",
    "while len(answer)!=n:\n",
    "    if number==4:\n",
    "        flag=False\n",
    "        number-=1\n",
    "    elif number==0:\n",
    "        flag=True\n",
    "        number+=1\n",
    "    answer.append(number)\n",
    "    if flag:\n",
    "        number+=1\n",
    "    else:\n",
    "        number-=1\n",
    "answer"
   ]
  },
  {
   "cell_type": "markdown",
   "metadata": {
    "hash": "88d6b20127"
   },
   "source": [
    "### Сарахан Владислав СКБ172\n",
    "\n",
    "Оценка: 1\n",
    "\n",
    "Комментарий: -"
   ]
  },
  {
   "cell_type": "code",
   "execution_count": 108,
   "metadata": {},
   "outputs": [],
   "source": [
    "# сгенерировать список любой заданной длины по следующему правилу [1, 2, 3, 3, 2, 1, 1, 2, 3, 3, 2, 1, ...]\n"
   ]
  },
  {
   "cell_type": "code",
   "execution_count": 21,
   "metadata": {},
   "outputs": [
    {
     "name": "stdout",
     "output_type": "stream",
     "text": [
      "21\n",
      "[1, 2, 3, 3, 2, 1, 1, 2, 3, 3, 2, 1, 1, 2, 3, 3, 2, 1, 1, 2, 3]\n"
     ]
    }
   ],
   "source": [
    "a = [1, 2, 3]\n",
    "b = [3, 2, 1]\n",
    "n = int(input())\n",
    "nums = []\n",
    "while len(nums) < n:\n",
    "    nums += a\n",
    "    nums += b\n",
    "print(nums[:n])"
   ]
  },
  {
   "cell_type": "markdown",
   "metadata": {
    "hash": "26119a97d0"
   },
   "source": [
    "### Старостин Данила СКБ172\n",
    "\n",
    "Оценка: 0.5\n",
    "\n",
    "Комментарий: List is longer than expected."
   ]
  },
  {
   "cell_type": "code",
   "execution_count": null,
   "metadata": {},
   "outputs": [],
   "source": [
    "# сгенерировать список любой заданной длины по следующему правилу [1, 2, 3, 3, 2, 1, 1, 2, 3, 3, 2, 1, ...]\n"
   ]
  },
  {
   "cell_type": "code",
   "execution_count": 23,
   "metadata": {},
   "outputs": [
    {
     "name": "stdout",
     "output_type": "stream",
     "text": [
      "21\n",
      "[1, 2, 3, 3, 2, 1, 1, 2, 3, 3, 2, 1, 1, 2, 3, 3, 2, 1, 1, 2, 3, 3, 2, 1, 1]\n"
     ]
    },
    {
     "data": {
      "text/plain": [
       "(None, 25)"
      ]
     },
     "execution_count": 23,
     "metadata": {},
     "output_type": "execute_result"
    }
   ],
   "source": [
    "n = int(input())\n",
    "list_of_numbers = []\n",
    "counter = 1\n",
    "counter2 = 1\n",
    "for i in range (1, n+1):\n",
    "    if counter2 == 1:\n",
    "        list_of_numbers.append(counter)\n",
    "        counter += 1\n",
    "        if counter == 4:\n",
    "            counter = 3\n",
    "            counter2 = 0\n",
    "    if counter2 == 0:\n",
    "        list_of_numbers.append(counter)\n",
    "        counter -= 1\n",
    "        if counter == 0:\n",
    "            counter = 1\n",
    "            counter2 = 1\n",
    "    if len(list_of_numbers) == n:\n",
    "        break\n",
    "print(list_of_numbers), len(list_of_numbers)"
   ]
  },
  {
   "cell_type": "markdown",
   "metadata": {
    "hash": "0a22720c49"
   },
   "source": [
    "### Стрекнев Денис СКБ172\n",
    "\n",
    "Оценка: 1\n",
    "\n",
    "Комментарий: -"
   ]
  },
  {
   "cell_type": "code",
   "execution_count": 24,
   "metadata": {},
   "outputs": [],
   "source": [
    "# сгенерировать список любой заданной длины по следующему правилу [1, 2, 3, 3, 2, 1, 1, 2, 3, 3, 2, 1, ...]\n"
   ]
  },
  {
   "cell_type": "code",
   "execution_count": 25,
   "metadata": {},
   "outputs": [
    {
     "name": "stdout",
     "output_type": "stream",
     "text": [
      "21\n"
     ]
    },
    {
     "data": {
      "text/plain": [
       "[1, 2, 3, 3, 2, 1, 1, 2, 3, 3, 2, 1, 1, 2, 3, 3, 2, 1, 1, 2, 3]"
      ]
     },
     "execution_count": 25,
     "metadata": {},
     "output_type": "execute_result"
    }
   ],
   "source": [
    "n=int(input())\n",
    "s=[]\n",
    "for i in range(1,n+1):\n",
    "    if i%6==1:\n",
    "        s.append(1)\n",
    "    elif i%6==2:\n",
    "        s.append(2)\n",
    "    elif i%6==3:\n",
    "        s.append(3)\n",
    "    elif i%6==4:\n",
    "        s.append(3)\n",
    "    elif i%6==5:\n",
    "        s.append(2)\n",
    "    elif i%6==0:\n",
    "        s.append(1)\n",
    "s       "
   ]
  },
  {
   "cell_type": "markdown",
   "metadata": {
    "hash": "63e0a37ae4"
   },
   "source": [
    "### Дородный Дмитрий СКБ172\n",
    "\n",
    "Оценка: 1\n",
    "\n",
    "Комментарий: Shortest solution!"
   ]
  },
  {
   "cell_type": "code",
   "execution_count": null,
   "metadata": {},
   "outputs": [],
   "source": [
    "# сгенерировать список любой заданной длины по следующему правилу [1, 2, 3, 3, 2, 1, 1, 2, 3, 3, 2, 1, ...]\n"
   ]
  },
  {
   "cell_type": "code",
   "execution_count": 26,
   "metadata": {},
   "outputs": [
    {
     "name": "stdout",
     "output_type": "stream",
     "text": [
      "21\n",
      "[1, 2, 3, 3, 2, 1, 1, 2, 3, 3, 2, 1, 1, 2, 3, 3, 2, 1, 1, 2, 3]\n"
     ]
    }
   ],
   "source": [
    "n = int(input())\n",
    "\n",
    "a = [1,2,3]\n",
    "\n",
    "print(((a+a[::-1])*n)[:n])"
   ]
  },
  {
   "cell_type": "markdown",
   "metadata": {
    "hash": "e4572fb6ff"
   },
   "source": [
    "### Шемякин Дмитрий СКБ171\n",
    "\n",
    "Оценка: 1\n",
    "\n",
    "Комментарий: -"
   ]
  },
  {
   "cell_type": "code",
   "execution_count": 27,
   "metadata": {},
   "outputs": [],
   "source": [
    "# сгенерировать список любой заданной длины по следующему правилу [1, 2, 3, 3, 2, 1, 1, 2, 3, 3, 2, 1, ...]\n"
   ]
  },
  {
   "cell_type": "code",
   "execution_count": 28,
   "metadata": {},
   "outputs": [
    {
     "name": "stdout",
     "output_type": "stream",
     "text": [
      "21\n"
     ]
    },
    {
     "data": {
      "text/plain": [
       "[1, 2, 3, 3, 2, 1, 1, 2, 3, 3, 2, 1, 1, 2, 3, 3, 2, 1, 1, 2, 3]"
      ]
     },
     "execution_count": 28,
     "metadata": {},
     "output_type": "execute_result"
    }
   ],
   "source": [
    "n = int(input())\n",
    "\n",
    "lst = []\n",
    "const = 3\n",
    "result_lst = []\n",
    "count = 0\n",
    "\n",
    "for i in range(1, const + 1):\n",
    "    lst.append(i)\n",
    "\n",
    "r_lst = lst[::-1]\n",
    "\n",
    "for i in range(n):\n",
    "    if count < const:\n",
    "        result_lst.append(lst[i % const])\n",
    "        count += 1\n",
    "    else:\n",
    "        result_lst.append(r_lst[i % const])\n",
    "        count += 1\n",
    "        if count == 2*const:\n",
    "            count = 0\n",
    "    \n",
    "\n",
    "result_lst"
   ]
  },
  {
   "cell_type": "markdown",
   "metadata": {
    "hash": "9ee13d89f3"
   },
   "source": [
    "### Никитина Елизавета СКБ171\n",
    "\n",
    "Оценка: 1\n",
    "\n",
    "Комментарий: -"
   ]
  },
  {
   "cell_type": "code",
   "execution_count": 29,
   "metadata": {},
   "outputs": [],
   "source": [
    "# сгенерировать список любой заданной длины по следующему правилу [1, 2, 3, 3, 2, 1, 1, 2, 3, 3, 2, 1, ...]\n"
   ]
  },
  {
   "cell_type": "code",
   "execution_count": 30,
   "metadata": {},
   "outputs": [
    {
     "name": "stdout",
     "output_type": "stream",
     "text": [
      "Length: 21\n",
      "[1, 2, 3, 3, 2, 1, 1, 2, 3, 3, 2, 1, 1, 2, 3, 3, 2, 1, 1, 2, 3]\n"
     ]
    }
   ],
   "source": [
    "import math\n",
    "result = []\n",
    "alen = int(input(\"Length: \"))\n",
    "rtimes = math.ceil(alen / 6)\n",
    "rlist = [1, 2, 3, 3, 2, 1]\n",
    "rlist = rlist*rtimes\n",
    "print(rlist[:alen])"
   ]
  },
  {
   "cell_type": "markdown",
   "metadata": {
    "hash": "64dc836089"
   },
   "source": [
    "### Семенов Игорь СКБ172\n",
    "\n",
    "Оценка: 1\n",
    "\n",
    "Комментарий: -"
   ]
  },
  {
   "cell_type": "code",
   "execution_count": 31,
   "metadata": {},
   "outputs": [],
   "source": [
    "# сгенерировать список любой заданной длины по следующему правилу [1, 2, 3, 3, 2, 1, 1, 2, 3, 3, 2, 1, ...]\n"
   ]
  },
  {
   "cell_type": "code",
   "execution_count": 32,
   "metadata": {},
   "outputs": [
    {
     "name": "stdout",
     "output_type": "stream",
     "text": [
      "[1, 2, 3, 3, 2, 1, 1, 2, 3, 3, 2, 1, 1, 2, 3, 3, 2, 1, 1, 2, 3]\n"
     ]
    }
   ],
   "source": [
    "l=[1,2,3,3,2,1]\n",
    "def f(n):\n",
    "    ll=[0 for i in range(n)]\n",
    "    for i in range(n):\n",
    "        ll[i]=l[i%6]\n",
    "    return ll\n",
    "print(f(21))"
   ]
  },
  {
   "cell_type": "markdown",
   "metadata": {
    "hash": "a03e7d31a7"
   },
   "source": [
    "### Шамрин Игорь СКБ172\n",
    "\n",
    "Оценка: 1\n",
    "\n",
    "Комментарий: -"
   ]
  },
  {
   "cell_type": "code",
   "execution_count": 33,
   "metadata": {},
   "outputs": [],
   "source": [
    "# сгенерировать список любой заданной длины по следующему правилу [1, 2, 3, 3, 2, 1, 1, 2, 3, 3, 2, 1, ...]\n"
   ]
  },
  {
   "cell_type": "code",
   "execution_count": 34,
   "metadata": {},
   "outputs": [
    {
     "data": {
      "text/plain": [
       "[1, 2, 3, 3, 2, 1, 1, 2, 3, 3, 2, 1, 1, 2, 3, 3, 2, 1, 1, 2, 3]"
      ]
     },
     "execution_count": 34,
     "metadata": {},
     "output_type": "execute_result"
    }
   ],
   "source": [
    "b = []\n",
    "n = 21\n",
    "for i in range(1,-(-n//3)):\n",
    "    for j in range(1,4):\n",
    "        b.append(j)\n",
    "    for k in range(3,0,-1):\n",
    "        b.append(k)\n",
    "b = b[:n]\n",
    "b \n",
    "    \n"
   ]
  },
  {
   "cell_type": "markdown",
   "metadata": {
    "hash": "c569b9634e"
   },
   "source": [
    "### Щербаков Игорь СКБ171\n",
    "\n",
    "Оценка: 1\n",
    "\n",
    "Комментарий: -"
   ]
  },
  {
   "cell_type": "code",
   "execution_count": 35,
   "metadata": {},
   "outputs": [],
   "source": [
    "# сгенерировать список любой заданной длины по следующему правилу [1, 2, 3, 3, 2, 1, 1, 2, 3, 3, 2, 1, ...]\n"
   ]
  },
  {
   "cell_type": "code",
   "execution_count": 37,
   "metadata": {},
   "outputs": [
    {
     "name": "stdout",
     "output_type": "stream",
     "text": [
      "[1, 2, 3, 3, 2, 1, 1, 2, 3, 3, 2, 1, 1, 2, 3, 3, 2, 1, 1, 2, 3]\n"
     ]
    }
   ],
   "source": [
    "def generate_sequence_list(n, sequence=[1,2,3,3,2,1]): #Для обобщения решения\n",
    "    if n<0:\n",
    "        print(\"n must be non-negative\")\n",
    "        return\n",
    "    lst = [None] * n\n",
    "    for i in range(0,n):\n",
    "        lst[i]=sequence[i%len(sequence)]\n",
    "    return lst\n",
    "    \n",
    "print(generate_sequence_list(21))    "
   ]
  },
  {
   "cell_type": "markdown",
   "metadata": {
    "hash": "0f0bd22442"
   },
   "source": [
    "### Шомахов Идар СКБ171\n",
    "\n",
    "Оценка: 0\n",
    "\n",
    "Комментарий: Wrong result."
   ]
  },
  {
   "cell_type": "code",
   "execution_count": 38,
   "metadata": {},
   "outputs": [],
   "source": [
    "# сгенерировать список любой заданной длины по следующему правилу [1, 2, 3, 3, 2, 1, 1, 2, 3, 3, 2, 1, ...]\n"
   ]
  },
  {
   "cell_type": "code",
   "execution_count": 40,
   "metadata": {},
   "outputs": [
    {
     "name": "stdout",
     "output_type": "stream",
     "text": [
      "21\n",
      "[1, 2, 3, 1, 2, 3, 1, 2, 3, 1, 2, 3, 1, 2, 3, 1, 2, 3, 1, 2, 3]\n"
     ]
    },
    {
     "data": {
      "text/plain": [
       "(None, 21)"
      ]
     },
     "execution_count": 40,
     "metadata": {},
     "output_type": "execute_result"
    }
   ],
   "source": [
    "n = int(input())\n",
    "\n",
    "lst = []\n",
    "for i in range(1, n + 1):\n",
    "    lst.append(i)\n",
    "for i in range(len(lst)):\n",
    "    if lst[i] % 3 != 0:\n",
    "        lst[i] %= 3\n",
    "    else:\n",
    "        lst[i] = 3\n",
    "print(lst), len(lst)"
   ]
  },
  {
   "cell_type": "markdown",
   "metadata": {
    "hash": "c52087c4a8"
   },
   "source": [
    "### Григорьев Илья СКБ171\n",
    "\n",
    "Оценка: 1\n",
    "\n",
    "Комментарий: -"
   ]
  },
  {
   "cell_type": "code",
   "execution_count": 15,
   "metadata": {},
   "outputs": [],
   "source": [
    "# сгенерировать список любой заданной длины по следующему правилу [1, 2, 3, 3, 2, 1, 1, 2, 3, 3, 2, 1, ...]\n"
   ]
  },
  {
   "cell_type": "code",
   "execution_count": 41,
   "metadata": {},
   "outputs": [
    {
     "name": "stdout",
     "output_type": "stream",
     "text": [
      "21\n",
      "[1, 2, 3, 3, 2, 1, 1, 2, 3, 3, 2, 1, 1, 2, 3, 3, 2, 1, 1, 2, 3]\n"
     ]
    }
   ],
   "source": [
    "n = int(input())\n",
    "\n",
    "l = []\n",
    "for i in range(n):\n",
    "    if i % 6 + 1 < 4:\n",
    "        l.append(i % 3 + 1)\n",
    "    else:\n",
    "        l.append((10 - i % 6) - 4)\n",
    "print(l)"
   ]
  },
  {
   "cell_type": "markdown",
   "metadata": {
    "hash": "ac62d6d9a0"
   },
   "source": [
    "### Фомин Илья СКБ171\n",
    "\n",
    "Оценка: 1\n",
    "\n",
    "Комментарий: Shortest solution!"
   ]
  },
  {
   "cell_type": "code",
   "execution_count": 42,
   "metadata": {},
   "outputs": [],
   "source": [
    "# сгенерировать список любой заданной длины по следующему правилу [1, 2, 3, 3, 2, 1, 1, 2, 3, 3, 2, 1, ...]\n"
   ]
  },
  {
   "cell_type": "code",
   "execution_count": 43,
   "metadata": {},
   "outputs": [
    {
     "name": "stdout",
     "output_type": "stream",
     "text": [
      "Длина 21\n"
     ]
    },
    {
     "data": {
      "text/plain": [
       "[1, 2, 3, 3, 2, 1, 1, 2, 3, 3, 2, 1, 1, 2, 3, 3, 2, 1, 1, 2, 3]"
      ]
     },
     "execution_count": 43,
     "metadata": {},
     "output_type": "execute_result"
    }
   ],
   "source": [
    "length = int(input('Длина '))\n",
    "[[1, 2, 3, 3, 2, 1][x % 6] for x in range(length)]"
   ]
  },
  {
   "cell_type": "markdown",
   "metadata": {
    "hash": "f5c905bf90"
   },
   "source": [
    "### Синицын Константин СКБ172\n",
    "\n",
    "Оценка: 1\n",
    "\n",
    "Комментарий: Shortest solution!"
   ]
  },
  {
   "cell_type": "code",
   "execution_count": null,
   "metadata": {},
   "outputs": [],
   "source": [
    "# сгенерировать список любой заданной длины по следующему правилу [1, 2, 3, 3, 2, 1, 1, 2, 3, 3, 2, 1, ...]\n"
   ]
  },
  {
   "cell_type": "code",
   "execution_count": 44,
   "metadata": {},
   "outputs": [
    {
     "name": "stdout",
     "output_type": "stream",
     "text": [
      "21\n",
      "[1, 2, 3, 3, 2, 1, 1, 2, 3, 3, 2, 1, 1, 2, 3, 3, 2, 1, 1, 2, 3]\n"
     ]
    }
   ],
   "source": [
    "n = int(input())\n",
    "rule = [1, 2, 3, 3, 2, 1]\n",
    "print(list(map(lambda x: rule[x%6], range(n))))"
   ]
  },
  {
   "cell_type": "markdown",
   "metadata": {
    "hash": "f03861f4f4"
   },
   "source": [
    "### Смирнов Константин СКБ172\n",
    "\n",
    "Оценка: 1\n",
    "\n",
    "Комментарий: -"
   ]
  },
  {
   "cell_type": "code",
   "execution_count": 17,
   "metadata": {},
   "outputs": [],
   "source": [
    "# сгенерировать список любой заданной длины по следующему правилу [1, 2, 3, 3, 2, 1, 1, 2, 3, 3, 2, 1, ...]"
   ]
  },
  {
   "cell_type": "code",
   "execution_count": 46,
   "metadata": {},
   "outputs": [
    {
     "name": "stdout",
     "output_type": "stream",
     "text": [
      "1 2 3 3 2 1 1 2 3 3 2 1 1 2 3 3 2 1 1 2 3\n"
     ]
    }
   ],
   "source": [
    "l0 = [i for i in range(1, 4)]\n",
    "l = []\n",
    "n = 21\n",
    "\n",
    "for i in range(n//3 + 1):\n",
    "    l.extend(sorted(l0, reverse=True) if i % 2 else l0)\n",
    "\n",
    "print(*l[:n])"
   ]
  },
  {
   "cell_type": "markdown",
   "metadata": {
    "hash": "cff956a0a0"
   },
   "source": [
    "### Расторгуева Мария СКБ171\n",
    "\n",
    "Оценка: 1\n",
    "\n",
    "Комментарий: -"
   ]
  },
  {
   "cell_type": "code",
   "execution_count": null,
   "metadata": {},
   "outputs": [],
   "source": [
    "# сгенерировать список любой заданной длины по следующему правилу [1, 2, 3, 3, 2, 1, 1, 2, 3, 3, 2, 1, ...]\n"
   ]
  },
  {
   "cell_type": "code",
   "execution_count": 47,
   "metadata": {},
   "outputs": [
    {
     "name": "stdout",
     "output_type": "stream",
     "text": [
      "21\n",
      "[1, 2, 3, 3, 2, 1, 1, 2, 3, 3, 2, 1, 1, 2, 3, 3, 2, 1, 1, 2, 3]\n"
     ]
    }
   ],
   "source": [
    "n = int (input())\n",
    "m = 3\n",
    "l = []\n",
    "count = 0\n",
    "while len(l)<n:\n",
    "    while  count<m and len(l)<n:\n",
    "        count +=1\n",
    "        l.append(count)\n",
    "    while count>=1 and len(l)<n:\n",
    "        l.append(count)\n",
    "        count -=1\n",
    "print (l)"
   ]
  },
  {
   "cell_type": "markdown",
   "metadata": {
    "hash": "a9a1c3af53"
   },
   "source": [
    "### Гвасалия Метью СКБ172\n",
    "\n",
    "Оценка: 1\n",
    "\n",
    "Комментарий: -"
   ]
  },
  {
   "cell_type": "code",
   "execution_count": null,
   "metadata": {},
   "outputs": [],
   "source": [
    "# сгенерировать список любой заданной длины по следующему правилу [1, 2, 3, 3, 2, 1, 1, 2, 3, 3, 2, 1, ...]\n"
   ]
  },
  {
   "cell_type": "code",
   "execution_count": 48,
   "metadata": {},
   "outputs": [
    {
     "name": "stdout",
     "output_type": "stream",
     "text": [
      "21\n",
      "[1, 2, 3, 3, 2, 1, 1, 2, 3, 3, 2, 1, 1, 2, 3, 3, 2, 1, 1, 2, 3]\n"
     ]
    }
   ],
   "source": [
    "n = int(input())\n",
    "flatten = lambda l: [item for sublist in l for item in sublist]\n",
    "def inverserepeat(xs):\n",
    "    return flatten(list(map(lambda x: xs if x % 2 == 0 else xs[::-1],range(0,-(-n//3)))))[0:n]\n",
    "print(inverserepeat([1,2,3]))"
   ]
  },
  {
   "cell_type": "markdown",
   "metadata": {
    "hash": "f0b07e0cae"
   },
   "source": [
    "### Поддубный Михаил СКБ172\n",
    "\n",
    "Оценка: 1\n",
    "\n",
    "Комментарий: -"
   ]
  },
  {
   "cell_type": "code",
   "execution_count": null,
   "metadata": {},
   "outputs": [],
   "source": [
    "# сгенерировать список любой заданной длины по следующему правилу [1, 2, 3, 3, 2, 1, 1, 2, 3, 3, 2, 1, ...]\n"
   ]
  },
  {
   "cell_type": "code",
   "execution_count": 49,
   "metadata": {},
   "outputs": [
    {
     "name": "stdout",
     "output_type": "stream",
     "text": [
      "21\n"
     ]
    },
    {
     "data": {
      "text/plain": [
       "[1, 2, 3, 3, 2, 1, 1, 2, 3, 3, 2, 1, 1, 2, 3, 3, 2, 1, 1, 2, 3]"
      ]
     },
     "execution_count": 49,
     "metadata": {},
     "output_type": "execute_result"
    }
   ],
   "source": [
    "n = int(input())\n",
    "([1,2,3,3,2,1]*n)[:n]"
   ]
  },
  {
   "cell_type": "markdown",
   "metadata": {
    "hash": "67a0375db8"
   },
   "source": [
    "### Миронов Никита СКБ171\n",
    "\n",
    "Оценка: 1\n",
    "\n",
    "Комментарий: -"
   ]
  },
  {
   "cell_type": "code",
   "execution_count": null,
   "metadata": {},
   "outputs": [],
   "source": [
    "# сгенерировать список любой заданной длины по следующему правилу [1, 2, 3, 3, 2, 1, 1, 2, 3, 3, 2, 1, ...]\n"
   ]
  },
  {
   "cell_type": "code",
   "execution_count": 50,
   "metadata": {},
   "outputs": [
    {
     "name": "stdout",
     "output_type": "stream",
     "text": [
      "21\n",
      "[1, 2, 3, 3, 2, 1, 1, 2, 3, 3, 2, 1, 1, 2, 3, 3, 2, 1, 1, 2, 3]\n"
     ]
    }
   ],
   "source": [
    "n=int(input())\n",
    "spi=[]\n",
    "while len(spi)<n:\n",
    "    spi+=[1]\n",
    "    spi+=[2]\n",
    "    spi+=[3]\n",
    "    spi+=[3]\n",
    "    spi+=[2]\n",
    "    spi+=[1]\n",
    "print(spi[:n])"
   ]
  },
  {
   "cell_type": "markdown",
   "metadata": {
    "hash": "e7b623c94a"
   },
   "source": [
    "### Шубин Никита СКБ172\n",
    "\n",
    "Оценка: 1\n",
    "\n",
    "Комментарий: -"
   ]
  },
  {
   "cell_type": "code",
   "execution_count": 52,
   "metadata": {},
   "outputs": [],
   "source": [
    "# сгенерировать список любой заданной длины по следующему правилу [1, 2, 3, 3, 2, 1, 1, 2, 3, 3, 2, 1, ...]\n"
   ]
  },
  {
   "cell_type": "code",
   "execution_count": 53,
   "metadata": {},
   "outputs": [
    {
     "name": "stdout",
     "output_type": "stream",
     "text": [
      "21\n",
      "[1, 2, 3, 3, 2, 1, 1, 2, 3, 3, 2, 1, 1, 2, 3, 3, 2, 1, 1, 2, 3]\n"
     ]
    }
   ],
   "source": [
    "a = []\n",
    "i = 1\n",
    "mark = 0\n",
    "n = int(input())\n",
    "counter = 1\n",
    "while counter <= n:\n",
    "    a.append(i)\n",
    "    if mark == 0:\n",
    "        if i < 3:\n",
    "            i+=1\n",
    "        else:\n",
    "            mark = 1\n",
    "    else:\n",
    "        if i > 1:\n",
    "            i-= 1\n",
    "        else:\n",
    "            mark = 0\n",
    "    counter += 1\n",
    "print(a)"
   ]
  },
  {
   "cell_type": "markdown",
   "metadata": {
    "hash": "870303ea1f"
   },
   "source": [
    "### Щеглова Полина СКБ172\n",
    "\n",
    "Оценка: 1\n",
    "\n",
    "Комментарий: -"
   ]
  },
  {
   "cell_type": "code",
   "execution_count": 54,
   "metadata": {},
   "outputs": [],
   "source": [
    "# сгенерировать список любой заданной длины по следующему правилу [1, 2, 3, 3, 2, 1, 1, 2, 3, 3, 2, 1, ...]\n"
   ]
  },
  {
   "cell_type": "code",
   "execution_count": 55,
   "metadata": {},
   "outputs": [
    {
     "data": {
      "text/plain": [
       "[1, 2, 3, 3, 2, 1, 1, 2, 3, 3, 2, 1, 1, 2, 3, 3, 2, 1, 1, 2, 3]"
      ]
     },
     "execution_count": 55,
     "metadata": {},
     "output_type": "execute_result"
    }
   ],
   "source": [
    "length = 21 # задание длины списка\n",
    "def ruled_gen(n):\n",
    "    arr = [0]*n\n",
    "    if n > 6:\n",
    "        arr[:6*(n//6)]=[1, 2, 3, 3, 2, 1]*(n//6)\n",
    "        if (n>6*(n//6)):\n",
    "            if(n>6*(n//6)+3):\n",
    "                arr[6*(n//6):6*(n//6)+3] = [1, 2, 3]\n",
    "                num = 3\n",
    "                for i in range(6*(n//6)+3, n):\n",
    "                    arr[i] = num\n",
    "                    num -= 1\n",
    "            else:\n",
    "                num = 1\n",
    "                for i in range(6*(n//6), n):\n",
    "                    arr[i] = num\n",
    "                    num += 1\n",
    "    else:\n",
    "        if n > 3:\n",
    "            arr[:3] = [1,2,3]\n",
    "            num = 3\n",
    "            for i in range(3, n):\n",
    "                arr[i] = num\n",
    "                num -= 1\n",
    "        else:\n",
    "            num = 1\n",
    "            for i in range(n):\n",
    "                arr[i] = num\n",
    "                num += 1\n",
    "    return arr\n",
    "\n",
    "ruled_gen(length)"
   ]
  },
  {
   "cell_type": "markdown",
   "metadata": {
    "hash": "d59980a676"
   },
   "source": [
    "### Мухамадиева Регина СКБ172\n",
    "\n",
    "Оценка: 1\n",
    "\n",
    "Комментарий: -"
   ]
  },
  {
   "cell_type": "code",
   "execution_count": 56,
   "metadata": {},
   "outputs": [],
   "source": [
    "# сгенерировать список любой заданной длины по следующему правилу [1, 2, 3, 3, 2, 1, 1, 2, 3, 3, 2, 1, ...]\n"
   ]
  },
  {
   "cell_type": "code",
   "execution_count": 57,
   "metadata": {},
   "outputs": [
    {
     "name": "stdout",
     "output_type": "stream",
     "text": [
      "21\n",
      "[1, 2, 3, 3, 2, 1, 1, 2, 3, 3, 2, 1, 1, 2, 3, 3, 2, 1, 1, 2, 3]\n"
     ]
    }
   ],
   "source": [
    "n=int(input())\n",
    "lst=list()\n",
    "for i in range(n):\n",
    "    if (i%6<3):\n",
    "        lst.append(i%3+1)\n",
    "    else:\n",
    "        lst.append(3-i%3)\n",
    "print(lst)"
   ]
  },
  {
   "cell_type": "markdown",
   "metadata": {
    "hash": "4894f58fef"
   },
   "source": [
    "### Астраханцев Роман СКБ171\n",
    "\n",
    "Оценка: 1\n",
    "\n",
    "Комментарий: -"
   ]
  },
  {
   "cell_type": "code",
   "execution_count": null,
   "metadata": {},
   "outputs": [],
   "source": [
    "# сгенерировать список любой заданной длины по следующему правилу [1, 2, 3, 3, 2, 1, 1, 2, 3, 3, 2, 1, ...]\n"
   ]
  },
  {
   "cell_type": "code",
   "execution_count": 58,
   "metadata": {},
   "outputs": [
    {
     "name": "stdout",
     "output_type": "stream",
     "text": [
      "21\n"
     ]
    },
    {
     "data": {
      "text/plain": [
       "[1, 2, 3, 3, 2, 1, 1, 2, 3, 3, 2, 1, 1, 2, 3, 3, 2, 1, 1, 2, 3]"
      ]
     },
     "execution_count": 58,
     "metadata": {},
     "output_type": "execute_result"
    }
   ],
   "source": [
    "n=int(input())\n",
    "((list(range(1, 4))+list(range(1, 4))[::-1])*(1 + n//len(list(range(1, 4))+list(range(1, 4))[::-1])))[:n]"
   ]
  },
  {
   "cell_type": "markdown",
   "metadata": {
    "hash": "15f4b78d5f"
   },
   "source": [
    "### Бесчастных Роман СКБ171\n",
    "\n",
    "Оценка: 1\n",
    "\n",
    "Комментарий: -"
   ]
  },
  {
   "cell_type": "code",
   "execution_count": 59,
   "metadata": {},
   "outputs": [],
   "source": [
    "# сгенерировать список любой заданной длины по следующему правилу [1, 2, 3, 3, 2, 1, 1, 2, 3, 3, 2, 1, ...]\n"
   ]
  },
  {
   "cell_type": "code",
   "execution_count": 60,
   "metadata": {},
   "outputs": [
    {
     "name": "stdout",
     "output_type": "stream",
     "text": [
      "21\n",
      "[1, 2, 3, 3, 2, 1, 1, 2, 3, 3, 2, 1, 1, 2, 3, 3, 2, 1, 1, 2, 3]\n"
     ]
    }
   ],
   "source": [
    "pattern = [1, 2, 3, 3, 2, 1]\n",
    "result = []\n",
    "number = int(input())\n",
    "while len(result) < number:\n",
    "    result += pattern\n",
    "print(result[:number])    "
   ]
  },
  {
   "cell_type": "markdown",
   "metadata": {
    "hash": "e3e8ebb08e"
   },
   "source": [
    "### Музаффаров Руфат СКБ171\n",
    "\n",
    "Оценка: 1\n",
    "\n",
    "Комментарий: -"
   ]
  },
  {
   "cell_type": "code",
   "execution_count": null,
   "metadata": {},
   "outputs": [],
   "source": [
    "# сгенерировать список любой заданной длины по следующему правилу [1, 2, 3, 3, 2, 1, 1, 2, 3, 3, 2, 1, ...]\n"
   ]
  },
  {
   "cell_type": "code",
   "execution_count": 61,
   "metadata": {},
   "outputs": [
    {
     "name": "stdout",
     "output_type": "stream",
     "text": [
      "21\n"
     ]
    },
    {
     "data": {
      "text/plain": [
       "[1, 2, 3, 3, 2, 1, 1, 2, 3, 3, 2, 1, 1, 2, 3, 3, 2, 1, 1, 2, 3]"
      ]
     },
     "execution_count": 61,
     "metadata": {},
     "output_type": "execute_result"
    }
   ],
   "source": [
    "n = int(input())\n",
    "\n",
    "lst = []\n",
    "r = []\n",
    "c = 3\n",
    "\n",
    "for i in range(1, c + 1):\n",
    "    lst.append(i)\n",
    "\n",
    "s = lst + lst[::-1]\n",
    "\n",
    "for i in range(n):\n",
    "        r.append(s[i % len(s)])\n",
    "r"
   ]
  },
  {
   "cell_type": "markdown",
   "metadata": {
    "hash": "fbb3eb5f04"
   },
   "source": [
    "### Гаварина Светлана СКБ171\n",
    "\n",
    "Оценка: 0.5\n",
    "\n",
    "Комментарий: List is longer than expected."
   ]
  },
  {
   "cell_type": "code",
   "execution_count": null,
   "metadata": {},
   "outputs": [],
   "source": [
    "# сгенерировать список любой заданной длины по следующему правилу [1, 2, 3, 3, 2, 1, 1, 2, 3, 3, 2, 1, ...]\n"
   ]
  },
  {
   "cell_type": "code",
   "execution_count": 64,
   "metadata": {},
   "outputs": [
    {
     "name": "stdout",
     "output_type": "stream",
     "text": [
      "[1, 2, 3, 3, 2, 1, 1, 2, 3, 3, 2, 1, 1, 2, 3, 3, 2, 1, 1, 2, 3, 3]\n"
     ]
    },
    {
     "data": {
      "text/plain": [
       "(None, 22)"
      ]
     },
     "execution_count": 64,
     "metadata": {},
     "output_type": "execute_result"
    }
   ],
   "source": [
    "def my_list3(n, l):\n",
    "    s = []\n",
    "    i = 0\n",
    "    rev = False\n",
    "    while len(s) < n:\n",
    "        s.append(l[i])\n",
    "        if i == 0:\n",
    "            if len(s) != 1:\n",
    "                s.append(l[i])\n",
    "            i += 1\n",
    "            rev = False\n",
    "        elif i == len(l) - 1:\n",
    "            s.append(l[i])\n",
    "            i -= 1\n",
    "            rev = True\n",
    "        elif rev:\n",
    "            i -= 1\n",
    "        elif not rev:\n",
    "            i += 1\n",
    "        \n",
    "    return s\n",
    "        \n",
    "l = [1, 2, 3]\n",
    "print(my_list3(21, l)), len(my_list3(21, l))"
   ]
  },
  {
   "cell_type": "markdown",
   "metadata": {
    "hash": "d4b4a0c75f"
   },
   "source": [
    "### Дундуков Семен СКБ171\n",
    "\n",
    "Оценка: 0.5\n",
    "\n",
    "Комментарий: List is longer than expected."
   ]
  },
  {
   "cell_type": "code",
   "execution_count": 67,
   "metadata": {},
   "outputs": [],
   "source": [
    "# сгенерировать список любой заданной длины по следующему правилу [1, 2, 3, 3, 2, 1, 1, 2, 3, 3, 2, 1, ...]\n"
   ]
  },
  {
   "cell_type": "code",
   "execution_count": 68,
   "metadata": {},
   "outputs": [
    {
     "name": "stdout",
     "output_type": "stream",
     "text": [
      "21\n",
      "[1, 2, 3, 3, 2, 1, 1, 2, 3, 3, 2, 1, 1, 2, 3, 3, 2, 1, 1, 2, 3, 3, 2, 1, 1]\n"
     ]
    },
    {
     "data": {
      "text/plain": [
       "(None, 25)"
      ]
     },
     "execution_count": 68,
     "metadata": {},
     "output_type": "execute_result"
    }
   ],
   "source": [
    "n = int(input())\n",
    "list_of_numbers = []\n",
    "counter = 1\n",
    "counter2 = 1\n",
    "for i in range (1, n+1):\n",
    "    if counter2 == 1:\n",
    "        list_of_numbers.append(counter)\n",
    "        counter += 1\n",
    "        if counter == 4:\n",
    "            counter = 3\n",
    "            counter2 = 0\n",
    "    if counter2 == 0:\n",
    "        list_of_numbers.append(counter)\n",
    "        counter -= 1\n",
    "        if counter == 0:\n",
    "            counter = 1\n",
    "            counter2 = 1\n",
    "    if len(list_of_numbers) == n:\n",
    "        break\n",
    "print(list_of_numbers), len(list_of_numbers)"
   ]
  },
  {
   "cell_type": "markdown",
   "metadata": {
    "hash": "2399d34da2"
   },
   "source": [
    "### Бень Таисия СКБ171\n",
    "\n",
    "Оценка: 1\n",
    "\n",
    "Комментарий: -"
   ]
  },
  {
   "cell_type": "code",
   "execution_count": 69,
   "metadata": {},
   "outputs": [],
   "source": [
    "# сгенерировать список любой заданной длины по следующему правилу [1, 2, 3, 3, 2, 1, 1, 2, 3, 3, 2, 1, ...]\n"
   ]
  },
  {
   "cell_type": "code",
   "execution_count": 70,
   "metadata": {},
   "outputs": [
    {
     "name": "stdout",
     "output_type": "stream",
     "text": [
      "21\n",
      "[1, 2, 3, 3, 2, 1, 1, 2, 3, 3, 2, 1, 1, 2, 3, 3, 2, 1, 1, 2, 3]\n"
     ]
    }
   ],
   "source": [
    "k = int(input())\n",
    "ans = []\n",
    "n = 3\n",
    "l = list(range(1,n+1))\n",
    "lst = l[:]+l[::-1]\n",
    "for j in range(k):\n",
    "    ans+=[lst[j%(n*2)]]\n",
    "print(ans)"
   ]
  },
  {
   "cell_type": "markdown",
   "metadata": {
    "hash": "cbdb3b9c23"
   },
   "source": [
    "### Козликина Татьяна СКБ172\n",
    "\n",
    "Оценка: 1\n",
    "\n",
    "Комментарий: -"
   ]
  },
  {
   "cell_type": "code",
   "execution_count": 15,
   "metadata": {},
   "outputs": [],
   "source": [
    "# сгенерировать список любой заданной длины по следующему правилу [1, 2, 3, 3, 2, 1, 1, 2, 3, 3, 2, 1, ...]\n"
   ]
  },
  {
   "cell_type": "code",
   "execution_count": 71,
   "metadata": {},
   "outputs": [
    {
     "name": "stdout",
     "output_type": "stream",
     "text": [
      "21\n",
      "[1, 2, 3, 3, 2, 1, 1, 2, 3, 3, 2, 1, 1, 2, 3, 3, 2, 1, 1, 2, 3]\n"
     ]
    }
   ],
   "source": [
    "def list_with_rule2 (a):\n",
    "    list_r2 = []\n",
    "    for i in range(1, a+1):\n",
    "        if (i%6 == 1) or (i%6 ==0):\n",
    "            list_r2.append(1)\n",
    "        elif (i%6 == 2) or (i%6 == 5):\n",
    "            list_r2.append(2)\n",
    "        else:\n",
    "            list_r2.append(3)\n",
    "    return list_r2\n",
    "\n",
    "b  = int(input())\n",
    "print(list_with_rule2(b))"
   ]
  },
  {
   "cell_type": "markdown",
   "metadata": {
    "hash": "c569889d42"
   },
   "source": [
    "### Апресян Тигран СКБ171\n",
    "\n",
    "Оценка: 1\n",
    "\n",
    "Комментарий: -"
   ]
  },
  {
   "cell_type": "code",
   "execution_count": 121,
   "metadata": {},
   "outputs": [],
   "source": [
    "# сгенерировать список любой заданной длины по следующему правилу [1, 2, 3, 3, 2, 1, 1, 2, 3, 3, 2, 1, ...]\n"
   ]
  },
  {
   "cell_type": "code",
   "execution_count": 72,
   "metadata": {},
   "outputs": [
    {
     "name": "stdout",
     "output_type": "stream",
     "text": [
      "[1, 2, 3, 3, 2, 1, 1, 2, 3, 3, 2, 1, 1, 2, 3, 3, 2, 1, 1, 2, 3]\n"
     ]
    }
   ],
   "source": [
    "n = 21 #длина списка\n",
    "print([1, 2, 3, 3, 2, 1]*(n //6)+[1, 2, 3, 3, 2, 1][:n%6])"
   ]
  },
  {
   "cell_type": "markdown",
   "metadata": {
    "hash": "085aa1874a"
   },
   "source": [
    "### Долотов Фёдор СКБ172\n",
    "\n",
    "Оценка: 1\n",
    "\n",
    "Комментарий: -"
   ]
  },
  {
   "cell_type": "code",
   "execution_count": null,
   "metadata": {},
   "outputs": [],
   "source": [
    "# сгенерировать список любой заданной длины по следующему правилу [1, 2, 3, 3, 2, 1, 1, 2, 3, 3, 2, 1, ...]\n"
   ]
  },
  {
   "cell_type": "code",
   "execution_count": 73,
   "metadata": {},
   "outputs": [
    {
     "name": "stdout",
     "output_type": "stream",
     "text": [
      "[1, 2, 3, 3, 2, 1, 1, 2, 3, 3, 2, 1, 1, 2, 3, 3, 2, 1, 1, 2, 3]\n"
     ]
    }
   ],
   "source": [
    "length = 21\n",
    "b = [1,2,3]\n",
    "r = b + b[::-1]\n",
    "l = len(r)\n",
    "s = []\n",
    "i = 0\n",
    "\n",
    "while i < length:\n",
    "    s.append(r[i%l])\n",
    "    i += 1\n",
    "print(s)"
   ]
  },
  {
   "cell_type": "markdown",
   "metadata": {
    "hash": "6463c3fd36"
   },
   "source": [
    "### Попов Юрий СКБ172\n",
    "\n",
    "Оценка: 1\n",
    "\n",
    "Комментарий: -"
   ]
  },
  {
   "cell_type": "code",
   "execution_count": 15,
   "metadata": {},
   "outputs": [],
   "source": [
    "# сгенерировать список любой заданной длины по следующему правилу [1, 2, 3, 3, 2, 1, 1, 2, 3, 3, 2, 1, ...]\n"
   ]
  },
  {
   "cell_type": "code",
   "execution_count": 74,
   "metadata": {},
   "outputs": [
    {
     "name": "stdout",
     "output_type": "stream",
     "text": [
      "Какую длину списка Вы хотите: \n",
      "21\n",
      "1 2 3 3 2 1 1 2 3 3 2 1 1 2 3 3 2 1 1 2 3\n"
     ]
    }
   ],
   "source": [
    "# Задание_7\n",
    "print('Какую длину списка Вы хотите: ')\n",
    "n = int(input())\n",
    "\n",
    "\n",
    "# Функция, которая создает список, длиной n, по заданному правилу\n",
    "def nList7(n):\n",
    "    exl = [1, 2, 3]\n",
    "    nl = exl + exl[::-1]\n",
    "    print(*nl * (n // 6),end=' ')\n",
    "    print(*nl[:n % 6])\n",
    "\n",
    "\n",
    "nList7(n)"
   ]
  },
  {
   "cell_type": "code",
   "execution_count": null,
   "metadata": {},
   "outputs": [],
   "source": []
  }
 ],
 "metadata": {
  "kernelspec": {
   "display_name": "Python 3",
   "language": "python",
   "name": "python3"
  },
  "language_info": {
   "codemirror_mode": {
    "name": "ipython",
    "version": 3
   },
   "file_extension": ".py",
   "mimetype": "text/x-python",
   "name": "python",
   "nbconvert_exporter": "python",
   "pygments_lexer": "ipython3",
   "version": "3.7.3"
  },
  "task": 7
 },
 "nbformat": 4,
 "nbformat_minor": 2
}
