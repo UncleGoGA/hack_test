{
 "cells": [
  {
   "cell_type": "markdown",
   "metadata": {
    "task": 0
   },
   "source": [
    "-----\n",
    "#### Задание 0"
   ]
  },
  {
   "cell_type": "markdown",
   "metadata": {
    "hash": "8699e3d854"
   },
   "source": [
    "### Федоров Сергей СКБ172\n",
    "\n",
    "Оценка: 0\n",
    "\n",
    "Комментарий: False result"
   ]
  },
  {
   "cell_type": "code",
   "execution_count": 1,
   "metadata": {
    "colab": {},
    "colab_type": "code",
    "id": "ly3zOpxc-7G8"
   },
   "outputs": [],
   "source": [
    "# каждому символу строки s соответствует целое число из списка l (s[i] <-> l[i])\n",
    "# вывести строку s на экран так, чтобы каждый следующий символ был сдвинут относительно\n",
    "# предыдущего на количество символов '_', равное соответвующему целому числу из списка l\n",
    "# ЗАПРЕЩАЕТСЯ использовать циклы Python!\n",
    "s = 'Python'*2\n",
    "l = [3, 5, 7, 8, 7, 5, 3, 1, 0, 1, 3, 5]\n"
   ]
  },
  {
   "cell_type": "code",
   "execution_count": 2,
   "metadata": {
    "colab": {
     "base_uri": "https://localhost:8080/",
     "height": 34
    },
    "colab_type": "code",
    "id": "SR7MgbXC5DP4",
    "outputId": "19ccbc98-9e58-4a61-e7e1-9bb8a2311caa"
   },
   "outputs": [
    {
     "name": "stdout",
     "output_type": "stream",
     "text": [
      "strrr =  ___P__y_tPho_o__n\n"
     ]
    }
   ],
   "source": [
    "from functools import reduce\n",
    "\n",
    "\n",
    "def unic(a):\n",
    "  global k \n",
    "  k[int(a[1])] = a[0]\n",
    "  \n",
    "s = 'Python'*2\n",
    "l = [3, 5, 7, 8, 7, 5, 3, 1, 0, 1, 3, 5]\n",
    "if len(s) < len(l):\n",
    "  leng = list(range(0,len(s))) \n",
    "else:\n",
    "  leng = list(range(0,len(l)))\n",
    "t = list(map(lambda x,y: x + y, leng, l))\n",
    "\n",
    "cort = list(zip(s, t))\n",
    "# print(cort)\n",
    "sor  = list(sorted(cort, key=lambda cort: cort[1]))\n",
    "# print(sor)\n",
    "\n",
    "k = ['_'] * (sor[len(sor)-1][1]+1)\n",
    "cap = list(map(unic, sor))  \n",
    "# print(cap)\n",
    "# print('strrr = ',k)\n",
    "myString = ''.join(k)\n",
    "print('strrr = ',myString)"
   ]
  },
  {
   "cell_type": "markdown",
   "metadata": {
    "hash": "61933bd99d"
   },
   "source": [
    "### Алексеев Кирилл СКБ172\n",
    "\n",
    "Оценка: 1\n",
    "\n",
    "Комментарий: -"
   ]
  },
  {
   "cell_type": "code",
   "execution_count": 7,
   "metadata": {},
   "outputs": [],
   "source": [
    "# каждому символу строки s соответствует целое число из списка l (s[i] <-> l[i])\n",
    "# вывести строку s на экран так, чтобы каждый следующий символ был сдвинут относительно\n",
    "# предыдущего на количество символов '_', равное соответвующему целому числу из списка l\n",
    "# ЗАПРЕЩАЕТСЯ использовать циклы Python!\n",
    "\n",
    "s = 'Python'*2\n",
    "l = [3, 5, 7, 8, 7, 5, 3, 1, 0, 1, 3, 5]\n"
   ]
  },
  {
   "cell_type": "code",
   "execution_count": 8,
   "metadata": {},
   "outputs": [
    {
     "name": "stdout",
     "output_type": "stream",
     "text": [
      "P___y_____t_______h________o_______n_____P___y_th_o___n_____\n"
     ]
    }
   ],
   "source": [
    "s = 'Python'*2\n",
    "ch = len(s)\n",
    "l = [3, 5, 7, 8, 7, 5, 3, 1, 0, 1, 3, 5]\n",
    "s2 = \",\".join(s)\n",
    "list = s2.split(\",\")\n",
    "s = ''\n",
    "\n",
    "def cycle(i):\n",
    "    global s\n",
    "    if i > 0:\n",
    "        cycle(i-1)\n",
    "    s = (s + list[i]) + ('_'* l[i])\n",
    "        \n",
    "cycle(ch - 1)\n",
    "print(s)"
   ]
  },
  {
   "cell_type": "markdown",
   "metadata": {
    "hash": "45b9ceed78"
   },
   "source": [
    "### Анчугов Роман СКБ171\n",
    "\n",
    "Оценка: 1\n",
    "\n",
    "Комментарий: -"
   ]
  },
  {
   "cell_type": "code",
   "execution_count": 1,
   "metadata": {},
   "outputs": [],
   "source": [
    "# каждому символу строки s соответствует целое число из списка l (s[i] <-> l[i])\n",
    "# вывести строку s на экран так, чтобы каждый следующий символ был сдвинут относительно\n",
    "# предыдущего на количество символов '_', равное соответвующему целому числу из списка l\n",
    "# ЗАПРЕЩАЕТСЯ использовать циклы Python!\n",
    "\n",
    "s = 'Python'*2\n",
    "l = [3, 5, 7, 8, 7, 5, 3, 1, 0, 1, 3, 5]\n"
   ]
  },
  {
   "cell_type": "code",
   "execution_count": 2,
   "metadata": {},
   "outputs": [
    {
     "name": "stdout",
     "output_type": "stream",
     "text": [
      "P___y_____t_______h________o_______n_____P___y_th_o___n_____\n"
     ]
    }
   ],
   "source": [
    "divider = \"\".join(list(map(lambda s,l: s + \"_\"*l, s,l)))\n",
    "print(divider)"
   ]
  },
  {
   "cell_type": "markdown",
   "metadata": {
    "hash": "8be119c53a"
   },
   "source": [
    "### Акинина Алёна СКБ172\n",
    "\n",
    "Оценка: 1\n",
    "\n",
    "Комментарий: -"
   ]
  },
  {
   "cell_type": "code",
   "execution_count": 5,
   "metadata": {},
   "outputs": [],
   "source": [
    "# каждому символу строки s соответствует целое число из списка l (s[i] <-> l[i])\n",
    "# вывести строку s на экран так, чтобы каждый следующий символ был сдвинут относительно\n",
    "# предыдущего на количество символов '_', равное соответвующему целому числу из списка l\n",
    "# ЗАПРЕЩАЕТСЯ использовать циклы Python!\n",
    "\n",
    "s = 'Python'*2\n",
    "l = [3, 5, 7, 8, 7, 5, 3, 1, 0, 1, 3, 5]\n"
   ]
  },
  {
   "cell_type": "code",
   "execution_count": 6,
   "metadata": {},
   "outputs": [
    {
     "name": "stdout",
     "output_type": "stream",
     "text": [
      "P___y_____t_______h________o_______n_____P___y_th_o___n_____\n"
     ]
    }
   ],
   "source": [
    "print(''.join(map(lambda x,y : x + str('_'*y),list('Python'*2),[3, 5, 7, 8, 7, 5, 3, 1, 0, 1, 3, 5])))"
   ]
  },
  {
   "cell_type": "markdown",
   "metadata": {
    "hash": "f5676d34de"
   },
   "source": [
    "### Лисьев Александр СКБ171\n",
    "\n",
    "Оценка: 0.5\n",
    "\n",
    "Комментарий: For=1"
   ]
  },
  {
   "cell_type": "code",
   "execution_count": 10,
   "metadata": {},
   "outputs": [],
   "source": [
    "# каждому символу строки s соответствует целое число из списка l (s[i] <-> l[i])\n",
    "# вывести строку s на экран так, чтобы каждый следующий символ был сдвинут относительно\n",
    "# предыдущего на количество символов '_', равное соответвующему целому числу из списка l\n",
    "# ЗАПРЕЩАЕТСЯ использовать циклы Python!\n",
    "\n",
    "s = 'Python'*2\n",
    "l = [3, 5, 7, 8, 7, 5, 3, 1, 0, 1, 3, 5]\n"
   ]
  },
  {
   "cell_type": "code",
   "execution_count": 11,
   "metadata": {},
   "outputs": [
    {
     "name": "stdout",
     "output_type": "stream",
     "text": [
      "P___y_____t_______h________o_______n_____P___y_th_o___n_____\n"
     ]
    }
   ],
   "source": [
    "print(\"\".join([s[i] + \"_\" * l[i] for i in range(len(s))]))"
   ]
  },
  {
   "cell_type": "markdown",
   "metadata": {
    "hash": "987c011ca1"
   },
   "source": [
    "### Чердак Александр СКБ171\n",
    "\n",
    "Оценка: 1\n",
    "\n",
    "Комментарий: -"
   ]
  },
  {
   "cell_type": "code",
   "execution_count": 14,
   "metadata": {},
   "outputs": [],
   "source": [
    "# каждому символу строки s соответствует целое число из списка l (s[i] <-> l[i])\n",
    "# вывести строку s на экран так, чтобы каждый следующий символ был сдвинут относительно\n",
    "# предыдущего на количество символов '_', равное соответвующему целому числу из списка l\n",
    "# ЗАПРЕЩАЕТСЯ использовать циклы Python!\n",
    "\n",
    "s = 'Python'*2\n",
    "l = [3, 5, 7, 8, 7, 5, 3, 1, 0, 1, 3, 5]\n"
   ]
  },
  {
   "cell_type": "code",
   "execution_count": 15,
   "metadata": {},
   "outputs": [
    {
     "name": "stdout",
     "output_type": "stream",
     "text": [
      "___P_____y_______t________h_______o_____n___P_yt_h___o_____n\n"
     ]
    }
   ],
   "source": [
    "s = 'PythonPython'\n",
    "l = [3, 5, 7, 8, 7, 5, 3, 1, 0, 1, 3, 5]\n",
    "\n",
    "l = list(map(lambda iter, add: iter * \"_\" + add, l, s))\n",
    "print(\"\".join(map(str, l)))"
   ]
  },
  {
   "cell_type": "markdown",
   "metadata": {
    "hash": "edfab041c6"
   },
   "source": [
    "### Шелепова Алена СКБ172\n",
    "\n",
    "Оценка: 1\n",
    "\n",
    "Комментарий: -"
   ]
  },
  {
   "cell_type": "code",
   "execution_count": 18,
   "metadata": {},
   "outputs": [],
   "source": [
    "# каждому символу строки s соответствует целое число из списка l (s[i] <-> l[i])\n",
    "# вывести строку s на экран так, чтобы каждый следующий символ был сдвинут относительно\n",
    "# предыдущего на количество символов '_', равное соответвующему целому числу из списка l\n",
    "# ЗАПРЕЩАЕТСЯ использовать циклы Python!\n",
    "\n",
    "s = 'Python'*2\n",
    "l = [3, 5, 7, 8, 7, 5, 3, 1, 0, 1, 3, 5]\n"
   ]
  },
  {
   "cell_type": "code",
   "execution_count": 19,
   "metadata": {
    "scrolled": true
   },
   "outputs": [
    {
     "name": "stdout",
     "output_type": "stream",
     "text": [
      "P___y_____t_______h________o_______n_____P___y_th_o___n_____\n"
     ]
    }
   ],
   "source": [
    "new_l = list(map(lambda x,y: x +'_'* y, s, l))\n",
    "print(''.join(new_l)) "
   ]
  },
  {
   "cell_type": "markdown",
   "metadata": {
    "hash": "e7846edd2c"
   },
   "source": [
    "### Шнейдер Алиса СКБ172\n",
    "\n",
    "Оценка: 1\n",
    "\n",
    "Комментарий: -"
   ]
  },
  {
   "cell_type": "code",
   "execution_count": 22,
   "metadata": {},
   "outputs": [],
   "source": [
    "# каждому символу строки s соответствует целое число из списка l (s[i] <-> l[i])\n",
    "# вывести строку s на экран так, чтобы каждый следующий символ был сдвинут относительно\n",
    "# предыдущего на количество символов '_', равное соответвующему целому числу из списка l\n",
    "# ЗАПРЕЩАЕТСЯ использовать циклы Python!\n",
    "\n",
    "s = 'Python'*2\n",
    "l = [3, 5, 7, 8, 7, 5, 3, 1, 0, 1, 3, 5]\n"
   ]
  },
  {
   "cell_type": "code",
   "execution_count": 23,
   "metadata": {},
   "outputs": [
    {
     "name": "stdout",
     "output_type": "stream",
     "text": [
      "['P', 'y', 't', 'h', 'o', 'n', 'P', 'y', 't', 'h', 'o', 'n']\n",
      "['___', '_____', '_______', '________', '_______', '_____', '___', '_', '', '_', '___', '_____']\n",
      "result is:\n",
      "P___y_____t_______h________o_______n_____P___y_th_o___n_____\n"
     ]
    }
   ],
   "source": [
    "s1 = list(map(lambda i: s[i], range(len(s))))\n",
    "print(s1)\n",
    "l1 = list(map(lambda j: l[j]*'_', range(len(l))))\n",
    "print(l1)\n",
    "res = list(map(lambda q: s1[q]+l1[q], range(len(s1))))\n",
    "\n",
    "print('result is:')\n",
    "print(''.join(res))"
   ]
  },
  {
   "cell_type": "markdown",
   "metadata": {
    "hash": "680f312dec"
   },
   "source": [
    "### Зайцева Анастасия СКБ171\n",
    "\n",
    "Оценка: 1\n",
    "\n",
    "Комментарий: -"
   ]
  },
  {
   "cell_type": "code",
   "execution_count": 26,
   "metadata": {},
   "outputs": [],
   "source": [
    "# каждому символу строки s соответствует целое число из списка l (s[i] <-> l[i])\n",
    "# вывести строку s на экран так, чтобы каждый следующий символ был сдвинут относительно\n",
    "# предыдущего на количество символов '_', равное соответвующему целому числу из списка l\n",
    "# ЗАПРЕЩАЕТСЯ использовать циклы Python!\n",
    "\n",
    "s = 'Python'*2\n",
    "l = [3, 5, 7, 8, 7, 5, 3, 1, 0, 1, 3, 5]\n"
   ]
  },
  {
   "cell_type": "code",
   "execution_count": 27,
   "metadata": {},
   "outputs": [
    {
     "name": "stdout",
     "output_type": "stream",
     "text": [
      "P___y_____t_______h________o_______n_____P___y_th_o___n_____\n"
     ]
    }
   ],
   "source": [
    "s = 'Python'*2\n",
    "l = [3, 5, 7, 8, 7, 5, 3, 1, 0, 1, 3, 5]\n",
    "s = list(s)\n",
    "print(''.join(map(lambda x,y: x + '_'*y,s,l)))"
   ]
  },
  {
   "cell_type": "markdown",
   "metadata": {
    "hash": "fd1904cd9b"
   },
   "source": [
    "### Полуяктов Анатолий СКБ171\n",
    "\n",
    "Оценка: 1\n",
    "\n",
    "Комментарий: -"
   ]
  },
  {
   "cell_type": "code",
   "execution_count": 30,
   "metadata": {},
   "outputs": [],
   "source": [
    "# каждому символу строки s соответствует целое число из списка l (s[i] <-> l[i])\n",
    "# вывести строку s на экран так, чтобы каждый следующий символ был сдвинут относительно\n",
    "# предыдущего на количество символов '_', равное соответвующему целому числу из списка l\n",
    "# ЗАПРЕЩАЕТСЯ использовать циклы Python!\n",
    "\n",
    "s = 'Python'*2\n",
    "l = [3, 5, 7, 8, 7, 5, 3, 1, 0, 1, 3, 5]\n"
   ]
  },
  {
   "cell_type": "code",
   "execution_count": 31,
   "metadata": {},
   "outputs": [
    {
     "name": "stdout",
     "output_type": "stream",
     "text": [
      "___P_____y_______t________h_______o_____n___P_yt_h___o_____n\n"
     ]
    }
   ],
   "source": [
    "s = 'Python'*2\n",
    "l = [3, 5, 7, 8, 7, 5, 3, 1, 0, 1, 3, 5]\n",
    "A=list(map(lambda x,y:'_'*x+y,l,s))\n",
    "ans=''.join(A)\n",
    "print(ans)"
   ]
  },
  {
   "cell_type": "markdown",
   "metadata": {
    "hash": "da15d1aae0"
   },
   "source": [
    "### Фомин Андрей СКБ172\n",
    "\n",
    "Оценка: 1\n",
    "\n",
    "Комментарий: -"
   ]
  },
  {
   "cell_type": "code",
   "execution_count": 36,
   "metadata": {},
   "outputs": [],
   "source": [
    "# каждому символу строки s соответствует целое число из списка l (s[i] <-> l[i])\n",
    "# вывести строку s на экран так, чтобы каждый следующий символ был сдвинут относительно\n",
    "# предыдущего на количество символов '_', равное соответвующему целому числу из списка l\n",
    "# ЗАПРЕЩАЕТСЯ использовать циклы Python!\n",
    "\n",
    "s = 'Python'*2\n",
    "l = [3, 5, 7, 8, 7, 5, 3, 1, 0, 1, 3, 5]\n"
   ]
  },
  {
   "cell_type": "code",
   "execution_count": 37,
   "metadata": {},
   "outputs": [
    {
     "name": "stdout",
     "output_type": "stream",
     "text": [
      "P___y_____t_______h________o_______n_____P___y_th_o___n_____\n"
     ]
    }
   ],
   "source": [
    "from functools import reduce\n",
    "print(reduce(lambda a, x: a + x, list(map(lambda x:x[0] + '_' * x[1], list(zip(s,l))))))"
   ]
  },
  {
   "cell_type": "markdown",
   "metadata": {
    "hash": "8670705a3a"
   },
   "source": [
    "### Марипова Жасмин СКБ171\n",
    "\n",
    "Оценка: 1\n",
    "\n",
    "Комментарий: -"
   ]
  },
  {
   "cell_type": "code",
   "execution_count": 41,
   "metadata": {
    "colab": {},
    "colab_type": "code",
    "id": "KRNTuQ8SDcTF"
   },
   "outputs": [],
   "source": [
    "# каждому символу строки s соответствует целое число из списка l (s[i] <-> l[i])\n",
    "# вывести строку s на экран так, чтобы каждый следующий символ был сдвинут относительно\n",
    "# предыдущего на количество символов '_', равное соответвующему целому числу из списка l\n",
    "# ЗАПРЕЩАЕТСЯ использовать циклы Python!\n",
    "\n",
    "s = 'Python'*2\n",
    "l = [3, 5, 7, 8, 7, 5, 3, 1, 0, 1, 3, 5]\n"
   ]
  },
  {
   "cell_type": "code",
   "execution_count": 42,
   "metadata": {
    "colab": {},
    "colab_type": "code",
    "id": "Dujiwin2DcTM",
    "outputId": "aa1c9d91-244a-4769-8a26-c7576af0c111"
   },
   "outputs": [
    {
     "name": "stdout",
     "output_type": "stream",
     "text": [
      "___P_____y_______t________h_______o_____n___P_yt_h___o_____n\n"
     ]
    }
   ],
   "source": [
    "# в одну строку, используя лямбда-функцию\n",
    "\n",
    "print(''.join(map(lambda n, w: '_' * n + w, l, s)))"
   ]
  },
  {
   "cell_type": "code",
   "execution_count": 43,
   "metadata": {
    "colab": {},
    "colab_type": "code",
    "id": "p9W-uFywDcTS",
    "outputId": "f912de0a-1933-4213-b6ba-32a788174df8"
   },
   "outputs": [
    {
     "name": "stdout",
     "output_type": "stream",
     "text": [
      "___P_____y_______t________h_______o_____n___P_yt_h___o_____n\n"
     ]
    }
   ],
   "source": [
    "# в несколько строк, используя специально написанную функцию pchar\n",
    "\n",
    "def pchar(n, w):\n",
    "     return '_' * n + w\n",
    "r = map(pchar, l, s)\n",
    "print(''.join(r))"
   ]
  },
  {
   "cell_type": "markdown",
   "metadata": {
    "hash": "49bf872905"
   },
   "source": [
    "### Зоричев Борис СКБ172\n",
    "\n",
    "Оценка: 1\n",
    "\n",
    "Комментарий: -"
   ]
  },
  {
   "cell_type": "code",
   "execution_count": 44,
   "metadata": {},
   "outputs": [],
   "source": [
    "# каждому символу строки s соответствует целое число из списка l (s[i] <-> l[i])\n",
    "# вывести строку s на экран так, чтобы каждый следующий символ был сдвинут относительно\n",
    "# предыдущего на количество символов '_', равное соответвующему целому числу из списка l\n",
    "# ЗАПРЕЩАЕТСЯ использовать циклы Python!\n",
    "\n",
    "s = 'Python'*2\n",
    "l = [3, 5, 7, 8, 7, 5, 3, 1, 0, 1, 3, 5]\n"
   ]
  },
  {
   "cell_type": "code",
   "execution_count": 45,
   "metadata": {},
   "outputs": [
    {
     "name": "stdout",
     "output_type": "stream",
     "text": [
      "___P_____y_______t________h_______o_____n___P_yt_h___o_____n\n"
     ]
    }
   ],
   "source": [
    "s = 'Python'*2\n",
    "l = [3, 5, 7, 8, 7, 5, 3, 1, 0, 1, 3, 5]\n",
    "print(''.join(list(map(lambda x,y: x * '_'+y, l,s))))"
   ]
  },
  {
   "cell_type": "markdown",
   "metadata": {
    "hash": "3c7692137a"
   },
   "source": [
    "### Сербаев Вадим СКБ172\n",
    "\n",
    "Оценка: 1\n",
    "\n",
    "Комментарий: -"
   ]
  },
  {
   "cell_type": "code",
   "execution_count": 48,
   "metadata": {},
   "outputs": [],
   "source": [
    "# каждому символу строки s соответствует целое число из списка l (s[i] <-> l[i])\n",
    "# вывести строку s на экран так, чтобы каждый следующий символ был сдвинут относительно\n",
    "# предыдущего на количество символов '_', равное соответвующему целому числу из списка l\n",
    "# ЗАПРЕЩАЕТСЯ использовать циклы Python!\n",
    "\n",
    "s = 'Python'*2\n",
    "l = [3, 5, 7, 8, 7, 5, 3, 1, 0, 1, 3, 5]\n"
   ]
  },
  {
   "cell_type": "code",
   "execution_count": 49,
   "metadata": {},
   "outputs": [
    {
     "name": "stdout",
     "output_type": "stream",
     "text": [
      "___P_____y_______t________h_______o_____n___P_yt_h___o_____n"
     ]
    }
   ],
   "source": [
    "def MainPBase(reg, elem, shift):\n",
    "    if(reg<11):\n",
    "        print(shift*'_'+elem, end='')\n",
    "        reg+=1\n",
    "        MainPBase(reg, s[reg], l[reg])\n",
    "    else:\n",
    "        print(shift*'_'+elem, end='')\n",
    "        \n",
    "    \n",
    "s = 'Python'*2\n",
    "l = [3, 5, 7, 8, 7, 5, 3, 1, 0, 1, 3, 5]\n",
    "reg=0\n",
    "MainPBase(reg,s[reg],l[reg])\n",
    "\n",
    "\n",
    "\n",
    "\n",
    "\n"
   ]
  },
  {
   "cell_type": "markdown",
   "metadata": {
    "hash": "f59c3afdc4"
   },
   "source": [
    "### Булгаков Виталий СКБ172\n",
    "\n",
    "Оценка: 0.2\n",
    "\n",
    "Комментарий: Output != string"
   ]
  },
  {
   "cell_type": "code",
   "execution_count": 52,
   "metadata": {},
   "outputs": [],
   "source": [
    "# каждому символу строки s соответствует целое число из списка l (s[i] <-> l[i])\n",
    "# вывести строку s на экран так, чтобы каждый следующий символ был сдвинут относительно\n",
    "# предыдущего на количество символов '_', равное соответвующему целому числу из списка l\n",
    "# ЗАПРЕЩАЕТСЯ использовать циклы Python!\n",
    "\n",
    "s = 'Python'*2\n",
    "l = [3, 5, 7, 8, 7, 5, 3, 1, 0, 1, 3, 5]\n",
    "\n",
    "\n"
   ]
  },
  {
   "cell_type": "code",
   "execution_count": 53,
   "metadata": {},
   "outputs": [
    {
     "name": "stdout",
     "output_type": "stream",
     "text": [
      "['___P', '_____y', '_______t', '________h', '_______o', '_____n', '___P', '_y', 't', '_h', '___o', '_____n']\n"
     ]
    }
   ],
   "source": [
    "print(list(map(lambda x, y: y * '_' + x, s, l)))"
   ]
  },
  {
   "cell_type": "markdown",
   "metadata": {
    "hash": "c942913613"
   },
   "source": [
    "### Андреева Влада СКБ171\n",
    "\n",
    "Оценка: 1\n",
    "\n",
    "Комментарий: -"
   ]
  },
  {
   "cell_type": "code",
   "execution_count": 56,
   "metadata": {},
   "outputs": [],
   "source": [
    "# каждому символу строки s соответствует целое число из списка l (s[i] <-> l[i])\n",
    "# вывести строку s на экран так, чтобы каждый следующий символ был сдвинут относительно\n",
    "# предыдущего на количество символов '_', равное соответвующему целому числу из списка l\n",
    "# ЗАПРЕЩАЕТСЯ использовать циклы Python!\n",
    "\n",
    "s = 'Python'*2\n",
    "l = [3, 5, 7, 8, 7, 5, 3, 1, 0, 1, 3, 5]\n"
   ]
  },
  {
   "cell_type": "code",
   "execution_count": 57,
   "metadata": {},
   "outputs": [
    {
     "name": "stdout",
     "output_type": "stream",
     "text": [
      "P___y_____t_______h________o_______n_____P___y_th_o___n_____"
     ]
    }
   ],
   "source": [
    "def printing(i, k):\n",
    "    if i <= k:\n",
    "        print('_', end='')\n",
    "        i += 1\n",
    "        printing(i, k)\n",
    "def sep(s, l, i):\n",
    "    length = min(len(s), len(l))\n",
    "    if i < length:\n",
    "        print(s[i], end='')\n",
    "        printing(1, l[i])\n",
    "        i += 1\n",
    "        sep(s, l, i)\n",
    "        \n",
    "sep(s, l, 0)"
   ]
  },
  {
   "cell_type": "markdown",
   "metadata": {
    "hash": "913f2d1dd9"
   },
   "source": [
    "### Клопов Владислав СКБ172\n",
    "\n",
    "Оценка: 0.8\n",
    "\n",
    "Комментарий: Delimiter != '_'"
   ]
  },
  {
   "cell_type": "code",
   "execution_count": 60,
   "metadata": {},
   "outputs": [],
   "source": [
    "# каждому символу строки s соответствует целое число из списка l (s[i] <-> l[i])\n",
    "# вывести строку s на экран так, чтобы каждый следующий символ был сдвинут относительно\n",
    "# предыдущего на количество символов '_', равное соответвующему целому числу из списка l\n",
    "# ЗАПРЕЩАЕТСЯ использовать циклы Python!\n",
    "\n",
    "s = 'Python'*2\n",
    "l = [3, 5, 7, 8, 7, 5, 3, 1, 0, 1, 3, 5]\n"
   ]
  },
  {
   "cell_type": "code",
   "execution_count": 61,
   "metadata": {},
   "outputs": [
    {
     "data": {
      "text/plain": [
       "'P   y     t       h        o       n     P   y th o   n'"
      ]
     },
     "execution_count": 61,
     "metadata": {},
     "output_type": "execute_result"
    }
   ],
   "source": [
    "from functools import reduce\n",
    "reduce((lambda a,x: a+x[0]+' '*x[1]),zip(s,l),'').strip()"
   ]
  },
  {
   "cell_type": "markdown",
   "metadata": {
    "hash": "88d6b20127"
   },
   "source": [
    "### Сарахан Владислав СКБ172\n",
    "\n",
    "Оценка: 0.8\n",
    "\n",
    "Комментарий: Delimiter != '_'"
   ]
  },
  {
   "cell_type": "code",
   "execution_count": 64,
   "metadata": {},
   "outputs": [],
   "source": [
    "# каждому символу строки s соответствует целое число из списка l (s[i] <-> l[i])\n",
    "# вывести строку s на экран так, чтобы каждый следующий символ был сдвинут относительно\n",
    "# предыдущего на количество символов '_', равное соответвующему целому числу из списка l\n",
    "# ЗАПРЕЩАЕТСЯ использовать циклы Python!\n",
    "\n",
    "s = 'Python'*2\n",
    "l = [3, 5, 7, 8, 7, 5, 3, 1, 0, 1, 3, 5]\n"
   ]
  },
  {
   "cell_type": "code",
   "execution_count": 65,
   "metadata": {},
   "outputs": [
    {
     "data": {
      "text/plain": [
       "'P   y     t       h        o       n     P   y th o   n'"
      ]
     },
     "execution_count": 65,
     "metadata": {},
     "output_type": "execute_result"
    }
   ],
   "source": [
    "''.join(map((lambda x: x[0] + ' '*x[1]), zip(s, l)))[:-l[-1]]"
   ]
  },
  {
   "cell_type": "markdown",
   "metadata": {
    "hash": "26119a97d0"
   },
   "source": [
    "### Старостин Данила СКБ172\n",
    "\n",
    "Оценка: 0.2\n",
    "\n",
    "Комментарий: Hard code"
   ]
  },
  {
   "cell_type": "code",
   "execution_count": 68,
   "metadata": {},
   "outputs": [],
   "source": [
    "# каждому символу строки s соответствует целое число из списка l (s[i] <-> l[i])\n",
    "# вывести строку s на экран так, чтобы каждый следующий символ был сдвинут относительно\n",
    "# предыдущего на количество символов '_', равное соответвующему целому числу из списка l\n",
    "# ЗАПРЕЩАЕТСЯ использовать циклы Python!\n",
    "\n",
    "s = 'Python'*2\n",
    "l = [3, 5, 7, 8, 7, 5, 3, 1, 0, 1, 3, 5]\n"
   ]
  },
  {
   "cell_type": "code",
   "execution_count": 69,
   "metadata": {},
   "outputs": [
    {
     "name": "stdout",
     "output_type": "stream",
     "text": [
      "P___y_____t_______h________o_______n_____P___y_th_o___n_____\n"
     ]
    }
   ],
   "source": [
    "s = 'Python'*2\n",
    "l = [3, 5, 7, 8, 7, 5, 3, 1, 0, 1, 3, 5]\n",
    "s_new = s[0] + '_'*l[0] + s[1] + '_'*l[1] + s[2] + '_'*l[2] + s [3] + '_'*l[3] + s[4] + '_'*l[4] + s[5] + '_'*l[5] + s[6] + '_'*l[6] + s[7] + '_'*l[7] + s[8] + '_'*l[8] + s[9] + '_'*l[9] + s[10] + '_'*l[10] + s[11] + '_'*l[11]\n",
    "print(s_new)"
   ]
  },
  {
   "cell_type": "markdown",
   "metadata": {
    "hash": "0a22720c49"
   },
   "source": [
    "### Стрекнев Денис СКБ172\n",
    "\n",
    "Оценка: 1\n",
    "\n",
    "Комментарий: -"
   ]
  },
  {
   "cell_type": "code",
   "execution_count": 72,
   "metadata": {},
   "outputs": [],
   "source": [
    "# каждому символу строки s соответствует целое число из списка l (s[i] <-> l[i])\n",
    "# вывести строку s на экран так, чтобы каждый следующий символ был сдвинут относительно\n",
    "# предыдущего на количество символов '_', равное соответвующему целому числу из списка l\n",
    "# ЗАПРЕЩАЕТСЯ использовать циклы Python!\n",
    "\n",
    "s = 'Python'*2\n",
    "l = [3, 5, 7, 8, 7, 5, 3, 1, 0, 1, 3, 5]"
   ]
  },
  {
   "cell_type": "code",
   "execution_count": 73,
   "metadata": {},
   "outputs": [
    {
     "name": "stdout",
     "output_type": "stream",
     "text": [
      "P_____y_______t________h_______o_____nP_yt_h___o_____n"
     ]
    }
   ],
   "source": [
    "d=list(zip(s,l))\n",
    "list(map(lambda x: print('_'*x[1]+x[0], end='') if x!=d[0] else print(x[0], end=''), d)).clear()"
   ]
  },
  {
   "cell_type": "markdown",
   "metadata": {
    "hash": "63e0a37ae4"
   },
   "source": [
    "### Дородный Дмитрий СКБ172\n",
    "\n",
    "Оценка: 1\n",
    "\n",
    "Комментарий: -"
   ]
  },
  {
   "cell_type": "code",
   "execution_count": 76,
   "metadata": {},
   "outputs": [],
   "source": [
    "# каждому символу строки s соответствует целое число из списка l (s[i] <-> l[i])\n",
    "# вывести строку s на экран так, чтобы каждый следующий символ был сдвинут относительно\n",
    "# предыдущего на количество символов '_', равное соответвующему целому числу из списка l\n",
    "# ЗАПРЕЩАЕТСЯ использовать циклы Python!\n",
    "\n",
    "s = 'Python'*2\n",
    "l = [3, 5, 7, 8, 7, 5, 3, 1, 0, 1, 3, 5]\n"
   ]
  },
  {
   "cell_type": "code",
   "execution_count": 77,
   "metadata": {},
   "outputs": [
    {
     "name": "stdout",
     "output_type": "stream",
     "text": [
      "___P_____y_______t________h_______o_____n___P_yt_h___o_____n\n",
      "P_____y_______t________h_______o_____n___P_yt_h___o_____n\n"
     ]
    }
   ],
   "source": [
    "print(*list(map(lambda x,y: x*'_'+y, l, s)) ,sep = '')\n",
    "print(s[0], *list(map(lambda x,y: x*'_'+y, l, s))[1:] ,sep = '')#если считать что перед первым символом нету других, от которых надо отступать"
   ]
  },
  {
   "cell_type": "markdown",
   "metadata": {
    "hash": "e4572fb6ff"
   },
   "source": [
    "### Шемякин Дмитрий СКБ171\n",
    "\n",
    "Оценка: 1\n",
    "\n",
    "Комментарий: -"
   ]
  },
  {
   "cell_type": "code",
   "execution_count": 80,
   "metadata": {},
   "outputs": [],
   "source": [
    "# каждому символу строки s соответствует целое число из списка l (s[i] <-> l[i])\n",
    "# вывести строку s на экран так, чтобы каждый следующий символ был сдвинут относительно\n",
    "# предыдущего на количество символов '_', равное соответвующему целому числу из списка l\n",
    "# ЗАПРЕЩАЕТСЯ использовать циклы Python!\n",
    "\n",
    "s = 'Python'*2\n",
    "l = [3, 5, 7, 8, 7, 5, 3, 1, 0, 1, 3, 5]\n"
   ]
  },
  {
   "cell_type": "code",
   "execution_count": 81,
   "metadata": {},
   "outputs": [
    {
     "name": "stdout",
     "output_type": "stream",
     "text": [
      "___P_____y_______t________h_______o_____n___P_yt_h___o_____n\n"
     ]
    }
   ],
   "source": [
    "# каждому символу строки s соответствует целое число из списка l (s[i] <-> l[i])\n",
    "# вывести строку s на экран так, чтобы каждый следующий символ был сдвинут относительно\n",
    "# предыдущего на количество символов '_', равное соответвующему целому числу из списка l\n",
    "# ЗАПРЕЩАЕТСЯ использовать циклы Python!\n",
    "\n",
    "s = 'Python'*2\n",
    "l = [3, 5, 7, 8, 7, 5, 3, 1, 0, 1, 3, 5]\n",
    "\n",
    "l = list(map(lambda x, y: x*'_' + y, l, s))\n",
    "\n",
    "str_new = ''.join(l)\n",
    "\n",
    "print(str_new)"
   ]
  },
  {
   "cell_type": "markdown",
   "metadata": {
    "hash": "9ee13d89f3"
   },
   "source": [
    "### Никитина Елизавета СКБ171\n",
    "\n",
    "Оценка: 1\n",
    "\n",
    "Комментарий: -"
   ]
  },
  {
   "cell_type": "code",
   "execution_count": 84,
   "metadata": {},
   "outputs": [],
   "source": [
    "# каждому символу строки s соответствует целое число из списка l (s[i] <-> l[i])\n",
    "# вывести строку s на экран так, чтобы каждый следующий символ был сдвинут относительно\n",
    "# предыдущего на количество символов '_', равное соответвующему целому числу из списка l\n",
    "# ЗАПРЕЩАЕТСЯ использовать циклы Python!\n",
    "\n",
    "s = 'Python'*2\n",
    "l = [3, 5, 7, 8, 7, 5, 3, 1, 0, 1, 3, 5]\n"
   ]
  },
  {
   "cell_type": "code",
   "execution_count": 85,
   "metadata": {},
   "outputs": [
    {
     "data": {
      "text/plain": [
       "'___P_____y_______t________h_______o_____n___P_yt_h___o_____n'"
      ]
     },
     "execution_count": 85,
     "metadata": {},
     "output_type": "execute_result"
    }
   ],
   "source": [
    "s = 'Python'*2\n",
    "l = [3, 5, 7, 8, 7, 5, 3, 1, 0, 1, 3, 5]\n",
    "get_ = lambda i:'_'*l[i]+s[i]\n",
    "\n",
    "''.join(map(get_,range(len(s))))"
   ]
  },
  {
   "cell_type": "markdown",
   "metadata": {
    "hash": "64dc836089"
   },
   "source": [
    "### Семенов Игорь СКБ172\n",
    "\n",
    "Оценка: 1\n",
    "\n",
    "Комментарий: -"
   ]
  },
  {
   "cell_type": "code",
   "execution_count": 86,
   "metadata": {},
   "outputs": [],
   "source": [
    "# каждому символу строки s соответствует целое число из списка l (s[i] <-> l[i])\n",
    "# вывести строку s на экран так, чтобы каждый следующий символ был сдвинут относительно\n",
    "# предыдущего на количество символов '_', равное соответвующему целому числу из списка l\n",
    "# ЗАПРЕЩАЕТСЯ использовать циклы Python!\n",
    "\n",
    "s = 'Python'*2\n",
    "l = [3, 5, 7, 8, 7, 5, 3, 1, 0, 1, 3, 5]"
   ]
  },
  {
   "cell_type": "code",
   "execution_count": 87,
   "metadata": {},
   "outputs": [
    {
     "name": "stdout",
     "output_type": "stream",
     "text": [
      "P___y_____t_______h________o_______n_____P___y_th_o___n_____\n"
     ]
    }
   ],
   "source": [
    "#s='P___y_____t_______h________o_______n_____P___y_th_o___n_____'\n",
    "#print(s)\n",
    "fuu = lambda x:'_'*x\n",
    "print(''.join(map(''.join, zip(s, map(fuu,l)))))\n"
   ]
  },
  {
   "cell_type": "markdown",
   "metadata": {
    "hash": "a03e7d31a7"
   },
   "source": [
    "### Шамрин Игорь СКБ172\n",
    "\n",
    "Оценка: 0.8\n",
    "\n",
    "Комментарий: Delimiter != '_'"
   ]
  },
  {
   "cell_type": "code",
   "execution_count": 90,
   "metadata": {},
   "outputs": [],
   "source": [
    "# каждому символу строки s соответствует целое число из списка l (s[i] <-> l[i])\n",
    "# вывести строку s на экран так, чтобы каждый следующий символ был сдвинут относительно\n",
    "# предыдущего на количество символов '_', равное соответвующему целому числу из списка l\n",
    "# ЗАПРЕЩАЕТСЯ использовать циклы Python!\n",
    "\n",
    "s = 'Python'*2\n",
    "l = [3, 5, 7, 8, 7, 5, 3, 1, 0, 1, 3, 5]\n"
   ]
  },
  {
   "cell_type": "code",
   "execution_count": 91,
   "metadata": {},
   "outputs": [
    {
     "data": {
      "text/plain": [
       "'   P     y       t        h       o     n   P yt h   o     n'"
      ]
     },
     "execution_count": 91,
     "metadata": {},
     "output_type": "execute_result"
    }
   ],
   "source": [
    "''.join(list(map(lambda arg1, arg2: arg2*' ' + arg1, s, l)))\n"
   ]
  },
  {
   "cell_type": "markdown",
   "metadata": {
    "hash": "c569b9634e"
   },
   "source": [
    "### Щербаков Игорь СКБ171\n",
    "\n",
    "Оценка: 1\n",
    "\n",
    "Комментарий: -"
   ]
  },
  {
   "cell_type": "code",
   "execution_count": 92,
   "metadata": {},
   "outputs": [],
   "source": [
    "# каждому символу строки s соответствует целое число из списка l (s[i] <-> l[i])\n",
    "# вывести строку s на экран так, чтобы каждый следующий символ был сдвинут относительно\n",
    "# предыдущего на количество символов '_', равное соответвующему целому числу из списка l\n",
    "# ЗАПРЕЩАЕТСЯ использовать циклы Python!\n",
    "\n",
    "s = 'Python'*2\n",
    "l = [3, 5, 7, 8, 7, 5, 3, 1, 0, 1, 3, 5]\n"
   ]
  },
  {
   "cell_type": "code",
   "execution_count": 93,
   "metadata": {},
   "outputs": [
    {
     "name": "stdout",
     "output_type": "stream",
     "text": [
      "___P\n",
      "_____y\n",
      "_______t\n",
      "________h\n",
      "_______o\n",
      "_____n\n",
      "___P\n",
      "_y\n",
      "t\n",
      "_h\n",
      "___o\n",
      "_____n\n",
      "\n",
      "\n",
      "___P_____y_______t________h_______o_____n___P_yt_h___o_____n\n"
     ]
    }
   ],
   "source": [
    "def write_with_indent(symbol, underscores, indentsym): #Для обобщения решения\n",
    "    result = \"\"\n",
    "    result+=indentsym*underscores+symbol\n",
    "    return result\n",
    "\n",
    "a=list(map(write_with_indent,s,l,\"_\"*len(s)))\n",
    "print('\\n'.join(a))# Змейкой\n",
    "print('\\n')\n",
    "print(''.join(a))# В строку\n"
   ]
  },
  {
   "cell_type": "markdown",
   "metadata": {
    "hash": "0f0bd22442"
   },
   "source": [
    "### Шомахов Идар СКБ171\n",
    "\n",
    "Оценка: 1\n",
    "\n",
    "Комментарий: -"
   ]
  },
  {
   "cell_type": "code",
   "execution_count": 94,
   "metadata": {},
   "outputs": [],
   "source": [
    "# каждому символу строки s соответствует целое число из списка l (s[i] <-> l[i])\n",
    "# вывести строку s на экран так, чтобы каждый следующий символ был сдвинут относительно\n",
    "# предыдущего на количество символов '_', равное соответвующему целому числу из списка l\n",
    "# ЗАПРЕЩАЕТСЯ использовать циклы Python!\n",
    "\n",
    "s = 'Python'*2\n",
    "l = [3, 5, 7, 8, 7, 5, 3, 1, 0, 1, 3, 5]\n"
   ]
  },
  {
   "cell_type": "code",
   "execution_count": 95,
   "metadata": {},
   "outputs": [
    {
     "name": "stdout",
     "output_type": "stream",
     "text": [
      "___P_____y_______t________h_______o_____n___P_yt_h___o_____n\n"
     ]
    }
   ],
   "source": [
    "s = 'Python'*2\n",
    "l = [3, 5, 7, 8, 7, 5, 3, 1, 0, 1, 3, 5]\n",
    "out = ''.join(map(lambda x,y: y * '_' + x, s, l ))\n",
    "print(out)"
   ]
  },
  {
   "cell_type": "markdown",
   "metadata": {
    "hash": "c52087c4a8"
   },
   "source": [
    "### Григорьев Илья СКБ171\n",
    "\n",
    "Оценка: 1\n",
    "\n",
    "Комментарий: -"
   ]
  },
  {
   "cell_type": "code",
   "execution_count": 96,
   "metadata": {},
   "outputs": [],
   "source": [
    "# каждому символу строки s соответствует целое число из списка l (s[i] <-> l[i])\n",
    "# вывести строку s на экран так, чтобы каждый следующий символ был сдвинут относительно\n",
    "# предыдущего на количество символов '_', равное соответвующему целому числу из списка l\n",
    "# ЗАПРЕЩАЕТСЯ использовать циклы Python!\n",
    "\n",
    "s = 'Python'*2\n",
    "l = [3, 5, 7, 8, 7, 5, 3, 1, 0, 1, 3, 5]\n"
   ]
  },
  {
   "cell_type": "code",
   "execution_count": 97,
   "metadata": {},
   "outputs": [
    {
     "name": "stdout",
     "output_type": "stream",
     "text": [
      "P___y_____t_______h________o_______n_____P___y_th_o___n_____"
     ]
    }
   ],
   "source": [
    "s = 'Python'*2\n",
    "l = [3, 5, 7, 8, 7, 5, 3, 1, 0, 1, 3, 5]\n",
    "out_d = list(zip(s,l)) #пакуем в лист кортежей \n",
    "out_f = lambda x: print(x[0],x[1]*'_',sep='',end='') #выводим последовательность\n",
    "list(map(out_f,out_d));\n"
   ]
  },
  {
   "cell_type": "markdown",
   "metadata": {
    "hash": "ac62d6d9a0"
   },
   "source": [
    "### Фомин Илья СКБ171\n",
    "\n",
    "Оценка: 1\n",
    "\n",
    "Комментарий: -"
   ]
  },
  {
   "cell_type": "code",
   "execution_count": 100,
   "metadata": {},
   "outputs": [],
   "source": [
    "# каждому символу строки s соответствует целое число из списка l (s[i] <-> l[i])\n",
    "# вывести строку s на экран так, чтобы каждый следующий символ был сдвинут относительно\n",
    "# предыдущего на количество символов '_', равное соответвующему целому числу из списка l\n",
    "# ЗАПРЕЩАЕТСЯ использовать циклы Python!\n",
    "\n",
    "s = 'Python'*2\n",
    "l = [3, 5, 7, 8, 7, 5, 3, 1, 0, 1, 3, 5]\n"
   ]
  },
  {
   "cell_type": "code",
   "execution_count": 101,
   "metadata": {},
   "outputs": [
    {
     "name": "stdout",
     "output_type": "stream",
     "text": [
      "___P_____y_______t________h_______o_____n___P_yt_h___o_____n\n"
     ]
    }
   ],
   "source": [
    "string = ''.join(map(lambda x,y: y * '_' + x, s, l ))\n",
    "print(string)"
   ]
  },
  {
   "cell_type": "markdown",
   "metadata": {
    "hash": "f5c905bf90"
   },
   "source": [
    "### Синицын Константин СКБ172\n",
    "\n",
    "Оценка: 1\n",
    "\n",
    "Комментарий: -"
   ]
  },
  {
   "cell_type": "code",
   "execution_count": 104,
   "metadata": {},
   "outputs": [],
   "source": [
    "# каждому символу строки s соответствует целое число из списка l (s[i] <-> l[i])\n",
    "# вывести строку s на экран так, чтобы каждый следующий символ был сдвинут относительно\n",
    "# предыдущего на количество символов '_', равное соответвующему целому числу из списка l\n",
    "# ЗАПРЕЩАЕТСЯ использовать циклы Python!\n",
    "\n",
    "s = 'Python'*2\n",
    "l = [3, 5, 7, 8, 7, 5, 3, 1, 0, 1, 3, 5]\n"
   ]
  },
  {
   "cell_type": "code",
   "execution_count": 105,
   "metadata": {},
   "outputs": [
    {
     "name": "stdout",
     "output_type": "stream",
     "text": [
      "P___y_____t_______h________o_______n_____P___y_____t_______h________o_______n_____\n"
     ]
    }
   ],
   "source": [
    "print(''.join(list(map(lambda x: x + l[s.index(x)] * '_', s))))\n"
   ]
  },
  {
   "cell_type": "markdown",
   "metadata": {
    "hash": "f03861f4f4"
   },
   "source": [
    "### Смирнов Константин СКБ172\n",
    "\n",
    "Оценка: 1\n",
    "\n",
    "Комментарий: -"
   ]
  },
  {
   "cell_type": "code",
   "execution_count": 108,
   "metadata": {},
   "outputs": [],
   "source": [
    "# каждому символу строки s соответствует целое число из списка l (s[i] <-> l[i])\n",
    "# вывести строку s на экран так, чтобы каждый следующий символ был сдвинут относительно\n",
    "# предыдущего на количество символов '_', равное соответвующему целому числу из списка l\n",
    "# ЗАПРЕЩАЕТСЯ использовать циклы Python!\n",
    "\n",
    "s = 'Python'*2\n",
    "l = [3, 5, 7, 8, 7, 5, 3, 1, 0, 1, 3, 5]"
   ]
  },
  {
   "cell_type": "code",
   "execution_count": 109,
   "metadata": {},
   "outputs": [
    {
     "name": "stdout",
     "output_type": "stream",
     "text": [
      "P_____y_______t________h_______o_____n___P_yt_h___o_____n\n"
     ]
    }
   ],
   "source": [
    "print(''.join(map(lambda i: '_'*l[i] + s[i], range(len(s))))[l[0]:])"
   ]
  },
  {
   "cell_type": "markdown",
   "metadata": {
    "hash": "cff956a0a0"
   },
   "source": [
    "### Расторгуева Мария СКБ171\n",
    "\n",
    "Оценка: 1\n",
    "\n",
    "Комментарий: -"
   ]
  },
  {
   "cell_type": "code",
   "execution_count": 112,
   "metadata": {},
   "outputs": [],
   "source": [
    "# каждому символу строки s соответствует целое число из списка l (s[i] <-> l[i])\n",
    "# вывести строку s на экран так, чтобы каждый следующий символ был сдвинут относительно\n",
    "# предыдущего на количество символов '_', равное соответвующему целому числу из списка l\n",
    "# ЗАПРЕЩАЕТСЯ использовать циклы Python!\n",
    "\n",
    "s = 'Python'*2\n",
    "l = [3, 5, 7, 8, 7, 5, 3, 1, 0, 1, 3, 5]\n"
   ]
  },
  {
   "cell_type": "code",
   "execution_count": 113,
   "metadata": {},
   "outputs": [
    {
     "name": "stdout",
     "output_type": "stream",
     "text": [
      "P___y_____t_______h________o_______n_____P___y_th_o___n"
     ]
    }
   ],
   "source": [
    "def pl(s, l, i):\n",
    "    print (s[i], end = \"\")\n",
    "    if i!=len(s)-1 and i!=len(l)-1:\n",
    "        print(\"_\"*l[i], end=\"\")\n",
    "        pl (s, l, i+1)\n",
    "pl(s, l, 0)"
   ]
  },
  {
   "cell_type": "markdown",
   "metadata": {
    "hash": "a9a1c3af53"
   },
   "source": [
    "### Гвасалия Метью СКБ172\n",
    "\n",
    "Оценка: 1\n",
    "\n",
    "Комментарий: -"
   ]
  },
  {
   "cell_type": "code",
   "execution_count": 116,
   "metadata": {},
   "outputs": [],
   "source": [
    "# каждому символу строки s соответствует целое число из списка l (s[i] <-> l[i])\n",
    "# вывести строку s на экран так, чтобы каждый следующий символ был сдвинут относительно\n",
    "# предыдущего на количество символов '_', равное соответвующему целому числу из списка l\n",
    "# ЗАПРЕЩАЕТСЯ использовать циклы Python!\n",
    "\n",
    "s = 'Python'*2\n",
    "l = [3, 5, 7, 8, 7, 5, 3, 1, 0, 1, 3, 5]\n"
   ]
  },
  {
   "cell_type": "code",
   "execution_count": 117,
   "metadata": {},
   "outputs": [
    {
     "name": "stdout",
     "output_type": "stream",
     "text": [
      "___P_____y_______t________h_______o_____n___P_yt_h___o_____n\n"
     ]
    }
   ],
   "source": [
    "q = list(map(lambda x,y: x*'_' + y,l,s))\n",
    "print(*q,sep='')"
   ]
  },
  {
   "cell_type": "markdown",
   "metadata": {
    "hash": "f0b07e0cae"
   },
   "source": [
    "### Поддубный Михаил СКБ172\n",
    "\n",
    "Оценка: 1\n",
    "\n",
    "Комментарий: -"
   ]
  },
  {
   "cell_type": "code",
   "execution_count": 120,
   "metadata": {},
   "outputs": [],
   "source": [
    "# каждому символу строки s соответствует целое число из списка l (s[i] <-> l[i])\n",
    "# вывести строку s на экран так, чтобы каждый следующий символ был сдвинут относительно\n",
    "# предыдущего на количество символов '_', равное соответвующему целому числу из списка l\n",
    "# ЗАПРЕЩАЕТСЯ использовать циклы Python!\n",
    "\n",
    "s = 'Python'*2\n",
    "l = [3, 5, 7, 8, 7, 5, 3, 1, 0, 1, 3, 5]\n"
   ]
  },
  {
   "cell_type": "code",
   "execution_count": 121,
   "metadata": {},
   "outputs": [
    {
     "data": {
      "text/plain": [
       "'___P_____y_______t________h_______o_____n___P_yt_h___o_____n'"
      ]
     },
     "execution_count": 121,
     "metadata": {},
     "output_type": "execute_result"
    }
   ],
   "source": [
    "\n",
    "''.join(map(lambda i: '_'*l[i]+s[i], range(0,len(s))))"
   ]
  },
  {
   "cell_type": "markdown",
   "metadata": {
    "hash": "67a0375db8"
   },
   "source": [
    "### Миронов Никита СКБ171\n",
    "\n",
    "Оценка: 1\n",
    "\n",
    "Комментарий: -"
   ]
  },
  {
   "cell_type": "code",
   "execution_count": 124,
   "metadata": {},
   "outputs": [],
   "source": [
    "# каждому символу строки s соответствует целое число из списка l (s[i] <-> l[i])\n",
    "# вывести строку s на экран так, чтобы каждый следующий символ был сдвинут относительно\n",
    "# предыдущего на количество символов '_', равное соответвующему целому числу из списка l\n",
    "# ЗАПРЕЩАЕТСЯ использовать циклы Python!\n",
    "\n",
    "s = 'Python'*2\n",
    "l = [3, 5, 7, 8, 7, 5, 3, 1, 0, 1, 3, 5]\n"
   ]
  },
  {
   "cell_type": "code",
   "execution_count": 125,
   "metadata": {},
   "outputs": [
    {
     "data": {
      "text/plain": [
       "'P___y_____t_______h________o_______n_____P___y_th_o___n'"
      ]
     },
     "execution_count": 125,
     "metadata": {},
     "output_type": "execute_result"
    }
   ],
   "source": [
    "''.join(map((lambda x: x[0] + '_'*x[1]), zip(s, l)))[:-l[-1]]"
   ]
  },
  {
   "cell_type": "markdown",
   "metadata": {
    "hash": "e7b623c94a"
   },
   "source": [
    "### Шубин Никита СКБ172\n",
    "\n",
    "Оценка: 1\n",
    "\n",
    "Комментарий: -"
   ]
  },
  {
   "cell_type": "code",
   "execution_count": 128,
   "metadata": {},
   "outputs": [],
   "source": [
    "# каждому символу строки s соответствует целое число из списка l (s[i] <-> l[i])\n",
    "# вывести строку s на экран так, чтобы каждый следующий символ был сдвинут относительно\n",
    "# предыдущего на количество символов '_', равное соответвующему целому числу из списка l\n",
    "# ЗАПРЕЩАЕТСЯ использовать циклы Python!\n",
    "\n",
    "s = 'Python'*2\n",
    "l = [3, 5, 7, 8, 7, 5, 3, 1, 0, 1, 3, 5]\n"
   ]
  },
  {
   "cell_type": "code",
   "execution_count": 129,
   "metadata": {},
   "outputs": [
    {
     "data": {
      "text/plain": [
       "'P___y_____t_______h________o_______n_____P___y_th_o___n_____'"
      ]
     },
     "execution_count": 129,
     "metadata": {},
     "output_type": "execute_result"
    }
   ],
   "source": [
    "s = 'Python'*2\n",
    "l = [3, 5, 7, 8, 7, 5, 3, 1, 0, 1, 3, 5]\n",
    "\n",
    "sl = list(map(lambda x, y : s[x] + \"_\" * y, range(len(s)), l))\n",
    "\"\".join(sl)"
   ]
  },
  {
   "cell_type": "markdown",
   "metadata": {
    "hash": "870303ea1f"
   },
   "source": [
    "### Щеглова Полина СКБ172\n",
    "\n",
    "Оценка: 1\n",
    "\n",
    "Комментарий: -"
   ]
  },
  {
   "cell_type": "code",
   "execution_count": 132,
   "metadata": {},
   "outputs": [],
   "source": [
    "# каждому символу строки s соответствует целое число из списка l (s[i] <-> l[i])\n",
    "# вывести строку s на экран так, чтобы каждый следующий символ был сдвинут относительно\n",
    "# предыдущего на количество символов '_', равное соответвующему целому числу из списка l\n",
    "# ЗАПРЕЩАЕТСЯ использовать циклы Python!\n",
    "\n",
    "s = 'Python'*2\n",
    "l = [3, 5, 7, 8, 7, 5, 3, 1, 0, 1, 3, 5]\n"
   ]
  },
  {
   "cell_type": "code",
   "execution_count": 133,
   "metadata": {},
   "outputs": [
    {
     "name": "stdout",
     "output_type": "stream",
     "text": [
      "___P_____y_______t________h_______o_____n___P_yt_h___o_____n\n"
     ]
    }
   ],
   "source": [
    "import numpy as np\n",
    "from functools import reduce\n",
    "sep_s = (reduce(lambda s, r: s.replace(r, r+' '), s, s)).split()\n",
    "def str_converter(num):\n",
    "    return '_'*num\n",
    "new_string = [0]*(len(s)+len(l))\n",
    "new_string[1::2] = sep_s\n",
    "new_string[::2] = map(str_converter, l)\n",
    "print(''.join(new_string))"
   ]
  },
  {
   "cell_type": "markdown",
   "metadata": {
    "hash": "d59980a676"
   },
   "source": [
    "### Мухамадиева Регина СКБ172\n",
    "\n",
    "Оценка: 1\n",
    "\n",
    "Комментарий: -"
   ]
  },
  {
   "cell_type": "code",
   "execution_count": 134,
   "metadata": {},
   "outputs": [],
   "source": [
    "# каждому символу строки s соответствует целое число из списка l (s[i] <-> l[i])\n",
    "# вывести строку s на экран так, чтобы каждый следующий символ был сдвинут относительно\n",
    "# предыдущего на количество символов '_', равное соответвующему целому числу из списка l\n",
    "# ЗАПРЕЩАЕТСЯ использовать циклы Python!\n",
    "\n",
    "s = 'Python'*2\n",
    "l = [3, 5, 7, 8, 7, 5, 3, 1, 0, 1, 3, 5]\n"
   ]
  },
  {
   "cell_type": "code",
   "execution_count": 135,
   "metadata": {},
   "outputs": [
    {
     "name": "stdout",
     "output_type": "stream",
     "text": [
      "P___y_____t_______h________o_______n_____P___y_th_o___n_____\n"
     ]
    }
   ],
   "source": [
    "s = 'Python'*2\n",
    "l = [3, 5, 7, 8, 7, 5, 3, 1, 0, 1, 3, 5]\n",
    "lst=list()\n",
    "lst+=s\n",
    "def f(first, second):\n",
    "    return first+(second)*\"_\"\n",
    "t=map(f,s,l)\n",
    "result=\"\".join(t)\n",
    "print(result)"
   ]
  },
  {
   "cell_type": "markdown",
   "metadata": {
    "hash": "4894f58fef"
   },
   "source": [
    "### Астраханцев Роман СКБ171\n",
    "\n",
    "Оценка: 1\n",
    "\n",
    "Комментарий: -"
   ]
  },
  {
   "cell_type": "code",
   "execution_count": 138,
   "metadata": {},
   "outputs": [],
   "source": [
    "# каждому символу строки s соответствует целое число из списка l (s[i] <-> l[i])\n",
    "# вывести строку s на экран так, чтобы каждый следующий символ был сдвинут относительно\n",
    "# предыдущего на количество символов '_', равное соответвующему целому числу из списка l\n",
    "# ЗАПРЕЩАЕТСЯ использовать циклы Python!\n",
    "\n",
    "s = 'Python'*2\n",
    "l = [3, 5, 7, 8, 7, 5, 3, 1, 0, 1, 3, 5]"
   ]
  },
  {
   "cell_type": "code",
   "execution_count": 139,
   "metadata": {},
   "outputs": [
    {
     "name": "stdout",
     "output_type": "stream",
     "text": [
      "P___y_____t_______h________o_______n_____P___y_th_o___n_____\n"
     ]
    }
   ],
   "source": [
    "from functools import reduce\n",
    "print(reduce(lambda a,x:a+x[0]+x[1]*'_', zip(s,l), \"\"))"
   ]
  },
  {
   "cell_type": "markdown",
   "metadata": {
    "hash": "15f4b78d5f"
   },
   "source": [
    "### Бесчастных Роман СКБ171\n",
    "\n",
    "Оценка: 0.8\n",
    "\n",
    "Комментарий: Delimiter != '_'"
   ]
  },
  {
   "cell_type": "code",
   "execution_count": 142,
   "metadata": {},
   "outputs": [],
   "source": [
    "# каждому символу строки s соответствует целое число из списка l (s[i] <-> l[i])\n",
    "# вывести строку s на экран так, чтобы каждый следующий символ был сдвинут относительно\n",
    "# предыдущего на количество символов '_', равное соответвующему целому числу из списка l\n",
    "# ЗАПРЕЩАЕТСЯ использовать циклы Python!\n",
    "\n",
    "s = 'Python'*2\n",
    "l = [3, 5, 7, 8, 7, 5, 3, 1, 0, 1, 3, 5]\n"
   ]
  },
  {
   "cell_type": "code",
   "execution_count": 143,
   "metadata": {},
   "outputs": [
    {
     "name": "stdout",
     "output_type": "stream",
     "text": [
      "P   y     t       h        o       n     P   y th o   n     \n"
     ]
    }
   ],
   "source": [
    "print(''.join(map(lambda first, second: first + ' ' * second, s, l)))"
   ]
  },
  {
   "cell_type": "markdown",
   "metadata": {
    "hash": "e3e8ebb08e"
   },
   "source": [
    "### Музаффаров Руфат СКБ171\n",
    "\n",
    "Оценка: 1\n",
    "\n",
    "Комментарий: -"
   ]
  },
  {
   "cell_type": "code",
   "execution_count": 146,
   "metadata": {},
   "outputs": [],
   "source": [
    "# каждому символу строки s соответствует целое число из списка l (s[i] <-> l[i])\n",
    "# вывести строку s на экран так, чтобы каждый следующий символ был сдвинут относительно\n",
    "# предыдущего на количество символов '_', равное соответвующему целому числу из списка l\n",
    "# ЗАПРЕЩАЕТСЯ использовать циклы Python!\n",
    "\n",
    "s = 'Python'*2\n",
    "l = [3, 5, 7, 8, 7, 5, 3, 1, 0, 1, 3, 5]\n"
   ]
  },
  {
   "cell_type": "code",
   "execution_count": 147,
   "metadata": {},
   "outputs": [
    {
     "name": "stdout",
     "output_type": "stream",
     "text": [
      "___P_____y_______t________h_______o_____n___P_yt_h___o_____n\n"
     ]
    }
   ],
   "source": [
    "s = 'Python'*2\n",
    "l = [3, 5, 7, 8, 7, 5, 3, 1, 0, 1, 3, 5]\n",
    "lst = list(map(lambda x, y: x * '_' + y, l, s))\n",
    "\n",
    "s_2 = ''.join(lst)\n",
    "print(s_2)"
   ]
  },
  {
   "cell_type": "markdown",
   "metadata": {
    "hash": "fbb3eb5f04"
   },
   "source": [
    "### Гаварина Светлана СКБ171\n",
    "\n",
    "Оценка: 1\n",
    "\n",
    "Комментарий: -"
   ]
  },
  {
   "cell_type": "code",
   "execution_count": 150,
   "metadata": {},
   "outputs": [],
   "source": [
    "# каждому символу строки s соответствует целое число из списка l (s[i] <-> l[i])\n",
    "# вывести строку s на экран так, чтобы каждый следующий символ был сдвинут относительно\n",
    "# предыдущего на количество символов '_', равное соответвующему целому числу из списка l\n",
    "# ЗАПРЕЩАЕТСЯ использовать циклы Python!\n",
    "\n",
    "s = 'Python'*2\n",
    "l = [3, 5, 7, 8, 7, 5, 3, 1, 0, 1, 3, 5]\n"
   ]
  },
  {
   "cell_type": "code",
   "execution_count": 151,
   "metadata": {},
   "outputs": [
    {
     "name": "stdout",
     "output_type": "stream",
     "text": [
      "___P_____y_______t________h_______o_____n___P_yt_h___o_____n\n"
     ]
    }
   ],
   "source": [
    "def myZip(s, l):\n",
    "    s = list(s)\n",
    "    z = zip(s, list(map(lambda x: x * '_', l)))  # соединить s[i] с символами '_' поколичеству в l[i]\n",
    "    z = map(lambda x: ''.join([x[1], x[0]]), z)  # соединить получившиеся tuple\n",
    "    print(*z, sep='')\n",
    "\n",
    "myZip(s, l)"
   ]
  },
  {
   "cell_type": "markdown",
   "metadata": {
    "hash": "d4b4a0c75f"
   },
   "source": [
    "### Дундуков Семен СКБ171\n",
    "\n",
    "Оценка: 1\n",
    "\n",
    "Комментарий: -"
   ]
  },
  {
   "cell_type": "code",
   "execution_count": 154,
   "metadata": {},
   "outputs": [],
   "source": [
    "# каждому символу строки s соответствует целое число из списка l (s[i] <-> l[i])\n",
    "# вывести строку s на экран так, чтобы каждый следующий символ был сдвинут относительно\n",
    "# предыдущего на количество символов '_', равное соответвующему целому числу из списка l\n",
    "# ЗАПРЕЩАЕТСЯ использовать циклы Python!\n",
    "\n",
    "s = 'Python'*2\n",
    "l = [3, 5, 7, 8, 7, 5, 3, 1, 0, 1, 3, 5]\n"
   ]
  },
  {
   "cell_type": "code",
   "execution_count": 155,
   "metadata": {},
   "outputs": [
    {
     "name": "stdout",
     "output_type": "stream",
     "text": [
      "P___y_____t_______h________o_______n_____P___y_th_o___n_____\n"
     ]
    }
   ],
   "source": [
    "s = 'Python'*2\n",
    "l = [3, 5, 7, 8, 7, 5, 3, 1, 0, 1, 3, 5]\n",
    "print(\"\".join(list(map(lambda x, y: (x + '_'*y),s,l))))"
   ]
  },
  {
   "cell_type": "markdown",
   "metadata": {
    "hash": "2399d34da2"
   },
   "source": [
    "### Бень Таисия СКБ171\n",
    "\n",
    "Оценка: 1\n",
    "\n",
    "Комментарий: -"
   ]
  },
  {
   "cell_type": "code",
   "execution_count": 158,
   "metadata": {},
   "outputs": [],
   "source": [
    "# каждому символу строки s соответствует целое число из списка l (s[i] <-> l[i])\n",
    "# вывести строку s на экран так, чтобы каждый следующий символ был сдвинут относительно\n",
    "# предыдущего на количество символов '_', равное соответвующему целому числу из списка l\n",
    "# ЗАПРЕЩАЕТСЯ использовать циклы Python!\n",
    "\n",
    "s = 'Python'*2\n",
    "l = [3, 5, 7, 8, 7, 5, 3, 1, 0, 1, 3, 5]\n"
   ]
  },
  {
   "cell_type": "code",
   "execution_count": 159,
   "metadata": {},
   "outputs": [
    {
     "data": {
      "text/plain": [
       "'___P_____y_______t________h_______o_____n___P_yt_h___o_____n'"
      ]
     },
     "execution_count": 159,
     "metadata": {},
     "output_type": "execute_result"
    }
   ],
   "source": [
    "def shift(tup):\n",
    "    letter, number = tup\n",
    "    return number * '_' + letter\n",
    "spisok = list(map(shift ,list(zip(s,l))))\n",
    "''.join(spisok)"
   ]
  },
  {
   "cell_type": "markdown",
   "metadata": {
    "hash": "cbdb3b9c23"
   },
   "source": [
    "### Козликина Татьяна СКБ172\n",
    "\n",
    "Оценка: 1\n",
    "\n",
    "Комментарий: -"
   ]
  },
  {
   "cell_type": "code",
   "execution_count": 162,
   "metadata": {},
   "outputs": [],
   "source": [
    "# каждому символу строки s соответствует целое число из списка l (s[i] <-> l[i])\n",
    "# вывести строку s на экран так, чтобы каждый следующий символ был сдвинут относительно\n",
    "# предыдущего на количество символов '_', равное соответвующему целому числу из списка l\n",
    "# ЗАПРЕЩАЕТСЯ использовать циклы Python!\n",
    "\n",
    "s = 'Python'*2\n",
    "l = [3, 5, 7, 8, 7, 5, 3, 1, 0, 1, 3, 5]"
   ]
  },
  {
   "cell_type": "code",
   "execution_count": 163,
   "metadata": {},
   "outputs": [
    {
     "name": "stdout",
     "output_type": "stream",
     "text": [
      "P___y_____t_______h________o_______n_____P___y_th_o___n_____\n"
     ]
    }
   ],
   "source": [
    "nlist = list(map(lambda x, y: x+'_'*y, s, l))\n",
    "\n",
    "print(*nlist, sep='')"
   ]
  },
  {
   "cell_type": "markdown",
   "metadata": {
    "hash": "c569889d42"
   },
   "source": [
    "### Апресян Тигран СКБ171\n",
    "\n",
    "Оценка: 1\n",
    "\n",
    "Комментарий: -"
   ]
  },
  {
   "cell_type": "code",
   "execution_count": 166,
   "metadata": {},
   "outputs": [],
   "source": [
    "# каждому символу строки s соответствует целое число из списка l (s[i] <-> l[i])\n",
    "# вывести строку s на экран так, чтобы каждый следующий символ был сдвинут относительно\n",
    "# предыдущего на количество символов '_', равное соответвующему целому числу из списка l\n",
    "# ЗАПРЕЩАЕТСЯ использовать циклы Python!\n",
    "\n",
    "s = 'Python'*2\n",
    "l = [3, 5, 7, 8, 7, 5, 3, 1, 0, 1, 3, 5]\n"
   ]
  },
  {
   "cell_type": "code",
   "execution_count": 167,
   "metadata": {},
   "outputs": [
    {
     "name": "stdout",
     "output_type": "stream",
     "text": [
      "___P_____y_______t________h_______o_____n___P_yt_h___o_____n\n"
     ]
    }
   ],
   "source": [
    "print(''.join(list(map(lambda a,b:'_'*a+b,l,s))))"
   ]
  },
  {
   "cell_type": "markdown",
   "metadata": {
    "hash": "085aa1874a"
   },
   "source": [
    "### Долотов Фёдор СКБ172\n",
    "\n",
    "Оценка: 0.2\n",
    "\n",
    "Комментарий: Output != string"
   ]
  },
  {
   "cell_type": "code",
   "execution_count": 168,
   "metadata": {},
   "outputs": [],
   "source": [
    "# каждому символу строки s соответствует целое число из списка l (s[i] <-> l[i])\n",
    "# вывести строку s на экран так, чтобы каждый следующий символ был сдвинут относительно\n",
    "# предыдущего на количество символов '_', равное соответвующему целому числу из списка l\n",
    "# ЗАПРЕЩАЕТСЯ использовать циклы Python!\n",
    "\n",
    "s = 'Python'*2\n",
    "l = [3, 5, 7, 8, 7, 5, 3, 1, 0, 1, 3, 5]\n"
   ]
  },
  {
   "cell_type": "code",
   "execution_count": 169,
   "metadata": {},
   "outputs": [
    {
     "name": "stdout",
     "output_type": "stream",
     "text": [
      "['P___', 'y_____', 't_______', 'h________', 'o_______', 'n_____', 'P___', 'y_', 't', 'h_', 'o___', 'n_____']\n"
     ]
    }
   ],
   "source": [
    "s = 'Python'*2\n",
    "l = [3, 5, 7, 8, 7, 5, 3, 1, 0, 1, 3, 5]\n",
    "i = 0\n",
    "g = list(map(lambda i: s[i]+'_'*l[i], range(len(s))))\n",
    "print(g)"
   ]
  },
  {
   "cell_type": "markdown",
   "metadata": {
    "hash": "6463c3fd36"
   },
   "source": [
    "### Попов Юрий СКБ172\n",
    "\n",
    "Оценка: 1\n",
    "\n",
    "Комментарий: -"
   ]
  },
  {
   "cell_type": "code",
   "execution_count": 170,
   "metadata": {},
   "outputs": [],
   "source": [
    "# каждому символу строки s соответствует целое число из списка l (s[i] <-> l[i])\n",
    "# вывести строку s на экран так, чтобы каждый следующий символ был сдвинут относительно\n",
    "# предыдущего на количество символов '_', равное соответвующему целому числу из списка l\n",
    "# ЗАПРЕЩАЕТСЯ использовать циклы Python!\n",
    "\n",
    "s = 'Python'*2\n",
    "l = [3, 5, 7, 8, 7, 5, 3, 1, 0, 1, 3, 5]\n"
   ]
  },
  {
   "cell_type": "code",
   "execution_count": 171,
   "metadata": {},
   "outputs": [
    {
     "name": "stdout",
     "output_type": "stream",
     "text": [
      "___P_____y_______t________h_______o_____n___P_yt_h___o_____n\n"
     ]
    }
   ],
   "source": [
    "# Задание_0\n",
    "s = 'Python'*2\n",
    "l = [3, 5, 7, 8, 7, 5, 3, 1, 0, 1, 3, 5]\n",
    "\n",
    "\n",
    "def func(s, l):\n",
    "    a = '_'\n",
    "    new_list = list(map(lambda x,y: y * a + x, s, l))\n",
    "    print (*new_list,sep='')\n",
    "\n",
    "\n",
    "func(s, l)"
   ]
  },
  {
   "cell_type": "code",
   "execution_count": null,
   "metadata": {},
   "outputs": [],
   "source": []
  }
 ],
 "metadata": {
  "kernelspec": {
   "display_name": "Python 3",
   "language": "python",
   "name": "python3"
  },
  "language_info": {
   "codemirror_mode": {
    "name": "ipython",
    "version": 3
   },
   "file_extension": ".py",
   "mimetype": "text/x-python",
   "name": "python",
   "nbconvert_exporter": "python",
   "pygments_lexer": "ipython3",
   "version": "3.7.3"
  },
  "task": 0
 },
 "nbformat": 4,
 "nbformat_minor": 2
}
