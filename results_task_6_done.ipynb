{
 "cells": [
  {
   "cell_type": "markdown",
   "metadata": {
    "task": 6
   },
   "source": [
    "-----\n",
    "#### Задание 6"
   ]
  },
  {
   "cell_type": "markdown",
   "metadata": {
    "hash": "8699e3d854"
   },
   "source": [
    "### Федоров Сергей СКБ172\n",
    "\n",
    "Оценка: 1\n",
    "\n",
    "Комментарий: -"
   ]
  },
  {
   "cell_type": "code",
   "execution_count": 0,
   "metadata": {
    "colab": {},
    "colab_type": "code",
    "id": "5N7SVt6g-7Hg"
   },
   "outputs": [],
   "source": [
    "# сгенерировать список любой заданной длины по следующему правилу: i-й элемент списка = НОК(i,8), где НОК(x,y) - наименьшее общее кратное чисел x и y\n"
   ]
  },
  {
   "cell_type": "code",
   "execution_count": 1,
   "metadata": {
    "colab": {
     "base_uri": "https://localhost:8080/"
    },
    "colab_type": "code",
    "id": "1yymu12j-7Hj",
    "outputId": "81c0bcf1-1836-4eba-f331-6d8465f8df94"
   },
   "outputs": [
    {
     "name": "stdout",
     "output_type": "stream",
     "text": [
      "N=21\n",
      "[8, 8, 24, 8, 40, 24, 56, 8, 72, 40, 88, 24, 104, 56, 120, 16, 136, 72, 152, 40, 168]\n"
     ]
    }
   ],
   "source": [
    "def nok(a,b):\n",
    "    m = a*b\n",
    "    while a != 0 and b != 0:\n",
    "        if a > b:\n",
    "            a %= b\n",
    "        else:\n",
    "            b %= a\n",
    "    return m // (a+b)\n",
    "\n",
    "# ВВедите длину N\n",
    "\n",
    "\n",
    "N = int(input(\"N=\"))\n",
    "ls = []\n",
    "for i in range(1,N+1):\n",
    "  ls.append(nok(i,8))\n",
    "\n",
    "print(ls)"
   ]
  },
  {
   "cell_type": "markdown",
   "metadata": {
    "hash": "61933bd99d"
   },
   "source": [
    "### Алексеев Кирилл СКБ172\n",
    "\n",
    "Оценка: 0.9\n",
    "\n",
    "Комментарий: 0 is wrong element."
   ]
  },
  {
   "cell_type": "code",
   "execution_count": 2,
   "metadata": {},
   "outputs": [],
   "source": [
    "# сгенерировать список любой заданной длины по следующему правилу: i-й элемент списка = НОК(i,8), где НОК(x,y) - наименьшее общее кратное чисел x и y\n"
   ]
  },
  {
   "cell_type": "code",
   "execution_count": 3,
   "metadata": {},
   "outputs": [
    {
     "name": "stdout",
     "output_type": "stream",
     "text": [
      "21\n",
      "[0, 8, 8, 24, 8, 40, 24, 56, 8, 72, 40, 88, 24, 104, 56, 120, 16, 136, 72, 152, 40]\n"
     ]
    }
   ],
   "source": [
    "def NOD(a, b):\n",
    "    if a == 0:\n",
    "        return b\n",
    "    elif b == 0:\n",
    "        return a\n",
    "    elif a == b:\n",
    "        return a\n",
    "    elif (a == 1) or (b == 1):\n",
    "        return 1\n",
    "    elif ((a % 2) == 0) and ((b % 2) == 0):\n",
    "        return 2 * NOD(a / 2, b / 2)\n",
    "    elif ((a % 2) == 0) and ((b % 2) != 0):\n",
    "        return NOD(a / 2, b)\n",
    "    elif((a % 2) != 0) and ((b % 2) == 0):\n",
    "        return NOD(a, b / 2)\n",
    "    elif((a % 2) != 0) and ((b % 2) != 0):\n",
    "        if a > b:\n",
    "            return NOD((a - b) / 2, b)\n",
    "        else: \n",
    "            return NOD((b - a) / 2, a)\n",
    "\n",
    "def NOK(a, b):\n",
    "    return int((a * b) / NOD(a, b))\n",
    "\n",
    "a = int(input())\n",
    "i = 0\n",
    "list = []\n",
    "while i < a:\n",
    "    list.append(NOK(i, 8))\n",
    "    i = i + 1\n",
    "print(list)"
   ]
  },
  {
   "cell_type": "markdown",
   "metadata": {
    "hash": "45b9ceed78"
   },
   "source": [
    "### Анчугов Роман СКБ171\n",
    "\n",
    "Оценка: 0\n",
    "\n",
    "Комментарий: Numpy was not expected here. Length definition is not trivial."
   ]
  },
  {
   "cell_type": "code",
   "execution_count": 13,
   "metadata": {},
   "outputs": [],
   "source": [
    "# сгенерировать список любой заданной длины по следующему правилу: i-й элемент списка = НОК(i,8), где НОК(x,y) - наименьшее общее кратное чисел x и y\n"
   ]
  },
  {
   "cell_type": "code",
   "execution_count": 8,
   "metadata": {},
   "outputs": [
    {
     "name": "stdout",
     "output_type": "stream",
     "text": [
      "[8, 8, 24, 8, 40, 24, 56, 8, 72, 40, 88, 24, 104, 56, 120, 16, 136, 72, 152, 40, 168]\n"
     ]
    }
   ],
   "source": [
    "import numpy as np\n",
    "\n",
    "print([np.lcm(x,8) for x in range(1, 22)])"
   ]
  },
  {
   "cell_type": "markdown",
   "metadata": {
    "hash": "8be119c53a"
   },
   "source": [
    "### Акинина Алёна СКБ172\n",
    "\n",
    "Оценка: 1\n",
    "\n",
    "Комментарий: -"
   ]
  },
  {
   "cell_type": "code",
   "execution_count": 5,
   "metadata": {},
   "outputs": [],
   "source": [
    "# сгенерировать список любой заданной длины по следующему правилу: i-й элемент списка = НОК(i,8), где НОК(x,y) - наименьшее общее кратное чисел x и y\n"
   ]
  },
  {
   "cell_type": "code",
   "execution_count": 7,
   "metadata": {
    "scrolled": true
   },
   "outputs": [
    {
     "name": "stdout",
     "output_type": "stream",
     "text": [
      "21\n",
      "[8, 8, 24, 8, 40, 24, 56, 8, 72, 40, 88, 24, 104, 56, 120, 16, 136, 72, 152, 40, 168]\n"
     ]
    },
    {
     "data": {
      "text/plain": [
       "(None, 21)"
      ]
     },
     "execution_count": 7,
     "metadata": {},
     "output_type": "execute_result"
    }
   ],
   "source": [
    "a = []\n",
    "def NOK(i):\n",
    "    k = min(i, 8)\n",
    "    while True:\n",
    "        if k%i == 0 and k%8 == 0:\n",
    "            break\n",
    "        k += 1\n",
    "    a.append(k)\n",
    "n = int(input())\n",
    "for i in range(1,n+1):\n",
    "    NOK(i)\n",
    "print(a) , len(a)   "
   ]
  },
  {
   "cell_type": "markdown",
   "metadata": {
    "hash": "f5676d34de"
   },
   "source": [
    "### Лисьев Александр СКБ171\n",
    "\n",
    "Оценка: 0.9\n",
    "\n",
    "Комментарий: 0 is wrong element."
   ]
  },
  {
   "cell_type": "code",
   "execution_count": 45,
   "metadata": {},
   "outputs": [],
   "source": [
    "# сгенерировать список любой заданной длины по следующему правилу: i-й элемент списка = НОК(i,8), где НОК(x,y) - наименьшее общее кратное чисел x и y\n"
   ]
  },
  {
   "cell_type": "code",
   "execution_count": 10,
   "metadata": {},
   "outputs": [
    {
     "name": "stdout",
     "output_type": "stream",
     "text": [
      "[0, 8, 8, 24, 8, 40, 24, 56, 8, 72, 40, 88, 24, 104, 56, 120, 16, 136, 72, 152, 40]\n"
     ]
    }
   ],
   "source": [
    "def make_list6(n):\n",
    "    l = []\n",
    "    for i in range(n):\n",
    "        if i % 2 == 1:\n",
    "            l.append(i * 8)\n",
    "        else:\n",
    "            for d in [8, 4, 2]:\n",
    "                if i % d == 0:\n",
    "                    l.append(i * 8 // d)\n",
    "                    break\n",
    "    return l\n",
    "\n",
    "print(make_list6(21))"
   ]
  },
  {
   "cell_type": "markdown",
   "metadata": {
    "hash": "987c011ca1"
   },
   "source": [
    "### Чердак Александр СКБ171\n",
    "\n",
    "Оценка: 0\n",
    "\n",
    "Комментарий: Wrong result."
   ]
  },
  {
   "cell_type": "code",
   "execution_count": 1,
   "metadata": {},
   "outputs": [],
   "source": [
    "# сгенерировать список любой заданной длины по следующему правилу: i-й элемент списка = НОК(i,8), где НОК(x,y) - наименьшее общее кратное чисел x и y\n"
   ]
  },
  {
   "cell_type": "code",
   "execution_count": 2,
   "metadata": {},
   "outputs": [
    {
     "name": "stdout",
     "output_type": "stream",
     "text": [
      "21\n",
      "[8.0, 8.0, 24.0, 8.0, 40.0, 8.0, 56.0, 8.0, 72.0, 8.0, 88.0, 8.0, 104.0, 8.0, 120.0, 8.0, 136.0, 8.0, 152.0, 8.0, 168.0]\n"
     ]
    }
   ],
   "source": [
    "def to_4to_nado(chislo1, chislo2):\n",
    "    if chislo1 == 0 or chislo2 == 0:\n",
    "        return 0\n",
    "    return (chislo1 * chislo2) / naibolshyi_obshiy_delitelb(chislo1, chislo2)\n",
    "\n",
    "# Sorry for mai inglish skilz\n",
    "def naibolshyi_obshiy_delitelb(chislo1, chislo2):\n",
    "    delitelb = [1] #Пока что 1\n",
    "    inc = 2\n",
    "    while inc <= min(chislo1, chislo2):\n",
    "        if chislo1 % inc == 0 and chislo2 % inc == 0:\n",
    "            delitelb.append(i)\n",
    "        inc = inc + 1\n",
    "    return delitelb[-1] #Берём последний элемент\n",
    "\n",
    "\n",
    "n = int(input())\n",
    "chto_to_tam_sprava = 8\n",
    "NOK = list()\n",
    "\n",
    "for i in range(1, n + 1):\n",
    "    NOK.append(to_4to_nado(i, chto_to_tam_sprava))\n",
    "\n",
    "print(NOK)"
   ]
  },
  {
   "cell_type": "markdown",
   "metadata": {
    "hash": "edfab041c6"
   },
   "source": [
    "### Шелепова Алена СКБ172\n",
    "\n",
    "Оценка: 1\n",
    "\n",
    "Комментарий: -"
   ]
  },
  {
   "cell_type": "code",
   "execution_count": 3,
   "metadata": {},
   "outputs": [],
   "source": [
    "# сгенерировать список любой заданной длины по следующему правилу: i-й элемент списка = НОК(i,8), где НОК(x,y) - наименьшее общее кратное чисел x и y\n"
   ]
  },
  {
   "cell_type": "code",
   "execution_count": 5,
   "metadata": {},
   "outputs": [
    {
     "data": {
      "text/plain": [
       "['not defined for 0',\n",
       " 8,\n",
       " 8,\n",
       " 24,\n",
       " 8,\n",
       " 40,\n",
       " 24,\n",
       " 56,\n",
       " 8,\n",
       " 72,\n",
       " 40,\n",
       " 88,\n",
       " 24,\n",
       " 104,\n",
       " 56,\n",
       " 120,\n",
       " 16,\n",
       " 136,\n",
       " 72,\n",
       " 152,\n",
       " 40]"
      ]
     },
     "execution_count": 5,
     "metadata": {},
     "output_type": "execute_result"
    }
   ],
   "source": [
    "def nok(n,m):\n",
    "    p = n*m\n",
    "    while n != 0 and m != 0:\n",
    "        if n > m:\n",
    "            n %= m\n",
    "        else:\n",
    "            m %= n\n",
    "    return p//(m+n)\n",
    "\n",
    "def generate_list_nok(n):\n",
    "    l = ['not defined for 0']\n",
    "    for i in range(1,n):\n",
    "        l.append(nok(i,8))\n",
    "    return l\n",
    "\n",
    "generate_list_nok(21)"
   ]
  },
  {
   "cell_type": "markdown",
   "metadata": {
    "hash": "e7846edd2c"
   },
   "source": [
    "### Шнейдер Алиса СКБ172\n",
    "\n",
    "Оценка: 0.9\n",
    "\n",
    "Комментарий: 0 is wrong element."
   ]
  },
  {
   "cell_type": "code",
   "execution_count": 117,
   "metadata": {},
   "outputs": [],
   "source": [
    "# сгенерировать список любой заданной длины по следующему правилу: i-й элемент списка = НОК(i,8), где НОК(x,y) - наименьшее общее кратное чисел x и y\n"
   ]
  },
  {
   "cell_type": "code",
   "execution_count": 7,
   "metadata": {},
   "outputs": [
    {
     "data": {
      "text/plain": [
       "[0,\n",
       " 8,\n",
       " 8,\n",
       " 24,\n",
       " 8,\n",
       " 40,\n",
       " 24,\n",
       " 56,\n",
       " 8,\n",
       " 72,\n",
       " 40,\n",
       " 88,\n",
       " 24,\n",
       " 104,\n",
       " 56,\n",
       " 120,\n",
       " 16,\n",
       " 136,\n",
       " 72,\n",
       " 152,\n",
       " 40]"
      ]
     },
     "execution_count": 7,
     "metadata": {},
     "output_type": "execute_result"
    }
   ],
   "source": [
    "def lcm(a,b):\n",
    "    m = a * b\n",
    "    while a != 0 and b != 0:\n",
    "        if a > b:\n",
    "            a %= b\n",
    "        else:\n",
    "            b %= a\n",
    "    return m // (a + b)\n",
    "\n",
    "\n",
    "[lcm(i, 8) for i in range(21)]"
   ]
  },
  {
   "cell_type": "markdown",
   "metadata": {
    "hash": "680f312dec"
   },
   "source": [
    "### Зайцева Анастасия СКБ171\n",
    "\n",
    "Оценка: 0.9\n",
    "\n",
    "Комментарий: Zero is wrong element."
   ]
  },
  {
   "cell_type": "code",
   "execution_count": null,
   "metadata": {},
   "outputs": [],
   "source": [
    "# сгенерировать список любой заданной длины по следующему правилу: i-й элемент списка = НОК(i,8), где НОК(x,y) - наименьшее общее кратное чисел x и y\n"
   ]
  },
  {
   "cell_type": "code",
   "execution_count": 8,
   "metadata": {},
   "outputs": [
    {
     "name": "stdout",
     "output_type": "stream",
     "text": [
      "21\n",
      "0 8 8 24 8 40 24 56 8 72 40 88 24 104 56 120 16 136 72 152 40\n"
     ]
    }
   ],
   "source": [
    "n = int(input())\n",
    "nok = []\n",
    "for i in range(n):\n",
    "    b = 8\n",
    "    m = i*b\n",
    "    while i != 0 and b != 0:\n",
    "        if i > b:\n",
    "            i%= b\n",
    "        else:\n",
    "            b%= i\n",
    "    nok+= [m//(i+b)]\n",
    "print(*nok)"
   ]
  },
  {
   "cell_type": "markdown",
   "metadata": {
    "hash": "fd1904cd9b"
   },
   "source": [
    "### Полуяктов Анатолий СКБ171\n",
    "\n",
    "Оценка: 0.5\n",
    "\n",
    "Комментарий: Numpy was not expected here."
   ]
  },
  {
   "cell_type": "code",
   "execution_count": null,
   "metadata": {},
   "outputs": [],
   "source": [
    "# сгенерировать список любой заданной длины по следующему правилу: i-й элемент списка = НОК(i,8), где НОК(x,y) - наименьшее общее кратное чисел x и y\n"
   ]
  },
  {
   "cell_type": "code",
   "execution_count": 10,
   "metadata": {},
   "outputs": [
    {
     "name": "stdout",
     "output_type": "stream",
     "text": [
      "21\n"
     ]
    },
    {
     "data": {
      "text/plain": [
       "([8,\n",
       "  8,\n",
       "  24,\n",
       "  8,\n",
       "  40,\n",
       "  24,\n",
       "  56,\n",
       "  8,\n",
       "  72,\n",
       "  40,\n",
       "  88,\n",
       "  24,\n",
       "  104,\n",
       "  56,\n",
       "  120,\n",
       "  16,\n",
       "  136,\n",
       "  72,\n",
       "  152,\n",
       "  40,\n",
       "  168],\n",
       " 21)"
      ]
     },
     "execution_count": 10,
     "metadata": {},
     "output_type": "execute_result"
    }
   ],
   "source": [
    "import numpy as np\n",
    "#np.lcm(10, 8)\n",
    "n = int(input())\n",
    "l=[np.lcm(i,8) for i in range(1,n+1)]\n",
    "l, len(l)"
   ]
  },
  {
   "cell_type": "markdown",
   "metadata": {
    "hash": "da15d1aae0"
   },
   "source": [
    "### Фомин Андрей СКБ172\n",
    "\n",
    "Оценка: 0.4\n",
    "\n",
    "Комментарий: List length isn't determined. Zero is wrong element."
   ]
  },
  {
   "cell_type": "code",
   "execution_count": 11,
   "metadata": {},
   "outputs": [],
   "source": [
    "# сгенерировать список любой заданной длины по следующему правилу: i-й элемент списка = НОК(i,8), где НОК(x,y) - наименьшее общее кратное чисел x и y\n"
   ]
  },
  {
   "cell_type": "code",
   "execution_count": 18,
   "metadata": {},
   "outputs": [
    {
     "data": {
      "text/plain": [
       "([0, 8, 8, 24, 8, 40], 6)"
      ]
     },
     "execution_count": 18,
     "metadata": {},
     "output_type": "execute_result"
    }
   ],
   "source": [
    "# воспользуемся известной формулой: НОК(a, b) = ab/НОД(a, b)\n",
    "#напишем функцию, возвращающую НОК(a, b)\n",
    "from random import randint\n",
    "def nok(a, b):\n",
    "    proizv = a * b\n",
    "    while a != 0 and b != 0:\n",
    "        if a > b:\n",
    "            a = a % b\n",
    "        else:\n",
    "            b = b % a\n",
    "    return proizv // (a + b)\n",
    "mas = []\n",
    "for i in range(randint(2, 22)):\n",
    "    mas.append(nok(i,8))\n",
    "mas, len(mas)\n",
    "            "
   ]
  },
  {
   "cell_type": "markdown",
   "metadata": {
    "hash": "8670705a3a"
   },
   "source": [
    "### Марипова Жасмин СКБ171\n",
    "\n",
    "Оценка: 1\n",
    "\n",
    "Комментарий: -"
   ]
  },
  {
   "cell_type": "code",
   "execution_count": 19,
   "metadata": {
    "colab": {},
    "colab_type": "code",
    "id": "KIpe4mkSDcUO"
   },
   "outputs": [],
   "source": [
    "# сгенерировать список любой заданной длины по следующему правилу: i-й элемент списка = НОК(i,8), где НОК(x,y) - наименьшее общее кратное чисел x и y\n"
   ]
  },
  {
   "cell_type": "code",
   "execution_count": 21,
   "metadata": {
    "colab": {
     "base_uri": "https://localhost:8080/",
     "height": 50
    },
    "colab_type": "code",
    "id": "i38QdlHVDcUR",
    "outputId": "1726f886-fb01-48d9-8945-48127dbcedce"
   },
   "outputs": [
    {
     "name": "stdout",
     "output_type": "stream",
     "text": [
      "21\n",
      "[8, 8, 24, 8, 40, 24, 56, 8, 72, 40, 88, 24, 104, 56, 120, 16, 136, 72, 152, 40, 168]\n"
     ]
    },
    {
     "data": {
      "text/plain": [
       "(None, 21)"
      ]
     },
     "execution_count": 21,
     "metadata": {},
     "output_type": "execute_result"
    }
   ],
   "source": [
    "a = int(input())\n",
    "lst = []\n",
    "for i in range (a):\n",
    "    d = 1\n",
    "    while d%8 != 0 or d%(i+1) != 0:\n",
    "        d += 1\n",
    "    lst.append(d)\n",
    "print(lst), len(lst)"
   ]
  },
  {
   "cell_type": "markdown",
   "metadata": {
    "hash": "49bf872905"
   },
   "source": [
    "### Зоричев Борис СКБ172\n",
    "\n",
    "Оценка: 0.5\n",
    "\n",
    "Комментарий: Length definition is not trivial."
   ]
  },
  {
   "cell_type": "code",
   "execution_count": null,
   "metadata": {},
   "outputs": [],
   "source": [
    "# сгенерировать список любой заданной длины по следующему правилу: i-й элемент списка = НОК(i,8), где НОК(x,y) - наименьшее общее кратное чисел x и y\n"
   ]
  },
  {
   "cell_type": "code",
   "execution_count": 24,
   "metadata": {},
   "outputs": [
    {
     "data": {
      "text/plain": [
       "([8,\n",
       "  8,\n",
       "  24,\n",
       "  8,\n",
       "  40,\n",
       "  24,\n",
       "  56,\n",
       "  8,\n",
       "  72,\n",
       "  40,\n",
       "  88,\n",
       "  24,\n",
       "  104,\n",
       "  56,\n",
       "  120,\n",
       "  16,\n",
       "  136,\n",
       "  72,\n",
       "  152,\n",
       "  40,\n",
       "  168],\n",
       " 21)"
      ]
     },
     "execution_count": 24,
     "metadata": {},
     "output_type": "execute_result"
    }
   ],
   "source": [
    "a,lst = 8,[]\n",
    "for i in range(1,22):\n",
    "    HOK=i\n",
    "    while True:\n",
    "        if HOK%a == 0 and HOK%i == 0:\n",
    "            break\n",
    "        HOK += 1\n",
    "    lst.append(HOK)\n",
    "lst, len(lst)\n",
    "##ничего лучше чем считать в лоб я не придумал"
   ]
  },
  {
   "cell_type": "markdown",
   "metadata": {
    "hash": "3c7692137a"
   },
   "source": [
    "### Сербаев Вадим СКБ172\n",
    "\n",
    "Оценка: 1\n",
    "\n",
    "Комментарий: -"
   ]
  },
  {
   "cell_type": "code",
   "execution_count": 25,
   "metadata": {},
   "outputs": [],
   "source": [
    "# сгенерировать список любой заданной длины по следующему правилу: i-й элемент списка = НОК(i,8), где НОК(x,y) - наименьшее общее кратное чисел x и y\n"
   ]
  },
  {
   "cell_type": "code",
   "execution_count": 26,
   "metadata": {},
   "outputs": [
    {
     "name": "stdout",
     "output_type": "stream",
     "text": [
      "21\n",
      "['Not exist', 8, 8, 24, 8, 40, 24, 56, 8, 72, 40, 88, 24, 104, 56, 120, 16, 136, 72, 152, 40, 168]\n"
     ]
    }
   ],
   "source": [
    "def ListGenerator(i):\n",
    "    M = min(i, 8)\n",
    "    if i==0:\n",
    "        return \"Not exist\"\n",
    "    while True:\n",
    "        if (M%i==0)&(M%8==0):\n",
    "            break\n",
    "        M += 1\n",
    "    return(M)\n",
    "\n",
    "MaxNum = int(input())\n",
    "MaxNum+=1\n",
    "L = [ListGenerator(i) for i in range(0,MaxNum)]\n",
    "print(L)"
   ]
  },
  {
   "cell_type": "markdown",
   "metadata": {
    "hash": "f59c3afdc4"
   },
   "source": [
    "### Булгаков Виталий СКБ172\n",
    "\n",
    "Оценка: 0.9\n",
    "\n",
    "Комментарий: Zero is wrong element."
   ]
  },
  {
   "cell_type": "code",
   "execution_count": null,
   "metadata": {},
   "outputs": [],
   "source": [
    "# сгенерировать список любой заданной длины по следующему правилу: i-й элемент списка = НОК(i,8), где НОК(x,y) - наименьшее общее кратное чисел x и y\n"
   ]
  },
  {
   "cell_type": "code",
   "execution_count": 27,
   "metadata": {},
   "outputs": [
    {
     "name": "stdout",
     "output_type": "stream",
     "text": [
      "21\n",
      "0 8 8 24 8 40 24 56 8 72 40 88 24 104 56 120 16 136 72 152 40\n"
     ]
    }
   ],
   "source": [
    "s = []\n",
    "b = 8\n",
    "def gcd(a: int, b: int) -> int:\n",
    "    while b:\n",
    "        a, b = b, a % b\n",
    "    return abs(a)\n",
    "for i in range(0, int(input())):\n",
    "    s.append(int((i * b) / gcd(i, b)))\n",
    "\n",
    "print(*s)"
   ]
  },
  {
   "cell_type": "markdown",
   "metadata": {
    "hash": "c942913613"
   },
   "source": [
    "### Андреева Влада СКБ171\n",
    "\n",
    "Оценка: 1\n",
    "\n",
    "Комментарий: -"
   ]
  },
  {
   "cell_type": "code",
   "execution_count": 28,
   "metadata": {},
   "outputs": [],
   "source": [
    "# сгенерировать список любой заданной длины по следующему правилу: i-й элемент списка = НОК(i,8), где НОК(x,y) - наименьшее общее кратное чисел x и y\n"
   ]
  },
  {
   "cell_type": "code",
   "execution_count": 29,
   "metadata": {},
   "outputs": [
    {
     "name": "stdout",
     "output_type": "stream",
     "text": [
      "21\n",
      "['None', 8, 8, 24, 8, 40, 24, 56, 8, 72, 40, 88, 24, 104, 56, 120, 16, 136, 72, 152, 40]\n"
     ]
    }
   ],
   "source": [
    "def nok(a, b):\n",
    "    k = max(a, b)\n",
    "    m = k\n",
    "    while k % a != 0 or k % b != 0:\n",
    "        k += m\n",
    "    return k\n",
    "\n",
    "n = int(input())\n",
    "final = []\n",
    "for i in range(n):\n",
    "    if i == 0:\n",
    "        final.append('None') #НОК(0, 8) - это минимальное число, делящееся без остатка и на 0, и на 8, НО на 0, как известно, делить нельзя\n",
    "    else:\n",
    "        final.append(nok(i, 8))\n",
    "print(final)"
   ]
  },
  {
   "cell_type": "markdown",
   "metadata": {
    "hash": "913f2d1dd9"
   },
   "source": [
    "### Клопов Владислав СКБ172\n",
    "\n",
    "Оценка: 0.4\n",
    "\n",
    "Комментарий: List is longer than expected. Zero is wrong element."
   ]
  },
  {
   "cell_type": "code",
   "execution_count": null,
   "metadata": {},
   "outputs": [],
   "source": [
    "# сгенерировать список любой заданной длины по следующему правилу: i-й элемент списка = НОК(i,8), где НОК(x,y) - наименьшее общее кратное чисел x и y\n"
   ]
  },
  {
   "cell_type": "code",
   "execution_count": 31,
   "metadata": {},
   "outputs": [
    {
     "name": "stdout",
     "output_type": "stream",
     "text": [
      "21\n"
     ]
    },
    {
     "data": {
      "text/plain": [
       "([0,\n",
       "  8,\n",
       "  8,\n",
       "  24,\n",
       "  8,\n",
       "  40,\n",
       "  24,\n",
       "  56,\n",
       "  8,\n",
       "  72,\n",
       "  40,\n",
       "  88,\n",
       "  24,\n",
       "  104,\n",
       "  56,\n",
       "  120,\n",
       "  16,\n",
       "  136,\n",
       "  72,\n",
       "  152,\n",
       "  40,\n",
       "  168],\n",
       " 22)"
      ]
     },
     "execution_count": 31,
     "metadata": {},
     "output_type": "execute_result"
    }
   ],
   "source": [
    "n=int(input())\n",
    "def find(x,y):\n",
    "    nok=max(x,y)\n",
    "    if(x==0 or y==0):\n",
    "        return 0\n",
    "    while nok%x!=0 or nok%y!=0:\n",
    "        nok+=max(x,y)\n",
    "    return nok\n",
    "\n",
    "answer=[]\n",
    "for i in range(0,n+1):\n",
    "    answer.append(find(i,8))\n",
    "answer, len(answer)"
   ]
  },
  {
   "cell_type": "markdown",
   "metadata": {
    "hash": "88d6b20127"
   },
   "source": [
    "### Сарахан Владислав СКБ172\n",
    "\n",
    "Оценка: 0.9\n",
    "\n",
    "Комментарий: Zero is wrong element."
   ]
  },
  {
   "cell_type": "code",
   "execution_count": 105,
   "metadata": {},
   "outputs": [],
   "source": [
    "# сгенерировать список любой заданной длины по следующему правилу: i-й элемент списка = НОК(i,8), где НОК(x,y) - наименьшее общее кратное чисел x и y\n"
   ]
  },
  {
   "cell_type": "code",
   "execution_count": 32,
   "metadata": {},
   "outputs": [],
   "source": [
    "def Nok(a, b):\n",
    "    c = a * b\n",
    "    while a != 0 and b != 0:\n",
    "        if a > b:\n",
    "            a %= b\n",
    "        else:\n",
    "            b %= a\n",
    "    return c // (a + b)"
   ]
  },
  {
   "cell_type": "code",
   "execution_count": 33,
   "metadata": {},
   "outputs": [
    {
     "name": "stdout",
     "output_type": "stream",
     "text": [
      "21\n",
      "[0, 8, 8, 24, 8, 40, 24, 56, 8, 72, 40, 88, 24, 104, 56, 120, 16, 136, 72, 152, 40]\n"
     ]
    }
   ],
   "source": [
    "n = int(input())\n",
    "nums = []\n",
    "for i in range(0, n):\n",
    "    nums.append(Nok(i, 8))\n",
    "print(nums)"
   ]
  },
  {
   "cell_type": "markdown",
   "metadata": {
    "hash": "26119a97d0"
   },
   "source": [
    "### Старостин Данила СКБ172\n",
    "\n",
    "Оценка: 1\n",
    "\n",
    "Комментарий: -"
   ]
  },
  {
   "cell_type": "code",
   "execution_count": 34,
   "metadata": {},
   "outputs": [],
   "source": [
    "# сгенерировать список любой заданной длины по следующему правилу: i-й элемент списка = НОК(i,8), где НОК(x,y) - наименьшее общее кратное чисел x и y\n"
   ]
  },
  {
   "cell_type": "code",
   "execution_count": 35,
   "metadata": {},
   "outputs": [
    {
     "name": "stdout",
     "output_type": "stream",
     "text": [
      "21\n",
      "[8, 8, 24, 8, 40, 24, 56, 8, 72, 40, 88, 24, 104, 56, 120, 16, 136, 72, 152, 40, 168]\n"
     ]
    }
   ],
   "source": [
    "def nok(a,b):    \n",
    "    product_of_numbers = a*b\n",
    "    while a != 0 and b != 0:\n",
    "        if a > b:\n",
    "            a %= b\n",
    "        else:\n",
    "            b %= a\n",
    "    return product_of_numbers // (a+b)\n",
    "\n",
    "n = int(input())\n",
    "list_of_numbers = []\n",
    "for i in range(1, n+1):\n",
    "    list_of_numbers.append(nok(i, 8))\n",
    "print(list_of_numbers) "
   ]
  },
  {
   "cell_type": "markdown",
   "metadata": {
    "hash": "0a22720c49"
   },
   "source": [
    "### Стрекнев Денис СКБ172\n",
    "\n",
    "Оценка: 1\n",
    "\n",
    "Комментарий: -"
   ]
  },
  {
   "cell_type": "code",
   "execution_count": 36,
   "metadata": {},
   "outputs": [],
   "source": [
    "# сгенерировать список любой заданной длины по следующему правилу: i-й элемент списка = НОК(i,8), где НОК(x,y) - наименьшее общее кратное чисел x и y\n"
   ]
  },
  {
   "cell_type": "code",
   "execution_count": 37,
   "metadata": {},
   "outputs": [
    {
     "name": "stdout",
     "output_type": "stream",
     "text": [
      "21\n"
     ]
    },
    {
     "data": {
      "text/plain": [
       "[8,\n",
       " 8,\n",
       " 24,\n",
       " 8,\n",
       " 40,\n",
       " 24,\n",
       " 56,\n",
       " 8,\n",
       " 72,\n",
       " 40,\n",
       " 88,\n",
       " 24,\n",
       " 104,\n",
       " 56,\n",
       " 120,\n",
       " 16,\n",
       " 136,\n",
       " 72,\n",
       " 152,\n",
       " 40,\n",
       " 168]"
      ]
     },
     "execution_count": 37,
     "metadata": {},
     "output_type": "execute_result"
    }
   ],
   "source": [
    "n=int(input())\n",
    "d=[]\n",
    "for k in range(1,n+1):\n",
    "    c=k\n",
    "    i=1\n",
    "    if (k%8==0) or (8%k==0):\n",
    "        d.append(max(k,8))\n",
    "    else:\n",
    "        while i!=0:\n",
    "            c=c+k\n",
    "            if c%8==0:\n",
    "                i=0\n",
    "        d.append(c)     \n",
    "#нумерация списка с 1\n",
    "d "
   ]
  },
  {
   "cell_type": "markdown",
   "metadata": {
    "hash": "63e0a37ae4"
   },
   "source": [
    "### Дородный Дмитрий СКБ172\n",
    "\n",
    "Оценка: 0.9\n",
    "\n",
    "Комментарий: Zero is wrong element."
   ]
  },
  {
   "cell_type": "code",
   "execution_count": null,
   "metadata": {},
   "outputs": [],
   "source": [
    "# сгенерировать список любой заданной длины по следующему правилу: i-й элемент списка = НОК(i,8), где НОК(x,y) - наименьшее общее кратное чисел x и y\n"
   ]
  },
  {
   "cell_type": "code",
   "execution_count": 38,
   "metadata": {},
   "outputs": [
    {
     "name": "stdout",
     "output_type": "stream",
     "text": [
      "21\n",
      "[0, 8, 8, 24, 8, 40, 24, 56, 8, 72, 40, 88, 24, 104, 56, 120, 16, 136, 72, 152, 40]\n"
     ]
    }
   ],
   "source": [
    "def gcd(a, b): return a if not b else gcd(b, a % b)\n",
    "\n",
    "n = int(input())\n",
    "\n",
    "print(list(map(lambda x: int(x*8/gcd(x, 8)), [i for i in range(n)])))"
   ]
  },
  {
   "cell_type": "markdown",
   "metadata": {
    "hash": "e4572fb6ff"
   },
   "source": [
    "### Шемякин Дмитрий СКБ171\n",
    "\n",
    "Оценка: 1\n",
    "\n",
    "Комментарий: -"
   ]
  },
  {
   "cell_type": "code",
   "execution_count": 39,
   "metadata": {},
   "outputs": [],
   "source": [
    "# сгенерировать список любой заданной длины по следующему правилу: i-й элемент списка = НОК(i,8), где НОК(x,y) - наименьшее общее кратное чисел x и y\n"
   ]
  },
  {
   "cell_type": "code",
   "execution_count": 40,
   "metadata": {},
   "outputs": [
    {
     "name": "stdout",
     "output_type": "stream",
     "text": [
      "21\n"
     ]
    },
    {
     "data": {
      "text/plain": [
       "[8.0,\n",
       " 8.0,\n",
       " 24.0,\n",
       " 8.0,\n",
       " 40.0,\n",
       " 24.0,\n",
       " 56.0,\n",
       " 8.0,\n",
       " 72.0,\n",
       " 40.0,\n",
       " 88.0,\n",
       " 24.0,\n",
       " 104.0,\n",
       " 56.0,\n",
       " 120.0,\n",
       " 16.0,\n",
       " 136.0,\n",
       " 72.0,\n",
       " 152.0,\n",
       " 40.0,\n",
       " 168.0]"
      ]
     },
     "execution_count": 40,
     "metadata": {},
     "output_type": "execute_result"
    }
   ],
   "source": [
    "# сгенерировать список любой заданной длины по следующему правилу: i-й элемент списка = НОК(i,8),\n",
    "# где НОК(x,y) - наименьшее общее кратное чисел x и y\n",
    "\n",
    "def lcm(a, b):\n",
    "    if a == 0 or b == 0:\n",
    "        return 0\n",
    "    \n",
    "    return (a * b)/gcd(a, b)\n",
    "\n",
    "def gcd(a, b):\n",
    "    com_div = [1]\n",
    "    i = 2\n",
    "    while i <= min(a, b):\n",
    "        if a % i == 0 and b % i == 0:\n",
    "            com_div.append(i)\n",
    "        i = i + 1\n",
    "    return com_div[-1]\n",
    "\n",
    "n = int(input())\n",
    "const = 8\n",
    "lst = []\n",
    "\n",
    "for i in range(1, n+1):        \n",
    "        lst.append(lcm(i, const)) \n",
    "\n",
    "lst"
   ]
  },
  {
   "cell_type": "markdown",
   "metadata": {
    "hash": "9ee13d89f3"
   },
   "source": [
    "### Никитина Елизавета СКБ171\n",
    "\n",
    "Оценка: 0.9\n",
    "\n",
    "Комментарий: Zero is wrong element."
   ]
  },
  {
   "cell_type": "code",
   "execution_count": null,
   "metadata": {},
   "outputs": [],
   "source": [
    "# сгенерировать список любой заданной длины по следующему правилу: i-й элемент списка = НОК(i,8), где НОК(x,y) - наименьшее общее кратное чисел x и y\n"
   ]
  },
  {
   "cell_type": "code",
   "execution_count": 41,
   "metadata": {},
   "outputs": [
    {
     "name": "stdout",
     "output_type": "stream",
     "text": [
      "Length: 21\n",
      "[0, 8, 8, 24, 8, 40, 24, 56, 8, 72, 40, 88, 24, 104, 56, 120, 16, 136, 72, 152, 40]\n"
     ]
    }
   ],
   "source": [
    "def lcm(a, b):\n",
    "    m = a * b\n",
    "    while a != 0 and b != 0:\n",
    "        if a > b:\n",
    "            a %= b\n",
    "        else:\n",
    "            b %= a\n",
    "    return m // (a+b)\n",
    "alen = int(input('Length: '))\n",
    "print([lcm(a, 8) for a in range(alen)])"
   ]
  },
  {
   "cell_type": "markdown",
   "metadata": {
    "hash": "64dc836089"
   },
   "source": [
    "### Семенов Игорь СКБ172\n",
    "\n",
    "Оценка: 1\n",
    "\n",
    "Комментарий: -"
   ]
  },
  {
   "cell_type": "code",
   "execution_count": 42,
   "metadata": {},
   "outputs": [],
   "source": [
    "# сгенерировать список любой заданной длины по следующему правилу: i-й элемент списка = НОК(i,8), где НОК(x,y) - наименьшее общее кратное чисел x и y\n"
   ]
  },
  {
   "cell_type": "code",
   "execution_count": 44,
   "metadata": {},
   "outputs": [
    {
     "name": "stdout",
     "output_type": "stream",
     "text": [
      "[8, 8, 24, 8, 40, 24, 56, 8, 72, 40, 88, 24, 104, 56, 120, 16, 136, 72, 152, 40, 168]\n"
     ]
    }
   ],
   "source": [
    "def nod(a1,b1):\n",
    "    a=min(a1,b1)\n",
    "    b=max(a1,b1)\n",
    "    while(b%a!=0):\n",
    "        t=b%a\n",
    "        b=a\n",
    "        a=t\n",
    "    return a\n",
    "            \n",
    "def f(n):\n",
    "    lst=[0 for i in range(n)]\n",
    "    for i in range (n):\n",
    "        lst[i]=max(i+1,8)*(min(i+1,8)//nod(i+1,8))\n",
    "    return lst\n",
    "print(f(21))\n",
    "        "
   ]
  },
  {
   "cell_type": "markdown",
   "metadata": {
    "hash": "a03e7d31a7"
   },
   "source": [
    "### Шамрин Игорь СКБ172\n",
    "\n",
    "Оценка: 1\n",
    "\n",
    "Комментарий: -"
   ]
  },
  {
   "cell_type": "code",
   "execution_count": 45,
   "metadata": {},
   "outputs": [],
   "source": [
    "# сгенерировать список любой заданной длины по следующему правилу: i-й элемент списка = НОК(i,8), где НОК(x,y) - наименьшее общее кратное чисел x и y\n"
   ]
  },
  {
   "cell_type": "code",
   "execution_count": 47,
   "metadata": {},
   "outputs": [
    {
     "data": {
      "text/plain": [
       "[8,\n",
       " 8,\n",
       " 24,\n",
       " 8,\n",
       " 40,\n",
       " 24,\n",
       " 56,\n",
       " 8,\n",
       " 72,\n",
       " 40,\n",
       " 88,\n",
       " 24,\n",
       " 104,\n",
       " 56,\n",
       " 120,\n",
       " 16,\n",
       " 136,\n",
       " 72,\n",
       " 152,\n",
       " 40,\n",
       " 168]"
      ]
     },
     "execution_count": 47,
     "metadata": {},
     "output_type": "execute_result"
    }
   ],
   "source": [
    "def NOK(a,b):\n",
    "    m = a*b\n",
    "    while a is not 0 and b is not 0:\n",
    "        if a > b:\n",
    "            a %= b\n",
    "        else:\n",
    "            b %= a\n",
    "    return m // (a+b)\n",
    "n = 21\n",
    "numbers = [NOK(i,8) for i in range(1,n+1)]\n",
    "numbers"
   ]
  },
  {
   "cell_type": "markdown",
   "metadata": {
    "hash": "c569b9634e"
   },
   "source": [
    "### Щербаков Игорь СКБ171\n",
    "\n",
    "Оценка: 0.9\n",
    "\n",
    "Комментарий: Zero is wrong element."
   ]
  },
  {
   "cell_type": "code",
   "execution_count": 48,
   "metadata": {},
   "outputs": [],
   "source": [
    "# сгенерировать список любой заданной длины по следующему правилу: i-й элемент списка = НОК(i,8), где НОК(x,y) - наименьшее общее кратное чисел x и y\n"
   ]
  },
  {
   "cell_type": "code",
   "execution_count": 50,
   "metadata": {},
   "outputs": [
    {
     "name": "stdout",
     "output_type": "stream",
     "text": [
      "[0, 8, 8, 24, 8, 40, 24, 56, 8, 72, 40, 88, 24, 104, 56, 120, 16, 136, 72, 152, 40]\n"
     ]
    }
   ],
   "source": [
    "\n",
    "import math\n",
    "def lcm(a, b):\n",
    "    return abs(a*b) // math.gcd(a, b)\n",
    "\n",
    "def generate_lcm_list(n, lcm_parameter=8): #Для обобщения решения\n",
    "    rev=False\n",
    "    n1=n\n",
    "    if n<0:\n",
    "        rev=True #Для отрицательных будет список в обратном порядкe\n",
    "        n1=-n\n",
    "    lst=[]\n",
    "    current=0;\n",
    "    while len(lst)<n1:\n",
    "        lst+=[lcm(current,lcm_parameter)]\n",
    "        current+=1\n",
    "    if rev==True:\n",
    "        lst.reverse()\n",
    "    return lst\n",
    "print(generate_lcm_list(21))"
   ]
  },
  {
   "cell_type": "markdown",
   "metadata": {
    "hash": "0f0bd22442"
   },
   "source": [
    "### Шомахов Идар СКБ171\n",
    "\n",
    "Оценка: 0.9\n",
    "\n",
    "Комментарий: Zero is wrong element."
   ]
  },
  {
   "cell_type": "code",
   "execution_count": 51,
   "metadata": {},
   "outputs": [],
   "source": [
    "# сгенерировать список любой заданной длины по следующему правилу: i-й элемент списка = НОК(i,8), где НОК(x,y) - наименьшее общее кратное чисел x и y\n"
   ]
  },
  {
   "cell_type": "code",
   "execution_count": 52,
   "metadata": {},
   "outputs": [
    {
     "name": "stdout",
     "output_type": "stream",
     "text": [
      "21\n",
      "[0, 8, 8, 24, 8, 40, 24, 56, 8, 72, 40, 88, 24, 104, 56, 120, 16, 136, 72, 152, 40]\n"
     ]
    }
   ],
   "source": [
    "import math \n",
    "\n",
    "n = int(input())\n",
    "lst = []\n",
    "for i in range(n): #Надеюсь список начинается с 0-го элемента\n",
    "    lst.append((i*8)//math.gcd(i,8))\n",
    "print(lst)"
   ]
  },
  {
   "cell_type": "markdown",
   "metadata": {
    "hash": "c52087c4a8"
   },
   "source": [
    "### Григорьев Илья СКБ171\n",
    "\n",
    "Оценка: 1\n",
    "\n",
    "Комментарий: -"
   ]
  },
  {
   "cell_type": "code",
   "execution_count": 53,
   "metadata": {},
   "outputs": [],
   "source": [
    "# сгенерировать список любой заданной длины по следующему правилу: i-й элемент списка = НОК(i,8), где НОК(x,y) - наименьшее общее кратное чисел x и y\n"
   ]
  },
  {
   "cell_type": "code",
   "execution_count": 54,
   "metadata": {},
   "outputs": [
    {
     "name": "stdout",
     "output_type": "stream",
     "text": [
      "21\n",
      "[8, 8, 24, 8, 40, 24, 56, 8, 72, 40, 88, 24, 104, 56, 120, 16, 136, 72, 152, 40, 168]\n"
     ]
    }
   ],
   "source": [
    "import math\n",
    "\n",
    "n = int(input())\n",
    "l = []\n",
    "for i in range(1,n+1):#для 0 не определён нок\n",
    "    l.append(i*8//math.gcd(i,8))\n",
    "print(l)    "
   ]
  },
  {
   "cell_type": "markdown",
   "metadata": {
    "hash": "ac62d6d9a0"
   },
   "source": [
    "### Фомин Илья СКБ171\n",
    "\n",
    "Оценка: 0.9\n",
    "\n",
    "Комментарий: Zero is wrong element."
   ]
  },
  {
   "cell_type": "code",
   "execution_count": 55,
   "metadata": {},
   "outputs": [],
   "source": [
    "# сгенерировать список любой заданной длины по следующему правилу: i-й элемент списка = НОК(i,8), где НОК(x,y) - наименьшее общее кратное чисел x и y\n"
   ]
  },
  {
   "cell_type": "code",
   "execution_count": 56,
   "metadata": {},
   "outputs": [
    {
     "name": "stdout",
     "output_type": "stream",
     "text": [
      "Длина 21\n"
     ]
    },
    {
     "data": {
      "text/plain": [
       "[0,\n",
       " 8,\n",
       " 8,\n",
       " 24,\n",
       " 8,\n",
       " 40,\n",
       " 24,\n",
       " 56,\n",
       " 8,\n",
       " 72,\n",
       " 40,\n",
       " 88,\n",
       " 24,\n",
       " 104,\n",
       " 56,\n",
       " 120,\n",
       " 16,\n",
       " 136,\n",
       " 72,\n",
       " 152,\n",
       " 40]"
      ]
     },
     "execution_count": 56,
     "metadata": {},
     "output_type": "execute_result"
    }
   ],
   "source": [
    "length = int(input('Длина '))\n",
    "def lcm(first,second):\n",
    "    comp = first * second\n",
    "    while first != 0 and second != 0:\n",
    "        if first > second:\n",
    "            first %= second\n",
    "        else:\n",
    "            second %= first\n",
    "    return comp // (first + second)\n",
    "\n",
    "[lcm(i,8) for i in range(length)]"
   ]
  },
  {
   "cell_type": "markdown",
   "metadata": {
    "hash": "f5c905bf90"
   },
   "source": [
    "### Синицын Константин СКБ172\n",
    "\n",
    "Оценка: 0.9\n",
    "\n",
    "Комментарий: -"
   ]
  },
  {
   "cell_type": "code",
   "execution_count": 57,
   "metadata": {},
   "outputs": [],
   "source": [
    "# сгенерировать список любой заданной длины по следующему правилу: i-й элемент списка = НОК(i,8), где НОК(x,y) - наименьшее общее кратное чисел x и y\n"
   ]
  },
  {
   "cell_type": "code",
   "execution_count": 58,
   "metadata": {},
   "outputs": [
    {
     "name": "stdout",
     "output_type": "stream",
     "text": [
      "21\n",
      "[8, 8, 24, 8, 40, 24, 56, 8, 72, 40, 88, 24, 104, 56, 120, 16, 136, 72, 152, 40, 168]\n"
     ]
    }
   ],
   "source": [
    "def nok(x):\n",
    "    bigger = max(x, 8)\n",
    "    while bigger % x != 0 or bigger % 8 != 0: bigger += 1\n",
    "    return bigger\n",
    "\n",
    "n = int(input())\n",
    "print(list(map(nok, range(1,n+1))))"
   ]
  },
  {
   "cell_type": "markdown",
   "metadata": {
    "hash": "f03861f4f4"
   },
   "source": [
    "### Смирнов Константин СКБ172\n",
    "\n",
    "Оценка: 0.5\n",
    "\n",
    "Комментарий: List is shorter than expected."
   ]
  },
  {
   "cell_type": "code",
   "execution_count": 59,
   "metadata": {},
   "outputs": [],
   "source": [
    "# сгенерировать список любой заданной длины по следующему правилу: i-й элемент списка = НОК(i,8), где НОК(x,y) - наименьшее общее кратное чисел x и y"
   ]
  },
  {
   "cell_type": "code",
   "execution_count": 62,
   "metadata": {},
   "outputs": [
    {
     "name": "stdout",
     "output_type": "stream",
     "text": [
      "8 8 24 8 40 24 56 8 72 40 88 24 104 56 120 16 136 72 152 40\n"
     ]
    },
    {
     "data": {
      "text/plain": [
       "(None, 20)"
      ]
     },
     "execution_count": 62,
     "metadata": {},
     "output_type": "execute_result"
    }
   ],
   "source": [
    "def gcd(x, y):\n",
    "    return x if y == 0 else gcd(y, x%y)\n",
    "    \n",
    "def lcm(x, y):\n",
    "    return abs(x*y) // gcd(x, y)\n",
    "\n",
    "n = 21\n",
    "l = [lcm(i, 8) for i in range(1, n)]\n",
    "    \n",
    "print(*l), len(l)"
   ]
  },
  {
   "cell_type": "markdown",
   "metadata": {
    "hash": "cff956a0a0"
   },
   "source": [
    "### Расторгуева Мария СКБ171\n",
    "\n",
    "Оценка: 0\n",
    "\n",
    "Комментарий: Wrong result."
   ]
  },
  {
   "cell_type": "code",
   "execution_count": null,
   "metadata": {},
   "outputs": [],
   "source": [
    "# сгенерировать список любой заданной длины по следующему правилу: i-й элемент списка = НОК(i,8), где НОК(x,y) - наименьшее общее кратное чисел x и y\n"
   ]
  },
  {
   "cell_type": "code",
   "execution_count": 63,
   "metadata": {},
   "outputs": [
    {
     "name": "stdout",
     "output_type": "stream",
     "text": [
      "21\n",
      "168.0\n"
     ]
    }
   ],
   "source": [
    "n = int(input())\n",
    "m = 8\n",
    "n1 = n\n",
    "m1 = m\n",
    "l=[]\n",
    "lp=[]\n",
    "k = m*n\n",
    "while m1!=0 and n1!=0:\n",
    "    if m1>n1:\n",
    "        m1 = m1%n1\n",
    "    else :\n",
    "        n1 = n1%m1\n",
    "if m1==0:\n",
    "    nod = n1\n",
    "else:\n",
    "    nod = m1\n",
    "nok = m*n/nod\n",
    "print (nok)"
   ]
  },
  {
   "cell_type": "markdown",
   "metadata": {
    "hash": "a9a1c3af53"
   },
   "source": [
    "### Гвасалия Метью СКБ172\n",
    "\n",
    "Оценка: 0.9\n",
    "\n",
    "Комментарий: Zero is wrong element."
   ]
  },
  {
   "cell_type": "code",
   "execution_count": 64,
   "metadata": {},
   "outputs": [],
   "source": [
    "# сгенерировать список любой заданной длины по следующему правилу: i-й элемент списка = НОК(i,8), где НОК(x,y) - наименьшее общее кратное чисел x и y\n"
   ]
  },
  {
   "cell_type": "code",
   "execution_count": 65,
   "metadata": {},
   "outputs": [
    {
     "name": "stdout",
     "output_type": "stream",
     "text": [
      "21\n",
      "[0, 8, 8, 24, 8, 40, 24, 56, 8, 72, 40, 88, 24, 104, 56, 120, 16, 136, 72, 152, 40]\n"
     ]
    }
   ],
   "source": [
    "def gcd(x,y):\n",
    "    return x if not y else gcd(y,x % y)\n",
    "def generateList(n):\n",
    "    return list(map(lambda x: int(x*8/gcd(x,8)),list(range(0,n))))\n",
    "print(generateList(int(input())))"
   ]
  },
  {
   "cell_type": "markdown",
   "metadata": {
    "hash": "f0b07e0cae"
   },
   "source": [
    "### Поддубный Михаил СКБ172\n",
    "\n",
    "Оценка: 1\n",
    "\n",
    "Комментарий: -"
   ]
  },
  {
   "cell_type": "code",
   "execution_count": 66,
   "metadata": {},
   "outputs": [],
   "source": [
    "# сгенерировать список любой заданной длины по следующему правилу: i-й элемент списка = НОК(i,8), где НОК(x,y) - наименьшее общее кратное чисел x и y\n",
    "\n",
    "    "
   ]
  },
  {
   "cell_type": "code",
   "execution_count": 67,
   "metadata": {},
   "outputs": [
    {
     "name": "stdout",
     "output_type": "stream",
     "text": [
      "21\n",
      "[8, 8, 24, 8, 40, 24, 56, 8, 72, 40, 88, 24, 104, 56, 120, 16, 136, 72, 152, 40, 168]\n"
     ]
    }
   ],
   "source": [
    "def LCM(x, y):\n",
    "    if x > y:\n",
    "        greater = x\n",
    "    else:\n",
    "        greater = y\n",
    "\n",
    "    while True:\n",
    "        if((greater % x == 0) and (greater % y == 0)):\n",
    "            lcm = greater\n",
    "            break\n",
    "        greater += 1\n",
    "\n",
    "    return lcm\n",
    "s=[]\n",
    "for i in range(1, int(input())+1):\n",
    "    s.append(LCM(i,8))\n",
    "print(s)"
   ]
  },
  {
   "cell_type": "markdown",
   "metadata": {
    "hash": "67a0375db8"
   },
   "source": [
    "### Миронов Никита СКБ171\n",
    "\n",
    "Оценка: 0.9\n",
    "\n",
    "Комментарий: Zero is wrong element."
   ]
  },
  {
   "cell_type": "code",
   "execution_count": 17,
   "metadata": {},
   "outputs": [],
   "source": [
    "# сгенерировать список любой заданной длины по следующему правилу: i-й элемент списка = НОК(i,8), где НОК(x,y) - наименьшее общее кратное чисел x и y\n"
   ]
  },
  {
   "cell_type": "code",
   "execution_count": 68,
   "metadata": {},
   "outputs": [
    {
     "name": "stdout",
     "output_type": "stream",
     "text": [
      "21\n",
      "[0, 8, 8, 24, 8, 40, 24, 56, 8, 72, 40, 88, 24, 104, 56, 120, 16, 136, 72, 152, 40]\n"
     ]
    }
   ],
   "source": [
    "n = int(input())\n",
    "nums = []\n",
    "for i in range(0, n):\n",
    "    b=8\n",
    "    c = i * b\n",
    "    while i != 0 and b != 0:\n",
    "        if i > b:\n",
    "            i %= b\n",
    "        else:\n",
    "            b %= i\n",
    "    nok=(c // (i + b))\n",
    "    nums+=[nok]\n",
    "print(nums)"
   ]
  },
  {
   "cell_type": "markdown",
   "metadata": {
    "hash": "e7b623c94a"
   },
   "source": [
    "### Шубин Никита СКБ172\n",
    "\n",
    "Оценка: 0.5\n",
    "\n",
    "Комментарий: Length definition isn't trivial."
   ]
  },
  {
   "cell_type": "code",
   "execution_count": 69,
   "metadata": {},
   "outputs": [],
   "source": [
    "# сгенерировать список любой заданной длины по следующему правилу: i-й элемент списка = НОК(i,8), где НОК(x,y) - наименьшее общее кратное чисел x и y\n"
   ]
  },
  {
   "cell_type": "code",
   "execution_count": 2,
   "metadata": {},
   "outputs": [
    {
     "data": {
      "text/plain": [
       "([8,\n",
       "  8,\n",
       "  24,\n",
       "  8,\n",
       "  40,\n",
       "  24,\n",
       "  56,\n",
       "  8,\n",
       "  72,\n",
       "  40,\n",
       "  88,\n",
       "  24,\n",
       "  104,\n",
       "  56,\n",
       "  120,\n",
       "  16,\n",
       "  136,\n",
       "  72,\n",
       "  152,\n",
       "  40],\n",
       " 20)"
      ]
     },
     "execution_count": 2,
     "metadata": {},
     "output_type": "execute_result"
    }
   ],
   "source": [
    "def nok(a, b):\n",
    "    n = max(a, b)\n",
    "    while (n % a != 0 or n % b != 0 ):\n",
    "        n += 1\n",
    "    return n\n",
    "mylist = list(map(lambda x: nok(x, 8), range(1, 21)))\n",
    "mylist, len(mylist)"
   ]
  },
  {
   "cell_type": "markdown",
   "metadata": {
    "hash": "870303ea1f"
   },
   "source": [
    "### Щеглова Полина СКБ172\n",
    "\n",
    "Оценка: 0.9\n",
    "\n",
    "Комментарий: Zero is wrong element."
   ]
  },
  {
   "cell_type": "code",
   "execution_count": 3,
   "metadata": {},
   "outputs": [],
   "source": [
    "# сгенерировать список любой заданной длины по следующему правилу: i-й элемент списка = НОК(i,8), где НОК(x,y) - наименьшее общее кратное чисел x и y\n"
   ]
  },
  {
   "cell_type": "code",
   "execution_count": 5,
   "metadata": {},
   "outputs": [
    {
     "data": {
      "text/plain": [
       "[0,\n",
       " 8,\n",
       " 8,\n",
       " 24,\n",
       " 8,\n",
       " 40,\n",
       " 24,\n",
       " 56,\n",
       " 8,\n",
       " 72,\n",
       " 40,\n",
       " 88,\n",
       " 24,\n",
       " 104,\n",
       " 56,\n",
       " 120,\n",
       " 16,\n",
       " 136,\n",
       " 72,\n",
       " 152,\n",
       " 40]"
      ]
     },
     "execution_count": 5,
     "metadata": {},
     "output_type": "execute_result"
    }
   ],
   "source": [
    "def lcm(a,b): # НОК(a,b)\n",
    "    m = a*b\n",
    "    while a != 0 and b != 0:\n",
    "        if a > b:\n",
    "            a %= b\n",
    "        else:\n",
    "            b %= a\n",
    "    return m // (a+b)\n",
    " \n",
    "length = 21 # задание длины списка\n",
    "def ruled_gen(n):\n",
    "    arr = [0]*n\n",
    "    for i in range(n):\n",
    "        arr[i] = lcm(i,8)\n",
    "    return arr\n",
    "\n",
    "ruled_gen(length)"
   ]
  },
  {
   "cell_type": "markdown",
   "metadata": {
    "hash": "d59980a676"
   },
   "source": [
    "### Мухамадиева Регина СКБ172\n",
    "\n",
    "Оценка: 0.9\n",
    "\n",
    "Комментарий: Zero is wrong element."
   ]
  },
  {
   "cell_type": "code",
   "execution_count": null,
   "metadata": {},
   "outputs": [],
   "source": [
    "# сгенерировать список любой заданной длины по следующему правилу: i-й элемент списка = НОК(i,8), где НОК(x,y) - наименьшее общее кратное чисел x и y\n"
   ]
  },
  {
   "cell_type": "code",
   "execution_count": 6,
   "metadata": {},
   "outputs": [
    {
     "name": "stdout",
     "output_type": "stream",
     "text": [
      "21\n",
      "[0, 8, 8, 24, 8, 40, 24, 56, 8, 72, 40, 88, 24, 104, 56, 120, 16, 136, 72, 152, 40]\n"
     ]
    }
   ],
   "source": [
    "def gcd(x,y):\n",
    "    a = max(x,y)\n",
    "    b = min(x,y)\n",
    "    while((b!=0)):\n",
    "        d=a%b\n",
    "        a=b\n",
    "        b=d\n",
    "    return a\n",
    "n = int(input())\n",
    "lst=list()\n",
    "for i in range(n):\n",
    "    lst.append(i*8//gcd(i,8))\n",
    "print(lst)"
   ]
  },
  {
   "cell_type": "markdown",
   "metadata": {
    "hash": "4894f58fef"
   },
   "source": [
    "### Астраханцев Роман СКБ171\n",
    "\n",
    "Оценка: 0.9\n",
    "\n",
    "Комментарий: Zero is wrong element."
   ]
  },
  {
   "cell_type": "code",
   "execution_count": 49,
   "metadata": {},
   "outputs": [],
   "source": [
    "# сгенерировать список любой заданной длины по следующему правилу: i-й элемент списка = НОК(i,8), где НОК(x,y) - наименьшее общее кратное чисел x и y\n"
   ]
  },
  {
   "cell_type": "code",
   "execution_count": 7,
   "metadata": {},
   "outputs": [
    {
     "name": "stdout",
     "output_type": "stream",
     "text": [
      "21\n"
     ]
    },
    {
     "data": {
      "text/plain": [
       "[0,\n",
       " 8,\n",
       " 8,\n",
       " 24,\n",
       " 8,\n",
       " 40,\n",
       " 24,\n",
       " 56,\n",
       " 8,\n",
       " 72,\n",
       " 40,\n",
       " 88,\n",
       " 24,\n",
       " 104,\n",
       " 56,\n",
       " 120,\n",
       " 16,\n",
       " 136,\n",
       " 72,\n",
       " 152,\n",
       " 40]"
      ]
     },
     "execution_count": 7,
     "metadata": {},
     "output_type": "execute_result"
    }
   ],
   "source": [
    "def gcd(a,b):\n",
    "    while b > 0:\n",
    "        a, b = b, a % b\n",
    "    return a\n",
    "    \n",
    "def lcm(a, b):\n",
    "    return a * b // gcd(a, b)\n",
    "    \n",
    "[lcm(i, 8) for i in range(int(input()))]"
   ]
  },
  {
   "cell_type": "markdown",
   "metadata": {
    "hash": "15f4b78d5f"
   },
   "source": [
    "### Бесчастных Роман СКБ171\n",
    "\n",
    "Оценка: 0.9\n",
    "\n",
    "Комментарий: Zero is wrong element."
   ]
  },
  {
   "cell_type": "code",
   "execution_count": 8,
   "metadata": {},
   "outputs": [],
   "source": [
    "# сгенерировать список любой заданной длины по следующему правилу: i-й элемент списка = НОК(i,8), где НОК(x,y) - наименьшее общее кратное чисел x и y\n"
   ]
  },
  {
   "cell_type": "code",
   "execution_count": 9,
   "metadata": {},
   "outputs": [
    {
     "name": "stdout",
     "output_type": "stream",
     "text": [
      "21\n",
      "[0, 8, 8, 24, 8, 40, 24, 56, 8, 72, 40, 88, 24, 104, 56, 120, 16, 136, 72, 152, 40]\n"
     ]
    }
   ],
   "source": [
    "import numpy as np\n",
    "result = []\n",
    "n = int(input())\n",
    "for i in range(n):\n",
    "    result.append(np.lcm(i, 8))\n",
    "print(result)"
   ]
  },
  {
   "cell_type": "markdown",
   "metadata": {
    "hash": "e3e8ebb08e"
   },
   "source": [
    "### Музаффаров Руфат СКБ171\n",
    "\n",
    "Оценка: 1\n",
    "\n",
    "Комментарий: -"
   ]
  },
  {
   "cell_type": "code",
   "execution_count": 10,
   "metadata": {},
   "outputs": [],
   "source": [
    "# сгенерировать список любой заданной длины по следующему правилу: i-й элемент списка = НОК(i,8), где НОК(x,y) - наименьшее общее кратное чисел x и y\n"
   ]
  },
  {
   "cell_type": "code",
   "execution_count": 11,
   "metadata": {},
   "outputs": [
    {
     "name": "stdout",
     "output_type": "stream",
     "text": [
      "21\n",
      "[8.0, 8.0, 24.0, 8.0, 40.0, 24.0, 56.0, 8.0, 72.0, 40.0, 88.0, 24.0, 104.0, 56.0, 120.0, 16.0, 136.0, 72.0, 152.0, 40.0, 168.0]\n"
     ]
    }
   ],
   "source": [
    "def lcm(x, y):\n",
    "    m = x * y\n",
    "    while x != 0 and y != 0:\n",
    "        if x > y:\n",
    "            x %= y\n",
    "        else:\n",
    "            y %= x\n",
    "    return m / (x + y)\n",
    "lst = []\n",
    "c = 8\n",
    "n = int(input())\n",
    "for i in range(1, n + 1):\n",
    "    lst.append(lcm(i, c))\n",
    "print(lst)"
   ]
  },
  {
   "cell_type": "markdown",
   "metadata": {
    "hash": "fbb3eb5f04"
   },
   "source": [
    "### Гаварина Светлана СКБ171\n",
    "\n",
    "Оценка: 0.9\n",
    "\n",
    "Комментарий: Zero is wrong element."
   ]
  },
  {
   "cell_type": "code",
   "execution_count": 12,
   "metadata": {},
   "outputs": [],
   "source": [
    "# сгенерировать список любой заданной длины по следующему правилу: i-й элемент списка = НОК(i,8), где НОК(x,y) - наименьшее общее кратное чисел x и y\n"
   ]
  },
  {
   "cell_type": "code",
   "execution_count": 13,
   "metadata": {},
   "outputs": [
    {
     "name": "stdout",
     "output_type": "stream",
     "text": [
      "[0, 8, 8, 24, 8, 40, 24, 56, 8, 72, 40, 88, 24, 104, 56, 120, 16, 136, 72, 152]\n"
     ]
    }
   ],
   "source": [
    "from math import gcd\n",
    "\n",
    "def nok(n, m):\n",
    "    return int((n / gcd(n,m)) * m)\n",
    "\n",
    "def my_list2(n):\n",
    "    s = []\n",
    "    for i in range(n):\n",
    "        s.append(nok(i, y))\n",
    "    return s\n",
    "\n",
    "y = 8 # Число, с которым у i должен быть НОК\n",
    "print(my_list2(20))"
   ]
  },
  {
   "cell_type": "markdown",
   "metadata": {
    "hash": "d4b4a0c75f"
   },
   "source": [
    "### Дундуков Семен СКБ171\n",
    "\n",
    "Оценка: 0\n",
    "\n",
    "Комментарий: Wrong result."
   ]
  },
  {
   "cell_type": "code",
   "execution_count": 14,
   "metadata": {},
   "outputs": [],
   "source": [
    "# сгенерировать список любой заданной длины по следующему правилу: i-й элемент списка = НОК(i,8), где НОК(x,y) - наименьшее общее кратное чисел x и y\n"
   ]
  },
  {
   "cell_type": "code",
   "execution_count": 15,
   "metadata": {},
   "outputs": [
    {
     "name": "stdout",
     "output_type": "stream",
     "text": [
      "a=3621\n",
      "b=1821\n",
      "НОК: 21\n",
      "a=3636\n",
      "b=1818\n",
      "НОК: 36\n",
      "a=36a\n"
     ]
    }
   ],
   "source": [
    "def lcm(a,b):\n",
    "    m = a*b\n",
    "    while a != 0 and b != 0:\n",
    "        if a > b:\n",
    "            a %= b\n",
    "        else:\n",
    "            b %= a\n",
    "    return m // (a+b)\n",
    " \n",
    "while 1:\n",
    "    try:\n",
    "        x = int(input('a=36'))\n",
    "        y = int(input('b=18'))\n",
    "        print('НОК:',lcm(x,y))\n",
    "    except:\n",
    "        break"
   ]
  },
  {
   "cell_type": "markdown",
   "metadata": {
    "hash": "2399d34da2"
   },
   "source": [
    "### Бень Таисия СКБ171\n",
    "\n",
    "Оценка: 0.9\n",
    "\n",
    "Комментарий: Zero is wrong element."
   ]
  },
  {
   "cell_type": "code",
   "execution_count": null,
   "metadata": {},
   "outputs": [],
   "source": [
    "# сгенерировать список любой заданной длины по следующему правилу: i-й элемент списка = НОК(i,8), где НОК(x,y) - наименьшее общее кратное чисел x и y\n"
   ]
  },
  {
   "cell_type": "code",
   "execution_count": 17,
   "metadata": {},
   "outputs": [
    {
     "name": "stdout",
     "output_type": "stream",
     "text": [
      "21\n",
      "[0, 8, 8, 24, 8, 40, 24, 56, 8, 72, 40, 88, 24, 104, 56, 120, 16, 136, 72, 152, 40]\n"
     ]
    }
   ],
   "source": [
    "from math import gcd\n",
    "n = int(input())\n",
    "lst = []\n",
    "for j in range(n):\n",
    "    lst+=[j*8//gcd(j,8)]\n",
    "print(lst)"
   ]
  },
  {
   "cell_type": "markdown",
   "metadata": {
    "hash": "cbdb3b9c23"
   },
   "source": [
    "### Козликина Татьяна СКБ172\n",
    "\n",
    "Оценка: 1\n",
    "\n",
    "Комментарий: -"
   ]
  },
  {
   "cell_type": "code",
   "execution_count": 13,
   "metadata": {},
   "outputs": [],
   "source": [
    "# сгенерировать список любой заданной длины по следующему правилу: i-й элемент списка = НОК(i,8), где НОК(x,y) - наименьшее общее кратное чисел x и y\n"
   ]
  },
  {
   "cell_type": "code",
   "execution_count": 18,
   "metadata": {},
   "outputs": [
    {
     "name": "stdout",
     "output_type": "stream",
     "text": [
      "21\n",
      "[8, 8, 24, 8, 40, 24, 56, 8, 72, 40, 88, 24, 104, 56, 120, 16, 136, 72, 152, 40, 168]\n"
     ]
    }
   ],
   "source": [
    "def least_common (a):\n",
    "    list_common = []\n",
    "    for i in range(1, a+1):\n",
    "        if i<=a:\n",
    "            if i >= 8:\n",
    "                max = i\n",
    "            else:\n",
    "                max = 8\n",
    "            for j in range(max, i*8+1):\n",
    "                if (j % i == 0) and (j % 8 == 0):\n",
    "                    list_common.append(j)\n",
    "                    break\n",
    "    return list_common\n",
    "\n",
    "b  = int(input())\n",
    "print(least_common(b))"
   ]
  },
  {
   "cell_type": "markdown",
   "metadata": {
    "hash": "c569889d42"
   },
   "source": [
    "### Апресян Тигран СКБ171\n",
    "\n",
    "Оценка: 1\n",
    "\n",
    "Комментарий: -"
   ]
  },
  {
   "cell_type": "code",
   "execution_count": 19,
   "metadata": {},
   "outputs": [],
   "source": [
    "# сгенерировать список любой заданной длины по следующему правилу: i-й элемент списка = НОК(i,8), где НОК(x,y) - наименьшее общее кратное чисел x и y\n"
   ]
  },
  {
   "cell_type": "code",
   "execution_count": 20,
   "metadata": {},
   "outputs": [
    {
     "name": "stdout",
     "output_type": "stream",
     "text": [
      "None 8 8 24 8 40 24 56 8 72 40 88 24 104 56 120 16 136 72 152 40\n"
     ]
    }
   ],
   "source": [
    "n = 8\n",
    "z = 21 #длина спискаа\n",
    "def evkl(x,y):\n",
    "    pr = x*y\n",
    "    while x!=0 and y!=0:\n",
    "        if x>y:\n",
    "            x%=y\n",
    "        else:\n",
    "            y%=x\n",
    "    return pr // (x+y)\n",
    "ls= []\n",
    "for i in range(0,z):\n",
    "    if i == 0:\n",
    "        ls.append(None)\n",
    "    else:\n",
    "        ls.append(evkl(i,n))\n",
    "print(*ls)"
   ]
  },
  {
   "cell_type": "markdown",
   "metadata": {
    "hash": "085aa1874a"
   },
   "source": [
    "### Долотов Фёдор СКБ172\n",
    "\n",
    "Оценка: 0.9\n",
    "\n",
    "Комментарий: Zero is wrong element."
   ]
  },
  {
   "cell_type": "code",
   "execution_count": 21,
   "metadata": {},
   "outputs": [],
   "source": [
    "# сгенерировать список любой заданной длины по следующему правилу: i-й элемент списка = НОК(i,8), где НОК(x,y) - наименьшее общее кратное чисел x и y\n"
   ]
  },
  {
   "cell_type": "code",
   "execution_count": 24,
   "metadata": {},
   "outputs": [
    {
     "name": "stdout",
     "output_type": "stream",
     "text": [
      "[0, 8, 8, 24, 8, 40, 24, 56, 8, 72, 40, 88, 24, 104, 56, 120, 16, 136, 72, 152, 40]\n"
     ]
    },
    {
     "data": {
      "text/plain": [
       "(None, 21)"
      ]
     },
     "execution_count": 24,
     "metadata": {},
     "output_type": "execute_result"
    }
   ],
   "source": [
    "length = 21\n",
    "b = []\n",
    "\n",
    "def lcm(a,b):\n",
    "    m = a*b\n",
    "    while a != 0 and b != 0:\n",
    "        if a > b:\n",
    "            a %= b\n",
    "        else:\n",
    "            b %= a\n",
    "    return m // (a+b)\n",
    "\n",
    "for i in range(0, length):\n",
    "    b.append(0)\n",
    "\n",
    "for i in range(0, length):\n",
    "    b[i] = lcm(i,8)\n",
    "print(b), len(b) "
   ]
  },
  {
   "cell_type": "markdown",
   "metadata": {
    "hash": "6463c3fd36"
   },
   "source": [
    "### Попов Юрий СКБ172\n",
    "\n",
    "Оценка: 0.9\n",
    "\n",
    "Комментарий: Zero is wrong element."
   ]
  },
  {
   "cell_type": "code",
   "execution_count": 13,
   "metadata": {},
   "outputs": [],
   "source": [
    "# сгенерировать список любой заданной длины по следующему правилу: i-й элемент списка = НОК(i,8), где НОК(x,y) - наименьшее общее кратное чисел x и y\n"
   ]
  },
  {
   "cell_type": "code",
   "execution_count": 25,
   "metadata": {},
   "outputs": [
    {
     "name": "stdout",
     "output_type": "stream",
     "text": [
      "Какую длину списка Вы хотите: \n",
      "21\n",
      "0 8 8 24 8 40 24 56 8 72 40 88 24 104 56 120 16 136 72 152 40\n"
     ]
    }
   ],
   "source": [
    "# Задание_6\n",
    "print('Какую длину списка Вы хотите: ')\n",
    "n = int(input())\n",
    "\n",
    "\n",
    "# Функция, которая считает НОК двух чисел\n",
    "def NOK(a, b):\n",
    "    m = a * b\n",
    "    while a != 0 and b != 0:\n",
    "        if a > b:\n",
    "            a %= b\n",
    "        else:\n",
    "            b %= a\n",
    "    return m // (a+b)\n",
    "\n",
    "# Функция, которая создает список, длиной n, по заданному правилу\n",
    "def nList(n):\n",
    "    lst = []\n",
    "\n",
    "    for i in range(n):\n",
    "        lst.append(NOK(i, 8))\n",
    "\n",
    "    print(*lst)\n",
    "\n",
    "\n",
    "nList(n)"
   ]
  },
  {
   "cell_type": "code",
   "execution_count": null,
   "metadata": {},
   "outputs": [],
   "source": []
  }
 ],
 "metadata": {
  "kernelspec": {
   "display_name": "Python 3",
   "language": "python",
   "name": "python3"
  },
  "language_info": {
   "codemirror_mode": {
    "name": "ipython",
    "version": 3
   },
   "file_extension": ".py",
   "mimetype": "text/x-python",
   "name": "python",
   "nbconvert_exporter": "python",
   "pygments_lexer": "ipython3",
   "version": "3.7.3"
  },
  "task": 6
 },
 "nbformat": 4,
 "nbformat_minor": 2
}
