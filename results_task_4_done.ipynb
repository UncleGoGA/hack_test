{
 "cells": [
  {
   "cell_type": "markdown",
   "metadata": {
    "task": 4
   },
   "source": [
    "-----\n",
    "#### Задание 4"
   ]
  },
  {
   "cell_type": "markdown",
   "metadata": {
    "hash": "8699e3d854"
   },
   "source": [
    "### Федоров Сергей СКБ172\n",
    "\n",
    "Оценка: 1\n",
    "\n",
    "Комментарий: -"
   ]
  },
  {
   "cell_type": "code",
   "execution_count": 3,
   "metadata": {
    "colab": {},
    "colab_type": "code",
    "id": "vynnwOlT-7HV"
   },
   "outputs": [],
   "source": [
    "# сгенерировать список любой заданной длины, состоящий из простых чисел\n"
   ]
  },
  {
   "cell_type": "code",
   "execution_count": 5,
   "metadata": {
    "colab": {
     "base_uri": "https://localhost:8080/"
    },
    "colab_type": "code",
    "id": "dqL_9Kyq-7HX",
    "outputId": "79101fd1-757b-4c51-910a-b143b4f1aad4"
   },
   "outputs": [
    {
     "name": "stdout",
     "output_type": "stream",
     "text": [
      "N=21\n",
      "[2, 3, 5, 7, 11, 13, 17, 19, 23, 29, 31, 37, 41, 43, 47, 53, 59, 61, 67, 71, 73]\n"
     ]
    }
   ],
   "source": [
    "# ВВедите длину N\n",
    "N = int(input(\"N=\"))\n",
    "ls = []\n",
    "k = 0\n",
    "r = 2\n",
    "t = 2\n",
    "while k != N:\n",
    "    while r < t:\n",
    "        if t % r == 0:\n",
    "            break\n",
    "        r += 1\n",
    "    else:\n",
    "        ls.append(t)\n",
    "        k += 1\n",
    "        r = 2\n",
    "        t += 1\n",
    "        continue\n",
    "    r = 2\n",
    "    t += 1\n",
    "\n",
    "print(ls)\n"
   ]
  },
  {
   "cell_type": "markdown",
   "metadata": {
    "hash": "61933bd99d"
   },
   "source": [
    "### Алексеев Кирилл СКБ172\n",
    "\n",
    "Оценка: 1\n",
    "\n",
    "Комментарий: How did you check result numbers for primality?"
   ]
  },
  {
   "cell_type": "code",
   "execution_count": 8,
   "metadata": {},
   "outputs": [],
   "source": [
    "# сгенерировать список любой заданной длины, состоящий из простых чисел\n"
   ]
  },
  {
   "cell_type": "code",
   "execution_count": 9,
   "metadata": {},
   "outputs": [
    {
     "name": "stdout",
     "output_type": "stream",
     "text": [
      "10\n",
      "[73961, 20747, 23663, 49477, 51257, 56267, 44797, 96911, 57943, 29879]\n"
     ]
    }
   ],
   "source": [
    "import random\n",
    "        \n",
    "def Check(num):        \n",
    "    c = int(num * 0.5)\n",
    "    i = 2\n",
    "    f = \"true\"\n",
    "    while (i < c) and (f == \"true\"):\n",
    "        if (num % i) == 0:\n",
    "            f = \"false\"\n",
    "        i = i + 1\n",
    "    if f == \"false\":\n",
    "        return 0\n",
    "    else:\n",
    "        return 1\n",
    "\n",
    "def prostNum(param, N):\n",
    "    f = \"false\"\n",
    "    param = param - 1\n",
    "    while f == \"false\":\n",
    "        param = param + 1\n",
    "        \n",
    "        if param > 2*N:\n",
    "            param = N\n",
    "            \n",
    "        if Check(param) == 1:\n",
    "            f = \"true\"\n",
    "    return param\n",
    "\n",
    "a = int(input())\n",
    "i = 0\n",
    "list = []\n",
    "while i < a:\n",
    "    c = random.randint(1, 100000)\n",
    "    num = random.randint(c, 2*c)\n",
    "    num = prostNum(num, c)\n",
    "    list.append(num)\n",
    "    i = i + 1\n",
    "print(list)"
   ]
  },
  {
   "cell_type": "markdown",
   "metadata": {
    "hash": "45b9ceed78"
   },
   "source": [
    "### Анчугов Роман СКБ171\n",
    "\n",
    "Оценка: 0.4\n",
    "\n",
    "Комментарий: Result list is shorter than expected. 1 is not a prime number."
   ]
  },
  {
   "cell_type": "code",
   "execution_count": 17,
   "metadata": {},
   "outputs": [],
   "source": [
    "# сгенерировать список любой заданной длины, состоящий из простых чисел\n"
   ]
  },
  {
   "cell_type": "code",
   "execution_count": 18,
   "metadata": {},
   "outputs": [
    {
     "name": "stdout",
     "output_type": "stream",
     "text": [
      "[1, 2, 3, 5, 7, 11, 13, 17, 19]\n"
     ]
    }
   ],
   "source": [
    "def is_prime(dig):\n",
    "    for i in range(2, dig):\n",
    "        if(dig % i == 0):\n",
    "            return False\n",
    "    return True\n",
    "    \n",
    "x = [x for x in range(1, 21) if is_prime(x)]\n",
    "print(x)"
   ]
  },
  {
   "cell_type": "markdown",
   "metadata": {
    "hash": "8be119c53a"
   },
   "source": [
    "### Акинина Алёна СКБ172\n",
    "\n",
    "Оценка: 0.9\n",
    "\n",
    "Комментарий: 1 is not a prime number"
   ]
  },
  {
   "cell_type": "code",
   "execution_count": 19,
   "metadata": {},
   "outputs": [],
   "source": [
    "# сгенерировать список любой заданной длины, состоящий из простых чисел\n"
   ]
  },
  {
   "cell_type": "code",
   "execution_count": 20,
   "metadata": {},
   "outputs": [
    {
     "name": "stdout",
     "output_type": "stream",
     "text": [
      "21\n",
      "[1, 2, 3, 5, 7, 11, 13, 17, 19, 23, 29, 31, 37, 41, 43, 47, 53, 59, 61, 67, 71]\n"
     ]
    }
   ],
   "source": [
    "k = 0\n",
    "n = int(input())\n",
    "a = [1]\n",
    "i = 2\n",
    "if n == 0:\n",
    "        a.remove(1)\n",
    "else:        \n",
    "    while len(a) < n:  \n",
    "        for j in range(1,len(a)):\n",
    "            if i%a[j] != 0:\n",
    "                k += 1       \n",
    "        if k == len(a)-1:\n",
    "            a.append(i)\n",
    "        k = 0 \n",
    "        i += 1\n",
    "print(a)               "
   ]
  },
  {
   "cell_type": "markdown",
   "metadata": {
    "hash": "f5676d34de"
   },
   "source": [
    "### Лисьев Александр СКБ171\n",
    "\n",
    "Оценка: 1\n",
    "\n",
    "Комментарий: -"
   ]
  },
  {
   "cell_type": "code",
   "execution_count": 24,
   "metadata": {},
   "outputs": [],
   "source": [
    "# сгенерировать список любой заданной длины, состоящий из простых чисел\n"
   ]
  },
  {
   "cell_type": "code",
   "execution_count": 25,
   "metadata": {},
   "outputs": [
    {
     "name": "stdout",
     "output_type": "stream",
     "text": [
      "[2, 3, 5, 7, 11, 13, 17, 19, 23, 29, 31, 37, 41, 43, 47, 53, 59, 61, 67, 71, 73]\n"
     ]
    }
   ],
   "source": [
    "def is_prime(num):\n",
    "    for i in range(3, int(num**0.5) + 1):\n",
    "        if num % i == 0:\n",
    "            return False\n",
    "    return True\n",
    "\n",
    "def prime_list(n):\n",
    "    l = [2]\n",
    "    i = 3\n",
    "    while len(l) < n:\n",
    "        if is_prime(i):\n",
    "            l.append(i)\n",
    "        i += 2\n",
    "    return l\n",
    "\n",
    "print(prime_list(21))"
   ]
  },
  {
   "cell_type": "markdown",
   "metadata": {
    "hash": "987c011ca1"
   },
   "source": [
    "### Чердак Александр СКБ171\n",
    "\n",
    "Оценка: 1\n",
    "\n",
    "Комментарий: -"
   ]
  },
  {
   "cell_type": "code",
   "execution_count": 3,
   "metadata": {},
   "outputs": [],
   "source": [
    "# сгенерировать список любой заданной длины, состоящий из простых чисел\n"
   ]
  },
  {
   "cell_type": "code",
   "execution_count": 4,
   "metadata": {},
   "outputs": [
    {
     "name": "stdout",
     "output_type": "stream",
     "text": [
      "21\n",
      "[2, 3, 5, 7, 11, 13, 17, 19, 23, 29, 31, 37, 41, 43, 47, 53, 59, 61, 67, 71, 73]\n"
     ]
    }
   ],
   "source": [
    "n = int(input())\n",
    "simplen = list()\n",
    "currnum = 2\n",
    "inc = 0\n",
    "\n",
    "while n > inc:\n",
    "    for x in simplen:\n",
    "        if currnum % x == 0:\n",
    "            break\n",
    "    else:\n",
    "        simplen.append(currnum)\n",
    "        inc += 1\n",
    "    currnum += 1\n",
    "print (simplen)"
   ]
  },
  {
   "cell_type": "markdown",
   "metadata": {
    "hash": "edfab041c6"
   },
   "source": [
    "### Шелепова Алена СКБ172\n",
    "\n",
    "Оценка: 0.5\n",
    "\n",
    "Комментарий: Result list is shorter than expected."
   ]
  },
  {
   "cell_type": "code",
   "execution_count": 12,
   "metadata": {},
   "outputs": [],
   "source": [
    "# сгенерировать список любой заданной длины, состоящий из простых чисел\n"
   ]
  },
  {
   "cell_type": "code",
   "execution_count": 13,
   "metadata": {},
   "outputs": [
    {
     "name": "stdout",
     "output_type": "stream",
     "text": [
      "[2, 3, 5, 7]\n"
     ]
    }
   ],
   "source": [
    "def simple_numbers(n):\n",
    "    l = list(range(n + 1))\n",
    "    l[1] = 0\n",
    "    for i in l:\n",
    "        if (i > 1):\n",
    "            for j in range(i + i, len(l), i):\n",
    "                l[j] = 0\n",
    "    return (list(filter(lambda x: x > 0, l)))\n",
    "print(simple_numbers(9))"
   ]
  },
  {
   "cell_type": "markdown",
   "metadata": {
    "hash": "e7846edd2c"
   },
   "source": [
    "### Шнейдер Алиса СКБ172\n",
    "\n",
    "Оценка: 0.5\n",
    "\n",
    "Комментарий: Result list is shorter than expected."
   ]
  },
  {
   "cell_type": "code",
   "execution_count": 14,
   "metadata": {},
   "outputs": [],
   "source": [
    "# сгенерировать список любой заданной длины, состоящий из простых чисел\n"
   ]
  },
  {
   "cell_type": "code",
   "execution_count": 15,
   "metadata": {},
   "outputs": [
    {
     "data": {
      "text/plain": [
       "[1, 3, 5, 7, 9, 11, 13, 15, 17, 19]"
      ]
     },
     "execution_count": 15,
     "metadata": {},
     "output_type": "execute_result"
    }
   ],
   "source": [
    "[x for x in range(21) if x % 2 != 0]"
   ]
  },
  {
   "cell_type": "markdown",
   "metadata": {
    "hash": "680f312dec"
   },
   "source": [
    "### Зайцева Анастасия СКБ171\n",
    "\n",
    "Оценка: 0.9\n",
    "\n",
    "Комментарий: 1 is not a prime number"
   ]
  },
  {
   "cell_type": "code",
   "execution_count": 18,
   "metadata": {},
   "outputs": [],
   "source": [
    "# сгенерировать список любой заданной длины, состоящий из простых чисел\n"
   ]
  },
  {
   "cell_type": "code",
   "execution_count": 19,
   "metadata": {},
   "outputs": [
    {
     "name": "stdout",
     "output_type": "stream",
     "text": [
      "21\n",
      "1 2 3 5 7 11 13 17 19 23 29 31 37 41 43 47 53 59 61 67 71\n"
     ]
    }
   ],
   "source": [
    "n = int(input())\n",
    "a = [1]\n",
    "if n == 2: a+= [2]\n",
    "else:\n",
    "    a+= [2]\n",
    "    i = 3\n",
    "    while len(a) < n:\n",
    "        flag = 0\n",
    "        if i%10 != 5:\n",
    "            for j in range(2,len(a)):\n",
    "                if i%a[j] == 0:\n",
    "                    flag = 1\n",
    "                    break\n",
    "            if flag == 0: a+= [i]\n",
    "        elif i == 5: a+= [i]\n",
    "        i+= 2\n",
    "print(*a)"
   ]
  },
  {
   "cell_type": "markdown",
   "metadata": {
    "hash": "fd1904cd9b"
   },
   "source": [
    "### Полуяктов Анатолий СКБ171\n",
    "\n",
    "Оценка: 0.8\n",
    "\n",
    "Комментарий: 1 is not a prime number but 2 is."
   ]
  },
  {
   "cell_type": "code",
   "execution_count": 22,
   "metadata": {},
   "outputs": [],
   "source": [
    "# сгенерировать список любой заданной длины, состоящий из простых чисел\n"
   ]
  },
  {
   "cell_type": "code",
   "execution_count": 23,
   "metadata": {},
   "outputs": [
    {
     "name": "stdout",
     "output_type": "stream",
     "text": [
      "21\n",
      "[1, 3, 5, 7, 11, 13, 17, 19, 23, 29, 31, 37, 41, 43, 47, 53, 59, 61, 67, 71, 73]\n"
     ]
    }
   ],
   "source": [
    "def isprime(i):\n",
    "    for j in range(2,i):\n",
    "        if(i%j==0):\n",
    "            return False\n",
    "    return True\n",
    "a=[]\n",
    "a.append(1)\n",
    "cnt=2\n",
    "n = int(input())\n",
    "while True:\n",
    "    cnt+=1\n",
    "    if(isprime(cnt)):\n",
    "        a.append(cnt)\n",
    "    if(len(a) == n):\n",
    "        break\n",
    "print(a)\n",
    "        \n",
    "    \n",
    "    "
   ]
  },
  {
   "cell_type": "markdown",
   "metadata": {
    "hash": "da15d1aae0"
   },
   "source": [
    "### Фомин Андрей СКБ172\n",
    "\n",
    "Оценка: 1\n",
    "\n",
    "Комментарий: -"
   ]
  },
  {
   "cell_type": "code",
   "execution_count": 27,
   "metadata": {},
   "outputs": [],
   "source": [
    "# сгенерировать список любой заданной длины, состоящий из простых чисел\n"
   ]
  },
  {
   "cell_type": "code",
   "execution_count": 28,
   "metadata": {},
   "outputs": [
    {
     "name": "stdout",
     "output_type": "stream",
     "text": [
      "[823, 773, 337, 557, 359, 353, 547, 673, 733, 17, 457, 167, 11, 17, 2, 317, 457, 29, 853, 983, 823, 503]\n"
     ]
    }
   ],
   "source": [
    "from random import *\n",
    "# функция, которая проверяет, простое число или нет. Если простое, то возвращает True, иначе возвращает False\n",
    "def prost(n):\n",
    "    if n == 2 or n == 3:\n",
    "        return True\n",
    "    a = n // 2\n",
    "    count = 0 # число\n",
    "    for i in range(2, a + 1):\n",
    "        if n % i == 0:\n",
    "            count += 1\n",
    "        if count > 0:\n",
    "            return False\n",
    "    return True\n",
    "\n",
    "\n",
    "def funct():\n",
    "    n = 21#randint(2, 15)\n",
    "    count = 0\n",
    "    mas = []\n",
    "    while count < n + 1:\n",
    "        c = randint(2,1000)\n",
    "        if prost(c):\n",
    "            mas.append(c)\n",
    "            count += 1\n",
    "    return mas\n",
    "\n",
    "\n",
    "print(funct())"
   ]
  },
  {
   "cell_type": "markdown",
   "metadata": {
    "hash": "8670705a3a"
   },
   "source": [
    "### Марипова Жасмин СКБ171\n",
    "\n",
    "Оценка: 1\n",
    "\n",
    "Комментарий: -"
   ]
  },
  {
   "cell_type": "code",
   "execution_count": 31,
   "metadata": {
    "colab": {},
    "colab_type": "code",
    "id": "uwyHWAqGDcT4"
   },
   "outputs": [],
   "source": [
    "# сгенерировать список любой заданной длины, состоящий из простых чисел\n"
   ]
  },
  {
   "cell_type": "code",
   "execution_count": 33,
   "metadata": {
    "colab": {
     "base_uri": "https://localhost:8080/",
     "height": 50
    },
    "colab_type": "code",
    "id": "7B2Q_GhwDcT-",
    "outputId": "d195fe98-cf3a-418e-f3e0-fbb883f98419"
   },
   "outputs": [
    {
     "name": "stdout",
     "output_type": "stream",
     "text": [
      "21\n",
      "[2, 3, 5, 7, 11, 13, 17, 19, 23, 29, 31, 37, 41, 43, 47, 53, 59, 61, 67, 71, 73]\n"
     ]
    }
   ],
   "source": [
    "a = int(input())\n",
    "lst=[]\n",
    "c = 2\n",
    "while a > 0:\n",
    "    for i in lst:\n",
    "        if c%i == 0:\n",
    "            break\n",
    "    else:\n",
    "        lst.append(c)\n",
    "        a -= 1\n",
    "    c += 1\n",
    "print(lst)"
   ]
  },
  {
   "cell_type": "markdown",
   "metadata": {
    "hash": "49bf872905"
   },
   "source": [
    "### Зоричев Борис СКБ172\n",
    "\n",
    "Оценка: 0.5\n",
    "\n",
    "Комментарий: Can't define list lenght."
   ]
  },
  {
   "cell_type": "code",
   "execution_count": 35,
   "metadata": {},
   "outputs": [],
   "source": [
    "# сгенерировать список любой заданной длины, состоящий из простых чисел\n"
   ]
  },
  {
   "cell_type": "code",
   "execution_count": 36,
   "metadata": {},
   "outputs": [
    {
     "data": {
      "text/plain": [
       "[2, 3, 5, 7, 11, 13, 17, 19]"
      ]
     },
     "execution_count": 36,
     "metadata": {},
     "output_type": "execute_result"
    }
   ],
   "source": [
    "lst=[]\n",
    "for num in range(2,20):\n",
    "    prime = True\n",
    "    for i in range(2,num):\n",
    "        if (num%i == 0):\n",
    "            prime = False\n",
    "    if prime:\n",
    "        lst.append(num)\n",
    "lst"
   ]
  },
  {
   "cell_type": "markdown",
   "metadata": {
    "hash": "3c7692137a"
   },
   "source": [
    "### Сербаев Вадим СКБ172\n",
    "\n",
    "Оценка: 0.8\n",
    "\n",
    "Комментарий: 0 and 1 is not a prime number."
   ]
  },
  {
   "cell_type": "code",
   "execution_count": 40,
   "metadata": {},
   "outputs": [],
   "source": [
    "# сгенерировать список любой заданной длины, состоящий из простых чисел\n"
   ]
  },
  {
   "cell_type": "code",
   "execution_count": 41,
   "metadata": {},
   "outputs": [
    {
     "name": "stdout",
     "output_type": "stream",
     "text": [
      "25\n",
      "[0, 1, 2, 3, 5, 7, 11, 13, 17, 19, 23, 29, 31, 37, 41, 43, 47, 53, 59, 61, 67, 71, 73, 79]\n"
     ]
    }
   ],
   "source": [
    "import math\n",
    "\n",
    "def PrimeChecker(n):\n",
    "    d = 2\n",
    "    while (d * d <= n)&( n % d != 0):\n",
    "        d += 1\n",
    "    return d * d > n\n",
    "\n",
    "MaxNum = int(input())\n",
    "if MaxNum>=3:\n",
    "    MaxNum = int(math.log(MaxNum)*MaxNum)\n",
    "L = [i for i in range(0, MaxNum) if PrimeChecker(i) == 1]\n",
    "print(L)"
   ]
  },
  {
   "cell_type": "markdown",
   "metadata": {
    "hash": "f59c3afdc4"
   },
   "source": [
    "### Булгаков Виталий СКБ172\n",
    "\n",
    "Оценка: 1\n",
    "\n",
    "Комментарий: -"
   ]
  },
  {
   "cell_type": "code",
   "execution_count": 42,
   "metadata": {},
   "outputs": [],
   "source": [
    "# сгенерировать список любой заданной длины, состоящий из простых чисел\n"
   ]
  },
  {
   "cell_type": "code",
   "execution_count": 43,
   "metadata": {},
   "outputs": [
    {
     "name": "stdout",
     "output_type": "stream",
     "text": [
      "21\n",
      "2 3 5 7 11 13 17 19 23 29 31 37 41 43 47 53 59 61 67 71 73\n"
     ]
    }
   ],
   "source": [
    "x = int(input())\n",
    "s = []\n",
    "def func(n):\n",
    "    if n % 2 == 0:\n",
    "        return n == 2\n",
    "    d = 3\n",
    "    while d * d <= n and n % d != 0:\n",
    "        d +=2\n",
    "    return d * d > n\n",
    "\n",
    "for i in range (2, x ** 2):\n",
    "    if len(s) == x:\n",
    "        break\n",
    "    elif func(i):\n",
    "        s.append(i)\n",
    "print(*s)"
   ]
  },
  {
   "cell_type": "markdown",
   "metadata": {
    "hash": "c942913613"
   },
   "source": [
    "### Андреева Влада СКБ171\n",
    "\n",
    "Оценка: 1\n",
    "\n",
    "Комментарий: -"
   ]
  },
  {
   "cell_type": "code",
   "execution_count": 44,
   "metadata": {},
   "outputs": [],
   "source": [
    "# сгенерировать список любой заданной длины, состоящий из простых чисел\n"
   ]
  },
  {
   "cell_type": "code",
   "execution_count": 45,
   "metadata": {},
   "outputs": [
    {
     "name": "stdout",
     "output_type": "stream",
     "text": [
      "21\n",
      "[2, 3, 5, 7, 11, 13, 17, 19, 23, 29, 31, 37, 41, 43, 47, 53, 59, 61, 67, 71, 73]\n"
     ]
    }
   ],
   "source": [
    "def prime(a):\n",
    "    k = 0\n",
    "    for i in range(int(a**0.5)+1):\n",
    "        if i != 0 and a % i == 0:\n",
    "            k += 1\n",
    "    return k\n",
    "n = int(input())\n",
    "final = []\n",
    "c = 2\n",
    "for i in range(n):\n",
    "    while prime(c) != 1:\n",
    "        c += 1\n",
    "    final.append(c)\n",
    "    c += 1\n",
    "print(final)"
   ]
  },
  {
   "cell_type": "markdown",
   "metadata": {
    "hash": "913f2d1dd9"
   },
   "source": [
    "### Клопов Владислав СКБ172\n",
    "\n",
    "Оценка: 1\n",
    "\n",
    "Комментарий: -"
   ]
  },
  {
   "cell_type": "code",
   "execution_count": 46,
   "metadata": {},
   "outputs": [],
   "source": [
    "# сгенерировать список любой заданной длины, состоящий из простых чисел\n"
   ]
  },
  {
   "cell_type": "code",
   "execution_count": 47,
   "metadata": {},
   "outputs": [
    {
     "name": "stdout",
     "output_type": "stream",
     "text": [
      "21\n"
     ]
    },
    {
     "data": {
      "text/plain": [
       "[2,\n",
       " 3,\n",
       " 5,\n",
       " 7,\n",
       " 11,\n",
       " 13,\n",
       " 17,\n",
       " 19,\n",
       " 23,\n",
       " 29,\n",
       " 31,\n",
       " 37,\n",
       " 41,\n",
       " 43,\n",
       " 47,\n",
       " 53,\n",
       " 59,\n",
       " 61,\n",
       " 67,\n",
       " 71,\n",
       " 73]"
      ]
     },
     "execution_count": 47,
     "metadata": {},
     "output_type": "execute_result"
    }
   ],
   "source": [
    "n=int(input())\n",
    "smpl=[]\n",
    "number=2\n",
    "while len(smpl)!=n:\n",
    "    flag=True\n",
    "    for i in range(2,int(number**0.5+1)):\n",
    "        if number%i==0:\n",
    "            flag=False\n",
    "            break\n",
    "    if flag:\n",
    "        smpl.append(number)\n",
    "    number+=1\n",
    "smpl"
   ]
  },
  {
   "cell_type": "markdown",
   "metadata": {
    "hash": "88d6b20127"
   },
   "source": [
    "### Сарахан Владислав СКБ172\n",
    "\n",
    "Оценка: 1\n",
    "\n",
    "Комментарий: -"
   ]
  },
  {
   "cell_type": "code",
   "execution_count": 48,
   "metadata": {},
   "outputs": [],
   "source": [
    "# сгенерировать список любой заданной длины, состоящий из простых чисел\n"
   ]
  },
  {
   "cell_type": "code",
   "execution_count": 49,
   "metadata": {},
   "outputs": [
    {
     "name": "stdout",
     "output_type": "stream",
     "text": [
      "21\n",
      "[2, 3, 5, 7, 11, 13, 17, 19, 23, 29, 31, 37, 41, 43, 47, 53, 59, 61, 67, 71, 73]\n"
     ]
    }
   ],
   "source": [
    "n = int(input())\n",
    "nums = []\n",
    "a = 2\n",
    "while len(nums) < n:\n",
    "    prime = True\n",
    "    for i in nums:\n",
    "        if(a % i == 0):\n",
    "            prime = False\n",
    "            break\n",
    "    if(prime):\n",
    "        nums.append(a)\n",
    "    a += 1\n",
    "print(nums)        "
   ]
  },
  {
   "cell_type": "markdown",
   "metadata": {
    "hash": "26119a97d0"
   },
   "source": [
    "### Старостин Данила СКБ172\n",
    "\n",
    "Оценка: 1\n",
    "\n",
    "Комментарий: -"
   ]
  },
  {
   "cell_type": "code",
   "execution_count": 50,
   "metadata": {},
   "outputs": [],
   "source": [
    "# сгенерировать список любой заданной длины, состоящий из простых чисел\n"
   ]
  },
  {
   "cell_type": "code",
   "execution_count": 51,
   "metadata": {},
   "outputs": [
    {
     "name": "stdout",
     "output_type": "stream",
     "text": [
      "21\n",
      "[2, 3, 5, 7, 11, 13, 17, 19, 23, 29, 31, 37, 41, 43, 47, 53, 59, 61, 67, 71, 73]\n"
     ]
    }
   ],
   "source": [
    "n = int(input())\n",
    "list_of_numbers = []\n",
    "counter = 2\n",
    "i = 1\n",
    "while i < 10:\n",
    "    for j in range(2, counter):\n",
    "        if counter % j == 0:\n",
    "            break\n",
    "    else:\n",
    "        list_of_numbers.append(counter)\n",
    "    counter += 1\n",
    "    if len(list_of_numbers) == n:\n",
    "        break\n",
    "print(list_of_numbers)"
   ]
  },
  {
   "cell_type": "markdown",
   "metadata": {
    "hash": "0a22720c49"
   },
   "source": [
    "### Стрекнев Денис СКБ172\n",
    "\n",
    "Оценка: 0.7\n",
    "\n",
    "Комментарий: 1 is not a prime number. Numbers are not unique."
   ]
  },
  {
   "cell_type": "code",
   "execution_count": 54,
   "metadata": {},
   "outputs": [],
   "source": [
    "# сгенерировать список любой заданной длины, состоящий из простых чисел\n"
   ]
  },
  {
   "cell_type": "code",
   "execution_count": 55,
   "metadata": {},
   "outputs": [
    {
     "name": "stdout",
     "output_type": "stream",
     "text": [
      "21\n"
     ]
    },
    {
     "data": {
      "text/plain": [
       "[79,\n",
       " 41,\n",
       " 13,\n",
       " 71,\n",
       " 53,\n",
       " 53,\n",
       " 89,\n",
       " 83,\n",
       " 5,\n",
       " 89,\n",
       " 61,\n",
       " 41,\n",
       " 47,\n",
       " 43,\n",
       " 67,\n",
       " 53,\n",
       " 2,\n",
       " 41,\n",
       " 97,\n",
       " 47,\n",
       " 29]"
      ]
     },
     "execution_count": 55,
     "metadata": {},
     "output_type": "execute_result"
    }
   ],
   "source": [
    "import random\n",
    "n=int(input())\n",
    "s=[]\n",
    "def prime(a):\n",
    "    k=0\n",
    "    for i in range(2,a):\n",
    "        if a%i==0:\n",
    "            k=k+1\n",
    "    if k==0:\n",
    "        return(1)\n",
    "    else:\n",
    "        return(0)\n",
    "    \n",
    "for i in range(n):\n",
    "    p=0\n",
    "    while p==0:\n",
    "        t=random.randint(1,100)\n",
    "        if prime(t)==1:\n",
    "            s.append(t)\n",
    "            p=1\n",
    "        \n",
    "s"
   ]
  },
  {
   "cell_type": "markdown",
   "metadata": {
    "hash": "63e0a37ae4"
   },
   "source": [
    "### Дородный Дмитрий СКБ172\n",
    "\n",
    "Оценка: 1\n",
    "\n",
    "Комментарий: -"
   ]
  },
  {
   "cell_type": "code",
   "execution_count": 58,
   "metadata": {},
   "outputs": [],
   "source": [
    "# сгенерировать список любой заданной длины, состоящий из простых чисел\n"
   ]
  },
  {
   "cell_type": "code",
   "execution_count": 59,
   "metadata": {},
   "outputs": [
    {
     "name": "stdout",
     "output_type": "stream",
     "text": [
      "21\n",
      "[2, 3, 5, 7, 11, 13, 17, 19, 23, 29, 31, 37, 41, 43, 47, 53, 59, 61, 67, 71, 73]\n"
     ]
    }
   ],
   "source": [
    "n = int(input())\n",
    "primes = []\n",
    "\n",
    "def primecheck(n):\n",
    "    if n==2: return True\n",
    "    if not n%2 or n<2: return False\n",
    "    for i in range(3,int(n**0.5)+1,2): \n",
    "        if not n%i:\n",
    "            return False    \n",
    "\n",
    "    return True\n",
    "\n",
    "for i in range(1, n**2):\n",
    "    if len(primes) == n: break\n",
    "    elif primecheck(i): primes.append(i)\n",
    "print(primes)\n",
    "        "
   ]
  },
  {
   "cell_type": "markdown",
   "metadata": {
    "hash": "e4572fb6ff"
   },
   "source": [
    "### Шемякин Дмитрий СКБ171\n",
    "\n",
    "Оценка: 1\n",
    "\n",
    "Комментарий: -"
   ]
  },
  {
   "cell_type": "code",
   "execution_count": 62,
   "metadata": {},
   "outputs": [],
   "source": [
    "# сгенерировать список любой заданной длины, состоящий из простых чисел\n"
   ]
  },
  {
   "cell_type": "code",
   "execution_count": 63,
   "metadata": {},
   "outputs": [
    {
     "name": "stdout",
     "output_type": "stream",
     "text": [
      "21\n",
      "[2, 3, 5, 7, 11, 13, 17, 19, 23, 29, 31, 37, 41, 43, 47, 53, 59, 61, 67, 71, 73]\n"
     ]
    }
   ],
   "source": [
    "# сгенерировать список любой заданной длины, состоящий из простых чисел\n",
    "n = int(input())\n",
    "\n",
    "lst=[]\n",
    "i = 2\n",
    "count = 0\n",
    "\n",
    "while count < n:\n",
    "    for j in lst:\n",
    "        if i % j == 0:\n",
    "            break\n",
    "    else:\n",
    "        lst.append(i)\n",
    "        count = count + 1\n",
    "        \n",
    "    i = i + 1\n",
    "            \n",
    "print (lst)"
   ]
  },
  {
   "cell_type": "markdown",
   "metadata": {
    "hash": "9ee13d89f3"
   },
   "source": [
    "### Никитина Елизавета СКБ171\n",
    "\n",
    "Оценка: 1\n",
    "\n",
    "Комментарий: -"
   ]
  },
  {
   "cell_type": "code",
   "execution_count": 64,
   "metadata": {},
   "outputs": [],
   "source": [
    "# сгенерировать список любой заданной длины, состоящий из простых чисел\n"
   ]
  },
  {
   "cell_type": "code",
   "execution_count": 65,
   "metadata": {},
   "outputs": [
    {
     "name": "stdout",
     "output_type": "stream",
     "text": [
      "Input 21\n",
      "[2, 3, 5, 7, 11, 13, 17, 19, 23, 29, 31, 37, 41, 43, 47, 53, 59, 61, 67, 71, 73]\n"
     ]
    }
   ],
   "source": [
    "alen = int(input('Input '))\n",
    "i = 2\n",
    "res = []\n",
    "def is_Prime(x):\n",
    "    k=0\n",
    "    for i in range(2,x+1):\n",
    "        if x%i==0:\n",
    "            k+=1\n",
    "        if k >= 2:\n",
    "            return False\n",
    "    return True\n",
    "\n",
    "while len(res) != alen:\n",
    "    if is_Prime(i):\n",
    "        res.append(i)\n",
    "    i += 1\n",
    "        \n",
    "        \n",
    "print(res)\n",
    "\n",
    "\n"
   ]
  },
  {
   "cell_type": "markdown",
   "metadata": {
    "hash": "64dc836089"
   },
   "source": [
    "### Семенов Игорь СКБ172\n",
    "\n",
    "Оценка: 1\n",
    "\n",
    "Комментарий: -"
   ]
  },
  {
   "cell_type": "code",
   "execution_count": 66,
   "metadata": {},
   "outputs": [],
   "source": [
    "# сгенерировать список любой заданной длины, состоящий из простых чисел\n"
   ]
  },
  {
   "cell_type": "code",
   "execution_count": 68,
   "metadata": {},
   "outputs": [
    {
     "name": "stdout",
     "output_type": "stream",
     "text": [
      "[2, 3, 5, 7, 11, 13, 17, 19, 23, 29, 31, 37, 41, 43, 47, 53, 59, 61, 67, 71, 73]\n"
     ]
    }
   ],
   "source": [
    " def prime_gen(n):\n",
    "\n",
    "    primes=[2]\n",
    "    a=2\n",
    "    while len(primes) < n:\n",
    "        j=0 \n",
    "        for i in primes:\n",
    "            if (a % i == 0):\n",
    "                j+=1\n",
    "        if (j==0):\n",
    "            primes.append(a)\n",
    "        a+=1\n",
    "    return primes\n",
    "\n",
    "print(prime_gen(21))"
   ]
  },
  {
   "cell_type": "markdown",
   "metadata": {
    "hash": "a03e7d31a7"
   },
   "source": [
    "### Шамрин Игорь СКБ172\n",
    "\n",
    "Оценка: 1\n",
    "\n",
    "Комментарий: -"
   ]
  },
  {
   "cell_type": "code",
   "execution_count": 71,
   "metadata": {},
   "outputs": [],
   "source": [
    "# сгенерировать список любой заданной длины, состоящий из простых чисел\n"
   ]
  },
  {
   "cell_type": "code",
   "execution_count": 72,
   "metadata": {},
   "outputs": [
    {
     "name": "stdout",
     "output_type": "stream",
     "text": [
      "21\n"
     ]
    },
    {
     "data": {
      "text/plain": [
       "[2,\n",
       " 3,\n",
       " 5,\n",
       " 7,\n",
       " 11,\n",
       " 13,\n",
       " 17,\n",
       " 19,\n",
       " 23,\n",
       " 29,\n",
       " 31,\n",
       " 37,\n",
       " 41,\n",
       " 43,\n",
       " 47,\n",
       " 53,\n",
       " 59,\n",
       " 61,\n",
       " 67,\n",
       " 71,\n",
       " 73]"
      ]
     },
     "execution_count": 72,
     "metadata": {},
     "output_type": "execute_result"
    }
   ],
   "source": [
    "primeList = []\n",
    "n = int(input())\n",
    "\n",
    "def isPrime(n):\n",
    "    res = True\n",
    "    for i in range(2,n):\n",
    "        if (n%i is 0):\n",
    "            res = False\n",
    "    return res\n",
    "\n",
    "i = 2\n",
    "while len(primeList) < n:\n",
    "    if isPrime(i):\n",
    "        primeList.append(i)\n",
    "    i += 1\n",
    "    \n",
    "primeList"
   ]
  },
  {
   "cell_type": "markdown",
   "metadata": {
    "hash": "c569b9634e"
   },
   "source": [
    "### Щербаков Игорь СКБ171\n",
    "\n",
    "Оценка: 1\n",
    "\n",
    "Комментарий: -"
   ]
  },
  {
   "cell_type": "code",
   "execution_count": 73,
   "metadata": {},
   "outputs": [],
   "source": [
    "# сгенерировать список любой заданной длины, состоящий из простых чисел\n"
   ]
  },
  {
   "cell_type": "code",
   "execution_count": 75,
   "metadata": {},
   "outputs": [
    {
     "name": "stdout",
     "output_type": "stream",
     "text": [
      "[2, 3, 5, 7, 11, 13, 17, 19, 23, 29, 31, 37, 41, 43, 47, 53, 59, 61, 67, 71, 73]\n"
     ]
    }
   ],
   "source": [
    "def generate_n_primes(n):\n",
    "    if n<0:\n",
    "        print(\"n must be non-negative\")\n",
    "        return\n",
    "    if n==0:\n",
    "        return []\n",
    "    else:\n",
    "        primes= [2]\n",
    "        current=3\n",
    "        while len(primes) < n:\n",
    "            flag=True\n",
    "            for i in primes:\n",
    "                if(current%i==0):\n",
    "                    flag=False\n",
    "            if flag:\n",
    "                primes  += [current]\n",
    "            current+=1\n",
    "    return primes\n",
    "print(generate_n_primes(21))"
   ]
  },
  {
   "cell_type": "markdown",
   "metadata": {
    "hash": "0f0bd22442"
   },
   "source": [
    "### Шомахов Идар СКБ171\n",
    "\n",
    "Оценка: 1\n",
    "\n",
    "Комментарий: -"
   ]
  },
  {
   "cell_type": "code",
   "execution_count": 76,
   "metadata": {},
   "outputs": [],
   "source": [
    "# сгенерировать список любой заданной длины, состоящий из простых чисел\n"
   ]
  },
  {
   "cell_type": "code",
   "execution_count": 77,
   "metadata": {},
   "outputs": [
    {
     "name": "stdout",
     "output_type": "stream",
     "text": [
      "21\n",
      "[2, 3, 5, 7, 11, 13, 17, 19, 23, 29, 31, 37, 41, 43, 47, 53, 59, 61, 67, 71, 73]\n"
     ]
    }
   ],
   "source": [
    "n = int(input())\n",
    "lst=[]\n",
    "a = 2\n",
    "while n > 0:\n",
    "    for i in lst:\n",
    "        if a%i == 0:\n",
    "            break\n",
    "    else:\n",
    "        lst.append(a)\n",
    "        n -= 1\n",
    "    a += 1\n",
    "print(lst)"
   ]
  },
  {
   "cell_type": "markdown",
   "metadata": {
    "hash": "c52087c4a8"
   },
   "source": [
    "### Григорьев Илья СКБ171\n",
    "\n",
    "Оценка: 1\n",
    "\n",
    "Комментарий: -"
   ]
  },
  {
   "cell_type": "code",
   "execution_count": 78,
   "metadata": {},
   "outputs": [],
   "source": [
    "# сгенерировать список любой заданной длины, состоящий из простых чисел\n"
   ]
  },
  {
   "cell_type": "code",
   "execution_count": 79,
   "metadata": {},
   "outputs": [
    {
     "name": "stdout",
     "output_type": "stream",
     "text": [
      "21\n",
      "[2, 3, 5, 7, 11, 13, 17, 19, 23, 29, 31, 37, 41, 43, 47, 53, 59, 61, 67, 71, 73]\n"
     ]
    }
   ],
   "source": [
    "n = int(input())\n",
    "l = []\n",
    "j = 0\n",
    "num = 1\n",
    "while j != n:\n",
    "    t = True\n",
    "    num += 1\n",
    "    for i in range(2, int(num ** (1/2)) + 1):\n",
    "        if num % i == 0:\n",
    "            t = False\n",
    "    if t:        \n",
    "        l.append(num)\n",
    "        j += 1\n",
    "print(l)        "
   ]
  },
  {
   "cell_type": "markdown",
   "metadata": {
    "hash": "ac62d6d9a0"
   },
   "source": [
    "### Фомин Илья СКБ171\n",
    "\n",
    "Оценка: 0.5\n",
    "\n",
    "Комментарий: Result list is shorter than expected."
   ]
  },
  {
   "cell_type": "code",
   "execution_count": 80,
   "metadata": {},
   "outputs": [],
   "source": [
    "# сгенерировать список любой заданной длины, состоящий из простых чисел\n"
   ]
  },
  {
   "cell_type": "code",
   "execution_count": 81,
   "metadata": {},
   "outputs": [
    {
     "name": "stdout",
     "output_type": "stream",
     "text": [
      "Количество простых чисел 21\n"
     ]
    },
    {
     "data": {
      "text/plain": [
       "[0, 1, 2, 3, 5, 7, 11, 13, 17, 19]"
      ]
     },
     "execution_count": 81,
     "metadata": {},
     "output_type": "execute_result"
    }
   ],
   "source": [
    "length = int(input('Количество простых чисел '))\n",
    "def Prime(x):\n",
    "    k=0\n",
    "    for i in range(2,x + 1):\n",
    "        if x % i == 0:\n",
    "            k += 1\n",
    "        if k >= 2:\n",
    "            return False\n",
    "    return True\n",
    "\n",
    "\n",
    "[x for x in range(length) if Prime(x)]"
   ]
  },
  {
   "cell_type": "markdown",
   "metadata": {
    "hash": "f5c905bf90"
   },
   "source": [
    "### Синицын Константин СКБ172\n",
    "\n",
    "Оценка: 1\n",
    "\n",
    "Комментарий: -"
   ]
  },
  {
   "cell_type": "code",
   "execution_count": 82,
   "metadata": {},
   "outputs": [],
   "source": [
    "# сгенерировать список любой заданной длины, состоящий из простых чисел\n"
   ]
  },
  {
   "cell_type": "code",
   "execution_count": 83,
   "metadata": {},
   "outputs": [
    {
     "name": "stdout",
     "output_type": "stream",
     "text": [
      "21\n",
      "[2, 3, 5, 7, 11, 13, 17, 19, 23, 29, 31, 37, 41, 43, 47, 53, 59, 61, 67, 71, 73]\n"
     ]
    }
   ],
   "source": [
    "from math import factorial\n",
    "\n",
    "n = int(input())\n",
    "prime_list = []\n",
    "\n",
    "i = 2\n",
    "while len(prime_list) < n:\n",
    "    if (factorial(i - 1) + 1) % i == 0:  #Теорема Вильсона\n",
    "        prime_list.append(i)\n",
    "    i += 1\n",
    "    \n",
    "print(prime_list)"
   ]
  },
  {
   "cell_type": "markdown",
   "metadata": {
    "hash": "f03861f4f4"
   },
   "source": [
    "### Смирнов Константин СКБ172\n",
    "\n",
    "Оценка: 1\n",
    "\n",
    "Комментарий: -"
   ]
  },
  {
   "cell_type": "code",
   "execution_count": 11,
   "metadata": {},
   "outputs": [],
   "source": [
    "# сгенерировать список любой заданной длины, состоящий из простых чисел"
   ]
  },
  {
   "cell_type": "code",
   "execution_count": 84,
   "metadata": {},
   "outputs": [
    {
     "name": "stdout",
     "output_type": "stream",
     "text": [
      "2 3 5 7 11 13 17 19 23 29 31 37 41 43 47 53 59 61 67 71 73\n"
     ]
    }
   ],
   "source": [
    "l = []\n",
    "n = 21\n",
    "\n",
    "def appendIfPrime(i):\n",
    "    for j in range(2, n-1):\n",
    "        if i % j == 0 and i != j: return\n",
    "    l.append(i)\n",
    "    \n",
    "i = 2\n",
    "while len(l) < n:\n",
    "    appendIfPrime(i)\n",
    "    i += 1\n",
    "    \n",
    "print(*l)"
   ]
  },
  {
   "cell_type": "markdown",
   "metadata": {
    "hash": "cff956a0a0"
   },
   "source": [
    "### Расторгуева Мария СКБ171\n",
    "\n",
    "Оценка: 0.9\n",
    "\n",
    "Комментарий: 1 is not a prime number."
   ]
  },
  {
   "cell_type": "code",
   "execution_count": null,
   "metadata": {},
   "outputs": [],
   "source": [
    "# сгенерировать список любой заданной длины, состоящий из простых чисел\n"
   ]
  },
  {
   "cell_type": "code",
   "execution_count": 85,
   "metadata": {},
   "outputs": [
    {
     "name": "stdout",
     "output_type": "stream",
     "text": [
      "21\n",
      "[1, 2, 3, 5, 7, 11, 13, 17, 19, 23, 29, 31, 37, 41, 43, 47, 53, 59, 61, 67, 71]\n"
     ]
    }
   ],
   "source": [
    "n = int(input())\n",
    "l = []\n",
    "natur = 1\n",
    "fl = 0\n",
    "while len(l)<n:\n",
    "    for i in range(2, natur):\n",
    "        if natur%i==0:\n",
    "            fl=1\n",
    "    if fl==0:\n",
    "        l.append(natur)\n",
    "    natur+=1\n",
    "    fl=0\n",
    "print (l)"
   ]
  },
  {
   "cell_type": "markdown",
   "metadata": {
    "hash": "a9a1c3af53"
   },
   "source": [
    "### Гвасалия Метью СКБ172\n",
    "\n",
    "Оценка: 1\n",
    "\n",
    "Комментарий: -"
   ]
  },
  {
   "cell_type": "code",
   "execution_count": null,
   "metadata": {},
   "outputs": [],
   "source": [
    "# сгенерировать список любой заданной длины, состоящий из простых чисел\n"
   ]
  },
  {
   "cell_type": "code",
   "execution_count": 86,
   "metadata": {},
   "outputs": [
    {
     "name": "stdout",
     "output_type": "stream",
     "text": [
      "21\n",
      "[2, 3, 5, 7, 11, 13, 17, 19, 23, 29, 31, 37, 41, 43, 47, 53, 59, 61, 67, 71, 73]\n"
     ]
    }
   ],
   "source": [
    "def isprime(n):\n",
    "    if n == 2:\n",
    "        return True\n",
    "    if not n & 1:\n",
    "        return False\n",
    "    for x in range(3, int(n**0.5) + 1, 2):\n",
    "        if not (n % x):\n",
    "            return False\n",
    "    return True\n",
    "\n",
    "def listOfPrimes(n):\n",
    "    primes = []\n",
    "    for num in range(2,int(n**(3.0/2)+1)):\n",
    "        if isprime(num) and len(primes) < n:\n",
    "            primes.append(num)\n",
    "        elif len(primes) == n:\n",
    "            break\n",
    "    return primes\n",
    "\n",
    "n = int(input())\n",
    "print(listOfPrimes(n))"
   ]
  },
  {
   "cell_type": "markdown",
   "metadata": {
    "hash": "f0b07e0cae"
   },
   "source": [
    "### Поддубный Михаил СКБ172\n",
    "\n",
    "Оценка: 0\n",
    "\n",
    "Комментарий: There are non prime numbers in result list."
   ]
  },
  {
   "cell_type": "code",
   "execution_count": 10,
   "metadata": {},
   "outputs": [],
   "source": [
    "# сгенерировать список любой заданной длины, состоящий из простых чисел\n"
   ]
  },
  {
   "cell_type": "code",
   "execution_count": 87,
   "metadata": {},
   "outputs": [
    {
     "name": "stdout",
     "output_type": "stream",
     "text": [
      "21\n",
      "[2, 3, 4, 5, 6, 7, 8, 9, 11, 13, 15, 17, 19, 23, 25, 29, 31, 35, 37, 41, 43]\n"
     ]
    }
   ],
   "source": [
    "#длина списка\n",
    "length=int(input())\n",
    "#сам список\n",
    "arr=list()\n",
    "\n",
    "def isPrime(n):\n",
    "    is_prime=True\n",
    "    for i in range(2, int(n**(1/2))):\n",
    "        if not n % i:\n",
    "            is_prime = False\n",
    "    return is_prime\n",
    "\n",
    "i = 0\n",
    "j = 2\n",
    "while i < length:\n",
    "    if isPrime(j):\n",
    "        arr.append(j)\n",
    "        i+=1\n",
    "    j+=1\n",
    "print(arr)"
   ]
  },
  {
   "cell_type": "markdown",
   "metadata": {
    "hash": "67a0375db8"
   },
   "source": [
    "### Миронов Никита СКБ171\n",
    "\n",
    "Оценка: 1\n",
    "\n",
    "Комментарий: -"
   ]
  },
  {
   "cell_type": "code",
   "execution_count": 88,
   "metadata": {},
   "outputs": [],
   "source": [
    "# сгенерировать список любой заданной длины, состоящий из простых чисел\n"
   ]
  },
  {
   "cell_type": "code",
   "execution_count": 89,
   "metadata": {},
   "outputs": [
    {
     "name": "stdout",
     "output_type": "stream",
     "text": [
      "21\n",
      "[2, 3, 5, 7, 11, 13, 17, 19, 23, 29, 31, 37, 41, 43, 47, 53, 59, 61, 67, 71, 73]\n"
     ]
    }
   ],
   "source": [
    "n=int(input())\n",
    "start=[2]\n",
    "next=3\n",
    "while len(start)<n:\n",
    "    prost=True\n",
    "    for i in start:\n",
    "        if next%i==0:\n",
    "            prost=False\n",
    "    if prost:        \n",
    "        start+=[next]\n",
    "    next+=1\n",
    "print(start)    "
   ]
  },
  {
   "cell_type": "markdown",
   "metadata": {
    "hash": "e7b623c94a"
   },
   "source": [
    "### Шубин Никита СКБ172\n",
    "\n",
    "Оценка: 1\n",
    "\n",
    "Комментарий: -"
   ]
  },
  {
   "cell_type": "code",
   "execution_count": null,
   "metadata": {},
   "outputs": [],
   "source": [
    "# сгенерировать список любой заданной длины, состоящий из простых чисел\n"
   ]
  },
  {
   "cell_type": "code",
   "execution_count": 91,
   "metadata": {},
   "outputs": [
    {
     "name": "stdout",
     "output_type": "stream",
     "text": [
      "Run\n",
      "21\n",
      "[2, 3, 5, 7, 11, 13, 17, 19, 23, 29, 31, 37, 41, 43, 47, 53, 59, 61, 67, 71, 73]\n"
     ]
    }
   ],
   "source": [
    "a = []\n",
    "print(\"Run\")\n",
    "def ifprime(n):\n",
    "    if n == 1:\n",
    "        return None\n",
    "    if n == 2:\n",
    "        return True\n",
    "    if n == 3:\n",
    "        return True\n",
    "    err = 0\n",
    "    for i in range (1, int(n**0.5) + 1):\n",
    "        if n % i == 0:\n",
    "            if (i != 1 and i != n):\n",
    "                err+=1\n",
    "    if err > 0:\n",
    "        return False \n",
    "    else:\n",
    "        return True\n",
    "\n",
    "itera = 0\n",
    "mynum = 2\n",
    "n = int(input())\n",
    "while itera < n:\n",
    "    if ifprime(mynum):\n",
    "        a.append(mynum)\n",
    "        itera += 1\n",
    "    mynum += 1\n",
    "print(a)"
   ]
  },
  {
   "cell_type": "raw",
   "metadata": {},
   "source": [
    "# Do not change cells with task conditions!\n",
    "\n",
    "This cells should be in result_tast_5.ipynb"
   ]
  },
  {
   "cell_type": "code",
   "execution_count": null,
   "metadata": {
    "task": 5
   },
   "outputs": [],
   "source": [
    "-----\n",
    "#### Задание 5"
   ]
  },
  {
   "cell_type": "code",
   "execution_count": null,
   "metadata": {},
   "outputs": [],
   "source": [
    "# сгенерировать список любой заданной длины по следующему правилу [1, 1, 2, 3, 3, 5, 4, 7, ...]\n"
   ]
  },
  {
   "cell_type": "code",
   "execution_count": 11,
   "metadata": {},
   "outputs": [
    {
     "data": {
      "text/plain": [
       "[1, 1, 2, 3, 3, 5, 4, 7, 5, 9, 6, 11]"
      ]
     },
     "execution_count": 11,
     "metadata": {},
     "output_type": "execute_result"
    }
   ],
   "source": [
    "mylist = list(map(lambda x : x if (x % 2  == 1)  else (x//2 + 1), range(12)))\n",
    "mylist"
   ]
  },
  {
   "cell_type": "markdown",
   "metadata": {
    "hash": "870303ea1f"
   },
   "source": [
    "### Щеглова Полина СКБ172\n",
    "\n",
    "Оценка: 1\n",
    "\n",
    "Комментарий: -"
   ]
  },
  {
   "cell_type": "code",
   "execution_count": 92,
   "metadata": {},
   "outputs": [],
   "source": [
    "# сгенерировать список любой заданной длины, состоящий из простых чисел\n"
   ]
  },
  {
   "cell_type": "code",
   "execution_count": 93,
   "metadata": {},
   "outputs": [
    {
     "data": {
      "text/plain": [
       "[2,\n",
       " 3,\n",
       " 5,\n",
       " 7,\n",
       " 11,\n",
       " 13,\n",
       " 17,\n",
       " 19,\n",
       " 23,\n",
       " 29,\n",
       " 31,\n",
       " 37,\n",
       " 41,\n",
       " 43,\n",
       " 47,\n",
       " 53,\n",
       " 59,\n",
       " 61,\n",
       " 67,\n",
       " 71,\n",
       " 73]"
      ]
     },
     "execution_count": 93,
     "metadata": {},
     "output_type": "execute_result"
    }
   ],
   "source": [
    "length = 21 # задание длины списка\n",
    "def IsPrime(n):\n",
    "    d = 2\n",
    "    while n % d != 0:\n",
    "        d += 1\n",
    "    return d == n\n",
    "\n",
    "def primes(n):\n",
    "    arr = []\n",
    "    number = 2\n",
    "    for i in range(n):\n",
    "        while True:\n",
    "            if IsPrime(number):\n",
    "                arr.append(number)\n",
    "                number+=1\n",
    "                break\n",
    "            number+=1\n",
    "    return arr\n",
    "\n",
    "primes(length)"
   ]
  },
  {
   "cell_type": "markdown",
   "metadata": {
    "hash": "d59980a676"
   },
   "source": [
    "### Мухамадиева Регина СКБ172\n",
    "\n",
    "Оценка: 1\n",
    "\n",
    "Комментарий: -"
   ]
  },
  {
   "cell_type": "code",
   "execution_count": 94,
   "metadata": {},
   "outputs": [],
   "source": [
    "# сгенерировать список любой заданной длины, состоящий из простых чисел\n"
   ]
  },
  {
   "cell_type": "code",
   "execution_count": 95,
   "metadata": {},
   "outputs": [
    {
     "name": "stdout",
     "output_type": "stream",
     "text": [
      "21\n",
      "[2, 3, 5, 7, 11, 13, 17, 19, 23, 29, 31, 37, 41, 43, 47, 53, 59, 61, 67, 71, 73]\n"
     ]
    }
   ],
   "source": [
    "n=int(input())\n",
    "primes=list()\n",
    "k=3\n",
    "while len(primes)<n:\n",
    "    if (primes==list()):\n",
    "        primes.append(2)\n",
    "    else:\n",
    "        while True:\n",
    "            fl=True\n",
    "            for i in primes:\n",
    "                if (k%i==0):\n",
    "                    k+=1\n",
    "                    fl=False\n",
    "                    break\n",
    "            if fl:\n",
    "                primes.append(k)\n",
    "                break\n",
    "print(primes)"
   ]
  },
  {
   "cell_type": "markdown",
   "metadata": {
    "hash": "4894f58fef"
   },
   "source": [
    "### Астраханцев Роман СКБ171\n",
    "\n",
    "Оценка: 0.5\n",
    "\n",
    "Комментарий: Result list is longer than expected."
   ]
  },
  {
   "cell_type": "code",
   "execution_count": 96,
   "metadata": {},
   "outputs": [],
   "source": [
    "# сгенерировать список любой заданной длины, состоящий из простых чисел\n"
   ]
  },
  {
   "cell_type": "code",
   "execution_count": 97,
   "metadata": {},
   "outputs": [
    {
     "name": "stdout",
     "output_type": "stream",
     "text": [
      "21\n",
      "[2, 3, 5, 7, 11, 13, 17, 19, 23, 29, 31, 37, 41, 43, 47, 53, 59, 61, 67, 71, 73, 79, 83, 89, 97]\n"
     ]
    }
   ],
   "source": [
    "import re\n",
    "def isPrime(n):\n",
    "    #Регулярное выражние на то, чтобы среди строки из n единичек найти \n",
    "    #подстроку из единичек (длины больше 1), которая будет повторяться целое число раз\n",
    "    return re.match(r'^1?$'+r'|'+r'^(11+?)'+r'\\1+$', '1' * n) == None\n",
    "n=int(input())\n",
    "l=[]\n",
    "M=100\n",
    "while len(l) < n:\n",
    "    l += filter(isPrime, range(M - 100, M))\n",
    "    M += 100\n",
    "print(l)"
   ]
  },
  {
   "cell_type": "markdown",
   "metadata": {
    "hash": "15f4b78d5f"
   },
   "source": [
    "### Бесчастных Роман СКБ171\n",
    "\n",
    "Оценка: 0.8\n",
    "\n",
    "Комментарий: Result != list"
   ]
  },
  {
   "cell_type": "code",
   "execution_count": 98,
   "metadata": {},
   "outputs": [],
   "source": [
    "# сгенерировать список любой заданной длины, состоящий из простых чисел\n"
   ]
  },
  {
   "cell_type": "code",
   "execution_count": 99,
   "metadata": {},
   "outputs": [
    {
     "name": "stdout",
     "output_type": "stream",
     "text": [
      "21\n",
      "{2, 3, 5, 7, 11, 13, 17, 19, 23, 29, 31, 37, 41, 43, 47, 53, 59, 61, 67, 71, 73}\n"
     ]
    }
   ],
   "source": [
    "quantity = int(input())\n",
    "result = set()\n",
    "value = 2\n",
    "while len(result) < quantity:\n",
    "    for number in range(2, value):\n",
    "        if number > 1:\n",
    "            for n in range(2, number):\n",
    "                if (number % n) == 0:\n",
    "                    break\n",
    "            else:\n",
    "                result.add(number)\n",
    "    value += 1\n",
    "\n",
    "print(result)"
   ]
  },
  {
   "cell_type": "markdown",
   "metadata": {
    "hash": "e3e8ebb08e"
   },
   "source": [
    "### Музаффаров Руфат СКБ171\n",
    "\n",
    "Оценка: 1\n",
    "\n",
    "Комментарий: -"
   ]
  },
  {
   "cell_type": "code",
   "execution_count": 100,
   "metadata": {},
   "outputs": [],
   "source": [
    "# сгенерировать список любой заданной длины, состоящий из простых чисел\n"
   ]
  },
  {
   "cell_type": "code",
   "execution_count": 101,
   "metadata": {},
   "outputs": [
    {
     "name": "stdout",
     "output_type": "stream",
     "text": [
      "21\n",
      "[2, 3, 5, 7, 11, 13, 17, 19, 23, 29, 31, 37, 41, 43, 47, 53, 59, 61, 67, 71, 73]\n"
     ]
    }
   ],
   "source": [
    "n = int(input())\n",
    "prime_num = []\n",
    "p = 2\n",
    "k = 0\n",
    "while k < n:\n",
    "    for y in prime_num:\n",
    "        if p % y == 0:\n",
    "            break\n",
    "    else:\n",
    "        prime_num.append(p)\n",
    "        k += 1\n",
    "    p += 1\n",
    "print(prime_num)"
   ]
  },
  {
   "cell_type": "markdown",
   "metadata": {
    "hash": "fbb3eb5f04"
   },
   "source": [
    "### Гаварина Светлана СКБ171\n",
    "\n",
    "Оценка: 0.9\n",
    "\n",
    "Комментарий: 1 is not a prime number."
   ]
  },
  {
   "cell_type": "code",
   "execution_count": null,
   "metadata": {},
   "outputs": [],
   "source": [
    "# сгенерировать список любой заданной длины, состоящий из простых чисел\n"
   ]
  },
  {
   "cell_type": "code",
   "execution_count": 103,
   "metadata": {},
   "outputs": [
    {
     "name": "stdout",
     "output_type": "stream",
     "text": [
      "[1, 2, 3, 5, 7, 11, 13, 17, 19, 23, 29, 31, 37, 41, 43, 47, 53, 59, 61, 67, 71]\n"
     ]
    }
   ],
   "source": [
    "from math import sqrt\n",
    "\n",
    "def primes(n):\n",
    "    s = []\n",
    "    i = 1\n",
    "    while len(s) < n:\n",
    "        if all(map(lambda y: (i % y != 0), range(2, round(sqrt(i)) + 1))):\n",
    "            s.append(i)\n",
    "        i += 1\n",
    "    return s\n",
    "    \n",
    "print(primes(21))"
   ]
  },
  {
   "cell_type": "markdown",
   "metadata": {
    "hash": "d4b4a0c75f"
   },
   "source": [
    "### Дундуков Семен СКБ171\n",
    "\n",
    "Оценка: 0.5\n",
    "\n",
    "Комментарий: Result list is shorter than expected."
   ]
  },
  {
   "cell_type": "code",
   "execution_count": null,
   "metadata": {},
   "outputs": [],
   "source": [
    "# сгенерировать список любой заданной длины, состоящий из простых чисел\n"
   ]
  },
  {
   "cell_type": "code",
   "execution_count": 104,
   "metadata": {},
   "outputs": [
    {
     "data": {
      "text/plain": [
       "[2, 3, 5, 7, 11, 13, 17, 19]"
      ]
     },
     "execution_count": 104,
     "metadata": {},
     "output_type": "execute_result"
    }
   ],
   "source": [
    "def gen(n):\n",
    "    primes = []\n",
    "    for i in range(2, n + 1):\n",
    "        isPrime = True\n",
    "        for num in range(2, int(i ** 0.5) + 1):\n",
    "            if i % num == 0:\n",
    "                isPrime = False\n",
    "                break\n",
    "        if isPrime:\n",
    "            primes.append(i)\n",
    "\n",
    "    return(primes)\n",
    "\n",
    "gen(21)"
   ]
  },
  {
   "cell_type": "markdown",
   "metadata": {
    "hash": "2399d34da2"
   },
   "source": [
    "### Бень Таисия СКБ171\n",
    "\n",
    "Оценка: 1\n",
    "\n",
    "Комментарий: -"
   ]
  },
  {
   "cell_type": "code",
   "execution_count": 105,
   "metadata": {},
   "outputs": [],
   "source": [
    "# сгенерировать список любой заданной длины, состоящий из простых чисел\n"
   ]
  },
  {
   "cell_type": "code",
   "execution_count": 106,
   "metadata": {},
   "outputs": [
    {
     "name": "stdout",
     "output_type": "stream",
     "text": [
      "21\n",
      "[2, 3, 5, 7, 11, 13, 17, 19, 23, 29, 31, 37, 41, 43, 47, 53, 59, 61, 67, 71, 73]\n"
     ]
    }
   ],
   "source": [
    "n = int(input())\n",
    "primes = []\n",
    "i = 2\n",
    "while len(primes) != n:\n",
    "    for a in range(2,i):\n",
    "        if i%a == 0:\n",
    "            break\n",
    "    else:\n",
    "        primes+=[i]\n",
    "    i+=1\n",
    "print(primes)"
   ]
  },
  {
   "cell_type": "markdown",
   "metadata": {
    "hash": "cbdb3b9c23"
   },
   "source": [
    "### Козликина Татьяна СКБ172\n",
    "\n",
    "Оценка: 1\n",
    "\n",
    "Комментарий: -"
   ]
  },
  {
   "cell_type": "code",
   "execution_count": 9,
   "metadata": {},
   "outputs": [],
   "source": [
    "# сгенерировать список любой заданной длины, состоящий из простых чисел\n"
   ]
  },
  {
   "cell_type": "code",
   "execution_count": 107,
   "metadata": {},
   "outputs": [
    {
     "name": "stdout",
     "output_type": "stream",
     "text": [
      "21\n",
      "[2, 3, 5, 7, 11, 13, 17, 19, 23, 29, 31, 37, 41, 43, 47, 53, 59, 61, 67, 71, 73]\n"
     ]
    }
   ],
   "source": [
    "def prime (a):\n",
    "    lst=[]\n",
    "    k = 0\n",
    "    for i in range(2, a**2):\n",
    "        if k != a:\n",
    "            for j in lst:\n",
    "                if i % j == 0:\n",
    "                    break\n",
    "            else:\n",
    "                lst.append(i)\n",
    "                k += 1\n",
    "        else:\n",
    "            break\n",
    "    return lst\n",
    "\n",
    "b  = int(input())\n",
    "print(prime(b))\n"
   ]
  },
  {
   "cell_type": "markdown",
   "metadata": {
    "hash": "c569889d42"
   },
   "source": [
    "### Апресян Тигран СКБ171\n",
    "\n",
    "Оценка: 0.9\n",
    "\n",
    "Комментарий: 1 is not a prime number."
   ]
  },
  {
   "cell_type": "code",
   "execution_count": 115,
   "metadata": {},
   "outputs": [],
   "source": [
    "# сгенерировать список любой заданной длины, состоящий из простых чисел\n"
   ]
  },
  {
   "cell_type": "code",
   "execution_count": 109,
   "metadata": {},
   "outputs": [
    {
     "name": "stdout",
     "output_type": "stream",
     "text": [
      "1 2 3 5 7 11 13 17 19 23 29 31 37 41 43 47 53 59 61 67 71\n"
     ]
    }
   ],
   "source": [
    "def isPrime(n) : \n",
    "    if (n <= 3) : \n",
    "        return True\n",
    "    if (n % 2 == 0 or n % 3 == 0) : \n",
    "        return False\n",
    "    i = 5\n",
    "    while(i * i <= n) : \n",
    "        if (n % i == 0 or n % (i + 2) == 0) : \n",
    "            return False\n",
    "        i = i + 6  \n",
    "    return True\n",
    "c = 21 #длина списка\n",
    "lsp=[]\n",
    "check = 0\n",
    "while len(lsp)!=c:\n",
    "    check +=1\n",
    "    if isPrime(check):\n",
    "            lsp.append(check)\n",
    "print(*lsp)"
   ]
  },
  {
   "cell_type": "markdown",
   "metadata": {
    "hash": "085aa1874a"
   },
   "source": [
    "### Долотов Фёдор СКБ172\n",
    "\n",
    "Оценка: 1\n",
    "\n",
    "Комментарий: -"
   ]
  },
  {
   "cell_type": "code",
   "execution_count": 110,
   "metadata": {},
   "outputs": [],
   "source": [
    "# сгенерировать список любой заданной длины, состоящий из простых чисел\n"
   ]
  },
  {
   "cell_type": "code",
   "execution_count": 127,
   "metadata": {},
   "outputs": [
    {
     "name": "stdout",
     "output_type": "stream",
     "text": [
      "[61, 59, 3, 11, 43, 73, 79, 47, 13, 37, 67, 53, 2, 23, 83, 31, 19, 17, 71, 29, 7]\n"
     ]
    },
    {
     "data": {
      "text/plain": [
       "([2,\n",
       "  3,\n",
       "  7,\n",
       "  11,\n",
       "  13,\n",
       "  17,\n",
       "  19,\n",
       "  23,\n",
       "  29,\n",
       "  31,\n",
       "  37,\n",
       "  43,\n",
       "  47,\n",
       "  53,\n",
       "  59,\n",
       "  61,\n",
       "  67,\n",
       "  71,\n",
       "  73,\n",
       "  79,\n",
       "  83],\n",
       " True)"
      ]
     },
     "execution_count": 127,
     "metadata": {},
     "output_type": "execute_result"
    }
   ],
   "source": [
    "import random\n",
    "length = 21\n",
    "a = []\n",
    "\n",
    "def IsPrime(n):\n",
    "    b = 2\n",
    "    while n % b != 0:\n",
    "        b += 1\n",
    "    return b == n\n",
    "\n",
    "primes = [i for i in range(2, 100) if IsPrime(i)]\n",
    "random.shuffle(primes)\n",
    "\n",
    "for j in range(0, length):\n",
    "    n = primes[j]\n",
    "    a.append(n)\n",
    "print(a)\n",
    "sorted(a), len(a)==len(set(a))"
   ]
  },
  {
   "cell_type": "markdown",
   "metadata": {
    "hash": "6463c3fd36"
   },
   "source": [
    "### Попов Юрий СКБ172\n",
    "\n",
    "Оценка: 1\n",
    "\n",
    "Комментарий: -"
   ]
  },
  {
   "cell_type": "code",
   "execution_count": 9,
   "metadata": {},
   "outputs": [],
   "source": [
    "# сгенерировать список любой заданной длины, состоящий из простых чисел\n"
   ]
  },
  {
   "cell_type": "code",
   "execution_count": 128,
   "metadata": {},
   "outputs": [
    {
     "name": "stdout",
     "output_type": "stream",
     "text": [
      "Какую длину списка Вы хотите: \n",
      "21\n",
      "2 3 5 7 11 13 17 19 23 29 31 37 41 43 47 53 59 61 67 71 73\n"
     ]
    }
   ],
   "source": [
    "# Задание_4\n",
    "from math import sqrt\n",
    "print('Какую длину списка Вы хотите: ')\n",
    "n = int(input())\n",
    "\n",
    "\n",
    "# Функция, которая определяет простое число или нет\n",
    "def IsPrime(n):\n",
    "    i = 2\n",
    "    while i <= sqrt(n):\n",
    "        if n % i == 0:\n",
    "            return False\n",
    "        i += 1\n",
    "    return True\n",
    "\n",
    "\n",
    "#  Функция, которая создает список, длиной n, по заданному правилу\n",
    "def PrimeList(n):\n",
    "    lst = []\n",
    "    i = 2\n",
    "    while len(lst) != n:\n",
    "        if IsPrime(i):\n",
    "            lst.append(i)\n",
    "        i += 1\n",
    "    print(*lst)\n",
    "    # print('Длина списка: ', len(lst))\n",
    "\n",
    "    \n",
    "PrimeList(n)"
   ]
  },
  {
   "cell_type": "code",
   "execution_count": null,
   "metadata": {},
   "outputs": [],
   "source": []
  }
 ],
 "metadata": {
  "kernelspec": {
   "display_name": "Python 3",
   "language": "python",
   "name": "python3"
  },
  "language_info": {
   "codemirror_mode": {
    "name": "ipython",
    "version": 3
   },
   "file_extension": ".py",
   "mimetype": "text/x-python",
   "name": "python",
   "nbconvert_exporter": "python",
   "pygments_lexer": "ipython3",
   "version": "3.7.3"
  },
  "task": 4
 },
 "nbformat": 4,
 "nbformat_minor": 2
}
