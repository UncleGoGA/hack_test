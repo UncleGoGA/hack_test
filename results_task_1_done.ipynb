{
 "cells": [
  {
   "cell_type": "markdown",
   "metadata": {
    "task": 1
   },
   "source": [
    "-----\n",
    "#### Задание 1"
   ]
  },
  {
   "cell_type": "markdown",
   "metadata": {
    "hash": "8699e3d854"
   },
   "source": [
    "### Федоров Сергей СКБ172\n",
    "\n",
    "Оценка: 1\n",
    "\n",
    "Комментарий: -"
   ]
  },
  {
   "cell_type": "code",
   "execution_count": 1,
   "metadata": {
    "colab": {},
    "colab_type": "code",
    "id": "XLn1wbMu-7HD"
   },
   "outputs": [],
   "source": [
    "# вывести список кортежей d на экран так, чтобы каждая буква была на новой строке \n",
    "# со сдвигом от левого края на количество пробелов, равное целому числу в её кортеже\n",
    "# ЗАПРЕЩАЕТСЯ использовать циклы Python!\n",
    "\n",
    "d = [('P', 4), ('y', 5), ('t', 7), ('h', 7), ('o', 7), ('n', 6), (' ', 4), ('n', 3), ('o', 1), ('h', 0), ('t', 0), ('y', 0), ('P', 2)]\n"
   ]
  },
  {
   "cell_type": "code",
   "execution_count": 2,
   "metadata": {
    "colab": {
     "base_uri": "https://localhost:8080/"
    },
    "colab_type": "code",
    "id": "tbIMKToI-7HG",
    "outputId": "ce4fd43e-121a-4a6c-9b7f-176e68aaec87"
   },
   "outputs": [
    {
     "name": "stdout",
     "output_type": "stream",
     "text": [
      "     P\n",
      "      y\n",
      "        t\n",
      "        h\n",
      "        o\n",
      "       n\n",
      "      \n",
      "    n\n",
      "  o\n",
      " h\n",
      " t\n",
      " y\n",
      "   P\n"
     ]
    }
   ],
   "source": [
    "def vivod(a):\n",
    "  print(' '*a[1], a[0])\n",
    "d = [('P', 4), ('y', 5), ('t', 7), ('h', 7), ('o', 7), ('n', 6), (' ', 4), ('n', 3), ('o', 1), ('h', 0), ('t', 0), ('y', 0), ('P', 2)]\n",
    "\n",
    "cap = list(map(vivod, d))  "
   ]
  },
  {
   "cell_type": "markdown",
   "metadata": {
    "hash": "61933bd99d"
   },
   "source": [
    "### Алексеев Кирилл СКБ172\n",
    "\n",
    "Оценка: 1\n",
    "\n",
    "Комментарий: -"
   ]
  },
  {
   "cell_type": "code",
   "execution_count": 5,
   "metadata": {},
   "outputs": [],
   "source": [
    "# вывести список кортежей d на экран так, чтобы каждая буква была на новой строке \n",
    "# со сдвигом от левого края на количество пробелов, равное целому числу в её кортеже\n",
    "# ЗАПРЕЩАЕТСЯ использовать циклы Python!\n",
    "\n",
    "d = [('P', 4), ('y', 5), ('t', 7), ('h', 7), ('o', 7), ('n', 6), (' ', 4), ('n', 3), ('o', 1), ('h', 0), ('t', 0), ('y', 0), ('P', 2)]\n"
   ]
  },
  {
   "cell_type": "code",
   "execution_count": 6,
   "metadata": {},
   "outputs": [
    {
     "name": "stdout",
     "output_type": "stream",
     "text": [
      "    P\n",
      "     y\n",
      "       t\n",
      "       h\n",
      "       o\n",
      "      n\n",
      "     \n",
      "   n\n",
      " o\n",
      "h\n",
      "t\n",
      "y\n",
      "  P\n"
     ]
    }
   ],
   "source": [
    "d = [('P', 4), ('y', 5), ('t', 7), ('h', 7), ('o', 7), ('n', 6), (' ', 4), ('n', 3), ('o', 1), ('h', 0), ('t', 0), ('y', 0), ('P', 2)]\n",
    "ch = len(d)\n",
    "\n",
    "def cycle(i):\n",
    "    if i > 0:\n",
    "        cycle(i-1)\n",
    "    print(\" \" * d[i][1] + d[i][0])\n",
    "         \n",
    "cycle(ch - 1)"
   ]
  },
  {
   "cell_type": "markdown",
   "metadata": {
    "hash": "45b9ceed78"
   },
   "source": [
    "### Анчугов Роман СКБ171\n",
    "\n",
    "Оценка: 1\n",
    "\n",
    "Комментарий: -"
   ]
  },
  {
   "cell_type": "code",
   "execution_count": 9,
   "metadata": {},
   "outputs": [],
   "source": [
    "# вывести список кортежей d на экран так, чтобы каждая буква была на новой строке \n",
    "# со сдвигом от левого края на количество пробелов, равное целому числу в её кортеже\n",
    "# ЗАПРЕЩАЕТСЯ использовать циклы Python!\n",
    "\n",
    "d = [('P', 4), ('y', 5), ('t', 7), ('h', 7), ('o', 7), ('n', 6), (' ', 4), ('n', 3), ('o', 1), ('h', 0), ('t', 0), ('y', 0), ('P', 2)]\n"
   ]
  },
  {
   "cell_type": "code",
   "execution_count": 10,
   "metadata": {},
   "outputs": [
    {
     "name": "stdout",
     "output_type": "stream",
     "text": [
      "    P\n",
      "     y\n",
      "       t\n",
      "       h\n",
      "       o\n",
      "      n\n",
      "     \n",
      "   n\n",
      " o\n",
      "h\n",
      "t\n",
      "y\n",
      "  P\n",
      "\n"
     ]
    }
   ],
   "source": [
    "result = \"\".join(list(map(lambda d: \" \" * d[1] + d[0] + \"\\n\", d)))\n",
    "print(result)"
   ]
  },
  {
   "cell_type": "markdown",
   "metadata": {
    "hash": "8be119c53a"
   },
   "source": [
    "### Акинина Алёна СКБ172\n",
    "\n",
    "Оценка: 1\n",
    "\n",
    "Комментарий: -"
   ]
  },
  {
   "cell_type": "code",
   "execution_count": 13,
   "metadata": {},
   "outputs": [],
   "source": [
    "# вывести список кортежей d на экран так, чтобы каждая буква была на новой строке \n",
    "# со сдвигом от левого края на количество пробелов, равное целому числу в её кортеже\n",
    "# ЗАПРЕЩАЕТСЯ использовать циклы Python!\n",
    "\n",
    "d = [('P', 4), ('y', 5), ('t', 7), ('h', 7), ('o', 7), ('n', 6), (' ', 4), ('n', 3), ('o', 1), ('h', 0), ('t', 0), ('y', 0), ('P', 2)]\n"
   ]
  },
  {
   "cell_type": "code",
   "execution_count": 14,
   "metadata": {},
   "outputs": [
    {
     "name": "stdout",
     "output_type": "stream",
     "text": [
      "    P\n",
      "     y\n",
      "       t\n",
      "       h\n",
      "       o\n",
      "      n\n",
      "     \n",
      "   n\n",
      " o\n",
      "h\n",
      "t\n",
      "y\n",
      "  P\n",
      "\n"
     ]
    }
   ],
   "source": [
    "print(''.join(map(lambda x : ' '*x[1] + x[0] + '\\n',[('P', 4), ('y', 5), ('t', 7), ('h', 7), ('o', 7), ('n', 6), (' ', 4), ('n', 3), ('o', 1), ('h', 0), ('t', 0), ('y', 0), ('P', 2)])))"
   ]
  },
  {
   "cell_type": "markdown",
   "metadata": {
    "hash": "f5676d34de"
   },
   "source": [
    "### Лисьев Александр СКБ171\n",
    "\n",
    "Оценка: 0.5\n",
    "\n",
    "Комментарий: For=1"
   ]
  },
  {
   "cell_type": "code",
   "execution_count": 17,
   "metadata": {},
   "outputs": [],
   "source": [
    "# вывести список кортежей d на экран так, чтобы каждая буква была на новой строке \n",
    "# со сдвигом от левого края на количество пробелов, равное целому числу в её кортеже\n",
    "# ЗАПРЕЩАЕТСЯ использовать циклы Python!\n",
    "\n",
    "d = [('P', 4), ('y', 5), ('t', 7), ('h', 7), ('o', 7), ('n', 6), (' ', 4), ('n', 3), ('o', 1), ('h', 0), ('t', 0), ('y', 0), ('P', 2)]\n"
   ]
  },
  {
   "cell_type": "code",
   "execution_count": 18,
   "metadata": {},
   "outputs": [
    {
     "name": "stdout",
     "output_type": "stream",
     "text": [
      "    P\n",
      "     y\n",
      "       t\n",
      "       h\n",
      "       o\n",
      "      n\n",
      "     \n",
      "   n\n",
      " o\n",
      "h\n",
      "t\n",
      "y\n",
      "  P\n"
     ]
    }
   ],
   "source": [
    "l = [(\" \" * x[1] + x[0]) for x in d]\n",
    "print(\"\\n\".join(l))"
   ]
  },
  {
   "cell_type": "markdown",
   "metadata": {
    "hash": "987c011ca1"
   },
   "source": [
    "### Чердак Александр СКБ171\n",
    "\n",
    "Оценка: 1\n",
    "\n",
    "Комментарий: -"
   ]
  },
  {
   "cell_type": "code",
   "execution_count": 21,
   "metadata": {},
   "outputs": [],
   "source": [
    "# вывести список кортежей d на экран так, чтобы каждая буква была на новой строке \n",
    "# со сдвигом от левого края на количество пробелов, равное целому числу в её кортеже\n",
    "# ЗАПРЕЩАЕТСЯ использовать циклы Python!\n",
    "\n",
    "d = [('P', 4), ('y', 5), ('t', 7), ('h', 7), ('o', 7), ('n', 6), (' ', 4), ('n', 3), ('o', 1), ('h', 0), ('t', 0), ('y', 0), ('P', 2)]\n"
   ]
  },
  {
   "cell_type": "code",
   "execution_count": 22,
   "metadata": {},
   "outputs": [
    {
     "name": "stdout",
     "output_type": "stream",
     "text": [
      "    P\n",
      "     y\n",
      "       t\n",
      "       h\n",
      "       o\n",
      "      n\n",
      "     \n",
      "   n\n",
      " o\n",
      "h\n",
      "t\n",
      "y\n",
      "  P\n"
     ]
    }
   ],
   "source": [
    "d = [('P', 4), ('y', 5), ('t', 7), ('h', 7), ('o', 7), ('n', 6), (' ', 4), ('n', 3), ('o', 1), ('h', 0), ('t', 0), ('y', 0), ('P', 2)]\n",
    "\n",
    "l = list(map(lambda item: item[1] * \" \" + item[0], d))\n",
    "print(\"\\n\".join(map(str,l)))"
   ]
  },
  {
   "cell_type": "markdown",
   "metadata": {
    "hash": "edfab041c6"
   },
   "source": [
    "### Шелепова Алена СКБ172\n",
    "\n",
    "Оценка: 1\n",
    "\n",
    "Комментарий: -"
   ]
  },
  {
   "cell_type": "code",
   "execution_count": 25,
   "metadata": {},
   "outputs": [],
   "source": [
    "# вывести список кортежей d на экран так, чтобы каждая буква была на новой строке \n",
    "# со сдвигом от левого края на количество пробелов, равное целому числу в её кортеже\n",
    "# ЗАПРЕЩАЕТСЯ использовать циклы Python!\n",
    "\n",
    "d = [('P', 4), ('y', 5), ('t', 7), ('h', 7), ('o', 7), ('n', 6), (' ', 4), ('n', 3), ('o', 1), ('h', 0), ('t', 0), ('y', 0), ('P', 2)]\n"
   ]
  },
  {
   "cell_type": "code",
   "execution_count": 26,
   "metadata": {},
   "outputs": [
    {
     "name": "stdout",
     "output_type": "stream",
     "text": [
      "    P\n",
      "     y\n",
      "       t\n",
      "       h\n",
      "       o\n",
      "      n\n",
      "     \n",
      "   n\n",
      " o\n",
      "h\n",
      "t\n",
      "y\n",
      "  P\n"
     ]
    }
   ],
   "source": [
    "d = [('P', 4), ('y', 5), ('t', 7), ('h', 7), ('o', 7), ('n', 6), (' ', 4), ('n', 3), ('o', 1), ('h', 0), ('t', 0), ('y', 0), ('P', 2)]\n",
    "\n",
    "def work (f):\n",
    "    return (f[1]*' '+f[0])\n",
    "\n",
    "new_d = list(map(work, d))\n",
    "\n",
    "print('\\n'.join(new_d)) "
   ]
  },
  {
   "cell_type": "markdown",
   "metadata": {
    "hash": "e7846edd2c"
   },
   "source": [
    "### Шнейдер Алиса СКБ172\n",
    "\n",
    "Оценка: 0.2\n",
    "\n",
    "Комментарий: Result != string"
   ]
  },
  {
   "cell_type": "code",
   "execution_count": 29,
   "metadata": {},
   "outputs": [],
   "source": [
    "# вывести список кортежей d на экран так, чтобы каждая буква была на новой строке \n",
    "# со сдвигом от левого края на количество пробелов, равное целому числу в её кортеже\n",
    "# ЗАПРЕЩАЕТСЯ использовать циклы Python!\n",
    "\n",
    "d = [('P', 4), ('y', 5), ('t', 7), ('h', 7), ('o', 7), ('n', 6), (' ', 4), ('n', 3), ('o', 1), ('h', 0), ('t', 0), ('y', 0), ('P', 2)]\n"
   ]
  },
  {
   "cell_type": "code",
   "execution_count": 30,
   "metadata": {},
   "outputs": [
    {
     "name": "stdout",
     "output_type": "stream",
     "text": [
      "(('    ', 'P'), ('     ', 'y'), ('       ', 't'), ('       ', 'h'), ('       ', 'o'), ('      ', 'n'), ('    ', ' '), ('   ', 'n'), (' ', 'o'), ('', 'h'), ('', 't'), ('', 'y'), ('  ', 'P')) \r\n",
      "\n"
     ]
    }
   ],
   "source": [
    "letters, numbers = zip(*d) \n",
    "\n",
    "list(letters)\n",
    "list(numbers)\n",
    "\n",
    "spaces = list(map(lambda i: numbers[i]*' ', range(len(numbers))))\n",
    "\n",
    "dd = tuple(zip(spaces, letters))\n",
    "\n",
    "\n",
    "print(dd, '\\r\\n')"
   ]
  },
  {
   "cell_type": "markdown",
   "metadata": {
    "hash": "680f312dec"
   },
   "source": [
    "### Зайцева Анастасия СКБ171\n",
    "\n",
    "Оценка: 1\n",
    "\n",
    "Комментарий: -"
   ]
  },
  {
   "cell_type": "code",
   "execution_count": 33,
   "metadata": {},
   "outputs": [],
   "source": [
    "# вывести список кортежей d на экран так, чтобы каждая буква была на новой строке \n",
    "# со сдвигом от левого края на количество пробелов, равное целому числу в её кортеже\n",
    "# ЗАПРЕЩАЕТСЯ использовать циклы Python!\n",
    "\n",
    "d = [('P', 4), ('y', 5), ('t', 7), ('h', 7), ('o', 7), ('n', 6), (' ', 4), ('n', 3), ('o', 1), ('h', 0), ('t', 0), ('y', 0), ('P', 2)]\n"
   ]
  },
  {
   "cell_type": "code",
   "execution_count": 34,
   "metadata": {},
   "outputs": [
    {
     "name": "stdout",
     "output_type": "stream",
     "text": [
      "    P\n",
      "     y\n",
      "       t\n",
      "       h\n",
      "       o\n",
      "      n\n",
      "     \n",
      "   n\n",
      " o\n",
      "h\n",
      "t\n",
      "y\n",
      "  P\n",
      "\n"
     ]
    }
   ],
   "source": [
    "d = [('P', 4), ('y', 5), ('t', 7), ('h', 7), ('o', 7), ('n', 6), (' ', 4), ('n', 3), ('o', 1), ('h', 0), ('t', 0), ('y', 0), ('P', 2)]\n",
    "print(''.join(map(lambda x: ' '*x[1] + x[0] + '\\n',d)))"
   ]
  },
  {
   "cell_type": "markdown",
   "metadata": {
    "hash": "fd1904cd9b"
   },
   "source": [
    "### Полуяктов Анатолий СКБ171\n",
    "\n",
    "Оценка: 1\n",
    "\n",
    "Комментарий: -"
   ]
  },
  {
   "cell_type": "code",
   "execution_count": 37,
   "metadata": {},
   "outputs": [],
   "source": [
    "# вывести список кортежей d на экран так, чтобы каждая буква была на новой строке \n",
    "# со сдвигом от левого края на количество пробелов, равное целому числу в её кортеже\n",
    "# ЗАПРЕЩАЕТСЯ использовать циклы Python!\n",
    "\n",
    "d = [('P', 4), ('y', 5), ('t', 7), ('h', 7), ('o', 7), ('n', 6), (' ', 4), ('n', 3), ('o', 1), ('h', 0), ('t', 0), ('y', 0), ('P', 2)]\n"
   ]
  },
  {
   "cell_type": "code",
   "execution_count": 38,
   "metadata": {},
   "outputs": [
    {
     "name": "stdout",
     "output_type": "stream",
     "text": [
      "    P\n",
      "     y\n",
      "       t\n",
      "       h\n",
      "       o\n",
      "      n\n",
      "     \n",
      "   n\n",
      " o\n",
      "h\n",
      "t\n",
      "y\n",
      "  P\n"
     ]
    }
   ],
   "source": [
    "d = [('P', 4), ('y', 5), ('t', 7), ('h', 7), ('o', 7), ('n', 6), (' ', 4), ('n', 3), ('o', 1), ('h', 0), ('t', 0), ('y', 0), ('P', 2)]\n",
    "A=list(map(lambda x:' '*x[1]+x[0],d))\n",
    "ans='\\n'.join(A)\n",
    "print(ans)"
   ]
  },
  {
   "cell_type": "markdown",
   "metadata": {
    "hash": "da15d1aae0"
   },
   "source": [
    "### Фомин Андрей СКБ172\n",
    "\n",
    "Оценка: 1\n",
    "\n",
    "Комментарий: -"
   ]
  },
  {
   "cell_type": "code",
   "execution_count": 41,
   "metadata": {},
   "outputs": [],
   "source": [
    "# вывести список кортежей d на экран так, чтобы каждая буква была на новой строке \n",
    "# со сдвигом от левого края на количество пробелов, равное целому числу в её кортеже\n",
    "# ЗАПРЕЩАЕТСЯ использовать циклы Python!\n",
    "\n",
    "d = [('P', 4), ('y', 5), ('t', 7), ('h', 7), ('o', 7), ('n', 6), (' ', 4), ('n', 3), ('o', 1), ('h', 0), ('t', 0), ('y', 0), ('P', 2)]\n"
   ]
  },
  {
   "cell_type": "code",
   "execution_count": 42,
   "metadata": {},
   "outputs": [
    {
     "name": "stdout",
     "output_type": "stream",
     "text": [
      "    P\n",
      "     y\n",
      "       t\n",
      "       h\n",
      "       o\n",
      "      n\n",
      "     \n",
      "   n\n",
      " o\n",
      "h\n",
      "t\n",
      "y\n",
      "  P\n"
     ]
    }
   ],
   "source": [
    "list(map(print, list(map(lambda x: ' ' * x[1] + x[0], d)))).clear()"
   ]
  },
  {
   "cell_type": "markdown",
   "metadata": {
    "hash": "8670705a3a"
   },
   "source": [
    "### Марипова Жасмин СКБ171\n",
    "\n",
    "Оценка: 1\n",
    "\n",
    "Комментарий: -"
   ]
  },
  {
   "cell_type": "code",
   "execution_count": 45,
   "metadata": {
    "colab": {},
    "colab_type": "code",
    "id": "V0YRowszDcTY"
   },
   "outputs": [],
   "source": [
    "# вывести список кортежей d на экран так, чтобы каждая буква была на новой строке \n",
    "# со сдвигом от левого края на количество пробелов, равное целому числу в её кортеже\n",
    "# ЗАПРЕЩАЕТСЯ использовать циклы Python!\n",
    "\n",
    "d = [('P', 4), ('y', 5), ('t', 7), ('h', 7), ('o', 7), ('n', 6), (' ', 4), ('n', 3), ('o', 1), ('h', 0), ('t', 0), ('y', 0), ('P', 2)]\n"
   ]
  },
  {
   "cell_type": "code",
   "execution_count": 46,
   "metadata": {
    "colab": {},
    "colab_type": "code",
    "id": "nlokmuQzDcTc",
    "outputId": "9603644b-1ec0-4c87-e280-5c1bc56a9082"
   },
   "outputs": [
    {
     "name": "stdout",
     "output_type": "stream",
     "text": [
      "    P\n",
      "     y\n",
      "       t\n",
      "       h\n",
      "       o\n",
      "      n\n",
      "     \n",
      "   n\n",
      " o\n",
      "h\n",
      "t\n",
      "y\n",
      "  P\n"
     ]
    }
   ],
   "source": [
    "# с использованием лямбда-функции\n",
    "\n",
    "print('\\n'.join(map(lambda c: ' ' * c[1] + c[0], d)))"
   ]
  },
  {
   "cell_type": "markdown",
   "metadata": {
    "hash": "49bf872905"
   },
   "source": [
    "### Зоричев Борис СКБ172\n",
    "\n",
    "Оценка: 0.2\n",
    "\n",
    "Комментарий: Result != string"
   ]
  },
  {
   "cell_type": "code",
   "execution_count": 49,
   "metadata": {},
   "outputs": [],
   "source": [
    "# вывести список кортежей d на экран так, чтобы каждая буква была на новой строке \n",
    "# со сдвигом от левого края на количество пробелов, равное целому числу в её кортеже\n",
    "# ЗАПРЕЩАЕТСЯ использовать циклы Python!\n",
    "\n",
    "d = [('P', 4), ('y', 5), ('t', 7), ('h', 7), ('o', 7), ('n', 6), (' ', 4), ('n', 3), ('o', 1), ('h', 0), ('t', 0), ('y', 0), ('P', 2)]\n"
   ]
  },
  {
   "cell_type": "code",
   "execution_count": 50,
   "metadata": {},
   "outputs": [
    {
     "name": "stdout",
     "output_type": "stream",
     "text": [
      "['    P', '     y', '       t', '       h', '       o', '      n', '   n', ' o', 'h', 't', 'y', '  P']\n"
     ]
    }
   ],
   "source": [
    "d = [('P', 4), ('y', 5), ('t', 7), ('h', 7), ('o', 7), ('n', 6), (' ', 4), ('n', 3), ('o', 1), ('h', 0), ('t', 0), ('y', 0), ('P', 2)]\n",
    "d.pop(6)##В задании сказано каждая буква, а 7 элемент это не буква.\n",
    "print(list(map(lambda i: i[1] * ' '+i[0], d)))"
   ]
  },
  {
   "cell_type": "markdown",
   "metadata": {
    "hash": "3c7692137a"
   },
   "source": [
    "### Сербаев Вадим СКБ172\n",
    "\n",
    "Оценка: 1\n",
    "\n",
    "Комментарий: Complicated"
   ]
  },
  {
   "cell_type": "code",
   "execution_count": 53,
   "metadata": {},
   "outputs": [],
   "source": [
    "# вывести список кортежей d на экран так, чтобы каждая буква была на новой строке \n",
    "# со сдвигом от левого края на количество пробелов, равное целому числу в её кортеже\n",
    "# ЗАПРЕЩАЕТСЯ использовать циклы Python!\n",
    "\n",
    "d = [('P', 4), ('y', 5), ('t', 7), ('h', 7), ('o', 7), ('n', 6), (' ', 4), ('n', 3), ('o', 1), ('h', 0), ('t', 0), ('y', 0), ('P', 2)]\n"
   ]
  },
  {
   "cell_type": "code",
   "execution_count": 54,
   "metadata": {},
   "outputs": [
    {
     "name": "stdout",
     "output_type": "stream",
     "text": [
      "    P\n",
      "     y\n",
      "       t\n",
      "       h\n",
      "       o\n",
      "      n\n",
      "     \n",
      "   n\n",
      " o\n",
      "h\n",
      "t\n",
      "y\n",
      "  P\n"
     ]
    }
   ],
   "source": [
    "def Summ(d,d1,reg):\n",
    "    if(reg<=12):\n",
    "        d1+=d[reg-1]+d[reg]\n",
    "        reg+=1\n",
    "        Summ(d,d1,reg)\n",
    "\n",
    "def MainShift(reg, d1):\n",
    "    if(reg<=48):\n",
    "        print(d1[reg]*' '+d1[reg-1])\n",
    "        reg+=4\n",
    "        MainShift(reg, d1)\n",
    "    else:\n",
    "        print(d1[47]*' '+d1[46])\n",
    "        \n",
    "reg=1\n",
    "d1=[]\n",
    "d = [('P', 4), ('y', 5), ('t', 7), ('h', 7), ('o', 7), ('n', 6), (' ', 4), ('n', 3), ('o', 1), ('h', 0), ('t', 0), ('y', 0), ('P', 2)]\n",
    "Summ(d,d1,reg)\n",
    "#print(d1)\n",
    "reg=1\n",
    "MainShift(reg, d1)\n",
    "\n",
    "\n",
    "\n",
    "\n"
   ]
  },
  {
   "cell_type": "markdown",
   "metadata": {
    "hash": "f59c3afdc4"
   },
   "source": [
    "### Булгаков Виталий СКБ172\n",
    "\n",
    "Оценка: 1\n",
    "\n",
    "Комментарий: -"
   ]
  },
  {
   "cell_type": "code",
   "execution_count": 55,
   "metadata": {},
   "outputs": [],
   "source": [
    "# вывести список кортежей d на экран так, чтобы каждая буква была на новой строке \n",
    "# со сдвигом от левого края на количество пробелов, равное целому числу в её кортеже\n",
    "# ЗАПРЕЩАЕТСЯ использовать циклы Python!\n",
    "\n",
    "d = [('P', 4), ('y', 5), ('t', 7), ('h', 7), ('o', 7), ('n', 6), (' ', 4), ('n', 3), ('o', 1), ('h', 0), ('t', 0), ('y', 0), ('P', 2)]"
   ]
  },
  {
   "cell_type": "code",
   "execution_count": 56,
   "metadata": {},
   "outputs": [
    {
     "name": "stdout",
     "output_type": "stream",
     "text": [
      "    P\n",
      "     y\n",
      "       t\n",
      "       h\n",
      "       o\n",
      "      n\n",
      "     \n",
      "   n\n",
      " o\n",
      "h\n",
      "t\n",
      "y\n",
      "  P\n"
     ]
    }
   ],
   "source": [
    "f = list(map(lambda x:print(x[1] * ' ' + x[0]) ,d))\n",
    "#print(map(lambda x:x[1] * ' ' + x[0] ,d))"
   ]
  },
  {
   "cell_type": "markdown",
   "metadata": {
    "hash": "c942913613"
   },
   "source": [
    "### Андреева Влада СКБ171\n",
    "\n",
    "Оценка: 1\n",
    "\n",
    "Комментарий: -"
   ]
  },
  {
   "cell_type": "code",
   "execution_count": 59,
   "metadata": {},
   "outputs": [],
   "source": [
    "# вывести список кортежей d на экран так, чтобы каждая буква была на новой строке \n",
    "# со сдвигом от левого края на количество пробелов, равное целому числу в её кортеже\n",
    "# ЗАПРЕЩАЕТСЯ использовать циклы Python!\n",
    "\n",
    "d = [('P', 4), ('y', 5), ('t', 7), ('h', 7), ('o', 7), ('n', 6), (' ', 4), ('n', 3), ('o', 1), ('h', 0), ('t', 0), ('y', 0), ('P', 2)]\n"
   ]
  },
  {
   "cell_type": "code",
   "execution_count": 60,
   "metadata": {},
   "outputs": [
    {
     "name": "stdout",
     "output_type": "stream",
     "text": [
      "    P\n",
      "     y\n",
      "       t\n",
      "       h\n",
      "       o\n",
      "      n\n",
      "     \n",
      "   n\n",
      " o\n",
      "h\n",
      "t\n",
      "y\n",
      "  P\n"
     ]
    }
   ],
   "source": [
    "def printing(k, n):\n",
    "    if k <= n:\n",
    "        print(' ', end='')\n",
    "        k += 1\n",
    "        printing(k, n)\n",
    "def base(d, i):\n",
    "    if i < len(d):\n",
    "        cur = d[i]\n",
    "        printing(1, cur[1])\n",
    "        print(cur[0])\n",
    "        i += 1\n",
    "        base(d, i)\n",
    "\n",
    "base(d, 0)"
   ]
  },
  {
   "cell_type": "markdown",
   "metadata": {
    "hash": "913f2d1dd9"
   },
   "source": [
    "### Клопов Владислав СКБ172\n",
    "\n",
    "Оценка: 1\n",
    "\n",
    "Комментарий: -"
   ]
  },
  {
   "cell_type": "code",
   "execution_count": 63,
   "metadata": {},
   "outputs": [],
   "source": [
    "# вывести список кортежей d на экран так, чтобы каждая буква была на новой строке \n",
    "# со сдвигом от левого края на количество пробелов, равное целому числу в её кортеже\n",
    "# ЗАПРЕЩАЕТСЯ использовать циклы Python!\n",
    "\n",
    "d = [('P', 4), ('y', 5), ('t', 7), ('h', 7), ('o', 7), ('n', 6), (' ', 4), ('n', 3), ('o', 1), ('h', 0), ('t', 0), ('y', 0), ('P', 2)]\n"
   ]
  },
  {
   "cell_type": "code",
   "execution_count": 64,
   "metadata": {},
   "outputs": [
    {
     "name": "stdout",
     "output_type": "stream",
     "text": [
      "    P\n",
      "     y\n",
      "       t\n",
      "       h\n",
      "       o\n",
      "      n\n",
      "     \n",
      "   n\n",
      " o\n",
      "h\n",
      "t\n",
      "y\n",
      "  P\n"
     ]
    }
   ],
   "source": [
    "a = list(map(lambda x:print(x[1]*' '+x[0]) ,d))"
   ]
  },
  {
   "cell_type": "markdown",
   "metadata": {
    "hash": "88d6b20127"
   },
   "source": [
    "### Сарахан Владислав СКБ172\n",
    "\n",
    "Оценка: 1\n",
    "\n",
    "Комментарий: -"
   ]
  },
  {
   "cell_type": "code",
   "execution_count": 67,
   "metadata": {},
   "outputs": [],
   "source": [
    "# вывести список кортежей d на экран так, чтобы каждая буква была на новой строке \n",
    "# со сдвигом от левого края на количество пробелов, равное целому числу в её кортеже\n",
    "# ЗАПРЕЩАЕТСЯ использовать циклы Python!\n",
    "\n",
    "d = [('P', 4), ('y', 5), ('t', 7), ('h', 7), ('o', 7), ('n', 6), (' ', 4), ('n', 3), ('o', 1), ('h', 0), ('t', 0), ('y', 0), ('P', 2)]\n"
   ]
  },
  {
   "cell_type": "code",
   "execution_count": 68,
   "metadata": {},
   "outputs": [
    {
     "name": "stdout",
     "output_type": "stream",
     "text": [
      "    P\n",
      "     y\n",
      "       t\n",
      "       h\n",
      "       o\n",
      "      n\n",
      "     \n",
      "   n\n",
      " o\n",
      "h\n",
      "t\n",
      "y\n",
      "  P\n"
     ]
    }
   ],
   "source": [
    "print('\\n'.join(map((lambda x: ' ' * x[1] + x[0]), d)))"
   ]
  },
  {
   "cell_type": "markdown",
   "metadata": {
    "hash": "26119a97d0"
   },
   "source": [
    "### Старостин Данила СКБ172\n",
    "\n",
    "Оценка: 1\n",
    "\n",
    "Комментарий: -"
   ]
  },
  {
   "cell_type": "code",
   "execution_count": 71,
   "metadata": {},
   "outputs": [],
   "source": [
    "# вывести список кортежей d на экран так, чтобы каждая буква была на новой строке \n",
    "# со сдвигом от левого края на количество пробелов, равное целому числу в её кортеже\n",
    "# ЗАПРЕЩАЕТСЯ использовать циклы Python!\n",
    "\n",
    "d = [('P', 4), ('y', 5), ('t', 7), ('h', 7), ('o', 7), ('n', 6), (' ', 4), ('n', 3), ('o', 1), ('h', 0), ('t', 0), ('y', 0), ('P', 2)]\n"
   ]
  },
  {
   "cell_type": "code",
   "execution_count": 72,
   "metadata": {},
   "outputs": [
    {
     "name": "stdout",
     "output_type": "stream",
     "text": [
      "    P\n",
      "     y\n",
      "       t\n",
      "       h\n",
      "       o\n",
      "      n\n",
      "     \n",
      "   n\n",
      " o\n",
      "h\n",
      "t\n",
      "y\n",
      "  P\n"
     ]
    }
   ],
   "source": [
    "def func(x):\n",
    "    list(map(lambda d:print(d[1] * ' ' + d[0]), d))\n",
    "    \n",
    "d = [('P', 4), ('y', 5), ('t', 7), ('h', 7), ('o', 7), ('n', 6), (' ', 4), ('n', 3), ('o', 1), ('h', 0), ('t', 0), ('y', 0), ('P', 2)]    \n",
    "func(d) "
   ]
  },
  {
   "cell_type": "markdown",
   "metadata": {
    "hash": "0a22720c49"
   },
   "source": [
    "### Стрекнев Денис СКБ172\n",
    "\n",
    "Оценка: 1\n",
    "\n",
    "Комментарий: -"
   ]
  },
  {
   "cell_type": "code",
   "execution_count": 75,
   "metadata": {},
   "outputs": [],
   "source": [
    "# вывести список кортежей d на экран так, чтобы каждая буква была на новой строке \n",
    "# со сдвигом от левого края на количество пробелов, равное целому числу в её кортеже\n",
    "# ЗАПРЕЩАЕТСЯ использовать циклы Python!\n",
    "\n",
    "d = [('P', 4), ('y', 5), ('t', 7), ('h', 7), ('o', 7), ('n', 6), (' ', 4), ('n', 3), ('o', 1), ('h', 0), ('t', 0), ('y', 0), ('P', 2)]\n"
   ]
  },
  {
   "cell_type": "code",
   "execution_count": 76,
   "metadata": {},
   "outputs": [
    {
     "name": "stdout",
     "output_type": "stream",
     "text": [
      "     P\n",
      "      y\n",
      "        t\n",
      "        h\n",
      "        o\n",
      "       n\n",
      "      \n",
      "    n\n",
      "  o\n",
      " h\n",
      " t\n",
      " y\n",
      "   P\n"
     ]
    }
   ],
   "source": [
    "list(map(lambda x: print(' '*x[1],x[0]), d)).clear()"
   ]
  },
  {
   "cell_type": "markdown",
   "metadata": {
    "hash": "63e0a37ae4"
   },
   "source": [
    "### Дородный Дмитрий СКБ172\n",
    "\n",
    "Оценка: 1\n",
    "\n",
    "Комментарий: -"
   ]
  },
  {
   "cell_type": "code",
   "execution_count": 79,
   "metadata": {},
   "outputs": [],
   "source": [
    "# вывести список кортежей d на экран так, чтобы каждая буква была на новой строке \n",
    "# со сдвигом от левого края на количество пробелов, равное целому числу в её кортеже\n",
    "# ЗАПРЕЩАЕТСЯ использовать циклы Python!\n",
    "\n",
    "d = [('P', 4), ('y', 5), ('t', 7), ('h', 7), ('o', 7), ('n', 6), (' ', 4), ('n', 3), ('o', 1), ('h', 0), ('t', 0), ('y', 0), ('P', 2)]\n"
   ]
  },
  {
   "cell_type": "code",
   "execution_count": 80,
   "metadata": {},
   "outputs": [
    {
     "name": "stdout",
     "output_type": "stream",
     "text": [
      "    P\n",
      "     y\n",
      "       t\n",
      "       h\n",
      "       o\n",
      "      n\n",
      "     \n",
      "   n\n",
      " o\n",
      "h\n",
      "t\n",
      "y\n",
      "  P\n"
     ]
    }
   ],
   "source": [
    "print(*list(map(lambda x: x[1]*' '+x[0], d)), sep = '\\n')"
   ]
  },
  {
   "cell_type": "markdown",
   "metadata": {
    "hash": "e4572fb6ff"
   },
   "source": [
    "### Шемякин Дмитрий СКБ171\n",
    "\n",
    "Оценка: 1\n",
    "\n",
    "Комментарий: -"
   ]
  },
  {
   "cell_type": "code",
   "execution_count": 83,
   "metadata": {},
   "outputs": [],
   "source": [
    "# вывести список кортежей d на экран так, чтобы каждая буква была на новой строке \n",
    "# со сдвигом от левого края на количество пробелов, равное целому числу в её кортеже\n",
    "# ЗАПРЕЩАЕТСЯ использовать циклы Python!\n",
    "\n",
    "d = [('P', 4), ('y', 5), ('t', 7), ('h', 7), ('o', 7), ('n', 6), (' ', 4), ('n', 3), ('o', 1), ('h', 0), ('t', 0), ('y', 0), ('P', 2)]\n"
   ]
  },
  {
   "cell_type": "code",
   "execution_count": 84,
   "metadata": {},
   "outputs": [
    {
     "name": "stdout",
     "output_type": "stream",
     "text": [
      "    P\n",
      "     y\n",
      "       t\n",
      "       h\n",
      "       o\n",
      "      n\n",
      "     \n",
      "   n\n",
      " o\n",
      "h\n",
      "t\n",
      "y\n",
      "  P\n"
     ]
    }
   ],
   "source": [
    "# вывести список кортежей d на экран так, чтобы каждая буква была на новой строке \n",
    "# со сдвигом от левого края на количество пробелов, равное целому числу в её кортеже\n",
    "# ЗАПРЕЩАЕТСЯ использовать циклы Python!\n",
    "\n",
    "d = [('P', 4), ('y', 5), ('t', 7), ('h', 7), ('o', 7), ('n', 6), (' ', 4), ('n', 3), ('o', 1), ('h', 0), ('t', 0), ('y', 0), ('P', 2)]\n",
    "\n",
    "l = list(map(lambda x: ' '*x[1] + x[0], d))\n",
    "\n",
    "s = '\\n'.join(l)\n",
    "print(s)"
   ]
  },
  {
   "cell_type": "markdown",
   "metadata": {
    "hash": "9ee13d89f3"
   },
   "source": [
    "### Никитина Елизавета СКБ171\n",
    "\n",
    "Оценка: 1\n",
    "\n",
    "Комментарий: -"
   ]
  },
  {
   "cell_type": "code",
   "execution_count": 87,
   "metadata": {},
   "outputs": [],
   "source": [
    "# вывести список кортежей d на экран так, чтобы каждая буква была на новой строке \n",
    "# со сдвигом от левого края на количество пробелов, равное целому числу в её кортеже\n",
    "# ЗАПРЕЩАЕТСЯ использовать циклы Python!\n",
    "\n",
    "d = [('P', 4), ('y', 5), ('t', 7), ('h', 7), ('o', 7), ('n', 6), (' ', 4), ('n', 3), ('o', 1), ('h', 0), ('t', 0), ('y', 0), ('P', 2)]\n"
   ]
  },
  {
   "cell_type": "code",
   "execution_count": 88,
   "metadata": {
    "scrolled": true
   },
   "outputs": [
    {
     "name": "stdout",
     "output_type": "stream",
     "text": [
      "   P\n",
      "    y\n",
      "      t\n",
      "      h\n",
      "      o\n",
      "     n\n",
      "    \n",
      "  n\n",
      "o\n",
      "h\n",
      "t\n",
      "y\n",
      " P\n"
     ]
    }
   ],
   "source": [
    "d = [('P', 4), ('y', 5), ('t', 7), ('h', 7), ('o', 7), ('n', 6), (' ', 4), ('n', 3), ('o', 1), ('h', 0), ('t', 0), ('y', 0), ('P', 2)]\n",
    "print('\\n'.join(map(lambda x: x[0].rjust(x[1]), d)))"
   ]
  },
  {
   "cell_type": "markdown",
   "metadata": {
    "hash": "64dc836089"
   },
   "source": [
    "### Семенов Игорь СКБ172\n",
    "\n",
    "Оценка: 0.7\n",
    "\n",
    "Комментарий: Extra lines"
   ]
  },
  {
   "cell_type": "code",
   "execution_count": 91,
   "metadata": {},
   "outputs": [],
   "source": [
    "# вывести список кортежей d на экран так, чтобы каждая буква была на новой строке \n",
    "# со сдвигом от левого края на количество пробелов, равное целому числу в её кортеже\n",
    "# ЗАПРЕЩАЕТСЯ использовать циклы Python!\n",
    "\n",
    "d = [('P', 4), ('y', 5), ('t', 7), ('h', 7), ('o', 7), ('n', 6), (' ', 4), ('n', 3), ('o', 1), ('h', 0), ('t', 0), ('y', 0), ('P', 2)]\n"
   ]
  },
  {
   "cell_type": "code",
   "execution_count": 92,
   "metadata": {},
   "outputs": [
    {
     "name": "stdout",
     "output_type": "stream",
     "text": [
      "    P\n",
      "\n",
      "     y\n",
      "\n",
      "       t\n",
      "\n",
      "       h\n",
      "\n",
      "       o\n",
      "\n",
      "      n\n",
      "\n",
      "     \n",
      "\n",
      "   n\n",
      "\n",
      " o\n",
      "\n",
      "h\n",
      "\n",
      "t\n",
      "\n",
      "y\n",
      "\n",
      "  P\n",
      "\n"
     ]
    }
   ],
   "source": [
    "firstitem=list(map(lambda x:x[0], d))\n",
    "spaces=list(map(lambda x:' '*x[1], d))\n",
    "plus = lambda a,x:a+x\n",
    "printn = lambda x:print(x+'\\n')\n",
    "list(map(printn,list(map(plus,spaces,firstitem))));"
   ]
  },
  {
   "cell_type": "markdown",
   "metadata": {
    "hash": "a03e7d31a7"
   },
   "source": [
    "### Шамрин Игорь СКБ172\n",
    "\n",
    "Оценка: 1\n",
    "\n",
    "Комментарий: -"
   ]
  },
  {
   "cell_type": "code",
   "execution_count": 95,
   "metadata": {},
   "outputs": [],
   "source": [
    "# вывести список кортежей d на экран так, чтобы каждая буква была на новой строке \n",
    "# со сдвигом от левого края на количество пробелов, равное целому числу в её кортеже\n",
    "# ЗАПРЕЩАЕТСЯ использовать циклы Python!\n",
    "\n",
    "d = [('P', 4), ('y', 5), ('t', 7), ('h', 7), ('o', 7), ('n', 6), (' ', 4), ('n', 3), ('o', 1), ('h', 0), ('t', 0), ('y', 0), ('P', 2)]\n"
   ]
  },
  {
   "cell_type": "code",
   "execution_count": 96,
   "metadata": {},
   "outputs": [
    {
     "name": "stdout",
     "output_type": "stream",
     "text": [
      "    P\n",
      "     y\n",
      "       t\n",
      "       h\n",
      "       o\n",
      "      n\n",
      "     \n",
      "   n\n",
      " o\n",
      "h\n",
      "t\n",
      "y\n",
      "  P\n"
     ]
    },
    {
     "data": {
      "text/plain": [
       "[None, None, None, None, None, None, None, None, None, None, None, None, None]"
      ]
     },
     "execution_count": 96,
     "metadata": {},
     "output_type": "execute_result"
    }
   ],
   "source": [
    "list(map(lambda arg: print(' '*arg[1] + arg[0]), d))\n",
    "\n",
    "\n"
   ]
  },
  {
   "cell_type": "markdown",
   "metadata": {
    "hash": "c569b9634e"
   },
   "source": [
    "### Щербаков Игорь СКБ171\n",
    "\n",
    "Оценка: 1\n",
    "\n",
    "Комментарий: Complicated"
   ]
  },
  {
   "cell_type": "code",
   "execution_count": 99,
   "metadata": {},
   "outputs": [],
   "source": [
    "# вывести список кортежей d на экран так, чтобы каждая буква была на новой строке \n",
    "# со сдвигом от левого края на количество пробелов, равное целому числу в её кортеже\n",
    "# ЗАПРЕЩАЕТСЯ использовать циклы Python!\n",
    "\n",
    "d = [('P', 4), ('y', 5), ('t', 7), ('h', 7), ('o', 7), ('n', 6), (' ', 4), ('n', 3), ('o', 1), ('h', 0), ('t', 0), ('y', 0), ('P', 2)]\n"
   ]
  },
  {
   "cell_type": "code",
   "execution_count": 100,
   "metadata": {},
   "outputs": [
    {
     "name": "stdout",
     "output_type": "stream",
     "text": [
      "    P\n",
      "     y\n",
      "       t\n",
      "       h\n",
      "       o\n",
      "      n\n",
      "     \n",
      "   n\n",
      " o\n",
      "h\n",
      "t\n",
      "y\n",
      "  P\n"
     ]
    }
   ],
   "source": [
    "def write_with_indent(symbol, underscores, indentsym): #Используем повторно\n",
    "    result = \"\"\n",
    "    result+=indentsym*underscores+symbol\n",
    "    return result\n",
    "\n",
    "s=list(map(lambda x : x[0], d))\n",
    "l=list(map(lambda x : x[1], d))\n",
    "a=list(map(write_with_indent,s,l,\" \"*len(s)))\n",
    "print('\\n'.join(a))# Змейкой\n"
   ]
  },
  {
   "cell_type": "markdown",
   "metadata": {
    "hash": "0f0bd22442"
   },
   "source": [
    "### Шомахов Идар СКБ171\n",
    "\n",
    "Оценка: 1\n",
    "\n",
    "Комментарий: -"
   ]
  },
  {
   "cell_type": "code",
   "execution_count": 103,
   "metadata": {},
   "outputs": [],
   "source": [
    "# вывести список кортежей d на экран так, чтобы каждая буква была на новой строке \n",
    "# со сдвигом от левого края на количество пробелов, равное целому числу в её кортеже\n",
    "# ЗАПРЕЩАЕТСЯ использовать циклы Python!\n",
    "\n",
    "d = [('P', 4), ('y', 5), ('t', 7), ('h', 7), ('o', 7), ('n', 6), (' ', 4), ('n', 3), ('o', 1), ('h', 0), ('t', 0), ('y', 0), ('P', 2)]\n"
   ]
  },
  {
   "cell_type": "code",
   "execution_count": 104,
   "metadata": {},
   "outputs": [
    {
     "name": "stdout",
     "output_type": "stream",
     "text": [
      "    P\n",
      "     y\n",
      "       t\n",
      "       h\n",
      "       o\n",
      "      n\n",
      "     \n",
      "   n\n",
      " o\n",
      "h\n",
      "t\n",
      "y\n",
      "  P\n"
     ]
    }
   ],
   "source": [
    "d = [('P', 4), ('y', 5), ('t', 7), ('h', 7), ('o', 7), ('n', 6), (' ', 4), ('n', 3), ('o', 1), ('h', 0), ('t', 0), ('y', 0), ('P', 2)]\n",
    "out = '\\n'.join(map(lambda x: x[1] * ' ' + x[0], d ))\n",
    "print(out)"
   ]
  },
  {
   "cell_type": "markdown",
   "metadata": {
    "hash": "c52087c4a8"
   },
   "source": [
    "### Григорьев Илья СКБ171\n",
    "\n",
    "Оценка: 1\n",
    "\n",
    "Комментарий: -"
   ]
  },
  {
   "cell_type": "code",
   "execution_count": 107,
   "metadata": {},
   "outputs": [],
   "source": [
    "# вывести список кортежей d на экран так, чтобы каждая буква была на новой строке \n",
    "# со сдвигом от левого края на количество пробелов, равное целому числу в её кортеже\n",
    "# ЗАПРЕЩАЕТСЯ использовать циклы Python!\n",
    "\n",
    "d = [('P', 4), ('y', 5), ('t', 7), ('h', 7), ('o', 7), ('n', 6), (' ', 4), ('n', 3), ('o', 1), ('h', 0), ('t', 0), ('y', 0), ('P', 2)]\n"
   ]
  },
  {
   "cell_type": "code",
   "execution_count": 108,
   "metadata": {},
   "outputs": [
    {
     "name": "stdout",
     "output_type": "stream",
     "text": [
      "    P\n",
      "     y\n",
      "       t\n",
      "       h\n",
      "       o\n",
      "      n\n",
      "     \n",
      "   n\n",
      " o\n",
      "h\n",
      "t\n",
      "y\n",
      "  P\n"
     ]
    }
   ],
   "source": [
    "d = [('P', 4), ('y', 5), ('t', 7), ('h', 7), ('o', 7), ('n', 6), (' ', 4), ('n', 3), ('o', 1), ('h', 0), ('t', 0), ('y', 0), ('P', 2)]\n",
    "out_f = lambda x: print(x[1]*' ',x[0],sep='')\n",
    "list(map(out_f,d));"
   ]
  },
  {
   "cell_type": "markdown",
   "metadata": {
    "hash": "ac62d6d9a0"
   },
   "source": [
    "### Фомин Илья СКБ171\n",
    "\n",
    "Оценка: 1\n",
    "\n",
    "Комментарий: -"
   ]
  },
  {
   "cell_type": "code",
   "execution_count": 111,
   "metadata": {},
   "outputs": [],
   "source": [
    "# вывести список кортежей d на экран так, чтобы каждая буква была на новой строке \n",
    "# со сдвигом от левого края на количество пробелов, равное целому числу в её кортеже\n",
    "# ЗАПРЕЩАЕТСЯ использовать циклы Python!\n",
    "\n",
    "d = [('P', 4), ('y', 5), ('t', 7), ('h', 7), ('o', 7), ('n', 6), (' ', 4), ('n', 3), ('o', 1), ('h', 0), ('t', 0), ('y', 0), ('P', 2)]\n"
   ]
  },
  {
   "cell_type": "code",
   "execution_count": 112,
   "metadata": {},
   "outputs": [
    {
     "name": "stdout",
     "output_type": "stream",
     "text": [
      "    P\n",
      "     y\n",
      "       t\n",
      "       h\n",
      "       o\n",
      "      n\n",
      "     \n",
      "   n\n",
      " o\n",
      "h\n",
      "t\n",
      "y\n",
      "  P\n"
     ]
    }
   ],
   "source": [
    "string = '\\n'.join(map(lambda x: x[1] * ' ' + x[0], d ))\n",
    "print(string)"
   ]
  },
  {
   "cell_type": "markdown",
   "metadata": {
    "hash": "f5c905bf90"
   },
   "source": [
    "### Синицын Константин СКБ172\n",
    "\n",
    "Оценка: 1\n",
    "\n",
    "Комментарий: -"
   ]
  },
  {
   "cell_type": "code",
   "execution_count": 115,
   "metadata": {},
   "outputs": [],
   "source": [
    "# вывести список кортежей d на экран так, чтобы каждая буква была на новой строке \n",
    "# со сдвигом от левого края на количество пробелов, равное целому числу в её кортеже\n",
    "# ЗАПРЕЩАЕТСЯ использовать циклы Python!\n",
    "\n",
    "d = [('P', 4), ('y', 5), ('t', 7), ('h', 7), ('o', 7), ('n', 6), (' ', 4), ('n', 3), ('o', 1), ('h', 0), ('t', 0), ('y', 0), ('P', 2)]\n"
   ]
  },
  {
   "cell_type": "code",
   "execution_count": 116,
   "metadata": {},
   "outputs": [
    {
     "name": "stdout",
     "output_type": "stream",
     "text": [
      "    P\n",
      "     y\n",
      "       t\n",
      "       h\n",
      "       o\n",
      "      n\n",
      "     \n",
      "   n\n",
      " o\n",
      "h\n",
      "t\n",
      "y\n",
      "  P\n"
     ]
    }
   ],
   "source": [
    "print('\\n'.join(list(map(lambda x: x[1] * ' ' + x[0], d))))"
   ]
  },
  {
   "cell_type": "markdown",
   "metadata": {
    "hash": "f03861f4f4"
   },
   "source": [
    "### Смирнов Константин СКБ172\n",
    "\n",
    "Оценка: 1\n",
    "\n",
    "Комментарий: -"
   ]
  },
  {
   "cell_type": "code",
   "execution_count": 119,
   "metadata": {},
   "outputs": [],
   "source": [
    "# вывести список кортежей d на экран так, чтобы каждая буква была на новой строке \n",
    "# со сдвигом от левого края на количество пробелов, равное целому числу в её кортеже\n",
    "# ЗАПРЕЩАЕТСЯ использовать циклы Python!\n",
    "\n",
    "d = [('P', 4), ('y', 5), ('t', 7), ('h', 7), ('o', 7), ('n', 6), (' ', 4), ('n', 3), ('o', 1), ('h', 0), ('t', 0), ('y', 0), ('P', 2)]"
   ]
  },
  {
   "cell_type": "code",
   "execution_count": 120,
   "metadata": {},
   "outputs": [
    {
     "name": "stdout",
     "output_type": "stream",
     "text": [
      "    P\n",
      "     y\n",
      "       t\n",
      "       h\n",
      "       o\n",
      "      n\n",
      "     \n",
      "   n\n",
      " o\n",
      "h\n",
      "t\n",
      "y\n",
      "  P\n"
     ]
    }
   ],
   "source": [
    "print('\\n'.join(map(lambda i: ' '*i[1] + i[0], d)))"
   ]
  },
  {
   "cell_type": "markdown",
   "metadata": {
    "hash": "cff956a0a0"
   },
   "source": [
    "### Расторгуева Мария СКБ171\n",
    "\n",
    "Оценка: 1\n",
    "\n",
    "Комментарий: -"
   ]
  },
  {
   "cell_type": "code",
   "execution_count": 123,
   "metadata": {},
   "outputs": [],
   "source": [
    "# вывести список кортежей d на экран так, чтобы каждая буква была на новой строке \n",
    "# со сдвигом от левого края на количество пробелов, равное целому числу в её кортеже\n",
    "# ЗАПРЕЩАЕТСЯ использовать циклы Python!\n",
    "\n",
    "d = [('P', 4), ('y', 5), ('t', 7), ('h', 7), ('o', 7), ('n', 6), (' ', 4), ('n', 3), ('o', 1), ('h', 0), ('t', 0), ('y', 0), ('P', 2)]\n"
   ]
  },
  {
   "cell_type": "code",
   "execution_count": 124,
   "metadata": {},
   "outputs": [
    {
     "name": "stdout",
     "output_type": "stream",
     "text": [
      "    P\n",
      "     y\n",
      "       t\n",
      "       h\n",
      "       o\n",
      "      n\n",
      "     \n",
      "   n\n",
      " o\n",
      "h\n",
      "t\n",
      "y\n",
      "  P\n"
     ]
    }
   ],
   "source": [
    "def pl(d, i):\n",
    "    print (d[i][1]*\" \" + d[i][0])\n",
    "    if i!=len(d)-1:\n",
    "        pl(d, i+1)\n",
    "pl(d, 0)"
   ]
  },
  {
   "cell_type": "markdown",
   "metadata": {
    "hash": "a9a1c3af53"
   },
   "source": [
    "### Гвасалия Метью СКБ172\n",
    "\n",
    "Оценка: 1\n",
    "\n",
    "Комментарий: -"
   ]
  },
  {
   "cell_type": "code",
   "execution_count": 126,
   "metadata": {},
   "outputs": [],
   "source": [
    "# вывести список кортежей d на экран так, чтобы каждая буква была на новой строке \n",
    "# со сдвигом от левого края на количество пробелов, равное целому числу в её кортеже\n",
    "# ЗАПРЕЩАЕТСЯ использовать циклы Python!\n",
    "\n",
    "d = [('P', 4), ('y', 5), ('t', 7), ('h', 7), ('o', 7), ('n', 6), (' ', 4), ('n', 3), ('o', 1), ('h', 0), ('t', 0), ('y', 0), ('P', 2)]\n"
   ]
  },
  {
   "cell_type": "code",
   "execution_count": 127,
   "metadata": {},
   "outputs": [
    {
     "name": "stdout",
     "output_type": "stream",
     "text": [
      "    P\n",
      "      y\n",
      "        t\n",
      "        h\n",
      "        o\n",
      "       n\n",
      "      \n",
      "    n\n",
      "  o\n",
      " h\n",
      " t\n",
      " y\n",
      "   P\n",
      "\n"
     ]
    }
   ],
   "source": [
    "q = list(map(lambda x: x[1]*' ' + x[0]+'\\n',d))\n",
    "print(*q)"
   ]
  },
  {
   "cell_type": "markdown",
   "metadata": {
    "hash": "f0b07e0cae"
   },
   "source": [
    "### Поддубный Михаил СКБ172\n",
    "\n",
    "Оценка: 0.2\n",
    "\n",
    "Комментарий: Result != lines"
   ]
  },
  {
   "cell_type": "code",
   "execution_count": 130,
   "metadata": {},
   "outputs": [],
   "source": [
    "# вывести список кортежей d на экран так, чтобы каждая буква была на новой строке \n",
    "# со сдвигом от левого края на количество пробелов, равное целому числу в её кортеже\n",
    "# ЗАПРЕЩАЕТСЯ использовать циклы Python!\n",
    "\n",
    "d = [('P', 4), ('y', 5), ('t', 7), ('h', 7), ('o', 7), ('n', 6), (' ', 4), ('n', 3), ('o', 1), ('h', 0), ('t', 0), ('y', 0), ('P', 2)]\n"
   ]
  },
  {
   "cell_type": "code",
   "execution_count": 131,
   "metadata": {},
   "outputs": [
    {
     "data": {
      "text/plain": [
       "[('    P', 4),\n",
       " ('     y', 5),\n",
       " ('       t', 7),\n",
       " ('       h', 7),\n",
       " ('       o', 7),\n",
       " ('      n', 6),\n",
       " ('     ', 4),\n",
       " ('   n', 3),\n",
       " (' o', 1),\n",
       " ('h', 0),\n",
       " ('t', 0),\n",
       " ('y', 0),\n",
       " ('  P', 2)]"
      ]
     },
     "execution_count": 131,
     "metadata": {},
     "output_type": "execute_result"
    }
   ],
   "source": [
    "list(map(lambda i: (' '*d[i][1]+d[i][0], d[i][1]), range(0, len(d))))"
   ]
  },
  {
   "cell_type": "markdown",
   "metadata": {
    "hash": "67a0375db8"
   },
   "source": [
    "### Миронов Никита СКБ171\n",
    "\n",
    "Оценка: 1\n",
    "\n",
    "Комментарий: -"
   ]
  },
  {
   "cell_type": "code",
   "execution_count": 134,
   "metadata": {},
   "outputs": [],
   "source": [
    "# вывести список кортежей d на экран так, чтобы каждая буква была на новой строке \n",
    "# со сдвигом от левого края на количество пробелов, равное целому числу в её кортеже\n",
    "# ЗАПРЕЩАЕТСЯ использовать циклы Python!\n",
    "\n",
    "d = [('P', 4), ('y', 5), ('t', 7), ('h', 7), ('o', 7), ('n', 6), (' ', 4), ('n', 3), ('o', 1), ('h', 0), ('t', 0), ('y', 0), ('P', 2)]\n"
   ]
  },
  {
   "cell_type": "code",
   "execution_count": 135,
   "metadata": {},
   "outputs": [
    {
     "name": "stdout",
     "output_type": "stream",
     "text": [
      "    P\n",
      "     y\n",
      "       t\n",
      "       h\n",
      "       o\n",
      "      n\n",
      "     \n",
      "   n\n",
      " o\n",
      "h\n",
      "t\n",
      "y\n",
      "  P\n"
     ]
    }
   ],
   "source": [
    "print('\\n'.join(map((lambda x: ' ' * x[1] + x[0]), d)))"
   ]
  },
  {
   "cell_type": "markdown",
   "metadata": {
    "hash": "e7b623c94a"
   },
   "source": [
    "### Шубин Никита СКБ172\n",
    "\n",
    "Оценка: 1\n",
    "\n",
    "Комментарий: -"
   ]
  },
  {
   "cell_type": "code",
   "execution_count": 138,
   "metadata": {},
   "outputs": [],
   "source": [
    "# вывести список кортежей d на экран так, чтобы каждая буква была на новой строке \n",
    "# со сдвигом от левого края на количество пробелов, равное целому числу в её кортеже\n",
    "# ЗАПРЕЩАЕТСЯ использовать циклы Python!\n",
    "\n",
    "d = [('P', 4), ('y', 5), ('t', 7), ('h', 7), ('o', 7), ('n', 6), (' ', 4), ('n', 3), ('o', 1), ('h', 0), ('t', 0), ('y', 0), ('P', 2)]\n"
   ]
  },
  {
   "cell_type": "code",
   "execution_count": 139,
   "metadata": {},
   "outputs": [
    {
     "name": "stdout",
     "output_type": "stream",
     "text": [
      "    P\n",
      "     y\n",
      "       t\n",
      "       h\n",
      "       o\n",
      "      n\n",
      "     \n",
      "   n\n",
      " o\n",
      "h\n",
      "t\n",
      "y\n",
      "  P\n"
     ]
    }
   ],
   "source": [
    "from functools import reduce\n",
    "\n",
    "d = [('P', 4), ('y', 5), ('t', 7), ('h', 7), ('o', 7), ('n', 6), (' ', 4), ('n', 3), ('o', 1), ('h', 0), ('t', 0), ('y', 0), ('P', 2)]\n",
    "dd = list(map(lambda x:  \" \"*d[x][1] + d[x][0], range(len(d))))\n",
    "print(reduce(lambda a, b: a + \"\\n\" + b, dd))"
   ]
  },
  {
   "cell_type": "markdown",
   "metadata": {
    "hash": "870303ea1f"
   },
   "source": [
    "### Щеглова Полина СКБ172\n",
    "\n",
    "Оценка: 1\n",
    "\n",
    "Комментарий: -"
   ]
  },
  {
   "cell_type": "code",
   "execution_count": 142,
   "metadata": {},
   "outputs": [],
   "source": [
    "# вывести список кортежей d на экран так, чтобы каждая буква была на новой строке \n",
    "# со сдвигом от левого края на количество пробелов, равное целому числу в её кортеже\n",
    "# ЗАПРЕЩАЕТСЯ использовать циклы Python!\n",
    "\n",
    "d = [('P', 4), ('y', 5), ('t', 7), ('h', 7), ('o', 7), ('n', 6), (' ', 4), ('n', 3), ('o', 1), ('h', 0), ('t', 0), ('y', 0), ('P', 2)]\n"
   ]
  },
  {
   "cell_type": "code",
   "execution_count": 143,
   "metadata": {},
   "outputs": [
    {
     "name": "stdout",
     "output_type": "stream",
     "text": [
      "\n",
      "    P\n",
      "     y\n",
      "       t\n",
      "       h\n",
      "       o\n",
      "      n\n",
      "     \n",
      "   n\n",
      " o\n",
      "h\n",
      "t\n",
      "y\n",
      "  P\n"
     ]
    }
   ],
   "source": [
    "def str_converter(num):\n",
    "    return '\\n'+' '*num\n",
    "new_d = list(sum(d, ()))\n",
    "new_d[1::2] = map(str_converter, new_d[1::2])\n",
    "swap_lst = new_d[1::2]\n",
    "new_d[1::2] = new_d[::2]\n",
    "new_d[::2] = swap_lst\n",
    "print(''.join(new_d))"
   ]
  },
  {
   "cell_type": "markdown",
   "metadata": {
    "hash": "d59980a676"
   },
   "source": [
    "### Мухамадиева Регина СКБ172\n",
    "\n",
    "Оценка: 1\n",
    "\n",
    "Комментарий: -"
   ]
  },
  {
   "cell_type": "code",
   "execution_count": 146,
   "metadata": {},
   "outputs": [],
   "source": [
    "# вывести список кортежей d на экран так, чтобы каждая буква была на новой строке \n",
    "# со сдвигом от левого края на количество пробелов, равное целому числу в её кортеже\n",
    "# ЗАПРЕЩАЕТСЯ использовать циклы Python!\n",
    "\n",
    "d = [('P', 4), ('y', 5), ('t', 7), ('h', 7), ('o', 7), ('n', 6), (' ', 4), ('n', 3), ('o', 1), ('h', 0), ('t', 0), ('y', 0), ('P', 2)]\n"
   ]
  },
  {
   "cell_type": "code",
   "execution_count": 147,
   "metadata": {},
   "outputs": [
    {
     "name": "stdout",
     "output_type": "stream",
     "text": [
      "    P\n",
      "     y\n",
      "       t\n",
      "       h\n",
      "       o\n",
      "      n\n",
      "     \n",
      "   n\n",
      " o\n",
      "h\n",
      "t\n",
      "y\n",
      "  P\n",
      "\n"
     ]
    }
   ],
   "source": [
    "d = [('P', 4), ('y', 5), ('t', 7), ('h', 7), ('o', 7), ('n', 6), (' ', 4), ('n', 3), ('o', 1), ('h', 0), ('t', 0), ('y', 0), ('P', 2)]\n",
    "def f(first,second):\n",
    "    return (second[1])*\" \"+first[0]+\"\\n\"\n",
    "t = map(f,d,d)\n",
    "result=\"\".join(t)\n",
    "print(result)"
   ]
  },
  {
   "cell_type": "markdown",
   "metadata": {
    "hash": "4894f58fef"
   },
   "source": [
    "### Астраханцев Роман СКБ171\n",
    "\n",
    "Оценка: 1\n",
    "\n",
    "Комментарий: -"
   ]
  },
  {
   "cell_type": "code",
   "execution_count": 150,
   "metadata": {},
   "outputs": [],
   "source": [
    "# вывести список кортежей d на экран так, чтобы каждая буква была на новой строке \n",
    "# со сдвигом от левого края на количество пробелов, равное целому числу в её кортеже\n",
    "# ЗАПРЕЩАЕТСЯ использовать циклы Python!\n",
    "\n",
    "d = [('P', 4), ('y', 5), ('t', 7), ('h', 7), ('o', 7), ('n', 6), (' ', 4), ('n', 3), ('o', 1), ('h', 0), ('t', 0), ('y', 0), ('P', 2)]\n"
   ]
  },
  {
   "cell_type": "code",
   "execution_count": 151,
   "metadata": {},
   "outputs": [
    {
     "name": "stdout",
     "output_type": "stream",
     "text": [
      "    P\n",
      "     y\n",
      "       t\n",
      "       h\n",
      "       o\n",
      "      n\n",
      "     \n",
      "   n\n",
      " o\n",
      "h\n",
      "t\n",
      "y\n",
      "  P\n"
     ]
    }
   ],
   "source": [
    "from functools import reduce\n",
    "reduce(lambda a,x:print(' '*x[1]+x[0]), d, \"\")"
   ]
  },
  {
   "cell_type": "markdown",
   "metadata": {
    "hash": "15f4b78d5f"
   },
   "source": [
    "### Бесчастных Роман СКБ171\n",
    "\n",
    "Оценка: 1\n",
    "\n",
    "Комментарий: -"
   ]
  },
  {
   "cell_type": "code",
   "execution_count": 154,
   "metadata": {},
   "outputs": [],
   "source": [
    "# вывести список кортежей d на экран так, чтобы каждая буква была на новой строке \n",
    "# со сдвигом от левого края на количество пробелов, равное целому числу в её кортеже\n",
    "# ЗАПРЕЩАЕТСЯ использовать циклы Python!\n",
    "\n",
    "d = [('P', 4), ('y', 5), ('t', 7), ('h', 7), ('o', 7), ('n', 6), (' ', 4), ('n', 3), ('o', 1), ('h', 0), ('t', 0), ('y', 0), ('P', 2)]\n"
   ]
  },
  {
   "cell_type": "code",
   "execution_count": 155,
   "metadata": {},
   "outputs": [
    {
     "name": "stdout",
     "output_type": "stream",
     "text": [
      "    P\n",
      "     y\n",
      "       t\n",
      "       h\n",
      "       o\n",
      "      n\n",
      "     \n",
      "   n\n",
      " o\n",
      "h\n",
      "t\n",
      "y\n",
      "  P\n",
      "\n"
     ]
    }
   ],
   "source": [
    "print(''.join(map((lambda item: ' ' * item[1] + item[0] + '\\n'), d)))"
   ]
  },
  {
   "cell_type": "markdown",
   "metadata": {
    "hash": "e3e8ebb08e"
   },
   "source": [
    "### Музаффаров Руфат СКБ171\n",
    "\n",
    "Оценка: 1\n",
    "\n",
    "Комментарий: -"
   ]
  },
  {
   "cell_type": "code",
   "execution_count": 158,
   "metadata": {},
   "outputs": [],
   "source": [
    "# вывести список кортежей d на экран так, чтобы каждая буква была на новой строке \n",
    "# со сдвигом от левого края на количество пробелов, равное целому числу в её кортеже\n",
    "# ЗАПРЕЩАЕТСЯ использовать циклы Python!\n",
    "\n",
    "d = [('P', 4), ('y', 5), ('t', 7), ('h', 7), ('o', 7), ('n', 6), (' ', 4), ('n', 3), ('o', 1), ('h', 0), ('t', 0), ('y', 0), ('P', 2)]\n"
   ]
  },
  {
   "cell_type": "code",
   "execution_count": 159,
   "metadata": {
    "scrolled": true
   },
   "outputs": [
    {
     "name": "stdout",
     "output_type": "stream",
     "text": [
      "    P\n",
      "     y\n",
      "       t\n",
      "       h\n",
      "       o\n",
      "      n\n",
      "     \n",
      "   n\n",
      " o\n",
      "h\n",
      "t\n",
      "y\n",
      "  P\n"
     ]
    }
   ],
   "source": [
    "d = [('P', 4), ('y', 5), ('t', 7), ('h', 7), ('o', 7), ('n', 6), (' ', 4), ('n', 3), ('o', 1), ('h', 0), ('t', 0), ('y', 0), ('P', 2)]\n",
    "lst = list(map(lambda x: ' ' * x[1] + x[0], d))\n",
    "\n",
    "s = '\\n'.join(lst)\n",
    "print(s)"
   ]
  },
  {
   "cell_type": "markdown",
   "metadata": {
    "hash": "fbb3eb5f04"
   },
   "source": [
    "### Гаварина Светлана СКБ171\n",
    "\n",
    "Оценка: 1\n",
    "\n",
    "Комментарий: -"
   ]
  },
  {
   "cell_type": "code",
   "execution_count": 162,
   "metadata": {},
   "outputs": [],
   "source": [
    "# вывести список кортежей d на экран так, чтобы каждая буква была на новой строке \n",
    "# со сдвигом от левого края на количество пробелов, равное целому числу в её кортеже\n",
    "# ЗАПРЕЩАЕТСЯ использовать циклы Python!\n",
    "\n",
    "d = [('P', 4), ('y', 5), ('t', 7), ('h', 7), ('o', 7), ('n', 6), (' ', 4), ('n', 3), ('o', 1), ('h', 0), ('t', 0), ('y', 0), ('P', 2)]\n"
   ]
  },
  {
   "cell_type": "code",
   "execution_count": 163,
   "metadata": {},
   "outputs": [
    {
     "name": "stdout",
     "output_type": "stream",
     "text": [
      "    P\n",
      "     y\n",
      "       t\n",
      "       h\n",
      "       o\n",
      "      n\n",
      "     \n",
      "   n\n",
      " o\n",
      "h\n",
      "t\n",
      "y\n",
      "  P\n"
     ]
    }
   ],
   "source": [
    "def d_sp(d):\n",
    "    d = map(lambda x: ''.join([x[1] * ' ', x[0]]), d)\n",
    "    print(*d, sep='\\n')\n",
    "\n",
    "d_sp(d)"
   ]
  },
  {
   "cell_type": "markdown",
   "metadata": {
    "hash": "d4b4a0c75f"
   },
   "source": [
    "### Дундуков Семен СКБ171\n",
    "\n",
    "Оценка: 1\n",
    "\n",
    "Комментарий: -"
   ]
  },
  {
   "cell_type": "code",
   "execution_count": 166,
   "metadata": {},
   "outputs": [],
   "source": [
    "# вывести список кортежей d на экран так, чтобы каждая буква была на новой строке \n",
    "# со сдвигом от левого края на количество пробелов, равное целому числу в её кортеже\n",
    "# ЗАПРЕЩАЕТСЯ использовать циклы Python!\n",
    "\n",
    "d = [('P', 4), ('y', 5), ('t', 7), ('h', 7), ('o', 7), ('n', 6), (' ', 4), ('n', 3), ('o', 1), ('h', 0), ('t', 0), ('y', 0), ('P', 2)]\n"
   ]
  },
  {
   "cell_type": "code",
   "execution_count": 167,
   "metadata": {},
   "outputs": [
    {
     "name": "stdout",
     "output_type": "stream",
     "text": [
      "    P\n",
      "     y\n",
      "       t\n",
      "       h\n",
      "       o\n",
      "      n\n",
      "     \n",
      "   n\n",
      " o\n",
      "h\n",
      "t\n",
      "y\n",
      "  P\n",
      "\n"
     ]
    }
   ],
   "source": [
    "d = [('P', 4), ('y', 5), ('t', 7), ('h', 7), ('o', 7), ('n', 6), (' ', 4), ('n', 3), ('o', 1), ('h', 0), ('t', 0), ('y', 0), ('P', 2)]\n",
    "print(\"\".join(list(map(lambda x: \" \"*x[1]+x[0]+\"\\n\", d))))"
   ]
  },
  {
   "cell_type": "markdown",
   "metadata": {
    "hash": "2399d34da2"
   },
   "source": [
    "### Бень Таисия СКБ171\n",
    "\n",
    "Оценка: 1\n",
    "\n",
    "Комментарий: -"
   ]
  },
  {
   "cell_type": "code",
   "execution_count": 170,
   "metadata": {},
   "outputs": [],
   "source": [
    "# вывести список кортежей d на экран так, чтобы каждая буква была на новой строке \n",
    "# со сдвигом от левого края на количество пробелов, равное целому числу в её кортеже\n",
    "# ЗАПРЕЩАЕТСЯ использовать циклы Python!\n",
    "\n",
    "d = [('P', 4), ('y', 5), ('t', 7), ('h', 7), ('o', 7), ('n', 6), (' ', 4), ('n', 3), ('o', 1), ('h', 0), ('t', 0), ('y', 0), ('P', 2)]\n"
   ]
  },
  {
   "cell_type": "code",
   "execution_count": 171,
   "metadata": {},
   "outputs": [
    {
     "name": "stdout",
     "output_type": "stream",
     "text": [
      "    P\n",
      "     y\n",
      "       t\n",
      "       h\n",
      "       o\n",
      "      n\n",
      "     \n",
      "   n\n",
      " o\n",
      "h\n",
      "t\n",
      "y\n",
      "  P\n"
     ]
    }
   ],
   "source": [
    "def shift(tup):\n",
    "    letter, number = tup\n",
    "    return number * ' ' + letter\n",
    "spisok = list(map(shift , d))\n",
    "print('\\n'.join(spisok))"
   ]
  },
  {
   "cell_type": "markdown",
   "metadata": {
    "hash": "cbdb3b9c23"
   },
   "source": [
    "### Козликина Татьяна СКБ172\n",
    "\n",
    "Оценка: 1\n",
    "\n",
    "Комментарий: -"
   ]
  },
  {
   "cell_type": "code",
   "execution_count": 174,
   "metadata": {},
   "outputs": [],
   "source": [
    "# вывести список кортежей d на экран так, чтобы каждая буква была на новой строке \n",
    "# со сдвигом от левого края на количество пробелов, равное целому числу в её кортеже\n",
    "# ЗАПРЕЩАЕТСЯ использовать циклы Python!\n",
    "\n",
    "d = [('P', 4), ('y', 5), ('t', 7), ('h', 7), ('o', 7), ('n', 6), (' ', 4), ('n', 3), ('o', 1), ('h', 0), ('t', 0), ('y', 0), ('P', 2)]\n"
   ]
  },
  {
   "cell_type": "code",
   "execution_count": 175,
   "metadata": {},
   "outputs": [
    {
     "name": "stdout",
     "output_type": "stream",
     "text": [
      "    P\n",
      "     y\n",
      "       t\n",
      "       h\n",
      "       o\n",
      "      n\n",
      "     \n",
      "   n\n",
      " o\n",
      "h\n",
      "t\n",
      "y\n",
      "  P\n"
     ]
    }
   ],
   "source": [
    "D = list(d)\n",
    "lst = list(map(lambda x: ' '*d[x][1]+d[x][0], range(len(d))))\n",
    "print(*lst, sep='\\n')"
   ]
  },
  {
   "cell_type": "markdown",
   "metadata": {
    "hash": "c569889d42"
   },
   "source": [
    "### Апресян Тигран СКБ171\n",
    "\n",
    "Оценка: 1\n",
    "\n",
    "Комментарий: -"
   ]
  },
  {
   "cell_type": "code",
   "execution_count": 178,
   "metadata": {},
   "outputs": [],
   "source": [
    "# вывести список кортежей d на экран так, чтобы каждая буква была на новой строке \n",
    "# со сдвигом от левого края на количество пробелов, равное целому числу в её кортеже\n",
    "# ЗАПРЕЩАЕТСЯ использовать циклы Python!\n",
    "\n",
    "d = [('P', 4), ('y', 5), ('t', 7), ('h', 7), ('o', 7), ('n', 6), (' ', 4), ('n', 3), ('o', 1), ('h', 0), ('t', 0), ('y', 0), ('P', 2)]\n"
   ]
  },
  {
   "cell_type": "code",
   "execution_count": 179,
   "metadata": {
    "scrolled": true
   },
   "outputs": [
    {
     "name": "stdout",
     "output_type": "stream",
     "text": [
      "    P\n",
      "     y\n",
      "       t\n",
      "       h\n",
      "       o\n",
      "      n\n",
      "     \n",
      "   n\n",
      " o\n",
      "h\n",
      "t\n",
      "y\n",
      "  P\n"
     ]
    }
   ],
   "source": [
    "print('\\n'.join(list(map(lambda c: ' '*c[1]+c[0],d))))\n"
   ]
  },
  {
   "cell_type": "markdown",
   "metadata": {
    "hash": "085aa1874a"
   },
   "source": [
    "### Долотов Фёдор СКБ172\n",
    "\n",
    "Оценка: 0.2\n",
    "\n",
    "Комментарий: Result != lines"
   ]
  },
  {
   "cell_type": "code",
   "execution_count": 182,
   "metadata": {},
   "outputs": [],
   "source": [
    "# вывести список кортежей d на экран так, чтобы каждая буква была на новой строке \n",
    "# со сдвигом от левого края на количество пробелов, равное целому числу в её кортеже\n",
    "# ЗАПРЕЩАЕТСЯ использовать циклы Python!\n",
    "\n",
    "d = [('P', 4), ('y', 5), ('t', 7), ('h', 7), ('o', 7), ('n', 6), (' ', 4), ('n', 3), ('o', 1), ('h', 0), ('t', 0), ('y', 0), ('P', 2)]\n"
   ]
  },
  {
   "cell_type": "code",
   "execution_count": 183,
   "metadata": {},
   "outputs": [
    {
     "name": "stdout",
     "output_type": "stream",
     "text": [
      "['    P',\n",
      " '     y',\n",
      " '       t',\n",
      " '       h',\n",
      " '       o',\n",
      " '      n',\n",
      " '     ',\n",
      " '   n',\n",
      " ' o',\n",
      " 'h',\n",
      " 't',\n",
      " 'y',\n",
      " '  P']\n"
     ]
    }
   ],
   "source": [
    "import pprint\n",
    "d = [('P', 4), ('y', 5), ('t', 7), ('h', 7), ('o', 7), ('n', 6), (' ', 4), ('n', 3), ('o', 1), ('h', 0), ('t', 0), ('y', 0), ('P', 2)]\n",
    "s = map(lambda i: ' '*d[i][1]+d[i][0], range(len(d)))\n",
    "pprint.pprint(list(s))"
   ]
  },
  {
   "cell_type": "markdown",
   "metadata": {
    "hash": "6463c3fd36"
   },
   "source": [
    "### Попов Юрий СКБ172\n",
    "\n",
    "Оценка: 1\n",
    "\n",
    "Комментарий: -"
   ]
  },
  {
   "cell_type": "code",
   "execution_count": 186,
   "metadata": {},
   "outputs": [],
   "source": [
    "# вывести список кортежей d на экран так, чтобы каждая буква была на новой строке \n",
    "# со сдвигом от левого края на количество пробелов, равное целому числу в её кортеже\n",
    "# ЗАПРЕЩАЕТСЯ использовать циклы Python!\n",
    "\n",
    "d = [('P', 4), ('y', 5), ('t', 7), ('h', 7), ('o', 7), ('n', 6), (' ', 4), ('n', 3), ('o', 1), ('h', 0), ('t', 0), ('y', 0), ('P', 2)]\n"
   ]
  },
  {
   "cell_type": "code",
   "execution_count": 187,
   "metadata": {},
   "outputs": [
    {
     "name": "stdout",
     "output_type": "stream",
     "text": [
      "    P\n",
      "     y\n",
      "       t\n",
      "       h\n",
      "       o\n",
      "      n\n",
      "     \n",
      "   n\n",
      " o\n",
      "h\n",
      "t\n",
      "y\n",
      "  P\n"
     ]
    }
   ],
   "source": [
    "#Задание_1\n",
    "d = [('P', 4), \n",
    "     ('y', 5), \n",
    "     ('t', 7),\n",
    "     ('h', 7), \n",
    "     ('o', 7), \n",
    "     ('n', 6), \n",
    "     (' ', 4), \n",
    "     ('n', 3), \n",
    "     ('o', 1),\n",
    "     ('h', 0), \n",
    "     ('t', 0), \n",
    "     ('y', 0), \n",
    "     ('P', 2)]\n",
    "\n",
    "\n",
    "def func(lst):\n",
    "    a = ' '\n",
    "    list(map(lambda d:print(d[1] * a + d[0]), d))\n",
    "    \n",
    "\n",
    "\n",
    "func(d)"
   ]
  },
  {
   "cell_type": "code",
   "execution_count": null,
   "metadata": {},
   "outputs": [],
   "source": []
  }
 ],
 "metadata": {
  "kernelspec": {
   "display_name": "Python 3",
   "language": "python",
   "name": "python3"
  },
  "language_info": {
   "codemirror_mode": {
    "name": "ipython",
    "version": 3
   },
   "file_extension": ".py",
   "mimetype": "text/x-python",
   "name": "python",
   "nbconvert_exporter": "python",
   "pygments_lexer": "ipython3",
   "version": "3.7.3"
  },
  "task": 1
 },
 "nbformat": 4,
 "nbformat_minor": 2
}
