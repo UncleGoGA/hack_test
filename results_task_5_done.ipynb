{
 "cells": [
  {
   "cell_type": "markdown",
   "metadata": {
    "task": 5
   },
   "source": [
    "-----\n",
    "#### Задание 5"
   ]
  },
  {
   "cell_type": "markdown",
   "metadata": {
    "hash": "8699e3d854"
   },
   "source": [
    "### Федоров Сергей СКБ172\n",
    "\n",
    "Оценка: 1\n",
    "\n",
    "Комментарий: -"
   ]
  },
  {
   "cell_type": "code",
   "execution_count": 4,
   "metadata": {
    "colab": {},
    "colab_type": "code",
    "id": "jwDhdgCL-7Hb"
   },
   "outputs": [],
   "source": [
    "# сгенерировать список любой заданной длины по следующему правилу [1, 1, 2, 3, 3, 5, 4, 7, ...]\n"
   ]
  },
  {
   "cell_type": "code",
   "execution_count": 16,
   "metadata": {
    "colab": {
     "base_uri": "https://localhost:8080/"
    },
    "colab_type": "code",
    "id": "-HWrKIm8-7Hd",
    "outputId": "9294e755-782b-4c5a-fbd8-ffc6cb180583"
   },
   "outputs": [
    {
     "name": "stdout",
     "output_type": "stream",
     "text": [
      "N=21\n",
      "[1, 1, 2, 3, 3, 5, 4, 7, 5, 9, 6, 11, 7, 13, 8, 15, 9, 17, 10, 19, 11]\n"
     ]
    },
    {
     "data": {
      "text/plain": [
       "21"
      ]
     },
     "execution_count": 16,
     "metadata": {},
     "output_type": "execute_result"
    }
   ],
   "source": [
    "# ВВедите длину N\n",
    "N = int(input(\"N=\"))\n",
    "ls = []\n",
    "k = 1 \n",
    "for t in range(0,N):\n",
    "  if t % 2==0:\n",
    "    ls.append(k)\n",
    "    k+=1\n",
    "  else:\n",
    "    ls.append(t)\n",
    "print(ls)\n",
    "len(ls)"
   ]
  },
  {
   "cell_type": "markdown",
   "metadata": {
    "hash": "61933bd99d"
   },
   "source": [
    "### Алексеев Кирилл СКБ172\n",
    "\n",
    "Оценка: 1\n",
    "\n",
    "Комментарий: -"
   ]
  },
  {
   "cell_type": "code",
   "execution_count": 6,
   "metadata": {},
   "outputs": [],
   "source": [
    "# сгенерировать список любой заданной длины по следующему правилу [1, 1, 2, 3, 3, 5, 4, 7, ...]\n"
   ]
  },
  {
   "cell_type": "code",
   "execution_count": 7,
   "metadata": {},
   "outputs": [
    {
     "name": "stdout",
     "output_type": "stream",
     "text": [
      "21\n",
      "[1, 1, 2, 3, 3, 5, 4, 7, 5, 9, 6, 11, 7, 13, 8, 15, 9, 17, 10, 19, 11]\n"
     ]
    }
   ],
   "source": [
    "a = int(input())\n",
    "i = 0\n",
    "k = 1\n",
    "p = 1\n",
    "list = []\n",
    "while i < a:\n",
    "    if (i % 2) == 0:\n",
    "        list.append(k)\n",
    "        k = k + 1\n",
    "    else:\n",
    "        list.append(p)\n",
    "        p = p + 2\n",
    "    i = i + 1\n",
    "print(list)"
   ]
  },
  {
   "cell_type": "markdown",
   "metadata": {
    "hash": "45b9ceed78"
   },
   "source": [
    "### Анчугов Роман СКБ171\n",
    "\n",
    "Оценка: 1\n",
    "\n",
    "Комментарий: -"
   ]
  },
  {
   "cell_type": "code",
   "execution_count": 8,
   "metadata": {},
   "outputs": [],
   "source": [
    "# сгенерировать список любой заданной длины по следующему правилу [1, 1, 2, 3, 3, 5, 4, 7, ...]\n"
   ]
  },
  {
   "cell_type": "code",
   "execution_count": 9,
   "metadata": {},
   "outputs": [
    {
     "name": "stdout",
     "output_type": "stream",
     "text": [
      "[1, 1, 2, 3, 3, 5, 4, 7, 5, 9, 6, 11, 7, 13, 8, 15, 9, 17, 10, 19, 11]\n"
     ]
    }
   ],
   "source": [
    "def rule(x):\n",
    "    if(x % 2 == 0):\n",
    "        return int(x / 2 + 1)\n",
    "    else:\n",
    "        return x\n",
    "\n",
    "print([rule(x) for x in range(0, 21)])"
   ]
  },
  {
   "cell_type": "markdown",
   "metadata": {
    "hash": "8be119c53a"
   },
   "source": [
    "### Акинина Алёна СКБ172\n",
    "\n",
    "Оценка: 1\n",
    "\n",
    "Комментарий: -"
   ]
  },
  {
   "cell_type": "code",
   "execution_count": 10,
   "metadata": {},
   "outputs": [],
   "source": [
    "# сгенерировать список любой заданной длины по следующему правилу [1, 1, 2, 3, 3, 5, 4, 7, ...]\n"
   ]
  },
  {
   "cell_type": "code",
   "execution_count": 11,
   "metadata": {},
   "outputs": [
    {
     "name": "stdout",
     "output_type": "stream",
     "text": [
      "21\n",
      "[1, 1, 2, 3, 3, 5, 4, 7, 5, 9, 6, 11, 7, 13, 8, 15, 9, 17, 10, 19, 11]\n"
     ]
    }
   ],
   "source": [
    "n = int(input())\n",
    "a = []\n",
    "for j in range(0,n):\n",
    "    a.append(0)\n",
    "for j in range(0,n):\n",
    "    if j%2 == 0:\n",
    "        a[j] = a[j-2]+1\n",
    "    else:\n",
    "        a[j] = j\n",
    "print(a)        "
   ]
  },
  {
   "cell_type": "markdown",
   "metadata": {
    "hash": "f5676d34de"
   },
   "source": [
    "### Лисьев Александр СКБ171\n",
    "\n",
    "Оценка: 0.5\n",
    "\n",
    "Комментарий: List is longer than expected."
   ]
  },
  {
   "cell_type": "code",
   "execution_count": 12,
   "metadata": {},
   "outputs": [],
   "source": [
    "# сгенерировать список любой заданной длины по следующему правилу [1, 1, 2, 3, 3, 5, 4, 7, ...]\n"
   ]
  },
  {
   "cell_type": "code",
   "execution_count": 15,
   "metadata": {},
   "outputs": [
    {
     "data": {
      "text/plain": [
       "([1, 1, 2, 3, 3, 5, 4, 7, 5, 9, 6, 11, 7, 13, 8, 15, 9, 17, 10, 19, 11, 21],\n",
       " 22)"
      ]
     },
     "execution_count": 15,
     "metadata": {},
     "output_type": "execute_result"
    }
   ],
   "source": [
    "def make_list5(n):\n",
    "    l = []\n",
    "    for i in range(1, n//2 + n%2 + 1):\n",
    "        l += [i, 2*i - 1]\n",
    "        \n",
    "    return l\n",
    "\n",
    "make_list5(21), len(make_list5(21))"
   ]
  },
  {
   "cell_type": "markdown",
   "metadata": {
    "hash": "987c011ca1"
   },
   "source": [
    "### Чердак Александр СКБ171\n",
    "\n",
    "Оценка: 1\n",
    "\n",
    "Комментарий: -"
   ]
  },
  {
   "cell_type": "code",
   "execution_count": null,
   "metadata": {},
   "outputs": [],
   "source": [
    "# сгенерировать список любой заданной длины по следующему правилу [1, 1, 2, 3, 3, 5, 4, 7, ...]\n"
   ]
  },
  {
   "cell_type": "code",
   "execution_count": 1,
   "metadata": {},
   "outputs": [
    {
     "name": "stdout",
     "output_type": "stream",
     "text": [
      "21\n",
      "[1, 1, 2, 3, 3, 5, 4, 7, 5, 9, 6, 11, 7, 13, 8, 15, 9, 17, 10, 19, 11]\n"
     ]
    }
   ],
   "source": [
    "n = int(input())\n",
    "l1 = list()\n",
    "l2 = list()\n",
    "resl = list()\n",
    "\n",
    "if n % 2 == 0:\n",
    "    rangeborder = int(n / 2) + 1\n",
    "    for i in range(1, rangeborder):\n",
    "        l1.append(i)\n",
    "    for i in range(1, n):\n",
    "        if i % 2 == 1:\n",
    "            l2.append(i)\n",
    "\n",
    "if n % 2 == 0:\n",
    "    for i in range(int(n / 2)):\n",
    "        resl.append(l1[i])\n",
    "        resl.append(l2[i])\n",
    "\n",
    "if n % 2 == 1:\n",
    "    rangeborder = int((n + 1) / 2) + 1\n",
    "    for i in range(1, rangeborder):\n",
    "        l1.append(i)\n",
    "    for i in range(1, n):\n",
    "        if i % 2 == 1:\n",
    "            l2.append(i)\n",
    "\n",
    "if n % 2 == 1:\n",
    "    rangeborder = int((n - 1) / 2)\n",
    "    for i in range(rangeborder):\n",
    "        resl.append(l1[i])\n",
    "        resl.append(l2[i])\n",
    "\n",
    "    resl.append(l1[int((n - 1) / 2)])\n",
    "print(resl)"
   ]
  },
  {
   "cell_type": "markdown",
   "metadata": {
    "hash": "edfab041c6"
   },
   "source": [
    "### Шелепова Алена СКБ172\n",
    "\n",
    "Оценка: 1\n",
    "\n",
    "Комментарий: -"
   ]
  },
  {
   "cell_type": "code",
   "execution_count": 2,
   "metadata": {},
   "outputs": [],
   "source": [
    "# сгенерировать список любой заданной длины по следующему правилу [1, 1, 2, 3, 3, 5, 4, 7, ...]\n"
   ]
  },
  {
   "cell_type": "code",
   "execution_count": 4,
   "metadata": {},
   "outputs": [
    {
     "data": {
      "text/plain": [
       "[1, 1, 2, 3, 3, 5, 4, 7, 5, 9, 6, 11, 7, 13, 8, 15, 9, 17, 10, 19, 11]"
      ]
     },
     "execution_count": 4,
     "metadata": {},
     "output_type": "execute_result"
    }
   ],
   "source": [
    "def sequence(n):\n",
    "    l = []\n",
    "    for i in range(n):\n",
    "        if (i%2==0):\n",
    "            l.append(int(i/2)+1)\n",
    "        else:\n",
    "            l.append(i)\n",
    "    return l\n",
    "\n",
    "sequence(21)      "
   ]
  },
  {
   "cell_type": "markdown",
   "metadata": {
    "hash": "e7846edd2c"
   },
   "source": [
    "### Шнейдер Алиса СКБ172\n",
    "\n",
    "Оценка: 0\n",
    "\n",
    "Комментарий: Can't define list length."
   ]
  },
  {
   "cell_type": "code",
   "execution_count": 5,
   "metadata": {},
   "outputs": [],
   "source": [
    "# сгенерировать список любой заданной длины по следующему правилу [1, 1, 2, 3, 3, 5, 4, 7, ...]\n"
   ]
  },
  {
   "cell_type": "code",
   "execution_count": 6,
   "metadata": {},
   "outputs": [
    {
     "data": {
      "text/plain": [
       "[1, 1, 2, 3, 3, 4, 5, 5, 6, 7, 7, 8, 9, 9, 11, 13, 15, 17, 19]"
      ]
     },
     "execution_count": 6,
     "metadata": {},
     "output_type": "execute_result"
    }
   ],
   "source": [
    "sorted([i for i in range(1, 10)] + [i for i in range(1, 20, 2)])"
   ]
  },
  {
   "cell_type": "markdown",
   "metadata": {
    "hash": "680f312dec"
   },
   "source": [
    "### Зайцева Анастасия СКБ171\n",
    "\n",
    "Оценка: 1\n",
    "\n",
    "Комментарий: -"
   ]
  },
  {
   "cell_type": "code",
   "execution_count": 7,
   "metadata": {},
   "outputs": [],
   "source": [
    "# сгенерировать список любой заданной длины по следующему правилу [1, 1, 2, 3, 3, 5, 4, 7, ...]\n"
   ]
  },
  {
   "cell_type": "code",
   "execution_count": 9,
   "metadata": {},
   "outputs": [
    {
     "name": "stdout",
     "output_type": "stream",
     "text": [
      "21\n",
      "1 1 2 3 3 5 4 7 5 9 6 11 7 13 8 15 9 17 10 19 11\n"
     ]
    },
    {
     "data": {
      "text/plain": [
       "(None, 21)"
      ]
     },
     "execution_count": 9,
     "metadata": {},
     "output_type": "execute_result"
    }
   ],
   "source": [
    "n = int(input())\n",
    "if n == 1:\n",
    "    a = [1]\n",
    "elif n == 2:\n",
    "    a = [1,1]\n",
    "else:\n",
    "    a = [1,1]\n",
    "    i = 2\n",
    "    while i < n-1:\n",
    "        a+= [a[i-2]+1]\n",
    "        a+= [a[i-1]+2]\n",
    "        i+= 2\n",
    "    if i < n: a+= [a[i-2]+1]\n",
    "print(*a), len(a)"
   ]
  },
  {
   "cell_type": "markdown",
   "metadata": {
    "hash": "fd1904cd9b"
   },
   "source": [
    "### Полуяктов Анатолий СКБ171\n",
    "\n",
    "Оценка: 1\n",
    "\n",
    "Комментарий: -"
   ]
  },
  {
   "cell_type": "code",
   "execution_count": null,
   "metadata": {},
   "outputs": [],
   "source": [
    "# сгенерировать список любой заданной длины по следующему правилу [1, 1, 2, 3, 3, 5, 4, 7, ...]\n"
   ]
  },
  {
   "cell_type": "code",
   "execution_count": 10,
   "metadata": {},
   "outputs": [
    {
     "name": "stdout",
     "output_type": "stream",
     "text": [
      "21\n",
      "[1, 1, 2, 3, 3, 5, 4, 7, 5, 9, 6, 11, 7, 13, 8, 15, 9, 17, 10, 19, 11]\n"
     ]
    }
   ],
   "source": [
    "j=0\n",
    "n = int(input())\n",
    "odd=[]\n",
    "whole=[]\n",
    "ComLst=[0]*n\n",
    "if n >1:\n",
    "    if n%2 == 0:\n",
    "        odd=[i for i in range(1,n,2)]\n",
    "        whole=[i for i in range(1,(n//2)+1)]\n",
    "    else:\n",
    "        odd=[i for i in range(1,n,2)]\n",
    "        whole=[i for i in range(1,(n//2)+2)]\n",
    "        odd=odd[:n-2:]\n",
    "\n",
    "    for i in range(0,n,2):\n",
    "        ComLst[i]=whole[j]\n",
    "        j+=1\n",
    "    j=0\n",
    "    for i in range(1,n,2):\n",
    "        ComLst[i]=odd[j]\n",
    "        j+=1\n",
    "\n",
    "    print(ComLst)      \n",
    "else:\n",
    "    print(1)"
   ]
  },
  {
   "cell_type": "markdown",
   "metadata": {
    "hash": "da15d1aae0"
   },
   "source": [
    "### Фомин Андрей СКБ172\n",
    "\n",
    "Оценка: 1\n",
    "\n",
    "Комментарий: -"
   ]
  },
  {
   "cell_type": "code",
   "execution_count": null,
   "metadata": {},
   "outputs": [],
   "source": [
    "# сгенерировать список любой заданной длины по следующему правилу [1, 1, 2, 3, 3, 5, 4, 7, ...]\n"
   ]
  },
  {
   "cell_type": "code",
   "execution_count": 12,
   "metadata": {},
   "outputs": [
    {
     "name": "stdout",
     "output_type": "stream",
     "text": [
      "1 1 2 3 3 5 4 7 5 9 6 11 7 13 8 15 9 17 10 19 11\n"
     ]
    }
   ],
   "source": [
    "from random import randint\n",
    "count = -1\n",
    "a = []\n",
    "for i in range(21):#randint(2,50)):\n",
    "    if i % 2 ==  0:\n",
    "        a.append(i - count)\n",
    "        count += 1\n",
    "    if i % 2 != 0:\n",
    "        a.append(i)\n",
    "print(*a)"
   ]
  },
  {
   "cell_type": "markdown",
   "metadata": {
    "hash": "8670705a3a"
   },
   "source": [
    "### Марипова Жасмин СКБ171\n",
    "\n",
    "Оценка: 1\n",
    "\n",
    "Комментарий: -"
   ]
  },
  {
   "cell_type": "code",
   "execution_count": 0,
   "metadata": {
    "colab": {},
    "colab_type": "code",
    "id": "ug3midjyDcUE"
   },
   "outputs": [],
   "source": [
    "# сгенерировать список любой заданной длины по следующему правилу [1, 1, 2, 3, 3, 5, 4, 7, ...]\n"
   ]
  },
  {
   "cell_type": "code",
   "execution_count": 13,
   "metadata": {
    "colab": {
     "base_uri": "https://localhost:8080/",
     "height": 50
    },
    "colab_type": "code",
    "id": "J4aUG9WjDcUJ",
    "outputId": "6eb757d2-cf6a-4654-b380-eda5508422a5"
   },
   "outputs": [
    {
     "name": "stdout",
     "output_type": "stream",
     "text": [
      "21\n",
      "[1, 1, 2, 3, 3, 5, 4, 7, 5, 9, 6, 11, 7, 13, 8, 15, 9, 17, 10, 19, 11]\n"
     ]
    }
   ],
   "source": [
    "a = int(input())\n",
    "lst = []\n",
    "m = 1\n",
    "x = 1\n",
    "y = 1\n",
    "while m <= a:\n",
    "    lst.append(x)\n",
    "    x += 1\n",
    "    m += 1\n",
    "    if m <= a:\n",
    "        lst.append(y)\n",
    "        y += 2\n",
    "    m += 1\n",
    "print(lst)"
   ]
  },
  {
   "cell_type": "markdown",
   "metadata": {
    "hash": "49bf872905"
   },
   "source": [
    "### Зоричев Борис СКБ172\n",
    "\n",
    "Оценка: 0.8\n",
    "\n",
    "Комментарий: List length definition is not trivial."
   ]
  },
  {
   "cell_type": "code",
   "execution_count": null,
   "metadata": {},
   "outputs": [],
   "source": [
    "# сгенерировать список любой заданной длины по следующему правилу [1, 1, 2, 3, 3, 5, 4, 7, ...]"
   ]
  },
  {
   "cell_type": "code",
   "execution_count": 16,
   "metadata": {},
   "outputs": [
    {
     "data": {
      "text/plain": [
       "([1, 1, 2, 3, 3, 5, 4, 7, 5, 9, 6, 11, 7, 13, 8, 15, 9, 17, 10, 19, 11], 21)"
      ]
     },
     "execution_count": 16,
     "metadata": {},
     "output_type": "execute_result"
    }
   ],
   "source": [
    "lst, lst2 = [1], [1]\n",
    "for i in range(2,22):\n",
    "    lst2.append(i)\n",
    "    if i%2 == 0:\n",
    "        lst.append(i-1)\n",
    "    elif i%2 == 1:\n",
    "        lst.append(lst2[1])\n",
    "        lst2.pop(1)\n",
    "lst, len(lst)\n",
    "\n",
    "##если кратно =номер-1 ,если не кратно заполняю уже созданным массивом"
   ]
  },
  {
   "cell_type": "markdown",
   "metadata": {
    "hash": "3c7692137a"
   },
   "source": [
    "### Сербаев Вадим СКБ172\n",
    "\n",
    "Оценка: 0\n",
    "\n",
    "Комментарий: Wrong result."
   ]
  },
  {
   "cell_type": "code",
   "execution_count": 18,
   "metadata": {},
   "outputs": [],
   "source": [
    "# сгенерировать список любой заданной длины по следующему правилу [1, 1, 2, 3, 3, 5, 4, 7, ...]\n"
   ]
  },
  {
   "cell_type": "code",
   "execution_count": 17,
   "metadata": {},
   "outputs": [
    {
     "name": "stdout",
     "output_type": "stream",
     "text": [
      "21\n",
      "[1, 1, 2, 3, 3, 5, 4, 7, 1, 1, 2, 3, 3, 5, 4, 7, 1, 1, 2, 3, 3]\n"
     ]
    }
   ],
   "source": [
    "def ListGenerator(i):\n",
    "    if (i%8==1)|(i%8==0): return 1\n",
    "    if i%8==2: return 2\n",
    "    if (i%8==3)|(i%8==4): return 3\n",
    "    if i%8==5: return 5\n",
    "    if i%8==6: return 4\n",
    "    if i%8==7: return 7\n",
    "   \n",
    "\n",
    "        \n",
    "MaxNum = int(input())\n",
    "L = [ListGenerator(i) for i in range(0,MaxNum)]\n",
    "print(L)"
   ]
  },
  {
   "cell_type": "markdown",
   "metadata": {
    "hash": "f59c3afdc4"
   },
   "source": [
    "### Булгаков Виталий СКБ172\n",
    "\n",
    "Оценка: 1\n",
    "\n",
    "Комментарий: -"
   ]
  },
  {
   "cell_type": "code",
   "execution_count": 19,
   "metadata": {},
   "outputs": [],
   "source": [
    "# сгенерировать список любой заданной длины по следующему правилу [1, 1, 2, 3, 3, 5, 4, 7, ...]\n"
   ]
  },
  {
   "cell_type": "code",
   "execution_count": 20,
   "metadata": {},
   "outputs": [
    {
     "name": "stdout",
     "output_type": "stream",
     "text": [
      "21\n"
     ]
    },
    {
     "data": {
      "text/plain": [
       "[1, 1, 2, 3, 3, 5, 4, 7, 5, 9, 6, 11, 7, 13, 8, 15, 9, 17, 10, 19, 11]"
      ]
     },
     "execution_count": 20,
     "metadata": {},
     "output_type": "execute_result"
    }
   ],
   "source": [
    "n = int(input())\n",
    "s = []\n",
    "for i in range(n):\n",
    "    if not i % 2:\n",
    "        s.append(int(i / 2) + 1)\n",
    "    else:\n",
    "        s.append(i)\n",
    "s\n"
   ]
  },
  {
   "cell_type": "markdown",
   "metadata": {
    "hash": "c942913613"
   },
   "source": [
    "### Андреева Влада СКБ171\n",
    "\n",
    "Оценка: 1\n",
    "\n",
    "Комментарий: -"
   ]
  },
  {
   "cell_type": "code",
   "execution_count": null,
   "metadata": {},
   "outputs": [],
   "source": [
    "# сгенерировать список любой заданной длины по следующему правилу [1, 1, 2, 3, 3, 5, 4, 7, ...]\n"
   ]
  },
  {
   "cell_type": "code",
   "execution_count": 21,
   "metadata": {},
   "outputs": [
    {
     "name": "stdout",
     "output_type": "stream",
     "text": [
      "21\n",
      "[1, 1, 2, 3, 3, 5, 4, 7, 5, 9, 6, 11, 7, 13, 8, 15, 9, 17, 10, 19, 11]\n"
     ]
    }
   ],
   "source": [
    "n = int(input())\n",
    "final = []\n",
    "no1 = 1\n",
    "no2 = 1\n",
    "for i in range(n):\n",
    "    if (i + 1) % 2 == 1:\n",
    "        final.append(no1)\n",
    "        no1 += 1\n",
    "    else:\n",
    "        final.append(no2)\n",
    "        no2 += 2\n",
    "print(final)"
   ]
  },
  {
   "cell_type": "markdown",
   "metadata": {
    "hash": "913f2d1dd9"
   },
   "source": [
    "### Клопов Владислав СКБ172\n",
    "\n",
    "Оценка: 0.5\n",
    "\n",
    "Комментарий: List is longer than expected."
   ]
  },
  {
   "cell_type": "code",
   "execution_count": null,
   "metadata": {},
   "outputs": [],
   "source": [
    "# сгенерировать список любой заданной длины по следующему правилу [1, 1, 2, 3, 3, 5, 4, 7, ...]\n"
   ]
  },
  {
   "cell_type": "code",
   "execution_count": 23,
   "metadata": {},
   "outputs": [
    {
     "name": "stdout",
     "output_type": "stream",
     "text": [
      "21\n"
     ]
    },
    {
     "data": {
      "text/plain": [
       "([1, 1, 2, 3, 3, 5, 4, 7, 5, 9, 6, 11, 7, 13, 8, 15, 9, 17, 10, 19, 11, 21],\n",
       " 22)"
      ]
     },
     "execution_count": 23,
     "metadata": {},
     "output_type": "execute_result"
    }
   ],
   "source": [
    "n=int(input())\n",
    "number=1\n",
    "answer=[]\n",
    "for i in range(0,n+1):\n",
    "    if i%2==0:\n",
    "        answer.append(number)\n",
    "        number+=1\n",
    "    else:\n",
    "        answer.append(i)\n",
    "answer, len(answer)"
   ]
  },
  {
   "cell_type": "markdown",
   "metadata": {
    "hash": "88d6b20127"
   },
   "source": [
    "### Сарахан Владислав СКБ172\n",
    "\n",
    "Оценка: 1\n",
    "\n",
    "Комментарий: -"
   ]
  },
  {
   "cell_type": "code",
   "execution_count": 103,
   "metadata": {},
   "outputs": [],
   "source": [
    "# сгенерировать список любой заданной длины по следующему правилу [1, 1, 2, 3, 3, 5, 4, 7, ...]\n"
   ]
  },
  {
   "cell_type": "code",
   "execution_count": 24,
   "metadata": {},
   "outputs": [
    {
     "name": "stdout",
     "output_type": "stream",
     "text": [
      "21\n",
      "[1, 1, 2, 3, 3, 5, 4, 7, 5, 9, 6, 11, 7, 13, 8, 15, 9, 17, 10, 19, 11]\n"
     ]
    }
   ],
   "source": [
    "lastOdd = 1\n",
    "lastNum = 1\n",
    "n = int(input())\n",
    "nums = []\n",
    "l = 0\n",
    "while l < n:\n",
    "    if l % 2 == 0:\n",
    "        nums.append(lastNum)\n",
    "        lastNum += 1\n",
    "    else:\n",
    "        nums.append(lastOdd)\n",
    "        lastOdd += 2\n",
    "    l += 1\n",
    "print(nums)"
   ]
  },
  {
   "cell_type": "markdown",
   "metadata": {
    "hash": "26119a97d0"
   },
   "source": [
    "### Старостин Данила СКБ172\n",
    "\n",
    "Оценка: 0\n",
    "\n",
    "Комментарий: Wrong result."
   ]
  },
  {
   "cell_type": "code",
   "execution_count": null,
   "metadata": {},
   "outputs": [],
   "source": [
    "# сгенерировать список любой заданной длины по следующему правилу [1, 1, 2, 3, 3, 5, 4, 7, ...]\n"
   ]
  },
  {
   "cell_type": "code",
   "execution_count": 25,
   "metadata": {},
   "outputs": [
    {
     "name": "stdout",
     "output_type": "stream",
     "text": [
      "21\n",
      "[1, 1, 2, 3, 3, 4, 5, 5, 6, 7, 7, 8, 9, 9, 10, 11, 11, 13, 15, 17, 19]\n"
     ]
    }
   ],
   "source": [
    "n = int(input())\n",
    "list_of_numbers1 = []\n",
    "list_of_numbers2 = []\n",
    "counter1 = 1\n",
    "counter2 = 1\n",
    "for i in range (1, n+1):\n",
    "    if i % 2 == 1:\n",
    "        list_of_numbers1.append(counter1)\n",
    "        counter1 += 1\n",
    "    else:\n",
    "        list_of_numbers2.append(counter2)\n",
    "        counter2 += 2    \n",
    "    if len(list_of_numbers1) + len(list_of_numbers2) == n:\n",
    "        break\n",
    "list_of_numbers = list_of_numbers1 + list_of_numbers2        \n",
    "print(sorted(list_of_numbers))"
   ]
  },
  {
   "cell_type": "markdown",
   "metadata": {
    "hash": "0a22720c49"
   },
   "source": [
    "### Стрекнев Денис СКБ172\n",
    "\n",
    "Оценка: 1\n",
    "\n",
    "Комментарий: -"
   ]
  },
  {
   "cell_type": "code",
   "execution_count": 26,
   "metadata": {},
   "outputs": [],
   "source": [
    "# сгенерировать список любой заданной длины по следующему правилу [1, 1, 2, 3, 3, 5, 4, 7, ...]\n"
   ]
  },
  {
   "cell_type": "code",
   "execution_count": 27,
   "metadata": {},
   "outputs": [
    {
     "name": "stdout",
     "output_type": "stream",
     "text": [
      "21\n"
     ]
    },
    {
     "data": {
      "text/plain": [
       "[1, 1, 2, 3, 3, 5, 4, 7, 5, 9, 6, 11, 7, 13, 8, 15, 9, 17, 10, 19, 11]"
      ]
     },
     "execution_count": 27,
     "metadata": {},
     "output_type": "execute_result"
    }
   ],
   "source": [
    "n=int(input())\n",
    "s=[]\n",
    "k=1\n",
    "p=1\n",
    "for i in range(1,n+1):\n",
    "    if i%2!=0:\n",
    "        s.append(k)\n",
    "        k=k+1\n",
    "    if i%2==0:\n",
    "        s.append(p)\n",
    "        p=p+2\n",
    "s   "
   ]
  },
  {
   "cell_type": "markdown",
   "metadata": {
    "hash": "63e0a37ae4"
   },
   "source": [
    "### Дородный Дмитрий СКБ172\n",
    "\n",
    "Оценка: 1\n",
    "\n",
    "Комментарий: -"
   ]
  },
  {
   "cell_type": "code",
   "execution_count": 28,
   "metadata": {},
   "outputs": [],
   "source": [
    "# сгенерировать список любой заданной длины по следующему правилу [1, 1, 2, 3, 3, 5, 4, 7, ...]\n"
   ]
  },
  {
   "cell_type": "code",
   "execution_count": 29,
   "metadata": {},
   "outputs": [
    {
     "name": "stdout",
     "output_type": "stream",
     "text": [
      "21\n",
      "[1, 1, 2, 3, 3, 5, 4, 7, 5, 9, 6, 11, 7, 13, 8, 15, 9, 17, 10, 19, 11]\n"
     ]
    }
   ],
   "source": [
    "n = int(input())\n",
    "\n",
    "#odds = [i for  i in range(1, n+1) if i % 2]\n",
    "#enumerated = list(enumerate(odds, 1))\n",
    "#unpack_tuples = list(map(lambda x: list(x), b))\n",
    "#flatten_lists = [item for sublist in c for item in sublist]\n",
    "#print(d[:n])\n",
    "\n",
    "print([item for sublist in list(map(lambda x: list(x), list(enumerate([i for  i in range(1, n+1) if i % 2], 1)))) for item in sublist][:n])"
   ]
  },
  {
   "cell_type": "markdown",
   "metadata": {
    "hash": "e4572fb6ff"
   },
   "source": [
    "### Шемякин Дмитрий СКБ171\n",
    "\n",
    "Оценка: 1\n",
    "\n",
    "Комментарий: -"
   ]
  },
  {
   "cell_type": "code",
   "execution_count": 30,
   "metadata": {},
   "outputs": [],
   "source": [
    "# сгенерировать список любой заданной длины по следующему правилу [1, 1, 2, 3, 3, 5, 4, 7, ...]\n"
   ]
  },
  {
   "cell_type": "code",
   "execution_count": 31,
   "metadata": {},
   "outputs": [
    {
     "name": "stdout",
     "output_type": "stream",
     "text": [
      "21\n"
     ]
    },
    {
     "data": {
      "text/plain": [
       "[1, 1, 2, 3, 3, 5, 4, 7, 5, 9, 6, 11, 7, 13, 8, 15, 9, 17, 10, 19, 11]"
      ]
     },
     "execution_count": 31,
     "metadata": {},
     "output_type": "execute_result"
    }
   ],
   "source": [
    "# сгенерировать список любой заданной длины по следующему правилу [1, 1, 2, 3, 3, 5, 4, 7, ...]\n",
    "\n",
    "n = int(input())\n",
    "lst_1 = []\n",
    "lst_2 = []\n",
    "lst = []\n",
    "\n",
    "if n % 2 == 0:\n",
    "    for i in range(1, int(n / 2) + 1):\n",
    "        lst_1.append(i)\n",
    "        \n",
    "    for i in range(1, n):\n",
    "        if i % 2 == 1:\n",
    "            lst_2.append(i)\n",
    "                        \n",
    "    for i in range(int(n/2)):\n",
    "        lst.append(lst_1[i])\n",
    "        lst.append(lst_2[i])\n",
    "\n",
    "if n % 2 == 1:\n",
    "    for i in range(1, int((n + 1) / 2) + 1):\n",
    "        lst_1.append(i)\n",
    "        \n",
    "    for i in range(1, n):\n",
    "        if i % 2 == 1:\n",
    "            lst_2.append(i)\n",
    "                        \n",
    "    for i in range(int((n - 1) / 2)):\n",
    "        lst.append(lst_1[i])\n",
    "        lst.append(lst_2[i])\n",
    "    lst.append(lst_1[int((n - 1) / 2)])\n",
    "        \n",
    "lst"
   ]
  },
  {
   "cell_type": "markdown",
   "metadata": {
    "hash": "9ee13d89f3"
   },
   "source": [
    "### Никитина Елизавета СКБ171\n",
    "\n",
    "Оценка: 0.5\n",
    "\n",
    "Комментарий: List is longer than expected."
   ]
  },
  {
   "cell_type": "code",
   "execution_count": 32,
   "metadata": {},
   "outputs": [],
   "source": [
    "# сгенерировать список любой заданной длины по следующему правилу [1, 1, 2, 3, 3, 5, 4, 7, ...]\n",
    "\n"
   ]
  },
  {
   "cell_type": "code",
   "execution_count": 33,
   "metadata": {},
   "outputs": [
    {
     "name": "stdout",
     "output_type": "stream",
     "text": [
      "Length: 21\n",
      "[1, 1, 2, 3, 3, 5, 4, 7, 5, 9, 6, 11, 7, 13, 8, 15, 9, 17, 10, 19, 11, 21, 12, 23, 13, 25, 14, 27, 15, 29, 16, 31, 17, 33, 18, 35, 19, 37, 20, 39, 21, 41]\n"
     ]
    }
   ],
   "source": [
    "alen = int(input('Length: '))\n",
    "a1 = list(range(1, alen+1))\n",
    "a2 = [a for a in range(1, (alen*2)+1) if a % 2]\n",
    "res = []\n",
    "for a in range(alen):\n",
    "    res.append(a1[a])\n",
    "    res.append(a2[a])\n",
    "print(res)"
   ]
  },
  {
   "cell_type": "markdown",
   "metadata": {
    "hash": "64dc836089"
   },
   "source": [
    "### Семенов Игорь СКБ172\n",
    "\n",
    "Оценка: 1\n",
    "\n",
    "Комментарий: -"
   ]
  },
  {
   "cell_type": "code",
   "execution_count": 34,
   "metadata": {},
   "outputs": [],
   "source": [
    "# сгенерировать список любой заданной длины по следующему правилу [1, 1, 2, 3, 3, 5, 4, 7, ...]\n"
   ]
  },
  {
   "cell_type": "code",
   "execution_count": 35,
   "metadata": {},
   "outputs": [
    {
     "name": "stdout",
     "output_type": "stream",
     "text": [
      "[1, 1, 2, 3, 3, 5, 4, 7, 5, 9, 6, 11, 7, 13, 8, 15, 9, 17, 10, 19, 11]\n"
     ]
    }
   ],
   "source": [
    "#a(2*n) = n+1, a(2*n-1) = 2*n-1.\n",
    "def f(n):\n",
    "    lst=[0 for i in range(n)]\n",
    "    for i in range(n):\n",
    "        if (i%2==0):\n",
    "            lst[i]=i//2+1\n",
    "        else:\n",
    "            lst[i]=i\n",
    "    return lst\n",
    "print(f(21))\n",
    "    "
   ]
  },
  {
   "cell_type": "markdown",
   "metadata": {
    "hash": "a03e7d31a7"
   },
   "source": [
    "### Шамрин Игорь СКБ172\n",
    "\n",
    "Оценка: 0.5\n",
    "\n",
    "Комментарий: List is longer than expected."
   ]
  },
  {
   "cell_type": "code",
   "execution_count": null,
   "metadata": {},
   "outputs": [],
   "source": [
    "# сгенерировать список любой заданной длины по следующему правилу [1, 1, 2, 3, 3, 5, 4, 7, ...]\n"
   ]
  },
  {
   "cell_type": "code",
   "execution_count": 38,
   "metadata": {},
   "outputs": [
    {
     "data": {
      "text/plain": [
       "([1,\n",
       "  1,\n",
       "  2,\n",
       "  3,\n",
       "  3,\n",
       "  5,\n",
       "  4,\n",
       "  7,\n",
       "  5,\n",
       "  9,\n",
       "  6,\n",
       "  11,\n",
       "  7,\n",
       "  13,\n",
       "  8,\n",
       "  15,\n",
       "  9,\n",
       "  17,\n",
       "  10,\n",
       "  19,\n",
       "  11,\n",
       "  21,\n",
       "  12,\n",
       "  23,\n",
       "  13,\n",
       "  25,\n",
       "  14,\n",
       "  27,\n",
       "  15,\n",
       "  29,\n",
       "  16,\n",
       "  31,\n",
       "  17,\n",
       "  33,\n",
       "  18,\n",
       "  35,\n",
       "  19,\n",
       "  37,\n",
       "  20,\n",
       "  39],\n",
       " 40)"
      ]
     },
     "execution_count": 38,
     "metadata": {},
     "output_type": "execute_result"
    }
   ],
   "source": [
    "numbers = []\n",
    "for i in range(1,21):\n",
    "    numbers.append(i)\n",
    "    numbers.append(2*i-1)\n",
    "numbers, len(numbers)\n"
   ]
  },
  {
   "cell_type": "markdown",
   "metadata": {
    "hash": "c569b9634e"
   },
   "source": [
    "### Щербаков Игорь СКБ171\n",
    "\n",
    "Оценка: 1\n",
    "\n",
    "Комментарий: -"
   ]
  },
  {
   "cell_type": "code",
   "execution_count": 141,
   "metadata": {},
   "outputs": [],
   "source": [
    "# сгенерировать список любой заданной длины по следующему правилу [1, 1, 2, 3, 3, 5, 4, 7, ...]\n"
   ]
  },
  {
   "cell_type": "code",
   "execution_count": 40,
   "metadata": {},
   "outputs": [
    {
     "name": "stdout",
     "output_type": "stream",
     "text": [
      "[1, 1, 2, 3, 3, 5, 4, 7, 5, 9, 6, 11, 7, 13, 8, 15, 9, 17, 10, 19, 11]\n"
     ]
    }
   ],
   "source": [
    "def generate_rule_list1(n):\n",
    "    if n<0:\n",
    "        print(\"n must be non-negative\")\n",
    "        return\n",
    "    if n==0:\n",
    "        return []\n",
    "    if n==1:\n",
    "        return [1]\n",
    "    else:\n",
    "        lst=[1,1]\n",
    "        pos=2\n",
    "        while len(lst)<n:\n",
    "            if(pos%2==0):\n",
    "                lst+=[lst[pos-2]+1]\n",
    "            else:\n",
    "                lst+=[lst[pos-1]+lst[pos-3]]\n",
    "            pos+=1\n",
    "    return lst\n",
    "print(generate_rule_list1(21))"
   ]
  },
  {
   "cell_type": "markdown",
   "metadata": {
    "hash": "0f0bd22442"
   },
   "source": [
    "### Шомахов Идар СКБ171\n",
    "\n",
    "Оценка: 1\n",
    "\n",
    "Комментарий: -"
   ]
  },
  {
   "cell_type": "code",
   "execution_count": null,
   "metadata": {},
   "outputs": [],
   "source": [
    "# сгенерировать список любой заданной длины по следующему правилу [1, 1, 2, 3, 3, 5, 4, 7, ...]\n"
   ]
  },
  {
   "cell_type": "code",
   "execution_count": 41,
   "metadata": {},
   "outputs": [
    {
     "name": "stdout",
     "output_type": "stream",
     "text": [
      "21\n",
      "[1, 1, 2, 3, 3, 5, 4, 7, 5, 9, 6, 11, 7, 13, 8, 15, 9, 17, 10, 19, 11]\n"
     ]
    }
   ],
   "source": [
    "n = int(input())\n",
    "lst_1 = []\n",
    "lst_2 = []\n",
    "lst = []\n",
    "for i in range(1, int((n + 1) // 2) + 1):\n",
    "    lst_1.append(i)\n",
    "for i in range(1, n, 2):\n",
    "    lst_2.append(i)\n",
    "for i in range(int((n) // 2)):\n",
    "    lst.append(lst_1[i])\n",
    "    lst.append(lst_2[i])\n",
    "if n % 2 != 0:\n",
    "    lst.append(lst_1[-1])\n",
    "print(lst)"
   ]
  },
  {
   "cell_type": "markdown",
   "metadata": {
    "hash": "c52087c4a8"
   },
   "source": [
    "### Григорьев Илья СКБ171\n",
    "\n",
    "Оценка: 1\n",
    "\n",
    "Комментарий: -"
   ]
  },
  {
   "cell_type": "code",
   "execution_count": 11,
   "metadata": {},
   "outputs": [],
   "source": [
    "# сгенерировать список любой заданной длины по следующему правилу [1, 1, 2, 3, 3, 5, 4, 7, ...]\n"
   ]
  },
  {
   "cell_type": "code",
   "execution_count": 42,
   "metadata": {},
   "outputs": [
    {
     "name": "stdout",
     "output_type": "stream",
     "text": [
      "21\n",
      "[1, 1, 2, 3, 3, 5, 4, 7, 5, 9, 6, 11, 7, 13, 8, 15, 9, 17, 10, 19, 11]\n"
     ]
    }
   ],
   "source": [
    "n = int(input())\n",
    "\n",
    "N = 1\n",
    "nech = 1\n",
    "l = []\n",
    "for i in range(1,n+1):\n",
    "    if i % 2 == 0:\n",
    "        l.append(nech)\n",
    "        nech += 2\n",
    "    else:\n",
    "        l.append(N)\n",
    "        N += 1\n",
    "print(l)"
   ]
  },
  {
   "cell_type": "markdown",
   "metadata": {
    "hash": "ac62d6d9a0"
   },
   "source": [
    "### Фомин Илья СКБ171\n",
    "\n",
    "Оценка: 0\n",
    "\n",
    "Комментарий: Python error."
   ]
  },
  {
   "cell_type": "code",
   "execution_count": 10,
   "metadata": {},
   "outputs": [],
   "source": [
    "# сгенерировать список любой заданной длины по следующему правилу [1, 1, 2, 3, 3, 5, 4, 7, ...]\n"
   ]
  },
  {
   "cell_type": "code",
   "execution_count": 43,
   "metadata": {},
   "outputs": [
    {
     "name": "stdout",
     "output_type": "stream",
     "text": [
      "Длина 21\n"
     ]
    },
    {
     "ename": "NameError",
     "evalue": "name 'length' is not defined",
     "output_type": "error",
     "traceback": [
      "\u001b[1;31m---------------------------------------------------------------------------\u001b[0m",
      "\u001b[1;31mNameError\u001b[0m                                 Traceback (most recent call last)",
      "\u001b[1;32m<ipython-input-43-7a6edcd280c3>\u001b[0m in \u001b[0;36m<module>\u001b[1;34m\u001b[0m\n\u001b[0;32m      1\u001b[0m \u001b[0mlenght\u001b[0m \u001b[1;33m=\u001b[0m \u001b[0mint\u001b[0m\u001b[1;33m(\u001b[0m\u001b[0minput\u001b[0m\u001b[1;33m(\u001b[0m\u001b[1;34m'Длина '\u001b[0m\u001b[1;33m)\u001b[0m\u001b[1;33m)\u001b[0m\u001b[1;33m\u001b[0m\u001b[1;33m\u001b[0m\u001b[0m\n\u001b[1;32m----> 2\u001b[1;33m \u001b[0mnormal\u001b[0m \u001b[1;33m=\u001b[0m \u001b[0mlist\u001b[0m\u001b[1;33m(\u001b[0m\u001b[0mrange\u001b[0m\u001b[1;33m(\u001b[0m\u001b[1;36m1\u001b[0m\u001b[1;33m,\u001b[0m\u001b[0mlength\u001b[0m \u001b[1;33m+\u001b[0m \u001b[1;36m1\u001b[0m\u001b[1;33m)\u001b[0m\u001b[1;33m)\u001b[0m\u001b[1;33m\u001b[0m\u001b[1;33m\u001b[0m\u001b[0m\n\u001b[0m\u001b[0;32m      3\u001b[0m \u001b[0mnot_normal\u001b[0m \u001b[1;33m=\u001b[0m \u001b[1;33m[\u001b[0m\u001b[0mi\u001b[0m \u001b[1;32mfor\u001b[0m \u001b[0mi\u001b[0m \u001b[1;32min\u001b[0m \u001b[0mrange\u001b[0m\u001b[1;33m(\u001b[0m\u001b[1;36m1\u001b[0m\u001b[1;33m,\u001b[0m \u001b[1;36m2\u001b[0m \u001b[1;33m*\u001b[0m \u001b[0mlength\u001b[0m\u001b[1;33m)\u001b[0m \u001b[1;32mif\u001b[0m \u001b[0mi\u001b[0m \u001b[1;33m%\u001b[0m \u001b[1;36m2\u001b[0m\u001b[1;33m]\u001b[0m\u001b[1;33m\u001b[0m\u001b[1;33m\u001b[0m\u001b[0m\n\u001b[0;32m      4\u001b[0m \u001b[0mresult\u001b[0m \u001b[1;33m=\u001b[0m \u001b[1;33m[\u001b[0m\u001b[1;33m]\u001b[0m\u001b[1;33m\u001b[0m\u001b[1;33m\u001b[0m\u001b[0m\n\u001b[0;32m      5\u001b[0m \u001b[1;32mfor\u001b[0m \u001b[0mi\u001b[0m \u001b[1;32min\u001b[0m \u001b[0mrange\u001b[0m\u001b[1;33m(\u001b[0m\u001b[0mlength\u001b[0m\u001b[1;33m)\u001b[0m\u001b[1;33m:\u001b[0m\u001b[1;33m\u001b[0m\u001b[1;33m\u001b[0m\u001b[0m\n",
      "\u001b[1;31mNameError\u001b[0m: name 'length' is not defined"
     ]
    }
   ],
   "source": [
    "lenght = int(input('Длина '))\n",
    "normal = list(range(1,length + 1))\n",
    "not_normal = [i for i in range(1, 2 * length) if i % 2]\n",
    "result = []\n",
    "for i in range(length):\n",
    "    result.append(normal[i])\n",
    "    result.append(not_normal[i])\n",
    "print(result)"
   ]
  },
  {
   "cell_type": "markdown",
   "metadata": {
    "hash": "f5c905bf90"
   },
   "source": [
    "### Синицын Константин СКБ172\n",
    "\n",
    "Оценка: 1\n",
    "\n",
    "Комментарий: -"
   ]
  },
  {
   "cell_type": "code",
   "execution_count": null,
   "metadata": {},
   "outputs": [],
   "source": [
    "# сгенерировать список любой заданной длины по следующему правилу [1, 1, 2, 3, 3, 5, 4, 7, ...]\n"
   ]
  },
  {
   "cell_type": "code",
   "execution_count": 44,
   "metadata": {},
   "outputs": [
    {
     "name": "stdout",
     "output_type": "stream",
     "text": [
      "21\n",
      "[1, 1, 2, 3, 3, 5, 4, 7, 5, 9, 6, 11, 7, 13, 8, 15, 9, 17, 10, 19, 11]\n"
     ]
    }
   ],
   "source": [
    "n = int(input())\n",
    "result = [0 for i in range(n)]\n",
    "result[::2] = list(map(lambda x: x, range(1, n//2+2)))\n",
    "result[1::2] = list(map(lambda x: x, range(1, n, 2)))\n",
    "print(result)"
   ]
  },
  {
   "cell_type": "markdown",
   "metadata": {
    "hash": "f03861f4f4"
   },
   "source": [
    "### Смирнов Константин СКБ172\n",
    "\n",
    "Оценка: 1\n",
    "\n",
    "Комментарий: -"
   ]
  },
  {
   "cell_type": "code",
   "execution_count": 13,
   "metadata": {},
   "outputs": [],
   "source": [
    "# сгенерировать список любой заданной длины по следующему правилу [1, 1, 2, 3, 3, 5, 4, 7, ...]"
   ]
  },
  {
   "cell_type": "code",
   "execution_count": 45,
   "metadata": {},
   "outputs": [
    {
     "name": "stdout",
     "output_type": "stream",
     "text": [
      "1 1 2 3 3 5 4 7 5 9 6 11 7 13 8 15 9 17 10 19 11\n"
     ]
    }
   ],
   "source": [
    "n = 21\n",
    "l = [i if i % 2 else i//2 + 1 for i in range(n)]\n",
    "        \n",
    "print(*l)"
   ]
  },
  {
   "cell_type": "markdown",
   "metadata": {
    "hash": "cff956a0a0"
   },
   "source": [
    "### Расторгуева Мария СКБ171\n",
    "\n",
    "Оценка: 1\n",
    "\n",
    "Комментарий: -"
   ]
  },
  {
   "cell_type": "code",
   "execution_count": null,
   "metadata": {},
   "outputs": [],
   "source": [
    "# сгенерировать список любой заданной длины по следующему правилу [1, 1, 2, 3, 3, 5, 4, 7, ...]\n"
   ]
  },
  {
   "cell_type": "code",
   "execution_count": 46,
   "metadata": {},
   "outputs": [
    {
     "name": "stdout",
     "output_type": "stream",
     "text": [
      "21\n",
      "[1, 1, 2, 3, 3, 5, 4, 7, 5, 9, 6, 11, 7, 13, 8, 15, 9, 17, 10, 19, 11]\n"
     ]
    }
   ],
   "source": [
    "n = int(input())\n",
    "l = []\n",
    "for i in range(n):\n",
    "    if i%2==0:\n",
    "        l.append(i//2+1)\n",
    "    else:\n",
    "        l.append(i)\n",
    "print (l)"
   ]
  },
  {
   "cell_type": "markdown",
   "metadata": {
    "hash": "a9a1c3af53"
   },
   "source": [
    "### Гвасалия Метью СКБ172\n",
    "\n",
    "Оценка: 1\n",
    "\n",
    "Комментарий: -"
   ]
  },
  {
   "cell_type": "code",
   "execution_count": null,
   "metadata": {},
   "outputs": [],
   "source": [
    "# сгенерировать список любой заданной длины по следующему правилу [1, 1, 2, 3, 3, 5, 4, 7, ...]\n"
   ]
  },
  {
   "cell_type": "code",
   "execution_count": 47,
   "metadata": {},
   "outputs": [
    {
     "name": "stdout",
     "output_type": "stream",
     "text": [
      "21\n"
     ]
    },
    {
     "data": {
      "text/plain": [
       "[1, 1, 2, 3, 3, 5, 4, 7, 5, 9, 6, 11, 7, 13, 8, 15, 9, 17, 10, 19, 11]"
      ]
     },
     "execution_count": 47,
     "metadata": {},
     "output_type": "execute_result"
    }
   ],
   "source": [
    "generateList = lambda n: list(map(lambda x: int((x+2)/2) if x % 2 == 0 else x,list(range(n))))\n",
    "generateList(int(input()))"
   ]
  },
  {
   "cell_type": "markdown",
   "metadata": {
    "hash": "f0b07e0cae"
   },
   "source": [
    "### Поддубный Михаил СКБ172\n",
    "\n",
    "Оценка: 1\n",
    "\n",
    "Комментарий: -"
   ]
  },
  {
   "cell_type": "code",
   "execution_count": 48,
   "metadata": {},
   "outputs": [
    {
     "name": "stdout",
     "output_type": "stream",
     "text": [
      "21\n",
      "[1, 1, 2, 3, 3, 5, 4, 7, 5, 9, 6, 11, 7, 13, 8, 15, 9, 17, 10, 19, 11]\n"
     ]
    }
   ],
   "source": [
    "# сгенерировать список любой заданной длины по следующему правилу [1, 1, 2, 3, 3, 5, 4, 7, ...]\n",
    "\n",
    "s=[]\n",
    "for i in range(0, int(input())):\n",
    "    if not i % 2:\n",
    "        s.append(int(i/2)+1)\n",
    "    else: s.append(i)\n",
    "print(s)"
   ]
  },
  {
   "cell_type": "code",
   "execution_count": null,
   "metadata": {},
   "outputs": [],
   "source": []
  },
  {
   "cell_type": "markdown",
   "metadata": {
    "hash": "67a0375db8"
   },
   "source": [
    "### Миронов Никита СКБ171\n",
    "\n",
    "Оценка: 1\n",
    "\n",
    "Комментарий: -"
   ]
  },
  {
   "cell_type": "code",
   "execution_count": null,
   "metadata": {},
   "outputs": [],
   "source": [
    "# сгенерировать список любой заданной длины по следующему правилу [1, 1, 2, 3, 3, 5, 4, 7, ...]\n"
   ]
  },
  {
   "cell_type": "code",
   "execution_count": 49,
   "metadata": {},
   "outputs": [
    {
     "name": "stdout",
     "output_type": "stream",
     "text": [
      "21\n",
      "[1, 1, 2, 3, 3, 5, 4, 7, 5, 9, 6, 11, 7, 13, 8, 15, 9, 17, 10, 19, 11]\n"
     ]
    }
   ],
   "source": [
    "n=int(input())\n",
    "if n==1:\n",
    "    print([1])\n",
    "else:\n",
    "    spi=[1,1]\n",
    "    x=2\n",
    "    while len(spi)<n:\n",
    "        if(x%2==0):\n",
    "            spi+=[spi[x-2]+1]\n",
    "        else:\n",
    "            spi+=[spi[x-1]+spi[x-3]]\n",
    "        x=x+1\n",
    "print(spi) \n",
    "     "
   ]
  },
  {
   "cell_type": "markdown",
   "metadata": {
    "hash": "e7b623c94a"
   },
   "source": [
    "### Шубин Никита СКБ172\n",
    "\n",
    "Оценка: 1\n",
    "\n",
    "Комментарий: -"
   ]
  },
  {
   "cell_type": "code",
   "execution_count": 50,
   "metadata": {},
   "outputs": [],
   "source": [
    "# сгенерировать список любой заданной длины по следующему правилу [1, 1, 2, 3, 3, 5, 4, 7, ...]\n"
   ]
  },
  {
   "cell_type": "code",
   "execution_count": 52,
   "metadata": {},
   "outputs": [
    {
     "data": {
      "text/plain": [
       "[1, 1, 2, 3, 3, 5, 4, 7, 5, 9, 6, 11, 7, 13, 8, 15, 9, 17, 10, 19, 11]"
      ]
     },
     "execution_count": 52,
     "metadata": {},
     "output_type": "execute_result"
    }
   ],
   "source": [
    "mylist = list(map(lambda x : x if (x % 2  == 1)  else (x//2 + 1), range(21)))\n",
    "mylist"
   ]
  },
  {
   "cell_type": "markdown",
   "metadata": {
    "hash": "870303ea1f"
   },
   "source": [
    "### Щеглова Полина СКБ172\n",
    "\n",
    "Оценка: 1\n",
    "\n",
    "Комментарий: -"
   ]
  },
  {
   "cell_type": "code",
   "execution_count": null,
   "metadata": {},
   "outputs": [],
   "source": [
    "# сгенерировать список любой заданной длины по следующему правилу [1, 1, 2, 3, 3, 5, 4, 7, ...]\n"
   ]
  },
  {
   "cell_type": "code",
   "execution_count": 53,
   "metadata": {},
   "outputs": [
    {
     "data": {
      "text/plain": [
       "[1, 1, 2, 3, 3, 5, 4, 7, 5, 9, 6, 11, 7, 13, 8, 15, 9, 17, 10, 19, 11]"
      ]
     },
     "execution_count": 53,
     "metadata": {},
     "output_type": "execute_result"
    }
   ],
   "source": [
    "length = 21 # задание длины списка\n",
    "def ruled_gen(n):\n",
    "    arr = [0]*n\n",
    "    arr[::2] = range(1,len(arr[::2])+1)\n",
    "    arr[1::2] = range(1,n)[::2]\n",
    "    return arr\n",
    "ruled_gen(length)\n",
    "        "
   ]
  },
  {
   "cell_type": "markdown",
   "metadata": {
    "hash": "d59980a676"
   },
   "source": [
    "### Мухамадиева Регина СКБ172\n",
    "\n",
    "Оценка: 1\n",
    "\n",
    "Комментарий: -"
   ]
  },
  {
   "cell_type": "code",
   "execution_count": null,
   "metadata": {},
   "outputs": [],
   "source": [
    "# сгенерировать список любой заданной длины по следующему правилу [1, 1, 2, 3, 3, 5, 4, 7, ...]\n"
   ]
  },
  {
   "cell_type": "code",
   "execution_count": 54,
   "metadata": {},
   "outputs": [
    {
     "name": "stdout",
     "output_type": "stream",
     "text": [
      "21\n",
      "[1, 1, 2, 3, 3, 5, 4, 7, 5, 9, 6, 11, 7, 13, 8, 15, 9, 17, 10, 19, 11]\n"
     ]
    }
   ],
   "source": [
    "n=int(input())\n",
    "lst=list()\n",
    "j=1\n",
    "for i in range(n):\n",
    "    if (i%2==0): \n",
    "        lst.append(j)\n",
    "        j+=1\n",
    "    else:\n",
    "        lst.append(len(lst))\n",
    "print(lst)"
   ]
  },
  {
   "cell_type": "markdown",
   "metadata": {
    "hash": "4894f58fef"
   },
   "source": [
    "### Астраханцев Роман СКБ171\n",
    "\n",
    "Оценка: 1\n",
    "\n",
    "Комментарий: Shortest solution!"
   ]
  },
  {
   "cell_type": "code",
   "execution_count": null,
   "metadata": {},
   "outputs": [],
   "source": [
    "# сгенерировать список любой заданной длины по следующему правилу [1, 1, 2, 3, 3, 5, 4, 7, ...]\n"
   ]
  },
  {
   "cell_type": "code",
   "execution_count": 55,
   "metadata": {},
   "outputs": [
    {
     "name": "stdout",
     "output_type": "stream",
     "text": [
      "21\n"
     ]
    },
    {
     "data": {
      "text/plain": [
       "[1, 1, 2, 3, 3, 5, 4, 7, 5, 9, 6, 11, 7, 13, 8, 15, 9, 17, 10, 19, 11]"
      ]
     },
     "execution_count": 55,
     "metadata": {},
     "output_type": "execute_result"
    }
   ],
   "source": [
    "[i//2+1 if i%2==0 else i for i in range(int(input()))]"
   ]
  },
  {
   "cell_type": "markdown",
   "metadata": {
    "hash": "15f4b78d5f"
   },
   "source": [
    "### Бесчастных Роман СКБ171\n",
    "\n",
    "Оценка: 0\n",
    "\n",
    "Комментарий: Wrong result."
   ]
  },
  {
   "cell_type": "code",
   "execution_count": null,
   "metadata": {},
   "outputs": [],
   "source": [
    "# сгенерировать список любой заданной длины по следующему правилу [1, 1, 2, 3, 3, 5, 4, 7, ...]\n"
   ]
  },
  {
   "cell_type": "code",
   "execution_count": 57,
   "metadata": {},
   "outputs": [
    {
     "name": "stdout",
     "output_type": "stream",
     "text": [
      "21\n",
      "[1, 1, 3, 2, 5, 3, 7, 4, 9, 5, 11, 6, 13, 7, 15, 8, 17, 9, 19, 10, 21]\n"
     ]
    },
    {
     "data": {
      "text/plain": [
       "(None, 21)"
      ]
     },
     "execution_count": 57,
     "metadata": {},
     "output_type": "execute_result"
    }
   ],
   "source": [
    "firstRow = 1\n",
    "secondRow = 1\n",
    "result = []\n",
    "n = int(input())\n",
    "for i in range(n):\n",
    "    plus = 1 + int(i % 2 == 0)\n",
    "    if i % 2 == 0:\n",
    "        result.append(firstRow)\n",
    "        firstRow += plus\n",
    "    else:\n",
    "        result.append(secondRow)\n",
    "        secondRow += plus\n",
    "print(result), len(result)"
   ]
  },
  {
   "cell_type": "markdown",
   "metadata": {
    "hash": "e3e8ebb08e"
   },
   "source": [
    "### Музаффаров Руфат СКБ171\n",
    "\n",
    "Оценка: 1\n",
    "\n",
    "Комментарий: -"
   ]
  },
  {
   "cell_type": "code",
   "execution_count": 58,
   "metadata": {},
   "outputs": [],
   "source": [
    "# сгенерировать список любой заданной длины по следующему правилу [1, 1, 2, 3, 3, 5, 4, 7, ...]\n"
   ]
  },
  {
   "cell_type": "code",
   "execution_count": 59,
   "metadata": {},
   "outputs": [
    {
     "name": "stdout",
     "output_type": "stream",
     "text": [
      "Длина списка: 21\n"
     ]
    },
    {
     "data": {
      "text/plain": [
       "[1, 1, 2, 3, 3, 5, 4, 7, 5, 9, 6, 11, 7, 13, 8, 15, 9, 17, 10, 19, 11]"
      ]
     },
     "execution_count": 59,
     "metadata": {},
     "output_type": "execute_result"
    }
   ],
   "source": [
    "n = int(input('Длина списка: '))\n",
    "a = []\n",
    "b = []\n",
    "lst = []\n",
    "k = 1\n",
    "for i in range(1,int(n/2 + 1)):\n",
    "    a.append(i)\n",
    "    k = i + 1\n",
    "\n",
    "for j in range(1,int(n)):\n",
    "    if j % 2 == 1:\n",
    "        b.append(j)\n",
    "\n",
    "for i,j in zip(a,b):\n",
    "    lst.append(i)\n",
    "    lst.append(j)\n",
    "\n",
    "if n % 2 == 1:\n",
    "    lst.append(k)\n",
    "lst"
   ]
  },
  {
   "cell_type": "markdown",
   "metadata": {
    "hash": "fbb3eb5f04"
   },
   "source": [
    "### Гаварина Светлана СКБ171\n",
    "\n",
    "Оценка: 1\n",
    "\n",
    "Комментарий: -"
   ]
  },
  {
   "cell_type": "code",
   "execution_count": null,
   "metadata": {},
   "outputs": [],
   "source": [
    "# сгенерировать список любой заданной длины по следующему правилу [1, 1, 2, 3, 3, 5, 4, 7, ...]\n"
   ]
  },
  {
   "cell_type": "code",
   "execution_count": 61,
   "metadata": {},
   "outputs": [
    {
     "name": "stdout",
     "output_type": "stream",
     "text": [
      "[1, 1, 2, 3, 3, 5, 4, 7, 5, 9, 6, 11, 7, 13, 8, 15, 9, 17, 10, 19, 11]\n"
     ]
    }
   ],
   "source": [
    "def my_list(n):\n",
    "    s = []\n",
    "    j = 1\n",
    "    for i in range(n):\n",
    "        if not i % 2:\n",
    "            s.append(j)\n",
    "            j += 1\n",
    "        else:\n",
    "            s.append(i)\n",
    "    return s\n",
    "\n",
    "print(my_list(21))"
   ]
  },
  {
   "cell_type": "markdown",
   "metadata": {
    "hash": "d4b4a0c75f"
   },
   "source": [
    "### Дундуков Семен СКБ171\n",
    "\n",
    "Оценка: 0\n",
    "\n",
    "Комментарий: Python error."
   ]
  },
  {
   "cell_type": "code",
   "execution_count": null,
   "metadata": {},
   "outputs": [],
   "source": [
    "# сгенерировать список любой заданной длины по следующему правилу [1, 1, 2, 3, 3, 5, 4, 7, ...]\n"
   ]
  },
  {
   "cell_type": "code",
   "execution_count": 63,
   "metadata": {},
   "outputs": [
    {
     "ename": "IndentationError",
     "evalue": "expected an indented block (<ipython-input-63-536c8af95ee9>, line 14)",
     "output_type": "error",
     "traceback": [
      "\u001b[1;36m  File \u001b[1;32m\"<ipython-input-63-536c8af95ee9>\"\u001b[1;36m, line \u001b[1;32m14\u001b[0m\n\u001b[1;33m    break\u001b[0m\n\u001b[1;37m        ^\u001b[0m\n\u001b[1;31mIndentationError\u001b[0m\u001b[1;31m:\u001b[0m expected an indented block\n"
     ]
    }
   ],
   "source": [
    "n = int(input())\n",
    "list_of_numbers1 = []\n",
    "list_of_numbers2 = []\n",
    "counter1 = 1\n",
    "counter2 = 1\n",
    "for i in range (1, n+1):\n",
    "    if i % 2 == 1:\n",
    "        list_of_numbers1.append(counter1)\n",
    "        counter1 += 1\n",
    "    else:\n",
    "        list_of_numbers2.append(counter2)\n",
    "        counter2 += 2\n",
    "    if len(list_of_numbers1) + len(list_of_numbers2) == n:\n",
    "    break\n",
    "list_of_numbers = list_of_numbers1 + list_of_numbers2\n",
    "print(sorted(list_of_numbers))"
   ]
  },
  {
   "cell_type": "markdown",
   "metadata": {
    "hash": "2399d34da2"
   },
   "source": [
    "### Бень Таисия СКБ171\n",
    "\n",
    "Оценка: 1\n",
    "\n",
    "Комментарий: -"
   ]
  },
  {
   "cell_type": "code",
   "execution_count": 64,
   "metadata": {},
   "outputs": [],
   "source": [
    "# сгенерировать список любой заданной длины по следующему правилу [1, 1, 2, 3, 3, 5, 4, 7, ...]\n"
   ]
  },
  {
   "cell_type": "code",
   "execution_count": 65,
   "metadata": {},
   "outputs": [
    {
     "name": "stdout",
     "output_type": "stream",
     "text": [
      "21\n",
      "[1, 1, 2, 3, 3, 5, 4, 7, 5, 9, 6, 11, 7, 13, 8, 15, 9, 17, 10, 19, 11]\n"
     ]
    }
   ],
   "source": [
    "n = int(input())\n",
    "cons = []\n",
    "for i in range(n):\n",
    "    if i % 2 == 0:\n",
    "        cons+=[i//2+1]\n",
    "    else:\n",
    "        cons+=[i]\n",
    "print(cons)"
   ]
  },
  {
   "cell_type": "markdown",
   "metadata": {
    "hash": "cbdb3b9c23"
   },
   "source": [
    "### Козликина Татьяна СКБ172\n",
    "\n",
    "Оценка: 1\n",
    "\n",
    "Комментарий: -"
   ]
  },
  {
   "cell_type": "code",
   "execution_count": 66,
   "metadata": {},
   "outputs": [],
   "source": [
    "# сгенерировать список любой заданной длины по следующему правилу [1, 1, 2, 3, 3, 5, 4, 7, ...]\n"
   ]
  },
  {
   "cell_type": "code",
   "execution_count": 67,
   "metadata": {},
   "outputs": [
    {
     "name": "stdout",
     "output_type": "stream",
     "text": [
      "21\n",
      "[1, 1, 2, 3, 3, 5, 4, 7, 5, 9, 6, 11, 7, 13, 8, 15, 9, 17, 10, 19, 11]\n"
     ]
    }
   ],
   "source": [
    "def list_with_rule (a):\n",
    "    list_r = []\n",
    "    k=1\n",
    "    for i in range(a):\n",
    "        if i%2==0:\n",
    "            list_r.append(k)\n",
    "            k+=1\n",
    "        else:\n",
    "            list_r.append(i)\n",
    "    return list_r\n",
    "\n",
    "b  = int(input())\n",
    "print(list_with_rule(b))"
   ]
  },
  {
   "cell_type": "markdown",
   "metadata": {
    "hash": "c569889d42"
   },
   "source": [
    "### Апресян Тигран СКБ171\n",
    "\n",
    "Оценка: 1\n",
    "\n",
    "Комментарий: -"
   ]
  },
  {
   "cell_type": "code",
   "execution_count": 117,
   "metadata": {},
   "outputs": [],
   "source": [
    "# сгенерировать список любой заданной длины по следующему правилу [1, 1, 2, 3, 3, 5, 4, 7, ...]\n"
   ]
  },
  {
   "cell_type": "code",
   "execution_count": 68,
   "metadata": {},
   "outputs": [
    {
     "name": "stdout",
     "output_type": "stream",
     "text": [
      "1 1 2 3 3 5 4 7 5 9 6 11 7 13 8 15 9 17 10 19 11\n"
     ]
    }
   ],
   "source": [
    "l3 = []\n",
    "n = 21 #длина списка\n",
    "i = 0\n",
    "l1 = [i for i in range(1,n)]\n",
    "l2 = [i for i in range(1,2*len(l1),2)]\n",
    "if n>=2:\n",
    "    for i in range(n):\n",
    "        if len(l3)!=n:\n",
    "            l3.append(l1[i])\n",
    "        if len(l3)!=n:    \n",
    "            l3.append(l2[i])\n",
    "elif n ==1:\n",
    "    l3.append(1)\n",
    "print(*l3)"
   ]
  },
  {
   "cell_type": "markdown",
   "metadata": {
    "hash": "085aa1874a"
   },
   "source": [
    "### Долотов Фёдор СКБ172\n",
    "\n",
    "Оценка: 1\n",
    "\n",
    "Комментарий: -"
   ]
  },
  {
   "cell_type": "code",
   "execution_count": null,
   "metadata": {},
   "outputs": [],
   "source": [
    "# сгенерировать список любой заданной длины по следующему правилу [1, 1, 2, 3, 3, 5, 4, 7, ...]\n"
   ]
  },
  {
   "cell_type": "code",
   "execution_count": 69,
   "metadata": {},
   "outputs": [
    {
     "name": "stdout",
     "output_type": "stream",
     "text": [
      "[1, 1, 2, 3, 3, 5, 4, 7, 5, 9, 6, 11, 7, 13, 8, 15, 9, 17, 10, 19, 11]\n"
     ]
    }
   ],
   "source": [
    "length = 21\n",
    "k = 1\n",
    "a = []\n",
    "\n",
    "for i in range(0, length):\n",
    "    a.append(0)\n",
    "    \n",
    "for i in range(0, length, 2):\n",
    "    a[i] = k\n",
    "    k +=1\n",
    "    \n",
    "for i in range(1, length, 2):\n",
    "    a[i] = i\n",
    "    \n",
    "print(a)    "
   ]
  },
  {
   "cell_type": "markdown",
   "metadata": {
    "hash": "6463c3fd36"
   },
   "source": [
    "### Попов Юрий СКБ172\n",
    "\n",
    "Оценка: 1\n",
    "\n",
    "Комментарий: -"
   ]
  },
  {
   "cell_type": "code",
   "execution_count": 11,
   "metadata": {},
   "outputs": [],
   "source": [
    "# сгенерировать список любой заданной длины по следующему правилу [1, 1, 2, 3, 3, 5, 4, 7, ...]\n"
   ]
  },
  {
   "cell_type": "code",
   "execution_count": 70,
   "metadata": {},
   "outputs": [
    {
     "name": "stdout",
     "output_type": "stream",
     "text": [
      "Какую длину списка Вы хотите: \n",
      "21\n",
      "Итоговый список:  1 1 2 3 3 5 4 7 5 9 6 11 7 13 8 15 9 17 10 19 11\n"
     ]
    }
   ],
   "source": [
    "#Задание_5\n",
    "print('Какую длину списка Вы хотите: ')\n",
    "n = int(input())\n",
    "\n",
    "def nList(n):\n",
    "    lst1 = []\n",
    "    lst2 = []\n",
    "    finList = []\n",
    "\n",
    "\n",
    "    # Создаем список чисел, которые будут стоять на четных позициях(1, 2, 3, 4, 5...)\n",
    "    for i in range(1, n // 2 + 2):\n",
    "        lst1.append(i)\n",
    "    #print(lst1)\n",
    "\n",
    "    # Создаем список чисел, которые будут стоять на нечетных позициях(1, 3, 5, 7, 9..... )\n",
    "    for k in range(1, n + 1, 2):\n",
    "        lst2.append(k)\n",
    "    #print(lst2)\n",
    "\n",
    "    #Объединяем спсики в итоговый \n",
    "    s = 0\n",
    "    while(s < n // 2):\n",
    "        finList.append(lst1[s])\n",
    "        finList.append(lst2[s])\n",
    "        s += 1\n",
    "\n",
    "    # Если кол-во элементов в итговом списке нечетно, то необходимо добавить еще один элемент из первого списка\n",
    "    if n % 2 != 0:\n",
    "        finList.append(lst1[n // 2])\n",
    "\n",
    "    # Печатаем финальный спискок\n",
    "    print('Итоговый список: ', *finList)\n",
    "    #print('Длина итогового списка: ', len(finList))\n",
    "    \n",
    "nList(n)"
   ]
  },
  {
   "cell_type": "code",
   "execution_count": null,
   "metadata": {},
   "outputs": [],
   "source": []
  }
 ],
 "metadata": {
  "kernelspec": {
   "display_name": "Python 3",
   "language": "python",
   "name": "python3"
  },
  "language_info": {
   "codemirror_mode": {
    "name": "ipython",
    "version": 3
   },
   "file_extension": ".py",
   "mimetype": "text/x-python",
   "name": "python",
   "nbconvert_exporter": "python",
   "pygments_lexer": "ipython3",
   "version": "3.7.3"
  },
  "task": 5
 },
 "nbformat": 4,
 "nbformat_minor": 2
}
